{
  "nbformat": 4,
  "nbformat_minor": 0,
  "metadata": {
    "colab": {
      "name": "DIGITRECOGNIZER_MLPClassifierWithGridSearch.ipynb",
      "version": "0.3.2",
      "provenance": []
    },
    "kernelspec": {
      "name": "python3",
      "display_name": "Python 3"
    }
  },
  "cells": [
    {
      "metadata": {
        "id": "nRaGf0eBY49m",
        "colab_type": "code",
        "colab": {
          "resources": {
            "http://localhost:8080/nbextensions/google.colab/files.js": {
              "data": "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",
              "ok": true,
              "headers": [
                [
                  "content-type",
                  "application/javascript"
                ]
              ],
              "status": 200,
              "status_text": ""
            }
          },
          "base_uri": "https://localhost:8080/",
          "height": 56
        },
        "outputId": "9284f9fe-809e-4117-9d8b-424a2a4a051b"
      },
      "cell_type": "code",
      "source": [
        "#Using Kaggle API to connect to datasets for the Digit Recognizer Active competition\n",
        "from google.colab import files\n",
        "files.upload()"
      ],
      "execution_count": 118,
      "outputs": [
        {
          "output_type": "display_data",
          "data": {
            "text/html": [
              "\n",
              "     <input type=\"file\" id=\"files-c638c51d-d016-4d56-996b-286ebbf0832f\" name=\"files[]\" multiple disabled />\n",
              "     <output id=\"result-c638c51d-d016-4d56-996b-286ebbf0832f\">\n",
              "      Upload widget is only available when the cell has been executed in the\n",
              "      current browser session. Please rerun this cell to enable.\n",
              "      </output>\n",
              "      <script src=\"/nbextensions/google.colab/files.js\"></script> "
            ],
            "text/plain": [
              "<IPython.core.display.HTML object>"
            ]
          },
          "metadata": {
            "tags": []
          }
        },
        {
          "output_type": "execute_result",
          "data": {
            "text/plain": [
              "{}"
            ]
          },
          "metadata": {
            "tags": []
          },
          "execution_count": 118
        }
      ]
    },
    {
      "metadata": {
        "id": "xs1HosFgZYRc",
        "colab_type": "code",
        "colab": {
          "base_uri": "https://localhost:8080/",
          "height": 34
        },
        "outputId": "4b9d497c-9b1e-4d8d-b6b2-dfa500f7c8e5"
      },
      "cell_type": "code",
      "source": [
        "!ls -lha kaggle.json"
      ],
      "execution_count": 119,
      "outputs": [
        {
          "output_type": "stream",
          "text": [
            "-rw-r--r-- 1 root root 66 Nov 10 20:52 kaggle.json\n"
          ],
          "name": "stdout"
        }
      ]
    },
    {
      "metadata": {
        "id": "9UiVqNw5ZYUI",
        "colab_type": "code",
        "colab": {}
      },
      "cell_type": "code",
      "source": [
        "!mkdir -p ~/.kaggle\n",
        "!cp kaggle.json ~/.kaggle/"
      ],
      "execution_count": 0,
      "outputs": []
    },
    {
      "metadata": {
        "id": "zf7qcizTZYWX",
        "colab_type": "code",
        "colab": {}
      },
      "cell_type": "code",
      "source": [
        "!chmod 600 ~/.kaggle/kaggle.json"
      ],
      "execution_count": 0,
      "outputs": []
    },
    {
      "metadata": {
        "id": "-5y9bJOPZYYd",
        "colab_type": "code",
        "colab": {
          "base_uri": "https://localhost:8080/",
          "height": 386
        },
        "outputId": "40fe7b16-b68c-48b6-ad1a-7ac7ac3f58d6"
      },
      "cell_type": "code",
      "source": [
        "!kaggle competitions list"
      ],
      "execution_count": 122,
      "outputs": [
        {
          "output_type": "stream",
          "text": [
            "ref                                            deadline             category            reward  teamCount  userHasEntered  \n",
            "---------------------------------------------  -------------------  ---------------  ---------  ---------  --------------  \n",
            "digit-recognizer                               2030-01-01 00:00:00  Getting Started  Knowledge       2782            True  \n",
            "titanic                                        2030-01-01 00:00:00  Getting Started  Knowledge      10054            True  \n",
            "house-prices-advanced-regression-techniques    2030-01-01 00:00:00  Getting Started  Knowledge       4367           False  \n",
            "imagenet-object-localization-challenge         2029-12-31 07:00:00  Research         Knowledge         30           False  \n",
            "competitive-data-science-predict-future-sales  2019-12-31 23:59:00  Playground           Kudos       1727           False  \n",
            "quora-insincere-questions-classification       2019-02-05 23:59:00  Featured           $25,000        543           False  \n",
            "pubg-finish-placement-prediction               2019-01-30 23:59:00  Playground            Swag        502           False  \n",
            "human-protein-atlas-image-classification       2019-01-10 23:59:00  Featured           $37,000        816           False  \n",
            "two-sigma-financial-news                       2019-01-08 23:59:00  Featured          $100,000       1493           False  \n",
            "PLAsTiCC-2018                                  2018-12-17 23:59:00  Featured           $25,000        558           False  \n",
            "quickdraw-doodle-recognition                   2018-12-04 23:59:00  Featured           $25,000        839           False  \n",
            "ga-customer-revenue-prediction                 2018-11-30 23:59:00  Featured           $45,000       3543           False  \n",
            "airbus-ship-detection                          2018-11-14 23:59:00  Featured           $60,000        810           False  \n",
            "inclusive-images-challenge                     2018-11-12 23:59:00  Research           $25,000         83           False  \n",
            "rsna-pneumonia-detection-challenge             2018-10-31 23:59:00  Featured           $30,000       1499           False  \n",
            "tgs-salt-identification-challenge              2018-10-19 23:59:00  Featured          $100,000       3234           False  \n",
            "new-york-city-taxi-fare-prediction             2018-09-25 23:59:00  Playground       Knowledge       1488           False  \n",
            "forest-cover-type-kernels-only                 2018-09-24 23:59:00  Playground       Knowledge        359           False  \n",
            "demand-forecasting-kernels-only                2018-09-24 23:59:00  Playground       Knowledge        462           False  \n",
            "whats-cooking-kernels-only                     2018-09-24 23:59:00  Playground       Knowledge        523           False  \n"
          ],
          "name": "stdout"
        }
      ]
    },
    {
      "metadata": {
        "id": "Z50q-bj_Zo56",
        "colab_type": "code",
        "colab": {
          "base_uri": "https://localhost:8080/",
          "height": 67
        },
        "outputId": "c691f300-77ac-4b51-e2ba-845000e4e67a"
      },
      "cell_type": "code",
      "source": [
        "!kaggle competitions download -c digit-recognizer"
      ],
      "execution_count": 123,
      "outputs": [
        {
          "output_type": "stream",
          "text": [
            "train.csv: Skipping, found more recently modified local copy (use --force to force download)\n",
            "test.csv: Skipping, found more recently modified local copy (use --force to force download)\n",
            "sample_submission.csv: Skipping, found more recently modified local copy (use --force to force download)\n"
          ],
          "name": "stdout"
        }
      ]
    },
    {
      "metadata": {
        "id": "dapqvm36Zo-l",
        "colab_type": "code",
        "colab": {}
      },
      "cell_type": "code",
      "source": [
        "import numpy as np\n",
        "import pandas as pd\n",
        "from sklearn import preprocessing\n",
        "from sklearn.neural_network import MLPClassifier\n",
        "from sklearn.metrics import classification_report, confusion_matrix, accuracy_score, precision_score, recall_score, f1_score"
      ],
      "execution_count": 0,
      "outputs": []
    },
    {
      "metadata": {
        "id": "W1cOyD9kZ2pS",
        "colab_type": "code",
        "colab": {}
      },
      "cell_type": "code",
      "source": [
        "#importing the training datasets\n",
        "x_train = pd.read_csv(\"/content/train.csv\")"
      ],
      "execution_count": 0,
      "outputs": []
    },
    {
      "metadata": {
        "id": "rF2iyoWgbiFE",
        "colab_type": "code",
        "colab": {
          "base_uri": "https://localhost:8080/",
          "height": 244
        },
        "outputId": "1f6ae1ae-8d8b-4e48-b78a-411de30e0f74"
      },
      "cell_type": "code",
      "source": [
        "x_train.head()"
      ],
      "execution_count": 126,
      "outputs": [
        {
          "output_type": "execute_result",
          "data": {
            "text/html": [
              "<div>\n",
              "<style scoped>\n",
              "    .dataframe tbody tr th:only-of-type {\n",
              "        vertical-align: middle;\n",
              "    }\n",
              "\n",
              "    .dataframe tbody tr th {\n",
              "        vertical-align: top;\n",
              "    }\n",
              "\n",
              "    .dataframe thead th {\n",
              "        text-align: right;\n",
              "    }\n",
              "</style>\n",
              "<table border=\"1\" class=\"dataframe\">\n",
              "  <thead>\n",
              "    <tr style=\"text-align: right;\">\n",
              "      <th></th>\n",
              "      <th>label</th>\n",
              "      <th>pixel0</th>\n",
              "      <th>pixel1</th>\n",
              "      <th>pixel2</th>\n",
              "      <th>pixel3</th>\n",
              "      <th>pixel4</th>\n",
              "      <th>pixel5</th>\n",
              "      <th>pixel6</th>\n",
              "      <th>pixel7</th>\n",
              "      <th>pixel8</th>\n",
              "      <th>...</th>\n",
              "      <th>pixel774</th>\n",
              "      <th>pixel775</th>\n",
              "      <th>pixel776</th>\n",
              "      <th>pixel777</th>\n",
              "      <th>pixel778</th>\n",
              "      <th>pixel779</th>\n",
              "      <th>pixel780</th>\n",
              "      <th>pixel781</th>\n",
              "      <th>pixel782</th>\n",
              "      <th>pixel783</th>\n",
              "    </tr>\n",
              "  </thead>\n",
              "  <tbody>\n",
              "    <tr>\n",
              "      <th>0</th>\n",
              "      <td>1</td>\n",
              "      <td>0</td>\n",
              "      <td>0</td>\n",
              "      <td>0</td>\n",
              "      <td>0</td>\n",
              "      <td>0</td>\n",
              "      <td>0</td>\n",
              "      <td>0</td>\n",
              "      <td>0</td>\n",
              "      <td>0</td>\n",
              "      <td>...</td>\n",
              "      <td>0</td>\n",
              "      <td>0</td>\n",
              "      <td>0</td>\n",
              "      <td>0</td>\n",
              "      <td>0</td>\n",
              "      <td>0</td>\n",
              "      <td>0</td>\n",
              "      <td>0</td>\n",
              "      <td>0</td>\n",
              "      <td>0</td>\n",
              "    </tr>\n",
              "    <tr>\n",
              "      <th>1</th>\n",
              "      <td>0</td>\n",
              "      <td>0</td>\n",
              "      <td>0</td>\n",
              "      <td>0</td>\n",
              "      <td>0</td>\n",
              "      <td>0</td>\n",
              "      <td>0</td>\n",
              "      <td>0</td>\n",
              "      <td>0</td>\n",
              "      <td>0</td>\n",
              "      <td>...</td>\n",
              "      <td>0</td>\n",
              "      <td>0</td>\n",
              "      <td>0</td>\n",
              "      <td>0</td>\n",
              "      <td>0</td>\n",
              "      <td>0</td>\n",
              "      <td>0</td>\n",
              "      <td>0</td>\n",
              "      <td>0</td>\n",
              "      <td>0</td>\n",
              "    </tr>\n",
              "    <tr>\n",
              "      <th>2</th>\n",
              "      <td>1</td>\n",
              "      <td>0</td>\n",
              "      <td>0</td>\n",
              "      <td>0</td>\n",
              "      <td>0</td>\n",
              "      <td>0</td>\n",
              "      <td>0</td>\n",
              "      <td>0</td>\n",
              "      <td>0</td>\n",
              "      <td>0</td>\n",
              "      <td>...</td>\n",
              "      <td>0</td>\n",
              "      <td>0</td>\n",
              "      <td>0</td>\n",
              "      <td>0</td>\n",
              "      <td>0</td>\n",
              "      <td>0</td>\n",
              "      <td>0</td>\n",
              "      <td>0</td>\n",
              "      <td>0</td>\n",
              "      <td>0</td>\n",
              "    </tr>\n",
              "    <tr>\n",
              "      <th>3</th>\n",
              "      <td>4</td>\n",
              "      <td>0</td>\n",
              "      <td>0</td>\n",
              "      <td>0</td>\n",
              "      <td>0</td>\n",
              "      <td>0</td>\n",
              "      <td>0</td>\n",
              "      <td>0</td>\n",
              "      <td>0</td>\n",
              "      <td>0</td>\n",
              "      <td>...</td>\n",
              "      <td>0</td>\n",
              "      <td>0</td>\n",
              "      <td>0</td>\n",
              "      <td>0</td>\n",
              "      <td>0</td>\n",
              "      <td>0</td>\n",
              "      <td>0</td>\n",
              "      <td>0</td>\n",
              "      <td>0</td>\n",
              "      <td>0</td>\n",
              "    </tr>\n",
              "    <tr>\n",
              "      <th>4</th>\n",
              "      <td>0</td>\n",
              "      <td>0</td>\n",
              "      <td>0</td>\n",
              "      <td>0</td>\n",
              "      <td>0</td>\n",
              "      <td>0</td>\n",
              "      <td>0</td>\n",
              "      <td>0</td>\n",
              "      <td>0</td>\n",
              "      <td>0</td>\n",
              "      <td>...</td>\n",
              "      <td>0</td>\n",
              "      <td>0</td>\n",
              "      <td>0</td>\n",
              "      <td>0</td>\n",
              "      <td>0</td>\n",
              "      <td>0</td>\n",
              "      <td>0</td>\n",
              "      <td>0</td>\n",
              "      <td>0</td>\n",
              "      <td>0</td>\n",
              "    </tr>\n",
              "  </tbody>\n",
              "</table>\n",
              "<p>5 rows × 785 columns</p>\n",
              "</div>"
            ],
            "text/plain": [
              "   label  pixel0  pixel1  pixel2  pixel3  pixel4  pixel5  pixel6  pixel7  \\\n",
              "0      1       0       0       0       0       0       0       0       0   \n",
              "1      0       0       0       0       0       0       0       0       0   \n",
              "2      1       0       0       0       0       0       0       0       0   \n",
              "3      4       0       0       0       0       0       0       0       0   \n",
              "4      0       0       0       0       0       0       0       0       0   \n",
              "\n",
              "   pixel8    ...     pixel774  pixel775  pixel776  pixel777  pixel778  \\\n",
              "0       0    ...            0         0         0         0         0   \n",
              "1       0    ...            0         0         0         0         0   \n",
              "2       0    ...            0         0         0         0         0   \n",
              "3       0    ...            0         0         0         0         0   \n",
              "4       0    ...            0         0         0         0         0   \n",
              "\n",
              "   pixel779  pixel780  pixel781  pixel782  pixel783  \n",
              "0         0         0         0         0         0  \n",
              "1         0         0         0         0         0  \n",
              "2         0         0         0         0         0  \n",
              "3         0         0         0         0         0  \n",
              "4         0         0         0         0         0  \n",
              "\n",
              "[5 rows x 785 columns]"
            ]
          },
          "metadata": {
            "tags": []
          },
          "execution_count": 126
        }
      ]
    },
    {
      "metadata": {
        "id": "m77SlXwubtmh",
        "colab_type": "code",
        "colab": {
          "base_uri": "https://localhost:8080/",
          "height": 34
        },
        "outputId": "33c215e2-232d-4c3f-a694-7d7df6968276"
      },
      "cell_type": "code",
      "source": [
        "x_train.shape"
      ],
      "execution_count": 127,
      "outputs": [
        {
          "output_type": "execute_result",
          "data": {
            "text/plain": [
              "(42000, 785)"
            ]
          },
          "metadata": {
            "tags": []
          },
          "execution_count": 127
        }
      ]
    },
    {
      "metadata": {
        "id": "VD2nV-i-bvHC",
        "colab_type": "code",
        "colab": {}
      },
      "cell_type": "code",
      "source": [
        "#removing the class label data\n",
        "y_train = x_train['label']"
      ],
      "execution_count": 0,
      "outputs": []
    },
    {
      "metadata": {
        "id": "9alqlb_DcBL1",
        "colab_type": "code",
        "colab": {
          "base_uri": "https://localhost:8080/",
          "height": 34
        },
        "outputId": "91df0e61-3117-44fb-fd25-4f792d2e3015"
      },
      "cell_type": "code",
      "source": [
        "y_train.shape"
      ],
      "execution_count": 129,
      "outputs": [
        {
          "output_type": "execute_result",
          "data": {
            "text/plain": [
              "(42000,)"
            ]
          },
          "metadata": {
            "tags": []
          },
          "execution_count": 129
        }
      ]
    },
    {
      "metadata": {
        "id": "zA6p6PVDcE1C",
        "colab_type": "code",
        "colab": {
          "base_uri": "https://localhost:8080/",
          "height": 118
        },
        "outputId": "ca9c8282-e7c1-49b2-f99f-86fb74abd6d4"
      },
      "cell_type": "code",
      "source": [
        "y_train.head()"
      ],
      "execution_count": 130,
      "outputs": [
        {
          "output_type": "execute_result",
          "data": {
            "text/plain": [
              "0    1\n",
              "1    0\n",
              "2    1\n",
              "3    4\n",
              "4    0\n",
              "Name: label, dtype: int64"
            ]
          },
          "metadata": {
            "tags": []
          },
          "execution_count": 130
        }
      ]
    },
    {
      "metadata": {
        "id": "RWykcD6Db4Ao",
        "colab_type": "code",
        "colab": {}
      },
      "cell_type": "code",
      "source": [
        "x_train = x_train.drop(columns=['label'],axis =1)"
      ],
      "execution_count": 0,
      "outputs": []
    },
    {
      "metadata": {
        "id": "q5Rpw7JSb9c_",
        "colab_type": "code",
        "colab": {
          "base_uri": "https://localhost:8080/",
          "height": 34
        },
        "outputId": "46935d87-11c7-42d5-edd2-17acf359eb2d"
      },
      "cell_type": "code",
      "source": [
        "x_train.shape"
      ],
      "execution_count": 132,
      "outputs": [
        {
          "output_type": "execute_result",
          "data": {
            "text/plain": [
              "(42000, 784)"
            ]
          },
          "metadata": {
            "tags": []
          },
          "execution_count": 132
        }
      ]
    },
    {
      "metadata": {
        "id": "UM_9LNXEcAet",
        "colab_type": "code",
        "colab": {
          "base_uri": "https://localhost:8080/",
          "height": 34
        },
        "outputId": "919bf1fe-c489-4ab8-af53-8d4781d1247c"
      },
      "cell_type": "code",
      "source": [
        "#Checking the data for null values, value counts and data description and distribution\n",
        "x_train.isnull().values.any()"
      ],
      "execution_count": 133,
      "outputs": [
        {
          "output_type": "execute_result",
          "data": {
            "text/plain": [
              "False"
            ]
          },
          "metadata": {
            "tags": []
          },
          "execution_count": 133
        }
      ]
    },
    {
      "metadata": {
        "id": "OvCJB0BMd0fN",
        "colab_type": "code",
        "colab": {
          "base_uri": "https://localhost:8080/",
          "height": 101
        },
        "outputId": "04471504-af5f-4577-ba96-c3ba14b246fb"
      },
      "cell_type": "code",
      "source": [
        "x_train.isna().any().describe()"
      ],
      "execution_count": 134,
      "outputs": [
        {
          "output_type": "execute_result",
          "data": {
            "text/plain": [
              "count       784\n",
              "unique        1\n",
              "top       False\n",
              "freq        784\n",
              "dtype: object"
            ]
          },
          "metadata": {
            "tags": []
          },
          "execution_count": 134
        }
      ]
    },
    {
      "metadata": {
        "id": "qooOvQ2lcwKa",
        "colab_type": "code",
        "colab": {
          "base_uri": "https://localhost:8080/",
          "height": 34
        },
        "outputId": "2e409ae4-6b3f-4507-821b-7eca31974d58"
      },
      "cell_type": "code",
      "source": [
        "y_train.isnull().values.any()"
      ],
      "execution_count": 135,
      "outputs": [
        {
          "output_type": "execute_result",
          "data": {
            "text/plain": [
              "False"
            ]
          },
          "metadata": {
            "tags": []
          },
          "execution_count": 135
        }
      ]
    },
    {
      "metadata": {
        "id": "dK9NqthIc-hd",
        "colab_type": "code",
        "colab": {
          "base_uri": "https://localhost:8080/",
          "height": 202
        },
        "outputId": "4d71f195-39da-4c17-d19c-bd9cd433b26b"
      },
      "cell_type": "code",
      "source": [
        "#checking of the class values counts of the class labels\n",
        "y_train.value_counts()"
      ],
      "execution_count": 136,
      "outputs": [
        {
          "output_type": "execute_result",
          "data": {
            "text/plain": [
              "1    4684\n",
              "7    4401\n",
              "3    4351\n",
              "9    4188\n",
              "2    4177\n",
              "6    4137\n",
              "0    4132\n",
              "4    4072\n",
              "8    4063\n",
              "5    3795\n",
              "Name: label, dtype: int64"
            ]
          },
          "metadata": {
            "tags": []
          },
          "execution_count": 136
        }
      ]
    },
    {
      "metadata": {
        "id": "qUXfArHJdLdX",
        "colab_type": "code",
        "colab": {
          "base_uri": "https://localhost:8080/",
          "height": 282
        },
        "outputId": "2aaa6b8a-6390-4d52-8e18-b7e20e73f74a"
      },
      "cell_type": "code",
      "source": [
        "y_train.hist()"
      ],
      "execution_count": 137,
      "outputs": [
        {
          "output_type": "execute_result",
          "data": {
            "text/plain": [
              "<matplotlib.axes._subplots.AxesSubplot at 0x7f1e7a13ba90>"
            ]
          },
          "metadata": {
            "tags": []
          },
          "execution_count": 137
        },
        {
          "output_type": "display_data",
          "data": {
            "image/png": "[encoded data removed]",
            "text/plain": [
              "<matplotlib.figure.Figure at 0x7f1e7a13bc88>"
            ]
          },
          "metadata": {
            "tags": []
          }
        }
      ]
    },
    {
      "metadata": {
        "id": "kSVP-xeKdUo-",
        "colab_type": "code",
        "colab": {
          "base_uri": "https://localhost:8080/",
          "height": 333
        },
        "outputId": "9ced8256-e41a-4a43-87e1-d6d1c3c68b1c"
      },
      "cell_type": "code",
      "source": [
        "#Exploring the training dataset\n",
        "x_train.describe()"
      ],
      "execution_count": 138,
      "outputs": [
        {
          "output_type": "execute_result",
          "data": {
            "text/html": [
              "<div>\n",
              "<style scoped>\n",
              "    .dataframe tbody tr th:only-of-type {\n",
              "        vertical-align: middle;\n",
              "    }\n",
              "\n",
              "    .dataframe tbody tr th {\n",
              "        vertical-align: top;\n",
              "    }\n",
              "\n",
              "    .dataframe thead th {\n",
              "        text-align: right;\n",
              "    }\n",
              "</style>\n",
              "<table border=\"1\" class=\"dataframe\">\n",
              "  <thead>\n",
              "    <tr style=\"text-align: right;\">\n",
              "      <th></th>\n",
              "      <th>pixel0</th>\n",
              "      <th>pixel1</th>\n",
              "      <th>pixel2</th>\n",
              "      <th>pixel3</th>\n",
              "      <th>pixel4</th>\n",
              "      <th>pixel5</th>\n",
              "      <th>pixel6</th>\n",
              "      <th>pixel7</th>\n",
              "      <th>pixel8</th>\n",
              "      <th>pixel9</th>\n",
              "      <th>...</th>\n",
              "      <th>pixel774</th>\n",
              "      <th>pixel775</th>\n",
              "      <th>pixel776</th>\n",
              "      <th>pixel777</th>\n",
              "      <th>pixel778</th>\n",
              "      <th>pixel779</th>\n",
              "      <th>pixel780</th>\n",
              "      <th>pixel781</th>\n",
              "      <th>pixel782</th>\n",
              "      <th>pixel783</th>\n",
              "    </tr>\n",
              "  </thead>\n",
              "  <tbody>\n",
              "    <tr>\n",
              "      <th>count</th>\n",
              "      <td>42000.0</td>\n",
              "      <td>42000.0</td>\n",
              "      <td>42000.0</td>\n",
              "      <td>42000.0</td>\n",
              "      <td>42000.0</td>\n",
              "      <td>42000.0</td>\n",
              "      <td>42000.0</td>\n",
              "      <td>42000.0</td>\n",
              "      <td>42000.0</td>\n",
              "      <td>42000.0</td>\n",
              "      <td>...</td>\n",
              "      <td>42000.000000</td>\n",
              "      <td>42000.000000</td>\n",
              "      <td>42000.000000</td>\n",
              "      <td>42000.00000</td>\n",
              "      <td>42000.000000</td>\n",
              "      <td>42000.000000</td>\n",
              "      <td>42000.0</td>\n",
              "      <td>42000.0</td>\n",
              "      <td>42000.0</td>\n",
              "      <td>42000.0</td>\n",
              "    </tr>\n",
              "    <tr>\n",
              "      <th>mean</th>\n",
              "      <td>0.0</td>\n",
              "      <td>0.0</td>\n",
              "      <td>0.0</td>\n",
              "      <td>0.0</td>\n",
              "      <td>0.0</td>\n",
              "      <td>0.0</td>\n",
              "      <td>0.0</td>\n",
              "      <td>0.0</td>\n",
              "      <td>0.0</td>\n",
              "      <td>0.0</td>\n",
              "      <td>...</td>\n",
              "      <td>0.219286</td>\n",
              "      <td>0.117095</td>\n",
              "      <td>0.059024</td>\n",
              "      <td>0.02019</td>\n",
              "      <td>0.017238</td>\n",
              "      <td>0.002857</td>\n",
              "      <td>0.0</td>\n",
              "      <td>0.0</td>\n",
              "      <td>0.0</td>\n",
              "      <td>0.0</td>\n",
              "    </tr>\n",
              "    <tr>\n",
              "      <th>std</th>\n",
              "      <td>0.0</td>\n",
              "      <td>0.0</td>\n",
              "      <td>0.0</td>\n",
              "      <td>0.0</td>\n",
              "      <td>0.0</td>\n",
              "      <td>0.0</td>\n",
              "      <td>0.0</td>\n",
              "      <td>0.0</td>\n",
              "      <td>0.0</td>\n",
              "      <td>0.0</td>\n",
              "      <td>...</td>\n",
              "      <td>6.312890</td>\n",
              "      <td>4.633819</td>\n",
              "      <td>3.274488</td>\n",
              "      <td>1.75987</td>\n",
              "      <td>1.894498</td>\n",
              "      <td>0.414264</td>\n",
              "      <td>0.0</td>\n",
              "      <td>0.0</td>\n",
              "      <td>0.0</td>\n",
              "      <td>0.0</td>\n",
              "    </tr>\n",
              "    <tr>\n",
              "      <th>min</th>\n",
              "      <td>0.0</td>\n",
              "      <td>0.0</td>\n",
              "      <td>0.0</td>\n",
              "      <td>0.0</td>\n",
              "      <td>0.0</td>\n",
              "      <td>0.0</td>\n",
              "      <td>0.0</td>\n",
              "      <td>0.0</td>\n",
              "      <td>0.0</td>\n",
              "      <td>0.0</td>\n",
              "      <td>...</td>\n",
              "      <td>0.000000</td>\n",
              "      <td>0.000000</td>\n",
              "      <td>0.000000</td>\n",
              "      <td>0.00000</td>\n",
              "      <td>0.000000</td>\n",
              "      <td>0.000000</td>\n",
              "      <td>0.0</td>\n",
              "      <td>0.0</td>\n",
              "      <td>0.0</td>\n",
              "      <td>0.0</td>\n",
              "    </tr>\n",
              "    <tr>\n",
              "      <th>25%</th>\n",
              "      <td>0.0</td>\n",
              "      <td>0.0</td>\n",
              "      <td>0.0</td>\n",
              "      <td>0.0</td>\n",
              "      <td>0.0</td>\n",
              "      <td>0.0</td>\n",
              "      <td>0.0</td>\n",
              "      <td>0.0</td>\n",
              "      <td>0.0</td>\n",
              "      <td>0.0</td>\n",
              "      <td>...</td>\n",
              "      <td>0.000000</td>\n",
              "      <td>0.000000</td>\n",
              "      <td>0.000000</td>\n",
              "      <td>0.00000</td>\n",
              "      <td>0.000000</td>\n",
              "      <td>0.000000</td>\n",
              "      <td>0.0</td>\n",
              "      <td>0.0</td>\n",
              "      <td>0.0</td>\n",
              "      <td>0.0</td>\n",
              "    </tr>\n",
              "    <tr>\n",
              "      <th>50%</th>\n",
              "      <td>0.0</td>\n",
              "      <td>0.0</td>\n",
              "      <td>0.0</td>\n",
              "      <td>0.0</td>\n",
              "      <td>0.0</td>\n",
              "      <td>0.0</td>\n",
              "      <td>0.0</td>\n",
              "      <td>0.0</td>\n",
              "      <td>0.0</td>\n",
              "      <td>0.0</td>\n",
              "      <td>...</td>\n",
              "      <td>0.000000</td>\n",
              "      <td>0.000000</td>\n",
              "      <td>0.000000</td>\n",
              "      <td>0.00000</td>\n",
              "      <td>0.000000</td>\n",
              "      <td>0.000000</td>\n",
              "      <td>0.0</td>\n",
              "      <td>0.0</td>\n",
              "      <td>0.0</td>\n",
              "      <td>0.0</td>\n",
              "    </tr>\n",
              "    <tr>\n",
              "      <th>75%</th>\n",
              "      <td>0.0</td>\n",
              "      <td>0.0</td>\n",
              "      <td>0.0</td>\n",
              "      <td>0.0</td>\n",
              "      <td>0.0</td>\n",
              "      <td>0.0</td>\n",
              "      <td>0.0</td>\n",
              "      <td>0.0</td>\n",
              "      <td>0.0</td>\n",
              "      <td>0.0</td>\n",
              "      <td>...</td>\n",
              "      <td>0.000000</td>\n",
              "      <td>0.000000</td>\n",
              "      <td>0.000000</td>\n",
              "      <td>0.00000</td>\n",
              "      <td>0.000000</td>\n",
              "      <td>0.000000</td>\n",
              "      <td>0.0</td>\n",
              "      <td>0.0</td>\n",
              "      <td>0.0</td>\n",
              "      <td>0.0</td>\n",
              "    </tr>\n",
              "    <tr>\n",
              "      <th>max</th>\n",
              "      <td>0.0</td>\n",
              "      <td>0.0</td>\n",
              "      <td>0.0</td>\n",
              "      <td>0.0</td>\n",
              "      <td>0.0</td>\n",
              "      <td>0.0</td>\n",
              "      <td>0.0</td>\n",
              "      <td>0.0</td>\n",
              "      <td>0.0</td>\n",
              "      <td>0.0</td>\n",
              "      <td>...</td>\n",
              "      <td>254.000000</td>\n",
              "      <td>254.000000</td>\n",
              "      <td>253.000000</td>\n",
              "      <td>253.00000</td>\n",
              "      <td>254.000000</td>\n",
              "      <td>62.000000</td>\n",
              "      <td>0.0</td>\n",
              "      <td>0.0</td>\n",
              "      <td>0.0</td>\n",
              "      <td>0.0</td>\n",
              "    </tr>\n",
              "  </tbody>\n",
              "</table>\n",
              "<p>8 rows × 784 columns</p>\n",
              "</div>"
            ],
            "text/plain": [
              "        pixel0   pixel1   pixel2   pixel3   pixel4   pixel5   pixel6   pixel7  \\\n",
              "count  42000.0  42000.0  42000.0  42000.0  42000.0  42000.0  42000.0  42000.0   \n",
              "mean       0.0      0.0      0.0      0.0      0.0      0.0      0.0      0.0   \n",
              "std        0.0      0.0      0.0      0.0      0.0      0.0      0.0      0.0   \n",
              "min        0.0      0.0      0.0      0.0      0.0      0.0      0.0      0.0   \n",
              "25%        0.0      0.0      0.0      0.0      0.0      0.0      0.0      0.0   \n",
              "50%        0.0      0.0      0.0      0.0      0.0      0.0      0.0      0.0   \n",
              "75%        0.0      0.0      0.0      0.0      0.0      0.0      0.0      0.0   \n",
              "max        0.0      0.0      0.0      0.0      0.0      0.0      0.0      0.0   \n",
              "\n",
              "        pixel8   pixel9    ...         pixel774      pixel775      pixel776  \\\n",
              "count  42000.0  42000.0    ...     42000.000000  42000.000000  42000.000000   \n",
              "mean       0.0      0.0    ...         0.219286      0.117095      0.059024   \n",
              "std        0.0      0.0    ...         6.312890      4.633819      3.274488   \n",
              "min        0.0      0.0    ...         0.000000      0.000000      0.000000   \n",
              "25%        0.0      0.0    ...         0.000000      0.000000      0.000000   \n",
              "50%        0.0      0.0    ...         0.000000      0.000000      0.000000   \n",
              "75%        0.0      0.0    ...         0.000000      0.000000      0.000000   \n",
              "max        0.0      0.0    ...       254.000000    254.000000    253.000000   \n",
              "\n",
              "          pixel777      pixel778      pixel779  pixel780  pixel781  pixel782  \\\n",
              "count  42000.00000  42000.000000  42000.000000   42000.0   42000.0   42000.0   \n",
              "mean       0.02019      0.017238      0.002857       0.0       0.0       0.0   \n",
              "std        1.75987      1.894498      0.414264       0.0       0.0       0.0   \n",
              "min        0.00000      0.000000      0.000000       0.0       0.0       0.0   \n",
              "25%        0.00000      0.000000      0.000000       0.0       0.0       0.0   \n",
              "50%        0.00000      0.000000      0.000000       0.0       0.0       0.0   \n",
              "75%        0.00000      0.000000      0.000000       0.0       0.0       0.0   \n",
              "max      253.00000    254.000000     62.000000       0.0       0.0       0.0   \n",
              "\n",
              "       pixel783  \n",
              "count   42000.0  \n",
              "mean        0.0  \n",
              "std         0.0  \n",
              "min         0.0  \n",
              "25%         0.0  \n",
              "50%         0.0  \n",
              "75%         0.0  \n",
              "max         0.0  \n",
              "\n",
              "[8 rows x 784 columns]"
            ]
          },
          "metadata": {
            "tags": []
          },
          "execution_count": 138
        }
      ]
    },
    {
      "metadata": {
        "id": "ZYccpUTagzL3",
        "colab_type": "code",
        "colab": {}
      },
      "cell_type": "code",
      "source": [
        "#Normalizing the training dataset and chanelizing to grayscale\n",
        "x_train = x_train/255.0\n"
      ],
      "execution_count": 0,
      "outputs": []
    },
    {
      "metadata": {
        "id": "sXdM82d-hnWs",
        "colab_type": "code",
        "colab": {
          "base_uri": "https://localhost:8080/",
          "height": 34
        },
        "outputId": "49a25b78-f4d5-4fa1-b3e4-a097a020637c"
      },
      "cell_type": "code",
      "source": [
        "'''#Reshaping the training dataset\n",
        "img_row =28\n",
        "img_col = 28\n",
        "x_train = x_train.values.reshape(-1,img_row,img_col,1)'''"
      ],
      "execution_count": 140,
      "outputs": [
        {
          "output_type": "execute_result",
          "data": {
            "text/plain": [
              "'#Reshaping the training dataset\\nimg_row =28\\nimg_col = 28\\nx_train = x_train.values.reshape(-1,img_row,img_col,1)'"
            ]
          },
          "metadata": {
            "tags": []
          },
          "execution_count": 140
        }
      ]
    },
    {
      "metadata": {
        "id": "hqO9niUYiA7m",
        "colab_type": "code",
        "colab": {}
      },
      "cell_type": "code",
      "source": [
        "#Spliting the data into train and validate sets\n",
        "from sklearn.model_selection import train_test_split\n",
        "X_train,X_validate,Y_train,Y_validate = train_test_split( x_train, y_train, test_size=0.20, random_state=0)"
      ],
      "execution_count": 0,
      "outputs": []
    },
    {
      "metadata": {
        "id": "YAWzaUmSipyU",
        "colab_type": "code",
        "colab": {
          "base_uri": "https://localhost:8080/",
          "height": 34
        },
        "outputId": "b7e53779-3178-4537-c360-946423a429a4"
      },
      "cell_type": "code",
      "source": [
        "X_train.shape"
      ],
      "execution_count": 142,
      "outputs": [
        {
          "output_type": "execute_result",
          "data": {
            "text/plain": [
              "(33600, 784)"
            ]
          },
          "metadata": {
            "tags": []
          },
          "execution_count": 142
        }
      ]
    },
    {
      "metadata": {
        "id": "38aH3RGHjAVg",
        "colab_type": "code",
        "colab": {
          "base_uri": "https://localhost:8080/",
          "height": 34
        },
        "outputId": "752139e5-22e1-468a-ce78-3370241a1f5c"
      },
      "cell_type": "code",
      "source": [
        "X_validate.shape"
      ],
      "execution_count": 143,
      "outputs": [
        {
          "output_type": "execute_result",
          "data": {
            "text/plain": [
              "(8400, 784)"
            ]
          },
          "metadata": {
            "tags": []
          },
          "execution_count": 143
        }
      ]
    },
    {
      "metadata": {
        "id": "n3cVkgQdjREG",
        "colab_type": "code",
        "colab": {
          "base_uri": "https://localhost:8080/",
          "height": 34
        },
        "outputId": "e283b51d-fc4a-4557-a0b8-0c5cc3ede0ff"
      },
      "cell_type": "code",
      "source": [
        "Y_train.shape"
      ],
      "execution_count": 144,
      "outputs": [
        {
          "output_type": "execute_result",
          "data": {
            "text/plain": [
              "(33600,)"
            ]
          },
          "metadata": {
            "tags": []
          },
          "execution_count": 144
        }
      ]
    },
    {
      "metadata": {
        "id": "ipOTuCWRmtBr",
        "colab_type": "code",
        "colab": {
          "base_uri": "https://localhost:8080/",
          "height": 34
        },
        "outputId": "203affb1-bf84-4da6-ef3b-62c95df98d07"
      },
      "cell_type": "code",
      "source": [
        "Y_validate.shape"
      ],
      "execution_count": 145,
      "outputs": [
        {
          "output_type": "execute_result",
          "data": {
            "text/plain": [
              "(8400,)"
            ]
          },
          "metadata": {
            "tags": []
          },
          "execution_count": 145
        }
      ]
    },
    {
      "metadata": {
        "id": "m3RwccORmv0V",
        "colab_type": "code",
        "colab": {
          "base_uri": "https://localhost:8080/",
          "height": 92991
        },
        "outputId": "24410601-a645-4b13-ba6b-cc839a66b9fb"
      },
      "cell_type": "code",
      "source": [
        "#Creating the MLP CLassifier Type 1 for MultiClass Classification without one hot encoding of the class labels and without reshaping the images\n",
        "from __future__ import print_function\n",
        "from sklearn.model_selection import train_test_split\n",
        "from sklearn.model_selection import GridSearchCV\n",
        "from sklearn.metrics import classification_report\n",
        "from sklearn.metrics import confusion_matrix\n",
        "from sklearn.metrics import accuracy_score\n",
        "scores =['accuracy']\n",
        "model = MLPClassifier()\n",
        "params = {'hidden_layer_sizes':[(100),(50,50)],'max_iter':[10,20],'alpha':[1e-4,1e-3],'solver':['sgd'],'verbose':[10],'tol':[1e-4,1e-3],'random_state':[42,52],'learning_rate_init':[0.1,0.01]}\n",
        "for score in scores:\n",
        "    print(\"# Tuning hyper-parameters for %s\" % score)\n",
        "    print()\n",
        "\n",
        "    clf = GridSearchCV(model, params, cv=5,scoring='%s' % score)\n",
        "    clf.fit(X_train, Y_train)\n",
        "\n",
        "    print(\"Best parameters set found on development set:\")\n",
        "    print()\n",
        "    print(clf.best_params_)\n",
        "    print()\n",
        "    print(\"Grid scores on development set:\")\n",
        "    print()\n",
        "    means = clf.cv_results_['mean_test_score']\n",
        "    stds = clf.cv_results_['std_test_score']\n",
        "    for mean, std, params in zip(means, stds, clf.cv_results_['params']):\n",
        "        print(\"%0.3f (+/-%0.03f) for %r\"\n",
        "            % (mean, std * 2, params))\n",
        "    print()\n",
        "\n",
        "    print(\"Detailed classification report:\")\n",
        "    print()\n",
        "    print(\"The model is trained on the full development set.\")\n",
        "    print(\"The scores are computed on the full evaluation set.\")\n",
        "    print()\n",
        "    y_true, y_pred = Y_validate, clf.predict(X_validate)\n",
        "    print(classification_report(y_true, y_pred))\n",
        "    print(\"Detailed confusion matrix:\")\n",
        "    print(confusion_matrix(y_true, y_pred))\n",
        "    print(\"Accuracy Score: \\n\")\n",
        "    print(accuracy_score(y_true, y_pred))\n",
        "\n",
        "    print()"
      ],
      "execution_count": 147,
      "outputs": [
        {
          "output_type": "stream",
          "text": [
            "# Tuning hyper-parameters for accuracy\n",
            "\n",
            "Iteration 1, loss = 0.42443926\n",
            "Iteration 2, loss = 0.19111692\n",
            "Iteration 3, loss = 0.13327344\n",
            "Iteration 4, loss = 0.09975400\n",
            "Iteration 5, loss = 0.07798419\n",
            "Iteration 6, loss = 0.06281225\n",
            "Iteration 7, loss = 0.05078479\n",
            "Iteration 8, loss = 0.04354475\n",
            "Iteration 9, loss = 0.03525503\n",
            "Iteration 10, loss = 0.02832699\n"
          ],
          "name": "stdout"
        },
        {
          "output_type": "stream",
          "text": [
            "/usr/local/lib/python3.6/dist-packages/sklearn/neural_network/multilayer_perceptron.py:564: ConvergenceWarning: Stochastic Optimizer: Maximum iterations (10) reached and the optimization hasn't converged yet.\n",
            "  % self.max_iter, ConvergenceWarning)\n"
          ],
          "name": "stderr"
        },
        {
          "output_type": "stream",
          "text": [
            "Iteration 1, loss = 0.42586539\n",
            "Iteration 2, loss = 0.19523225\n",
            "Iteration 3, loss = 0.13635512\n",
            "Iteration 4, loss = 0.10536582\n",
            "Iteration 5, loss = 0.08230128\n",
            "Iteration 6, loss = 0.06783235\n",
            "Iteration 7, loss = 0.05593132\n",
            "Iteration 8, loss = 0.04606509\n",
            "Iteration 9, loss = 0.03800518\n",
            "Iteration 10, loss = 0.03269164\n"
          ],
          "name": "stdout"
        },
        {
          "output_type": "stream",
          "text": [
            "/usr/local/lib/python3.6/dist-packages/sklearn/neural_network/multilayer_perceptron.py:564: ConvergenceWarning: Stochastic Optimizer: Maximum iterations (10) reached and the optimization hasn't converged yet.\n",
            "  % self.max_iter, ConvergenceWarning)\n"
          ],
          "name": "stderr"
        },
        {
          "output_type": "stream",
          "text": [
            "Iteration 1, loss = 0.42715948\n",
            "Iteration 2, loss = 0.19689666\n",
            "Iteration 3, loss = 0.13798871\n",
            "Iteration 4, loss = 0.10456164\n",
            "Iteration 5, loss = 0.08268120\n",
            "Iteration 6, loss = 0.06765179\n",
            "Iteration 7, loss = 0.05458300\n",
            "Iteration 8, loss = 0.04616246\n",
            "Iteration 9, loss = 0.03781026\n",
            "Iteration 10, loss = 0.03003393\n"
          ],
          "name": "stdout"
        },
        {
          "output_type": "stream",
          "text": [
            "/usr/local/lib/python3.6/dist-packages/sklearn/neural_network/multilayer_perceptron.py:564: ConvergenceWarning: Stochastic Optimizer: Maximum iterations (10) reached and the optimization hasn't converged yet.\n",
            "  % self.max_iter, ConvergenceWarning)\n"
          ],
          "name": "stderr"
        },
        {
          "output_type": "stream",
          "text": [
            "Iteration 1, loss = 0.42820819\n",
            "Iteration 2, loss = 0.19186921\n",
            "Iteration 3, loss = 0.13414747\n",
            "Iteration 4, loss = 0.10207327\n",
            "Iteration 5, loss = 0.07891697\n",
            "Iteration 6, loss = 0.06297808\n",
            "Iteration 7, loss = 0.05149303\n",
            "Iteration 8, loss = 0.04236167\n",
            "Iteration 9, loss = 0.03481901\n",
            "Iteration 10, loss = 0.02835101\n"
          ],
          "name": "stdout"
        },
        {
          "output_type": "stream",
          "text": [
            "/usr/local/lib/python3.6/dist-packages/sklearn/neural_network/multilayer_perceptron.py:564: ConvergenceWarning: Stochastic Optimizer: Maximum iterations (10) reached and the optimization hasn't converged yet.\n",
            "  % self.max_iter, ConvergenceWarning)\n"
          ],
          "name": "stderr"
        },
        {
          "output_type": "stream",
          "text": [
            "Iteration 1, loss = 0.42405712\n",
            "Iteration 2, loss = 0.19016513\n",
            "Iteration 3, loss = 0.13410431\n",
            "Iteration 4, loss = 0.09929429\n",
            "Iteration 5, loss = 0.07930859\n",
            "Iteration 6, loss = 0.06273962\n",
            "Iteration 7, loss = 0.05237553\n",
            "Iteration 8, loss = 0.04303565\n",
            "Iteration 9, loss = 0.03522648\n",
            "Iteration 10, loss = 0.02946564\n"
          ],
          "name": "stdout"
        },
        {
          "output_type": "stream",
          "text": [
            "/usr/local/lib/python3.6/dist-packages/sklearn/neural_network/multilayer_perceptron.py:564: ConvergenceWarning: Stochastic Optimizer: Maximum iterations (10) reached and the optimization hasn't converged yet.\n",
            "  % self.max_iter, ConvergenceWarning)\n"
          ],
          "name": "stderr"
        },
        {
          "output_type": "stream",
          "text": [
            "Iteration 1, loss = 0.42443926\n",
            "Iteration 2, loss = 0.19111692\n",
            "Iteration 3, loss = 0.13327344\n",
            "Iteration 4, loss = 0.09975400\n",
            "Iteration 5, loss = 0.07798419\n",
            "Iteration 6, loss = 0.06281225\n",
            "Iteration 7, loss = 0.05078479\n",
            "Iteration 8, loss = 0.04354475\n",
            "Iteration 9, loss = 0.03525503\n",
            "Iteration 10, loss = 0.02832699\n"
          ],
          "name": "stdout"
        },
        {
          "output_type": "stream",
          "text": [
            "/usr/local/lib/python3.6/dist-packages/sklearn/neural_network/multilayer_perceptron.py:564: ConvergenceWarning: Stochastic Optimizer: Maximum iterations (10) reached and the optimization hasn't converged yet.\n",
            "  % self.max_iter, ConvergenceWarning)\n"
          ],
          "name": "stderr"
        },
        {
          "output_type": "stream",
          "text": [
            "Iteration 1, loss = 0.42586539\n",
            "Iteration 2, loss = 0.19523225\n",
            "Iteration 3, loss = 0.13635512\n",
            "Iteration 4, loss = 0.10536582\n",
            "Iteration 5, loss = 0.08230128\n",
            "Iteration 6, loss = 0.06783235\n",
            "Iteration 7, loss = 0.05593132\n",
            "Iteration 8, loss = 0.04606509\n",
            "Iteration 9, loss = 0.03800518\n",
            "Iteration 10, loss = 0.03269164\n"
          ],
          "name": "stdout"
        },
        {
          "output_type": "stream",
          "text": [
            "/usr/local/lib/python3.6/dist-packages/sklearn/neural_network/multilayer_perceptron.py:564: ConvergenceWarning: Stochastic Optimizer: Maximum iterations (10) reached and the optimization hasn't converged yet.\n",
            "  % self.max_iter, ConvergenceWarning)\n"
          ],
          "name": "stderr"
        },
        {
          "output_type": "stream",
          "text": [
            "Iteration 1, loss = 0.42715948\n",
            "Iteration 2, loss = 0.19689666\n",
            "Iteration 3, loss = 0.13798871\n",
            "Iteration 4, loss = 0.10456164\n",
            "Iteration 5, loss = 0.08268120\n",
            "Iteration 6, loss = 0.06765179\n",
            "Iteration 7, loss = 0.05458300\n",
            "Iteration 8, loss = 0.04616246\n",
            "Iteration 9, loss = 0.03781026\n",
            "Iteration 10, loss = 0.03003393\n"
          ],
          "name": "stdout"
        },
        {
          "output_type": "stream",
          "text": [
            "/usr/local/lib/python3.6/dist-packages/sklearn/neural_network/multilayer_perceptron.py:564: ConvergenceWarning: Stochastic Optimizer: Maximum iterations (10) reached and the optimization hasn't converged yet.\n",
            "  % self.max_iter, ConvergenceWarning)\n"
          ],
          "name": "stderr"
        },
        {
          "output_type": "stream",
          "text": [
            "Iteration 1, loss = 0.42820819\n",
            "Iteration 2, loss = 0.19186921\n",
            "Iteration 3, loss = 0.13414747\n",
            "Iteration 4, loss = 0.10207327\n",
            "Iteration 5, loss = 0.07891697\n",
            "Iteration 6, loss = 0.06297808\n",
            "Iteration 7, loss = 0.05149303\n",
            "Iteration 8, loss = 0.04236167\n",
            "Iteration 9, loss = 0.03481901\n",
            "Iteration 10, loss = 0.02835101\n"
          ],
          "name": "stdout"
        },
        {
          "output_type": "stream",
          "text": [
            "/usr/local/lib/python3.6/dist-packages/sklearn/neural_network/multilayer_perceptron.py:564: ConvergenceWarning: Stochastic Optimizer: Maximum iterations (10) reached and the optimization hasn't converged yet.\n",
            "  % self.max_iter, ConvergenceWarning)\n"
          ],
          "name": "stderr"
        },
        {
          "output_type": "stream",
          "text": [
            "Iteration 1, loss = 0.42405712\n",
            "Iteration 2, loss = 0.19016513\n",
            "Iteration 3, loss = 0.13410431\n",
            "Iteration 4, loss = 0.09929429\n",
            "Iteration 5, loss = 0.07930859\n",
            "Iteration 6, loss = 0.06273962\n",
            "Iteration 7, loss = 0.05237553\n",
            "Iteration 8, loss = 0.04303565\n",
            "Iteration 9, loss = 0.03522648\n",
            "Iteration 10, loss = 0.02946564\n"
          ],
          "name": "stdout"
        },
        {
          "output_type": "stream",
          "text": [
            "/usr/local/lib/python3.6/dist-packages/sklearn/neural_network/multilayer_perceptron.py:564: ConvergenceWarning: Stochastic Optimizer: Maximum iterations (10) reached and the optimization hasn't converged yet.\n",
            "  % self.max_iter, ConvergenceWarning)\n"
          ],
          "name": "stderr"
        },
        {
          "output_type": "stream",
          "text": [
            "Iteration 1, loss = 0.41317843\n",
            "Iteration 2, loss = 0.18018532\n",
            "Iteration 3, loss = 0.12815324\n",
            "Iteration 4, loss = 0.09811834\n",
            "Iteration 5, loss = 0.07618943\n",
            "Iteration 6, loss = 0.06187196\n",
            "Iteration 7, loss = 0.05239713\n",
            "Iteration 8, loss = 0.04161923\n",
            "Iteration 9, loss = 0.03504119\n",
            "Iteration 10, loss = 0.02924197\n"
          ],
          "name": "stdout"
        },
        {
          "output_type": "stream",
          "text": [
            "/usr/local/lib/python3.6/dist-packages/sklearn/neural_network/multilayer_perceptron.py:564: ConvergenceWarning: Stochastic Optimizer: Maximum iterations (10) reached and the optimization hasn't converged yet.\n",
            "  % self.max_iter, ConvergenceWarning)\n"
          ],
          "name": "stderr"
        },
        {
          "output_type": "stream",
          "text": [
            "Iteration 1, loss = 0.41869844\n",
            "Iteration 2, loss = 0.19000633\n",
            "Iteration 3, loss = 0.13283812\n",
            "Iteration 4, loss = 0.10196815\n",
            "Iteration 5, loss = 0.08219108\n",
            "Iteration 6, loss = 0.06647845\n",
            "Iteration 7, loss = 0.05460523\n",
            "Iteration 8, loss = 0.04480957\n",
            "Iteration 9, loss = 0.03583448\n",
            "Iteration 10, loss = 0.02989619\n"
          ],
          "name": "stdout"
        },
        {
          "output_type": "stream",
          "text": [
            "/usr/local/lib/python3.6/dist-packages/sklearn/neural_network/multilayer_perceptron.py:564: ConvergenceWarning: Stochastic Optimizer: Maximum iterations (10) reached and the optimization hasn't converged yet.\n",
            "  % self.max_iter, ConvergenceWarning)\n"
          ],
          "name": "stderr"
        },
        {
          "output_type": "stream",
          "text": [
            "Iteration 1, loss = 0.42050960\n",
            "Iteration 2, loss = 0.18637572\n",
            "Iteration 3, loss = 0.13230732\n",
            "Iteration 4, loss = 0.10102268\n",
            "Iteration 5, loss = 0.08061918\n",
            "Iteration 6, loss = 0.06522477\n",
            "Iteration 7, loss = 0.05362093\n",
            "Iteration 8, loss = 0.04365927\n",
            "Iteration 9, loss = 0.03560527\n",
            "Iteration 10, loss = 0.03034775\n"
          ],
          "name": "stdout"
        },
        {
          "output_type": "stream",
          "text": [
            "/usr/local/lib/python3.6/dist-packages/sklearn/neural_network/multilayer_perceptron.py:564: ConvergenceWarning: Stochastic Optimizer: Maximum iterations (10) reached and the optimization hasn't converged yet.\n",
            "  % self.max_iter, ConvergenceWarning)\n"
          ],
          "name": "stderr"
        },
        {
          "output_type": "stream",
          "text": [
            "Iteration 1, loss = 0.41821218\n",
            "Iteration 2, loss = 0.18392451\n",
            "Iteration 3, loss = 0.13100497\n",
            "Iteration 4, loss = 0.10049683\n",
            "Iteration 5, loss = 0.07991006\n",
            "Iteration 6, loss = 0.06494857\n",
            "Iteration 7, loss = 0.05457032\n",
            "Iteration 8, loss = 0.04339668\n",
            "Iteration 9, loss = 0.03626685\n",
            "Iteration 10, loss = 0.02968274\n"
          ],
          "name": "stdout"
        },
        {
          "output_type": "stream",
          "text": [
            "/usr/local/lib/python3.6/dist-packages/sklearn/neural_network/multilayer_perceptron.py:564: ConvergenceWarning: Stochastic Optimizer: Maximum iterations (10) reached and the optimization hasn't converged yet.\n",
            "  % self.max_iter, ConvergenceWarning)\n"
          ],
          "name": "stderr"
        },
        {
          "output_type": "stream",
          "text": [
            "Iteration 1, loss = 0.41284259\n",
            "Iteration 2, loss = 0.18299775\n",
            "Iteration 3, loss = 0.12913305\n",
            "Iteration 4, loss = 0.09940048\n",
            "Iteration 5, loss = 0.08017659\n",
            "Iteration 6, loss = 0.06515145\n",
            "Iteration 7, loss = 0.05219732\n",
            "Iteration 8, loss = 0.04454900\n",
            "Iteration 9, loss = 0.03704586\n",
            "Iteration 10, loss = 0.03030897\n"
          ],
          "name": "stdout"
        },
        {
          "output_type": "stream",
          "text": [
            "/usr/local/lib/python3.6/dist-packages/sklearn/neural_network/multilayer_perceptron.py:564: ConvergenceWarning: Stochastic Optimizer: Maximum iterations (10) reached and the optimization hasn't converged yet.\n",
            "  % self.max_iter, ConvergenceWarning)\n"
          ],
          "name": "stderr"
        },
        {
          "output_type": "stream",
          "text": [
            "Iteration 1, loss = 0.41317843\n",
            "Iteration 2, loss = 0.18018532\n",
            "Iteration 3, loss = 0.12815324\n",
            "Iteration 4, loss = 0.09811834\n",
            "Iteration 5, loss = 0.07618943\n",
            "Iteration 6, loss = 0.06187196\n",
            "Iteration 7, loss = 0.05239713\n",
            "Iteration 8, loss = 0.04161923\n",
            "Iteration 9, loss = 0.03504119\n",
            "Iteration 10, loss = 0.02924197\n"
          ],
          "name": "stdout"
        },
        {
          "output_type": "stream",
          "text": [
            "/usr/local/lib/python3.6/dist-packages/sklearn/neural_network/multilayer_perceptron.py:564: ConvergenceWarning: Stochastic Optimizer: Maximum iterations (10) reached and the optimization hasn't converged yet.\n",
            "  % self.max_iter, ConvergenceWarning)\n"
          ],
          "name": "stderr"
        },
        {
          "output_type": "stream",
          "text": [
            "Iteration 1, loss = 0.41869844\n",
            "Iteration 2, loss = 0.19000633\n",
            "Iteration 3, loss = 0.13283812\n",
            "Iteration 4, loss = 0.10196815\n",
            "Iteration 5, loss = 0.08219108\n",
            "Iteration 6, loss = 0.06647845\n",
            "Iteration 7, loss = 0.05460523\n",
            "Iteration 8, loss = 0.04480957\n",
            "Iteration 9, loss = 0.03583448\n",
            "Iteration 10, loss = 0.02989619\n"
          ],
          "name": "stdout"
        },
        {
          "output_type": "stream",
          "text": [
            "/usr/local/lib/python3.6/dist-packages/sklearn/neural_network/multilayer_perceptron.py:564: ConvergenceWarning: Stochastic Optimizer: Maximum iterations (10) reached and the optimization hasn't converged yet.\n",
            "  % self.max_iter, ConvergenceWarning)\n"
          ],
          "name": "stderr"
        },
        {
          "output_type": "stream",
          "text": [
            "Iteration 1, loss = 0.42050960\n",
            "Iteration 2, loss = 0.18637572\n",
            "Iteration 3, loss = 0.13230732\n",
            "Iteration 4, loss = 0.10102268\n",
            "Iteration 5, loss = 0.08061918\n",
            "Iteration 6, loss = 0.06522477\n",
            "Iteration 7, loss = 0.05362093\n",
            "Iteration 8, loss = 0.04365927\n",
            "Iteration 9, loss = 0.03560527\n",
            "Iteration 10, loss = 0.03034775\n"
          ],
          "name": "stdout"
        },
        {
          "output_type": "stream",
          "text": [
            "/usr/local/lib/python3.6/dist-packages/sklearn/neural_network/multilayer_perceptron.py:564: ConvergenceWarning: Stochastic Optimizer: Maximum iterations (10) reached and the optimization hasn't converged yet.\n",
            "  % self.max_iter, ConvergenceWarning)\n"
          ],
          "name": "stderr"
        },
        {
          "output_type": "stream",
          "text": [
            "Iteration 1, loss = 0.41821218\n",
            "Iteration 2, loss = 0.18392451\n",
            "Iteration 3, loss = 0.13100497\n",
            "Iteration 4, loss = 0.10049683\n",
            "Iteration 5, loss = 0.07991006\n",
            "Iteration 6, loss = 0.06494857\n",
            "Iteration 7, loss = 0.05457032\n",
            "Iteration 8, loss = 0.04339668\n",
            "Iteration 9, loss = 0.03626685\n",
            "Iteration 10, loss = 0.02968274\n"
          ],
          "name": "stdout"
        },
        {
          "output_type": "stream",
          "text": [
            "/usr/local/lib/python3.6/dist-packages/sklearn/neural_network/multilayer_perceptron.py:564: ConvergenceWarning: Stochastic Optimizer: Maximum iterations (10) reached and the optimization hasn't converged yet.\n",
            "  % self.max_iter, ConvergenceWarning)\n"
          ],
          "name": "stderr"
        },
        {
          "output_type": "stream",
          "text": [
            "Iteration 1, loss = 0.41284259\n",
            "Iteration 2, loss = 0.18299775\n",
            "Iteration 3, loss = 0.12913305\n",
            "Iteration 4, loss = 0.09940048\n",
            "Iteration 5, loss = 0.08017659\n",
            "Iteration 6, loss = 0.06515145\n",
            "Iteration 7, loss = 0.05219732\n",
            "Iteration 8, loss = 0.04454900\n",
            "Iteration 9, loss = 0.03704586\n",
            "Iteration 10, loss = 0.03030897\n"
          ],
          "name": "stdout"
        },
        {
          "output_type": "stream",
          "text": [
            "/usr/local/lib/python3.6/dist-packages/sklearn/neural_network/multilayer_perceptron.py:564: ConvergenceWarning: Stochastic Optimizer: Maximum iterations (10) reached and the optimization hasn't converged yet.\n",
            "  % self.max_iter, ConvergenceWarning)\n"
          ],
          "name": "stderr"
        },
        {
          "output_type": "stream",
          "text": [
            "Iteration 1, loss = 0.42443926\n",
            "Iteration 2, loss = 0.19111692\n",
            "Iteration 3, loss = 0.13327344\n",
            "Iteration 4, loss = 0.09975400\n",
            "Iteration 5, loss = 0.07798419\n",
            "Iteration 6, loss = 0.06281225\n",
            "Iteration 7, loss = 0.05078479\n",
            "Iteration 8, loss = 0.04354475\n",
            "Iteration 9, loss = 0.03525503\n",
            "Iteration 10, loss = 0.02832699\n",
            "Iteration 11, loss = 0.02349381\n",
            "Iteration 12, loss = 0.02030914\n",
            "Iteration 13, loss = 0.01678685\n",
            "Iteration 14, loss = 0.01429149\n",
            "Iteration 15, loss = 0.01193065\n",
            "Iteration 16, loss = 0.00998145\n",
            "Iteration 17, loss = 0.00863361\n",
            "Iteration 18, loss = 0.00764857\n",
            "Iteration 19, loss = 0.00649817\n",
            "Iteration 20, loss = 0.00573050\n"
          ],
          "name": "stdout"
        },
        {
          "output_type": "stream",
          "text": [
            "/usr/local/lib/python3.6/dist-packages/sklearn/neural_network/multilayer_perceptron.py:564: ConvergenceWarning: Stochastic Optimizer: Maximum iterations (20) reached and the optimization hasn't converged yet.\n",
            "  % self.max_iter, ConvergenceWarning)\n"
          ],
          "name": "stderr"
        },
        {
          "output_type": "stream",
          "text": [
            "Iteration 1, loss = 0.42586539\n",
            "Iteration 2, loss = 0.19523225\n",
            "Iteration 3, loss = 0.13635512\n",
            "Iteration 4, loss = 0.10536582\n",
            "Iteration 5, loss = 0.08230128\n",
            "Iteration 6, loss = 0.06783235\n",
            "Iteration 7, loss = 0.05593132\n",
            "Iteration 8, loss = 0.04606509\n",
            "Iteration 9, loss = 0.03800518\n",
            "Iteration 10, loss = 0.03269164\n",
            "Iteration 11, loss = 0.02602830\n",
            "Iteration 12, loss = 0.02181906\n",
            "Iteration 13, loss = 0.01807088\n",
            "Iteration 14, loss = 0.01472913\n",
            "Iteration 15, loss = 0.01213456\n",
            "Iteration 16, loss = 0.01031844\n",
            "Iteration 17, loss = 0.00875006\n",
            "Iteration 18, loss = 0.00778980\n",
            "Iteration 19, loss = 0.00688533\n",
            "Iteration 20, loss = 0.00577671\n"
          ],
          "name": "stdout"
        },
        {
          "output_type": "stream",
          "text": [
            "/usr/local/lib/python3.6/dist-packages/sklearn/neural_network/multilayer_perceptron.py:564: ConvergenceWarning: Stochastic Optimizer: Maximum iterations (20) reached and the optimization hasn't converged yet.\n",
            "  % self.max_iter, ConvergenceWarning)\n"
          ],
          "name": "stderr"
        },
        {
          "output_type": "stream",
          "text": [
            "Iteration 1, loss = 0.42715948\n",
            "Iteration 2, loss = 0.19689666\n",
            "Iteration 3, loss = 0.13798871\n",
            "Iteration 4, loss = 0.10456164\n",
            "Iteration 5, loss = 0.08268120\n",
            "Iteration 6, loss = 0.06765179\n",
            "Iteration 7, loss = 0.05458300\n",
            "Iteration 8, loss = 0.04616246\n",
            "Iteration 9, loss = 0.03781026\n",
            "Iteration 10, loss = 0.03003393\n",
            "Iteration 11, loss = 0.02538167\n",
            "Iteration 12, loss = 0.02064815\n",
            "Iteration 13, loss = 0.01803647\n",
            "Iteration 14, loss = 0.01498665\n",
            "Iteration 15, loss = 0.01273823\n",
            "Iteration 16, loss = 0.01061085\n",
            "Iteration 17, loss = 0.00899796\n",
            "Iteration 18, loss = 0.00729134\n",
            "Iteration 19, loss = 0.00664123\n",
            "Iteration 20, loss = 0.00567224\n"
          ],
          "name": "stdout"
        },
        {
          "output_type": "stream",
          "text": [
            "/usr/local/lib/python3.6/dist-packages/sklearn/neural_network/multilayer_perceptron.py:564: ConvergenceWarning: Stochastic Optimizer: Maximum iterations (20) reached and the optimization hasn't converged yet.\n",
            "  % self.max_iter, ConvergenceWarning)\n"
          ],
          "name": "stderr"
        },
        {
          "output_type": "stream",
          "text": [
            "Iteration 1, loss = 0.42820819\n",
            "Iteration 2, loss = 0.19186921\n",
            "Iteration 3, loss = 0.13414747\n",
            "Iteration 4, loss = 0.10207327\n",
            "Iteration 5, loss = 0.07891697\n",
            "Iteration 6, loss = 0.06297808\n",
            "Iteration 7, loss = 0.05149303\n",
            "Iteration 8, loss = 0.04236167\n",
            "Iteration 9, loss = 0.03481901\n",
            "Iteration 10, loss = 0.02835101\n",
            "Iteration 11, loss = 0.02272548\n",
            "Iteration 12, loss = 0.01857739\n",
            "Iteration 13, loss = 0.01564136\n",
            "Iteration 14, loss = 0.01314270\n",
            "Iteration 15, loss = 0.01085700\n",
            "Iteration 16, loss = 0.00939548\n",
            "Iteration 17, loss = 0.00840074\n",
            "Iteration 18, loss = 0.00654555\n",
            "Iteration 19, loss = 0.00579962\n",
            "Iteration 20, loss = 0.00527133\n"
          ],
          "name": "stdout"
        },
        {
          "output_type": "stream",
          "text": [
            "/usr/local/lib/python3.6/dist-packages/sklearn/neural_network/multilayer_perceptron.py:564: ConvergenceWarning: Stochastic Optimizer: Maximum iterations (20) reached and the optimization hasn't converged yet.\n",
            "  % self.max_iter, ConvergenceWarning)\n"
          ],
          "name": "stderr"
        },
        {
          "output_type": "stream",
          "text": [
            "Iteration 1, loss = 0.42405712\n",
            "Iteration 2, loss = 0.19016513\n",
            "Iteration 3, loss = 0.13410431\n",
            "Iteration 4, loss = 0.09929429\n",
            "Iteration 5, loss = 0.07930859\n",
            "Iteration 6, loss = 0.06273962\n",
            "Iteration 7, loss = 0.05237553\n",
            "Iteration 8, loss = 0.04303565\n",
            "Iteration 9, loss = 0.03522648\n",
            "Iteration 10, loss = 0.02946564\n",
            "Iteration 11, loss = 0.02496785\n",
            "Iteration 12, loss = 0.02003803\n",
            "Iteration 13, loss = 0.01736587\n",
            "Iteration 14, loss = 0.01381022\n",
            "Iteration 15, loss = 0.01167935\n",
            "Iteration 16, loss = 0.00943591\n",
            "Iteration 17, loss = 0.00844724\n",
            "Iteration 18, loss = 0.00757884\n",
            "Iteration 19, loss = 0.00642969\n",
            "Iteration 20, loss = 0.00565749\n"
          ],
          "name": "stdout"
        },
        {
          "output_type": "stream",
          "text": [
            "/usr/local/lib/python3.6/dist-packages/sklearn/neural_network/multilayer_perceptron.py:564: ConvergenceWarning: Stochastic Optimizer: Maximum iterations (20) reached and the optimization hasn't converged yet.\n",
            "  % self.max_iter, ConvergenceWarning)\n"
          ],
          "name": "stderr"
        },
        {
          "output_type": "stream",
          "text": [
            "Iteration 1, loss = 0.42443926\n",
            "Iteration 2, loss = 0.19111692\n",
            "Iteration 3, loss = 0.13327344\n",
            "Iteration 4, loss = 0.09975400\n",
            "Iteration 5, loss = 0.07798419\n",
            "Iteration 6, loss = 0.06281225\n",
            "Iteration 7, loss = 0.05078479\n",
            "Iteration 8, loss = 0.04354475\n",
            "Iteration 9, loss = 0.03525503\n",
            "Iteration 10, loss = 0.02832699\n",
            "Iteration 11, loss = 0.02349381\n",
            "Iteration 12, loss = 0.02030914\n",
            "Iteration 13, loss = 0.01678685\n",
            "Iteration 14, loss = 0.01429149\n",
            "Iteration 15, loss = 0.01193065\n",
            "Iteration 16, loss = 0.00998145\n",
            "Iteration 17, loss = 0.00863361\n",
            "Iteration 18, loss = 0.00764857\n",
            "Iteration 19, loss = 0.00649817\n",
            "Iteration 20, loss = 0.00573050\n"
          ],
          "name": "stdout"
        },
        {
          "output_type": "stream",
          "text": [
            "/usr/local/lib/python3.6/dist-packages/sklearn/neural_network/multilayer_perceptron.py:564: ConvergenceWarning: Stochastic Optimizer: Maximum iterations (20) reached and the optimization hasn't converged yet.\n",
            "  % self.max_iter, ConvergenceWarning)\n"
          ],
          "name": "stderr"
        },
        {
          "output_type": "stream",
          "text": [
            "Iteration 1, loss = 0.42586539\n",
            "Iteration 2, loss = 0.19523225\n",
            "Iteration 3, loss = 0.13635512\n",
            "Iteration 4, loss = 0.10536582\n",
            "Iteration 5, loss = 0.08230128\n",
            "Iteration 6, loss = 0.06783235\n",
            "Iteration 7, loss = 0.05593132\n",
            "Iteration 8, loss = 0.04606509\n",
            "Iteration 9, loss = 0.03800518\n",
            "Iteration 10, loss = 0.03269164\n",
            "Iteration 11, loss = 0.02602830\n",
            "Iteration 12, loss = 0.02181906\n",
            "Iteration 13, loss = 0.01807088\n",
            "Iteration 14, loss = 0.01472913\n",
            "Iteration 15, loss = 0.01213456\n",
            "Iteration 16, loss = 0.01031844\n",
            "Iteration 17, loss = 0.00875006\n",
            "Iteration 18, loss = 0.00778980\n",
            "Iteration 19, loss = 0.00688533\n",
            "Iteration 20, loss = 0.00577671\n"
          ],
          "name": "stdout"
        },
        {
          "output_type": "stream",
          "text": [
            "/usr/local/lib/python3.6/dist-packages/sklearn/neural_network/multilayer_perceptron.py:564: ConvergenceWarning: Stochastic Optimizer: Maximum iterations (20) reached and the optimization hasn't converged yet.\n",
            "  % self.max_iter, ConvergenceWarning)\n"
          ],
          "name": "stderr"
        },
        {
          "output_type": "stream",
          "text": [
            "Iteration 1, loss = 0.42715948\n",
            "Iteration 2, loss = 0.19689666\n",
            "Iteration 3, loss = 0.13798871\n",
            "Iteration 4, loss = 0.10456164\n",
            "Iteration 5, loss = 0.08268120\n",
            "Iteration 6, loss = 0.06765179\n",
            "Iteration 7, loss = 0.05458300\n",
            "Iteration 8, loss = 0.04616246\n",
            "Iteration 9, loss = 0.03781026\n",
            "Iteration 10, loss = 0.03003393\n",
            "Iteration 11, loss = 0.02538167\n",
            "Iteration 12, loss = 0.02064815\n",
            "Iteration 13, loss = 0.01803647\n",
            "Iteration 14, loss = 0.01498665\n",
            "Iteration 15, loss = 0.01273823\n",
            "Iteration 16, loss = 0.01061085\n",
            "Iteration 17, loss = 0.00899796\n",
            "Iteration 18, loss = 0.00729134\n",
            "Iteration 19, loss = 0.00664123\n",
            "Iteration 20, loss = 0.00567224\n"
          ],
          "name": "stdout"
        },
        {
          "output_type": "stream",
          "text": [
            "/usr/local/lib/python3.6/dist-packages/sklearn/neural_network/multilayer_perceptron.py:564: ConvergenceWarning: Stochastic Optimizer: Maximum iterations (20) reached and the optimization hasn't converged yet.\n",
            "  % self.max_iter, ConvergenceWarning)\n"
          ],
          "name": "stderr"
        },
        {
          "output_type": "stream",
          "text": [
            "Iteration 1, loss = 0.42820819\n",
            "Iteration 2, loss = 0.19186921\n",
            "Iteration 3, loss = 0.13414747\n",
            "Iteration 4, loss = 0.10207327\n",
            "Iteration 5, loss = 0.07891697\n",
            "Iteration 6, loss = 0.06297808\n",
            "Iteration 7, loss = 0.05149303\n",
            "Iteration 8, loss = 0.04236167\n",
            "Iteration 9, loss = 0.03481901\n",
            "Iteration 10, loss = 0.02835101\n",
            "Iteration 11, loss = 0.02272548\n",
            "Iteration 12, loss = 0.01857739\n",
            "Iteration 13, loss = 0.01564136\n",
            "Iteration 14, loss = 0.01314270\n",
            "Iteration 15, loss = 0.01085700\n",
            "Iteration 16, loss = 0.00939548\n",
            "Iteration 17, loss = 0.00840074\n",
            "Iteration 18, loss = 0.00654555\n",
            "Iteration 19, loss = 0.00579962\n",
            "Iteration 20, loss = 0.00527133\n"
          ],
          "name": "stdout"
        },
        {
          "output_type": "stream",
          "text": [
            "/usr/local/lib/python3.6/dist-packages/sklearn/neural_network/multilayer_perceptron.py:564: ConvergenceWarning: Stochastic Optimizer: Maximum iterations (20) reached and the optimization hasn't converged yet.\n",
            "  % self.max_iter, ConvergenceWarning)\n"
          ],
          "name": "stderr"
        },
        {
          "output_type": "stream",
          "text": [
            "Iteration 1, loss = 0.42405712\n",
            "Iteration 2, loss = 0.19016513\n",
            "Iteration 3, loss = 0.13410431\n",
            "Iteration 4, loss = 0.09929429\n",
            "Iteration 5, loss = 0.07930859\n",
            "Iteration 6, loss = 0.06273962\n",
            "Iteration 7, loss = 0.05237553\n",
            "Iteration 8, loss = 0.04303565\n",
            "Iteration 9, loss = 0.03522648\n",
            "Iteration 10, loss = 0.02946564\n",
            "Iteration 11, loss = 0.02496785\n",
            "Iteration 12, loss = 0.02003803\n",
            "Iteration 13, loss = 0.01736587\n",
            "Iteration 14, loss = 0.01381022\n",
            "Iteration 15, loss = 0.01167935\n",
            "Iteration 16, loss = 0.00943591\n",
            "Iteration 17, loss = 0.00844724\n",
            "Iteration 18, loss = 0.00757884\n",
            "Iteration 19, loss = 0.00642969\n",
            "Iteration 20, loss = 0.00565749\n"
          ],
          "name": "stdout"
        },
        {
          "output_type": "stream",
          "text": [
            "/usr/local/lib/python3.6/dist-packages/sklearn/neural_network/multilayer_perceptron.py:564: ConvergenceWarning: Stochastic Optimizer: Maximum iterations (20) reached and the optimization hasn't converged yet.\n",
            "  % self.max_iter, ConvergenceWarning)\n"
          ],
          "name": "stderr"
        },
        {
          "output_type": "stream",
          "text": [
            "Iteration 1, loss = 0.41317843\n",
            "Iteration 2, loss = 0.18018532\n",
            "Iteration 3, loss = 0.12815324\n",
            "Iteration 4, loss = 0.09811834\n",
            "Iteration 5, loss = 0.07618943\n",
            "Iteration 6, loss = 0.06187196\n",
            "Iteration 7, loss = 0.05239713\n",
            "Iteration 8, loss = 0.04161923\n",
            "Iteration 9, loss = 0.03504119\n",
            "Iteration 10, loss = 0.02924197\n",
            "Iteration 11, loss = 0.02487893\n",
            "Iteration 12, loss = 0.01998121\n",
            "Iteration 13, loss = 0.01675542\n",
            "Iteration 14, loss = 0.01471869\n",
            "Iteration 15, loss = 0.01180785\n",
            "Iteration 16, loss = 0.00966272\n",
            "Iteration 17, loss = 0.00839986\n",
            "Iteration 18, loss = 0.00782263\n",
            "Iteration 19, loss = 0.00644562\n",
            "Iteration 20, loss = 0.00570408\n"
          ],
          "name": "stdout"
        },
        {
          "output_type": "stream",
          "text": [
            "/usr/local/lib/python3.6/dist-packages/sklearn/neural_network/multilayer_perceptron.py:564: ConvergenceWarning: Stochastic Optimizer: Maximum iterations (20) reached and the optimization hasn't converged yet.\n",
            "  % self.max_iter, ConvergenceWarning)\n"
          ],
          "name": "stderr"
        },
        {
          "output_type": "stream",
          "text": [
            "Iteration 1, loss = 0.41869844\n",
            "Iteration 2, loss = 0.19000633\n",
            "Iteration 3, loss = 0.13283812\n",
            "Iteration 4, loss = 0.10196815\n",
            "Iteration 5, loss = 0.08219108\n",
            "Iteration 6, loss = 0.06647845\n",
            "Iteration 7, loss = 0.05460523\n",
            "Iteration 8, loss = 0.04480957\n",
            "Iteration 9, loss = 0.03583448\n",
            "Iteration 10, loss = 0.02989619\n",
            "Iteration 11, loss = 0.02458489\n",
            "Iteration 12, loss = 0.02193719\n",
            "Iteration 13, loss = 0.01724813\n",
            "Iteration 14, loss = 0.01487438\n",
            "Iteration 15, loss = 0.01220901\n",
            "Iteration 16, loss = 0.01064998\n",
            "Iteration 17, loss = 0.00893913\n",
            "Iteration 18, loss = 0.00728716\n",
            "Iteration 19, loss = 0.00630213\n",
            "Iteration 20, loss = 0.00575117\n"
          ],
          "name": "stdout"
        },
        {
          "output_type": "stream",
          "text": [
            "/usr/local/lib/python3.6/dist-packages/sklearn/neural_network/multilayer_perceptron.py:564: ConvergenceWarning: Stochastic Optimizer: Maximum iterations (20) reached and the optimization hasn't converged yet.\n",
            "  % self.max_iter, ConvergenceWarning)\n"
          ],
          "name": "stderr"
        },
        {
          "output_type": "stream",
          "text": [
            "Iteration 1, loss = 0.42050960\n",
            "Iteration 2, loss = 0.18637572\n",
            "Iteration 3, loss = 0.13230732\n",
            "Iteration 4, loss = 0.10102268\n",
            "Iteration 5, loss = 0.08061918\n",
            "Iteration 6, loss = 0.06522477\n",
            "Iteration 7, loss = 0.05362093\n",
            "Iteration 8, loss = 0.04365927\n",
            "Iteration 9, loss = 0.03560527\n",
            "Iteration 10, loss = 0.03034775\n",
            "Iteration 11, loss = 0.02402569\n",
            "Iteration 12, loss = 0.02035348\n",
            "Iteration 13, loss = 0.01702362\n",
            "Iteration 14, loss = 0.01472699\n",
            "Iteration 15, loss = 0.01179026\n",
            "Iteration 16, loss = 0.00987693\n",
            "Iteration 17, loss = 0.00852920\n",
            "Iteration 18, loss = 0.00727846\n",
            "Iteration 19, loss = 0.00657858\n",
            "Iteration 20, loss = 0.00556977\n"
          ],
          "name": "stdout"
        },
        {
          "output_type": "stream",
          "text": [
            "/usr/local/lib/python3.6/dist-packages/sklearn/neural_network/multilayer_perceptron.py:564: ConvergenceWarning: Stochastic Optimizer: Maximum iterations (20) reached and the optimization hasn't converged yet.\n",
            "  % self.max_iter, ConvergenceWarning)\n"
          ],
          "name": "stderr"
        },
        {
          "output_type": "stream",
          "text": [
            "Iteration 1, loss = 0.41821218\n",
            "Iteration 2, loss = 0.18392451\n",
            "Iteration 3, loss = 0.13100497\n",
            "Iteration 4, loss = 0.10049683\n",
            "Iteration 5, loss = 0.07991006\n",
            "Iteration 6, loss = 0.06494857\n",
            "Iteration 7, loss = 0.05457032\n",
            "Iteration 8, loss = 0.04339668\n",
            "Iteration 9, loss = 0.03626685\n",
            "Iteration 10, loss = 0.02968274\n",
            "Iteration 11, loss = 0.02473295\n",
            "Iteration 12, loss = 0.02009614\n",
            "Iteration 13, loss = 0.01663203\n",
            "Iteration 14, loss = 0.01450941\n",
            "Iteration 15, loss = 0.01176221\n",
            "Iteration 16, loss = 0.00977010\n",
            "Iteration 17, loss = 0.00861524\n",
            "Iteration 18, loss = 0.00745560\n",
            "Iteration 19, loss = 0.00636002\n",
            "Iteration 20, loss = 0.00555349\n"
          ],
          "name": "stdout"
        },
        {
          "output_type": "stream",
          "text": [
            "/usr/local/lib/python3.6/dist-packages/sklearn/neural_network/multilayer_perceptron.py:564: ConvergenceWarning: Stochastic Optimizer: Maximum iterations (20) reached and the optimization hasn't converged yet.\n",
            "  % self.max_iter, ConvergenceWarning)\n"
          ],
          "name": "stderr"
        },
        {
          "output_type": "stream",
          "text": [
            "Iteration 1, loss = 0.41284259\n",
            "Iteration 2, loss = 0.18299775\n",
            "Iteration 3, loss = 0.12913305\n",
            "Iteration 4, loss = 0.09940048\n",
            "Iteration 5, loss = 0.08017659\n",
            "Iteration 6, loss = 0.06515145\n",
            "Iteration 7, loss = 0.05219732\n",
            "Iteration 8, loss = 0.04454900\n",
            "Iteration 9, loss = 0.03704586\n",
            "Iteration 10, loss = 0.03030897\n",
            "Iteration 11, loss = 0.02556212\n",
            "Iteration 12, loss = 0.02161851\n",
            "Iteration 13, loss = 0.01766332\n",
            "Iteration 14, loss = 0.01468611\n",
            "Iteration 15, loss = 0.01262712\n",
            "Iteration 16, loss = 0.01071555\n",
            "Iteration 17, loss = 0.00880748\n",
            "Iteration 18, loss = 0.00785948\n",
            "Iteration 19, loss = 0.00644186\n",
            "Iteration 20, loss = 0.00567522\n"
          ],
          "name": "stdout"
        },
        {
          "output_type": "stream",
          "text": [
            "/usr/local/lib/python3.6/dist-packages/sklearn/neural_network/multilayer_perceptron.py:564: ConvergenceWarning: Stochastic Optimizer: Maximum iterations (20) reached and the optimization hasn't converged yet.\n",
            "  % self.max_iter, ConvergenceWarning)\n"
          ],
          "name": "stderr"
        },
        {
          "output_type": "stream",
          "text": [
            "Iteration 1, loss = 0.41317843\n",
            "Iteration 2, loss = 0.18018532\n",
            "Iteration 3, loss = 0.12815324\n",
            "Iteration 4, loss = 0.09811834\n",
            "Iteration 5, loss = 0.07618943\n",
            "Iteration 6, loss = 0.06187196\n",
            "Iteration 7, loss = 0.05239713\n",
            "Iteration 8, loss = 0.04161923\n",
            "Iteration 9, loss = 0.03504119\n",
            "Iteration 10, loss = 0.02924197\n",
            "Iteration 11, loss = 0.02487893\n",
            "Iteration 12, loss = 0.01998121\n",
            "Iteration 13, loss = 0.01675542\n",
            "Iteration 14, loss = 0.01471869\n",
            "Iteration 15, loss = 0.01180785\n",
            "Iteration 16, loss = 0.00966272\n",
            "Iteration 17, loss = 0.00839986\n",
            "Iteration 18, loss = 0.00782263\n",
            "Iteration 19, loss = 0.00644562\n",
            "Iteration 20, loss = 0.00570408\n"
          ],
          "name": "stdout"
        },
        {
          "output_type": "stream",
          "text": [
            "/usr/local/lib/python3.6/dist-packages/sklearn/neural_network/multilayer_perceptron.py:564: ConvergenceWarning: Stochastic Optimizer: Maximum iterations (20) reached and the optimization hasn't converged yet.\n",
            "  % self.max_iter, ConvergenceWarning)\n"
          ],
          "name": "stderr"
        },
        {
          "output_type": "stream",
          "text": [
            "Iteration 1, loss = 0.41869844\n",
            "Iteration 2, loss = 0.19000633\n",
            "Iteration 3, loss = 0.13283812\n",
            "Iteration 4, loss = 0.10196815\n",
            "Iteration 5, loss = 0.08219108\n",
            "Iteration 6, loss = 0.06647845\n",
            "Iteration 7, loss = 0.05460523\n",
            "Iteration 8, loss = 0.04480957\n",
            "Iteration 9, loss = 0.03583448\n",
            "Iteration 10, loss = 0.02989619\n",
            "Iteration 11, loss = 0.02458489\n",
            "Iteration 12, loss = 0.02193719\n",
            "Iteration 13, loss = 0.01724813\n",
            "Iteration 14, loss = 0.01487438\n",
            "Iteration 15, loss = 0.01220901\n",
            "Iteration 16, loss = 0.01064998\n",
            "Iteration 17, loss = 0.00893913\n",
            "Iteration 18, loss = 0.00728716\n",
            "Iteration 19, loss = 0.00630213\n",
            "Iteration 20, loss = 0.00575117\n"
          ],
          "name": "stdout"
        },
        {
          "output_type": "stream",
          "text": [
            "/usr/local/lib/python3.6/dist-packages/sklearn/neural_network/multilayer_perceptron.py:564: ConvergenceWarning: Stochastic Optimizer: Maximum iterations (20) reached and the optimization hasn't converged yet.\n",
            "  % self.max_iter, ConvergenceWarning)\n"
          ],
          "name": "stderr"
        },
        {
          "output_type": "stream",
          "text": [
            "Iteration 1, loss = 0.42050960\n",
            "Iteration 2, loss = 0.18637572\n",
            "Iteration 3, loss = 0.13230732\n",
            "Iteration 4, loss = 0.10102268\n",
            "Iteration 5, loss = 0.08061918\n",
            "Iteration 6, loss = 0.06522477\n",
            "Iteration 7, loss = 0.05362093\n",
            "Iteration 8, loss = 0.04365927\n",
            "Iteration 9, loss = 0.03560527\n",
            "Iteration 10, loss = 0.03034775\n",
            "Iteration 11, loss = 0.02402569\n",
            "Iteration 12, loss = 0.02035348\n",
            "Iteration 13, loss = 0.01702362\n",
            "Iteration 14, loss = 0.01472699\n",
            "Iteration 15, loss = 0.01179026\n",
            "Iteration 16, loss = 0.00987693\n",
            "Iteration 17, loss = 0.00852920\n",
            "Iteration 18, loss = 0.00727846\n",
            "Iteration 19, loss = 0.00657858\n",
            "Iteration 20, loss = 0.00556977\n"
          ],
          "name": "stdout"
        },
        {
          "output_type": "stream",
          "text": [
            "/usr/local/lib/python3.6/dist-packages/sklearn/neural_network/multilayer_perceptron.py:564: ConvergenceWarning: Stochastic Optimizer: Maximum iterations (20) reached and the optimization hasn't converged yet.\n",
            "  % self.max_iter, ConvergenceWarning)\n"
          ],
          "name": "stderr"
        },
        {
          "output_type": "stream",
          "text": [
            "Iteration 1, loss = 0.41821218\n",
            "Iteration 2, loss = 0.18392451\n",
            "Iteration 3, loss = 0.13100497\n",
            "Iteration 4, loss = 0.10049683\n",
            "Iteration 5, loss = 0.07991006\n",
            "Iteration 6, loss = 0.06494857\n",
            "Iteration 7, loss = 0.05457032\n",
            "Iteration 8, loss = 0.04339668\n",
            "Iteration 9, loss = 0.03626685\n",
            "Iteration 10, loss = 0.02968274\n",
            "Iteration 11, loss = 0.02473295\n",
            "Iteration 12, loss = 0.02009614\n",
            "Iteration 13, loss = 0.01663203\n",
            "Iteration 14, loss = 0.01450941\n",
            "Iteration 15, loss = 0.01176221\n",
            "Iteration 16, loss = 0.00977010\n",
            "Iteration 17, loss = 0.00861524\n",
            "Iteration 18, loss = 0.00745560\n",
            "Iteration 19, loss = 0.00636002\n",
            "Iteration 20, loss = 0.00555349\n"
          ],
          "name": "stdout"
        },
        {
          "output_type": "stream",
          "text": [
            "/usr/local/lib/python3.6/dist-packages/sklearn/neural_network/multilayer_perceptron.py:564: ConvergenceWarning: Stochastic Optimizer: Maximum iterations (20) reached and the optimization hasn't converged yet.\n",
            "  % self.max_iter, ConvergenceWarning)\n"
          ],
          "name": "stderr"
        },
        {
          "output_type": "stream",
          "text": [
            "Iteration 1, loss = 0.41284259\n",
            "Iteration 2, loss = 0.18299775\n",
            "Iteration 3, loss = 0.12913305\n",
            "Iteration 4, loss = 0.09940048\n",
            "Iteration 5, loss = 0.08017659\n",
            "Iteration 6, loss = 0.06515145\n",
            "Iteration 7, loss = 0.05219732\n",
            "Iteration 8, loss = 0.04454900\n",
            "Iteration 9, loss = 0.03704586\n",
            "Iteration 10, loss = 0.03030897\n",
            "Iteration 11, loss = 0.02556212\n",
            "Iteration 12, loss = 0.02161851\n",
            "Iteration 13, loss = 0.01766332\n",
            "Iteration 14, loss = 0.01468611\n",
            "Iteration 15, loss = 0.01262712\n",
            "Iteration 16, loss = 0.01071555\n",
            "Iteration 17, loss = 0.00880748\n",
            "Iteration 18, loss = 0.00785948\n",
            "Iteration 19, loss = 0.00644186\n",
            "Iteration 20, loss = 0.00567522\n"
          ],
          "name": "stdout"
        },
        {
          "output_type": "stream",
          "text": [
            "/usr/local/lib/python3.6/dist-packages/sklearn/neural_network/multilayer_perceptron.py:564: ConvergenceWarning: Stochastic Optimizer: Maximum iterations (20) reached and the optimization hasn't converged yet.\n",
            "  % self.max_iter, ConvergenceWarning)\n"
          ],
          "name": "stderr"
        },
        {
          "output_type": "stream",
          "text": [
            "Iteration 1, loss = 0.85827831\n",
            "Iteration 2, loss = 0.37711364\n",
            "Iteration 3, loss = 0.32217302\n",
            "Iteration 4, loss = 0.29240735\n",
            "Iteration 5, loss = 0.27014206\n",
            "Iteration 6, loss = 0.25216971\n",
            "Iteration 7, loss = 0.23647514\n",
            "Iteration 8, loss = 0.22269877\n",
            "Iteration 9, loss = 0.21030748\n",
            "Iteration 10, loss = 0.19860596\n"
          ],
          "name": "stdout"
        },
        {
          "output_type": "stream",
          "text": [
            "/usr/local/lib/python3.6/dist-packages/sklearn/neural_network/multilayer_perceptron.py:564: ConvergenceWarning: Stochastic Optimizer: Maximum iterations (10) reached and the optimization hasn't converged yet.\n",
            "  % self.max_iter, ConvergenceWarning)\n"
          ],
          "name": "stderr"
        },
        {
          "output_type": "stream",
          "text": [
            "Iteration 1, loss = 0.85971416\n",
            "Iteration 2, loss = 0.38053372\n",
            "Iteration 3, loss = 0.32651047\n",
            "Iteration 4, loss = 0.29641672\n",
            "Iteration 5, loss = 0.27451804\n",
            "Iteration 6, loss = 0.25758569\n",
            "Iteration 7, loss = 0.24163738\n",
            "Iteration 8, loss = 0.22817181\n",
            "Iteration 9, loss = 0.21545757\n",
            "Iteration 10, loss = 0.20496082\n"
          ],
          "name": "stdout"
        },
        {
          "output_type": "stream",
          "text": [
            "/usr/local/lib/python3.6/dist-packages/sklearn/neural_network/multilayer_perceptron.py:564: ConvergenceWarning: Stochastic Optimizer: Maximum iterations (10) reached and the optimization hasn't converged yet.\n",
            "  % self.max_iter, ConvergenceWarning)\n"
          ],
          "name": "stderr"
        },
        {
          "output_type": "stream",
          "text": [
            "Iteration 1, loss = 0.85834701\n",
            "Iteration 2, loss = 0.38226587\n",
            "Iteration 3, loss = 0.32885579\n",
            "Iteration 4, loss = 0.29797368\n",
            "Iteration 5, loss = 0.27534892\n",
            "Iteration 6, loss = 0.25673005\n",
            "Iteration 7, loss = 0.24135984\n",
            "Iteration 8, loss = 0.22701362\n",
            "Iteration 9, loss = 0.21454767\n",
            "Iteration 10, loss = 0.20281816\n"
          ],
          "name": "stdout"
        },
        {
          "output_type": "stream",
          "text": [
            "/usr/local/lib/python3.6/dist-packages/sklearn/neural_network/multilayer_perceptron.py:564: ConvergenceWarning: Stochastic Optimizer: Maximum iterations (10) reached and the optimization hasn't converged yet.\n",
            "  % self.max_iter, ConvergenceWarning)\n"
          ],
          "name": "stderr"
        },
        {
          "output_type": "stream",
          "text": [
            "Iteration 1, loss = 0.86032489\n",
            "Iteration 2, loss = 0.38011769\n",
            "Iteration 3, loss = 0.32541725\n",
            "Iteration 4, loss = 0.29462132\n",
            "Iteration 5, loss = 0.27232082\n",
            "Iteration 6, loss = 0.25473466\n",
            "Iteration 7, loss = 0.23911343\n",
            "Iteration 8, loss = 0.22533947\n",
            "Iteration 9, loss = 0.21230277\n",
            "Iteration 10, loss = 0.20118337\n"
          ],
          "name": "stdout"
        },
        {
          "output_type": "stream",
          "text": [
            "/usr/local/lib/python3.6/dist-packages/sklearn/neural_network/multilayer_perceptron.py:564: ConvergenceWarning: Stochastic Optimizer: Maximum iterations (10) reached and the optimization hasn't converged yet.\n",
            "  % self.max_iter, ConvergenceWarning)\n"
          ],
          "name": "stderr"
        },
        {
          "output_type": "stream",
          "text": [
            "Iteration 1, loss = 0.85664118\n",
            "Iteration 2, loss = 0.37889649\n",
            "Iteration 3, loss = 0.32440270\n",
            "Iteration 4, loss = 0.29354262\n",
            "Iteration 5, loss = 0.27129910\n",
            "Iteration 6, loss = 0.25257948\n",
            "Iteration 7, loss = 0.23693658\n",
            "Iteration 8, loss = 0.22244958\n",
            "Iteration 9, loss = 0.21040981\n",
            "Iteration 10, loss = 0.19928695\n"
          ],
          "name": "stdout"
        },
        {
          "output_type": "stream",
          "text": [
            "/usr/local/lib/python3.6/dist-packages/sklearn/neural_network/multilayer_perceptron.py:564: ConvergenceWarning: Stochastic Optimizer: Maximum iterations (10) reached and the optimization hasn't converged yet.\n",
            "  % self.max_iter, ConvergenceWarning)\n"
          ],
          "name": "stderr"
        },
        {
          "output_type": "stream",
          "text": [
            "Iteration 1, loss = 0.85827831\n",
            "Iteration 2, loss = 0.37711364\n",
            "Iteration 3, loss = 0.32217302\n",
            "Iteration 4, loss = 0.29240735\n",
            "Iteration 5, loss = 0.27014206\n",
            "Iteration 6, loss = 0.25216971\n",
            "Iteration 7, loss = 0.23647514\n",
            "Iteration 8, loss = 0.22269877\n",
            "Iteration 9, loss = 0.21030748\n",
            "Iteration 10, loss = 0.19860596\n"
          ],
          "name": "stdout"
        },
        {
          "output_type": "stream",
          "text": [
            "/usr/local/lib/python3.6/dist-packages/sklearn/neural_network/multilayer_perceptron.py:564: ConvergenceWarning: Stochastic Optimizer: Maximum iterations (10) reached and the optimization hasn't converged yet.\n",
            "  % self.max_iter, ConvergenceWarning)\n"
          ],
          "name": "stderr"
        },
        {
          "output_type": "stream",
          "text": [
            "Iteration 1, loss = 0.85971416\n",
            "Iteration 2, loss = 0.38053372\n",
            "Iteration 3, loss = 0.32651047\n",
            "Iteration 4, loss = 0.29641672\n",
            "Iteration 5, loss = 0.27451804\n",
            "Iteration 6, loss = 0.25758569\n",
            "Iteration 7, loss = 0.24163738\n",
            "Iteration 8, loss = 0.22817181\n",
            "Iteration 9, loss = 0.21545757\n",
            "Iteration 10, loss = 0.20496082\n"
          ],
          "name": "stdout"
        },
        {
          "output_type": "stream",
          "text": [
            "/usr/local/lib/python3.6/dist-packages/sklearn/neural_network/multilayer_perceptron.py:564: ConvergenceWarning: Stochastic Optimizer: Maximum iterations (10) reached and the optimization hasn't converged yet.\n",
            "  % self.max_iter, ConvergenceWarning)\n"
          ],
          "name": "stderr"
        },
        {
          "output_type": "stream",
          "text": [
            "Iteration 1, loss = 0.85834701\n",
            "Iteration 2, loss = 0.38226587\n",
            "Iteration 3, loss = 0.32885579\n",
            "Iteration 4, loss = 0.29797368\n",
            "Iteration 5, loss = 0.27534892\n",
            "Iteration 6, loss = 0.25673005\n",
            "Iteration 7, loss = 0.24135984\n",
            "Iteration 8, loss = 0.22701362\n",
            "Iteration 9, loss = 0.21454767\n",
            "Iteration 10, loss = 0.20281816\n"
          ],
          "name": "stdout"
        },
        {
          "output_type": "stream",
          "text": [
            "/usr/local/lib/python3.6/dist-packages/sklearn/neural_network/multilayer_perceptron.py:564: ConvergenceWarning: Stochastic Optimizer: Maximum iterations (10) reached and the optimization hasn't converged yet.\n",
            "  % self.max_iter, ConvergenceWarning)\n"
          ],
          "name": "stderr"
        },
        {
          "output_type": "stream",
          "text": [
            "Iteration 1, loss = 0.86032489\n",
            "Iteration 2, loss = 0.38011769\n",
            "Iteration 3, loss = 0.32541725\n",
            "Iteration 4, loss = 0.29462132\n",
            "Iteration 5, loss = 0.27232082\n",
            "Iteration 6, loss = 0.25473466\n",
            "Iteration 7, loss = 0.23911343\n",
            "Iteration 8, loss = 0.22533947\n",
            "Iteration 9, loss = 0.21230277\n",
            "Iteration 10, loss = 0.20118337\n"
          ],
          "name": "stdout"
        },
        {
          "output_type": "stream",
          "text": [
            "/usr/local/lib/python3.6/dist-packages/sklearn/neural_network/multilayer_perceptron.py:564: ConvergenceWarning: Stochastic Optimizer: Maximum iterations (10) reached and the optimization hasn't converged yet.\n",
            "  % self.max_iter, ConvergenceWarning)\n"
          ],
          "name": "stderr"
        },
        {
          "output_type": "stream",
          "text": [
            "Iteration 1, loss = 0.85664118\n",
            "Iteration 2, loss = 0.37889649\n",
            "Iteration 3, loss = 0.32440270\n",
            "Iteration 4, loss = 0.29354262\n",
            "Iteration 5, loss = 0.27129910\n",
            "Iteration 6, loss = 0.25257948\n",
            "Iteration 7, loss = 0.23693658\n",
            "Iteration 8, loss = 0.22244958\n",
            "Iteration 9, loss = 0.21040981\n",
            "Iteration 10, loss = 0.19928695\n"
          ],
          "name": "stdout"
        },
        {
          "output_type": "stream",
          "text": [
            "/usr/local/lib/python3.6/dist-packages/sklearn/neural_network/multilayer_perceptron.py:564: ConvergenceWarning: Stochastic Optimizer: Maximum iterations (10) reached and the optimization hasn't converged yet.\n",
            "  % self.max_iter, ConvergenceWarning)\n"
          ],
          "name": "stderr"
        },
        {
          "output_type": "stream",
          "text": [
            "Iteration 1, loss = 0.85600945\n",
            "Iteration 2, loss = 0.36915734\n",
            "Iteration 3, loss = 0.31139113\n",
            "Iteration 4, loss = 0.27916368\n",
            "Iteration 5, loss = 0.25561454\n",
            "Iteration 6, loss = 0.23666516\n",
            "Iteration 7, loss = 0.22100881\n",
            "Iteration 8, loss = 0.20766302\n",
            "Iteration 9, loss = 0.19572565\n",
            "Iteration 10, loss = 0.18563552\n"
          ],
          "name": "stdout"
        },
        {
          "output_type": "stream",
          "text": [
            "/usr/local/lib/python3.6/dist-packages/sklearn/neural_network/multilayer_perceptron.py:564: ConvergenceWarning: Stochastic Optimizer: Maximum iterations (10) reached and the optimization hasn't converged yet.\n",
            "  % self.max_iter, ConvergenceWarning)\n"
          ],
          "name": "stderr"
        },
        {
          "output_type": "stream",
          "text": [
            "Iteration 1, loss = 0.85583821\n",
            "Iteration 2, loss = 0.37257625\n",
            "Iteration 3, loss = 0.31614510\n",
            "Iteration 4, loss = 0.28393638\n",
            "Iteration 5, loss = 0.26130211\n",
            "Iteration 6, loss = 0.24292308\n",
            "Iteration 7, loss = 0.22738659\n",
            "Iteration 8, loss = 0.21361594\n",
            "Iteration 9, loss = 0.20174359\n",
            "Iteration 10, loss = 0.19035224\n"
          ],
          "name": "stdout"
        },
        {
          "output_type": "stream",
          "text": [
            "/usr/local/lib/python3.6/dist-packages/sklearn/neural_network/multilayer_perceptron.py:564: ConvergenceWarning: Stochastic Optimizer: Maximum iterations (10) reached and the optimization hasn't converged yet.\n",
            "  % self.max_iter, ConvergenceWarning)\n"
          ],
          "name": "stderr"
        },
        {
          "output_type": "stream",
          "text": [
            "Iteration 1, loss = 0.85804922\n",
            "Iteration 2, loss = 0.37560634\n",
            "Iteration 3, loss = 0.31722131\n",
            "Iteration 4, loss = 0.28493787\n",
            "Iteration 5, loss = 0.26124792\n",
            "Iteration 6, loss = 0.24214767\n",
            "Iteration 7, loss = 0.22565476\n",
            "Iteration 8, loss = 0.21239585\n",
            "Iteration 9, loss = 0.20069676\n",
            "Iteration 10, loss = 0.18976070\n"
          ],
          "name": "stdout"
        },
        {
          "output_type": "stream",
          "text": [
            "/usr/local/lib/python3.6/dist-packages/sklearn/neural_network/multilayer_perceptron.py:564: ConvergenceWarning: Stochastic Optimizer: Maximum iterations (10) reached and the optimization hasn't converged yet.\n",
            "  % self.max_iter, ConvergenceWarning)\n"
          ],
          "name": "stderr"
        },
        {
          "output_type": "stream",
          "text": [
            "Iteration 1, loss = 0.85953346\n",
            "Iteration 2, loss = 0.37269392\n",
            "Iteration 3, loss = 0.31426381\n",
            "Iteration 4, loss = 0.28171205\n",
            "Iteration 5, loss = 0.25823962\n",
            "Iteration 6, loss = 0.23938164\n",
            "Iteration 7, loss = 0.22364820\n",
            "Iteration 8, loss = 0.21024969\n",
            "Iteration 9, loss = 0.19808693\n",
            "Iteration 10, loss = 0.18743013\n"
          ],
          "name": "stdout"
        },
        {
          "output_type": "stream",
          "text": [
            "/usr/local/lib/python3.6/dist-packages/sklearn/neural_network/multilayer_perceptron.py:564: ConvergenceWarning: Stochastic Optimizer: Maximum iterations (10) reached and the optimization hasn't converged yet.\n",
            "  % self.max_iter, ConvergenceWarning)\n"
          ],
          "name": "stderr"
        },
        {
          "output_type": "stream",
          "text": [
            "Iteration 1, loss = 0.85623274\n",
            "Iteration 2, loss = 0.37180149\n",
            "Iteration 3, loss = 0.31352967\n",
            "Iteration 4, loss = 0.28131732\n",
            "Iteration 5, loss = 0.25779223\n",
            "Iteration 6, loss = 0.23878191\n",
            "Iteration 7, loss = 0.22179117\n",
            "Iteration 8, loss = 0.20813974\n",
            "Iteration 9, loss = 0.19591490\n",
            "Iteration 10, loss = 0.18562337\n"
          ],
          "name": "stdout"
        },
        {
          "output_type": "stream",
          "text": [
            "/usr/local/lib/python3.6/dist-packages/sklearn/neural_network/multilayer_perceptron.py:564: ConvergenceWarning: Stochastic Optimizer: Maximum iterations (10) reached and the optimization hasn't converged yet.\n",
            "  % self.max_iter, ConvergenceWarning)\n"
          ],
          "name": "stderr"
        },
        {
          "output_type": "stream",
          "text": [
            "Iteration 1, loss = 0.85600945\n",
            "Iteration 2, loss = 0.36915734\n",
            "Iteration 3, loss = 0.31139113\n",
            "Iteration 4, loss = 0.27916368\n",
            "Iteration 5, loss = 0.25561454\n",
            "Iteration 6, loss = 0.23666516\n",
            "Iteration 7, loss = 0.22100881\n",
            "Iteration 8, loss = 0.20766302\n",
            "Iteration 9, loss = 0.19572565\n",
            "Iteration 10, loss = 0.18563552\n"
          ],
          "name": "stdout"
        },
        {
          "output_type": "stream",
          "text": [
            "/usr/local/lib/python3.6/dist-packages/sklearn/neural_network/multilayer_perceptron.py:564: ConvergenceWarning: Stochastic Optimizer: Maximum iterations (10) reached and the optimization hasn't converged yet.\n",
            "  % self.max_iter, ConvergenceWarning)\n"
          ],
          "name": "stderr"
        },
        {
          "output_type": "stream",
          "text": [
            "Iteration 1, loss = 0.85583821\n",
            "Iteration 2, loss = 0.37257625\n",
            "Iteration 3, loss = 0.31614510\n",
            "Iteration 4, loss = 0.28393638\n",
            "Iteration 5, loss = 0.26130211\n",
            "Iteration 6, loss = 0.24292308\n",
            "Iteration 7, loss = 0.22738659\n",
            "Iteration 8, loss = 0.21361594\n",
            "Iteration 9, loss = 0.20174359\n",
            "Iteration 10, loss = 0.19035224\n"
          ],
          "name": "stdout"
        },
        {
          "output_type": "stream",
          "text": [
            "/usr/local/lib/python3.6/dist-packages/sklearn/neural_network/multilayer_perceptron.py:564: ConvergenceWarning: Stochastic Optimizer: Maximum iterations (10) reached and the optimization hasn't converged yet.\n",
            "  % self.max_iter, ConvergenceWarning)\n"
          ],
          "name": "stderr"
        },
        {
          "output_type": "stream",
          "text": [
            "Iteration 1, loss = 0.85804922\n",
            "Iteration 2, loss = 0.37560634\n",
            "Iteration 3, loss = 0.31722131\n",
            "Iteration 4, loss = 0.28493787\n",
            "Iteration 5, loss = 0.26124792\n",
            "Iteration 6, loss = 0.24214767\n",
            "Iteration 7, loss = 0.22565476\n",
            "Iteration 8, loss = 0.21239585\n",
            "Iteration 9, loss = 0.20069676\n",
            "Iteration 10, loss = 0.18976070\n"
          ],
          "name": "stdout"
        },
        {
          "output_type": "stream",
          "text": [
            "/usr/local/lib/python3.6/dist-packages/sklearn/neural_network/multilayer_perceptron.py:564: ConvergenceWarning: Stochastic Optimizer: Maximum iterations (10) reached and the optimization hasn't converged yet.\n",
            "  % self.max_iter, ConvergenceWarning)\n"
          ],
          "name": "stderr"
        },
        {
          "output_type": "stream",
          "text": [
            "Iteration 1, loss = 0.85953346\n",
            "Iteration 2, loss = 0.37269392\n",
            "Iteration 3, loss = 0.31426381\n",
            "Iteration 4, loss = 0.28171205\n",
            "Iteration 5, loss = 0.25823962\n",
            "Iteration 6, loss = 0.23938164\n",
            "Iteration 7, loss = 0.22364820\n",
            "Iteration 8, loss = 0.21024969\n",
            "Iteration 9, loss = 0.19808693\n",
            "Iteration 10, loss = 0.18743013\n"
          ],
          "name": "stdout"
        },
        {
          "output_type": "stream",
          "text": [
            "/usr/local/lib/python3.6/dist-packages/sklearn/neural_network/multilayer_perceptron.py:564: ConvergenceWarning: Stochastic Optimizer: Maximum iterations (10) reached and the optimization hasn't converged yet.\n",
            "  % self.max_iter, ConvergenceWarning)\n"
          ],
          "name": "stderr"
        },
        {
          "output_type": "stream",
          "text": [
            "Iteration 1, loss = 0.85623274\n",
            "Iteration 2, loss = 0.37180149\n",
            "Iteration 3, loss = 0.31352967\n",
            "Iteration 4, loss = 0.28131732\n",
            "Iteration 5, loss = 0.25779223\n",
            "Iteration 6, loss = 0.23878191\n",
            "Iteration 7, loss = 0.22179117\n",
            "Iteration 8, loss = 0.20813974\n",
            "Iteration 9, loss = 0.19591490\n",
            "Iteration 10, loss = 0.18562337\n"
          ],
          "name": "stdout"
        },
        {
          "output_type": "stream",
          "text": [
            "/usr/local/lib/python3.6/dist-packages/sklearn/neural_network/multilayer_perceptron.py:564: ConvergenceWarning: Stochastic Optimizer: Maximum iterations (10) reached and the optimization hasn't converged yet.\n",
            "  % self.max_iter, ConvergenceWarning)\n"
          ],
          "name": "stderr"
        },
        {
          "output_type": "stream",
          "text": [
            "Iteration 1, loss = 0.85827831\n",
            "Iteration 2, loss = 0.37711364\n",
            "Iteration 3, loss = 0.32217302\n",
            "Iteration 4, loss = 0.29240735\n",
            "Iteration 5, loss = 0.27014206\n",
            "Iteration 6, loss = 0.25216971\n",
            "Iteration 7, loss = 0.23647514\n",
            "Iteration 8, loss = 0.22269877\n",
            "Iteration 9, loss = 0.21030748\n",
            "Iteration 10, loss = 0.19860596\n",
            "Iteration 11, loss = 0.18848349\n",
            "Iteration 12, loss = 0.17944119\n",
            "Iteration 13, loss = 0.17097910\n",
            "Iteration 14, loss = 0.16342700\n",
            "Iteration 15, loss = 0.15567424\n",
            "Iteration 16, loss = 0.14905003\n",
            "Iteration 17, loss = 0.14293814\n",
            "Iteration 18, loss = 0.13754563\n",
            "Iteration 19, loss = 0.13237783\n",
            "Iteration 20, loss = 0.12704065\n"
          ],
          "name": "stdout"
        },
        {
          "output_type": "stream",
          "text": [
            "/usr/local/lib/python3.6/dist-packages/sklearn/neural_network/multilayer_perceptron.py:564: ConvergenceWarning: Stochastic Optimizer: Maximum iterations (20) reached and the optimization hasn't converged yet.\n",
            "  % self.max_iter, ConvergenceWarning)\n"
          ],
          "name": "stderr"
        },
        {
          "output_type": "stream",
          "text": [
            "Iteration 1, loss = 0.85971416\n",
            "Iteration 2, loss = 0.38053372\n",
            "Iteration 3, loss = 0.32651047\n",
            "Iteration 4, loss = 0.29641672\n",
            "Iteration 5, loss = 0.27451804\n",
            "Iteration 6, loss = 0.25758569\n",
            "Iteration 7, loss = 0.24163738\n",
            "Iteration 8, loss = 0.22817181\n",
            "Iteration 9, loss = 0.21545757\n",
            "Iteration 10, loss = 0.20496082\n",
            "Iteration 11, loss = 0.19478362\n",
            "Iteration 12, loss = 0.18549546\n",
            "Iteration 13, loss = 0.17715089\n",
            "Iteration 14, loss = 0.16903497\n",
            "Iteration 15, loss = 0.16170022\n",
            "Iteration 16, loss = 0.15475582\n",
            "Iteration 17, loss = 0.14859799\n",
            "Iteration 18, loss = 0.14252689\n",
            "Iteration 19, loss = 0.13738921\n",
            "Iteration 20, loss = 0.13165038\n"
          ],
          "name": "stdout"
        },
        {
          "output_type": "stream",
          "text": [
            "/usr/local/lib/python3.6/dist-packages/sklearn/neural_network/multilayer_perceptron.py:564: ConvergenceWarning: Stochastic Optimizer: Maximum iterations (20) reached and the optimization hasn't converged yet.\n",
            "  % self.max_iter, ConvergenceWarning)\n"
          ],
          "name": "stderr"
        },
        {
          "output_type": "stream",
          "text": [
            "Iteration 1, loss = 0.85834701\n",
            "Iteration 2, loss = 0.38226587\n",
            "Iteration 3, loss = 0.32885579\n",
            "Iteration 4, loss = 0.29797368\n",
            "Iteration 5, loss = 0.27534892\n",
            "Iteration 6, loss = 0.25673005\n",
            "Iteration 7, loss = 0.24135984\n",
            "Iteration 8, loss = 0.22701362\n",
            "Iteration 9, loss = 0.21454767\n",
            "Iteration 10, loss = 0.20281816\n",
            "Iteration 11, loss = 0.19234458\n",
            "Iteration 12, loss = 0.18301598\n",
            "Iteration 13, loss = 0.17483276\n",
            "Iteration 14, loss = 0.16665900\n",
            "Iteration 15, loss = 0.15936842\n",
            "Iteration 16, loss = 0.15292724\n",
            "Iteration 17, loss = 0.14688074\n",
            "Iteration 18, loss = 0.14066946\n",
            "Iteration 19, loss = 0.13581455\n",
            "Iteration 20, loss = 0.12983654\n"
          ],
          "name": "stdout"
        },
        {
          "output_type": "stream",
          "text": [
            "/usr/local/lib/python3.6/dist-packages/sklearn/neural_network/multilayer_perceptron.py:564: ConvergenceWarning: Stochastic Optimizer: Maximum iterations (20) reached and the optimization hasn't converged yet.\n",
            "  % self.max_iter, ConvergenceWarning)\n"
          ],
          "name": "stderr"
        },
        {
          "output_type": "stream",
          "text": [
            "Iteration 1, loss = 0.86032489\n",
            "Iteration 2, loss = 0.38011769\n",
            "Iteration 3, loss = 0.32541725\n",
            "Iteration 4, loss = 0.29462132\n",
            "Iteration 5, loss = 0.27232082\n",
            "Iteration 6, loss = 0.25473466\n",
            "Iteration 7, loss = 0.23911343\n",
            "Iteration 8, loss = 0.22533947\n",
            "Iteration 9, loss = 0.21230277\n",
            "Iteration 10, loss = 0.20118337\n",
            "Iteration 11, loss = 0.19134091\n",
            "Iteration 12, loss = 0.18172009\n",
            "Iteration 13, loss = 0.17348384\n",
            "Iteration 14, loss = 0.16517072\n",
            "Iteration 15, loss = 0.15786252\n",
            "Iteration 16, loss = 0.15112763\n",
            "Iteration 17, loss = 0.14529310\n",
            "Iteration 18, loss = 0.13953217\n",
            "Iteration 19, loss = 0.13362064\n",
            "Iteration 20, loss = 0.12909923\n"
          ],
          "name": "stdout"
        },
        {
          "output_type": "stream",
          "text": [
            "/usr/local/lib/python3.6/dist-packages/sklearn/neural_network/multilayer_perceptron.py:564: ConvergenceWarning: Stochastic Optimizer: Maximum iterations (20) reached and the optimization hasn't converged yet.\n",
            "  % self.max_iter, ConvergenceWarning)\n"
          ],
          "name": "stderr"
        },
        {
          "output_type": "stream",
          "text": [
            "Iteration 1, loss = 0.85664118\n",
            "Iteration 2, loss = 0.37889649\n",
            "Iteration 3, loss = 0.32440270\n",
            "Iteration 4, loss = 0.29354262\n",
            "Iteration 5, loss = 0.27129910\n",
            "Iteration 6, loss = 0.25257948\n",
            "Iteration 7, loss = 0.23693658\n",
            "Iteration 8, loss = 0.22244958\n",
            "Iteration 9, loss = 0.21040981\n",
            "Iteration 10, loss = 0.19928695\n",
            "Iteration 11, loss = 0.18896135\n",
            "Iteration 12, loss = 0.17946031\n",
            "Iteration 13, loss = 0.17108346\n",
            "Iteration 14, loss = 0.16292187\n",
            "Iteration 15, loss = 0.15574813\n",
            "Iteration 16, loss = 0.14858506\n",
            "Iteration 17, loss = 0.14268522\n",
            "Iteration 18, loss = 0.13672590\n",
            "Iteration 19, loss = 0.13118335\n",
            "Iteration 20, loss = 0.12630655\n"
          ],
          "name": "stdout"
        },
        {
          "output_type": "stream",
          "text": [
            "/usr/local/lib/python3.6/dist-packages/sklearn/neural_network/multilayer_perceptron.py:564: ConvergenceWarning: Stochastic Optimizer: Maximum iterations (20) reached and the optimization hasn't converged yet.\n",
            "  % self.max_iter, ConvergenceWarning)\n"
          ],
          "name": "stderr"
        },
        {
          "output_type": "stream",
          "text": [
            "Iteration 1, loss = 0.85827831\n",
            "Iteration 2, loss = 0.37711364\n",
            "Iteration 3, loss = 0.32217302\n",
            "Iteration 4, loss = 0.29240735\n",
            "Iteration 5, loss = 0.27014206\n",
            "Iteration 6, loss = 0.25216971\n",
            "Iteration 7, loss = 0.23647514\n",
            "Iteration 8, loss = 0.22269877\n",
            "Iteration 9, loss = 0.21030748\n",
            "Iteration 10, loss = 0.19860596\n",
            "Iteration 11, loss = 0.18848349\n",
            "Iteration 12, loss = 0.17944119\n",
            "Iteration 13, loss = 0.17097910\n",
            "Iteration 14, loss = 0.16342700\n",
            "Iteration 15, loss = 0.15567424\n",
            "Iteration 16, loss = 0.14905003\n",
            "Iteration 17, loss = 0.14293814\n",
            "Iteration 18, loss = 0.13754563\n",
            "Iteration 19, loss = 0.13237783\n",
            "Iteration 20, loss = 0.12704065\n"
          ],
          "name": "stdout"
        },
        {
          "output_type": "stream",
          "text": [
            "/usr/local/lib/python3.6/dist-packages/sklearn/neural_network/multilayer_perceptron.py:564: ConvergenceWarning: Stochastic Optimizer: Maximum iterations (20) reached and the optimization hasn't converged yet.\n",
            "  % self.max_iter, ConvergenceWarning)\n"
          ],
          "name": "stderr"
        },
        {
          "output_type": "stream",
          "text": [
            "Iteration 1, loss = 0.85971416\n",
            "Iteration 2, loss = 0.38053372\n",
            "Iteration 3, loss = 0.32651047\n",
            "Iteration 4, loss = 0.29641672\n",
            "Iteration 5, loss = 0.27451804\n",
            "Iteration 6, loss = 0.25758569\n",
            "Iteration 7, loss = 0.24163738\n",
            "Iteration 8, loss = 0.22817181\n",
            "Iteration 9, loss = 0.21545757\n",
            "Iteration 10, loss = 0.20496082\n",
            "Iteration 11, loss = 0.19478362\n",
            "Iteration 12, loss = 0.18549546\n",
            "Iteration 13, loss = 0.17715089\n",
            "Iteration 14, loss = 0.16903497\n",
            "Iteration 15, loss = 0.16170022\n",
            "Iteration 16, loss = 0.15475582\n",
            "Iteration 17, loss = 0.14859799\n",
            "Iteration 18, loss = 0.14252689\n",
            "Iteration 19, loss = 0.13738921\n",
            "Iteration 20, loss = 0.13165038\n"
          ],
          "name": "stdout"
        },
        {
          "output_type": "stream",
          "text": [
            "/usr/local/lib/python3.6/dist-packages/sklearn/neural_network/multilayer_perceptron.py:564: ConvergenceWarning: Stochastic Optimizer: Maximum iterations (20) reached and the optimization hasn't converged yet.\n",
            "  % self.max_iter, ConvergenceWarning)\n"
          ],
          "name": "stderr"
        },
        {
          "output_type": "stream",
          "text": [
            "Iteration 1, loss = 0.85834701\n",
            "Iteration 2, loss = 0.38226587\n",
            "Iteration 3, loss = 0.32885579\n",
            "Iteration 4, loss = 0.29797368\n",
            "Iteration 5, loss = 0.27534892\n",
            "Iteration 6, loss = 0.25673005\n",
            "Iteration 7, loss = 0.24135984\n",
            "Iteration 8, loss = 0.22701362\n",
            "Iteration 9, loss = 0.21454767\n",
            "Iteration 10, loss = 0.20281816\n",
            "Iteration 11, loss = 0.19234458\n",
            "Iteration 12, loss = 0.18301598\n",
            "Iteration 13, loss = 0.17483276\n",
            "Iteration 14, loss = 0.16665900\n",
            "Iteration 15, loss = 0.15936842\n",
            "Iteration 16, loss = 0.15292724\n",
            "Iteration 17, loss = 0.14688074\n",
            "Iteration 18, loss = 0.14066946\n",
            "Iteration 19, loss = 0.13581455\n",
            "Iteration 20, loss = 0.12983654\n"
          ],
          "name": "stdout"
        },
        {
          "output_type": "stream",
          "text": [
            "/usr/local/lib/python3.6/dist-packages/sklearn/neural_network/multilayer_perceptron.py:564: ConvergenceWarning: Stochastic Optimizer: Maximum iterations (20) reached and the optimization hasn't converged yet.\n",
            "  % self.max_iter, ConvergenceWarning)\n"
          ],
          "name": "stderr"
        },
        {
          "output_type": "stream",
          "text": [
            "Iteration 1, loss = 0.86032489\n",
            "Iteration 2, loss = 0.38011769\n",
            "Iteration 3, loss = 0.32541725\n",
            "Iteration 4, loss = 0.29462132\n",
            "Iteration 5, loss = 0.27232082\n",
            "Iteration 6, loss = 0.25473466\n",
            "Iteration 7, loss = 0.23911343\n",
            "Iteration 8, loss = 0.22533947\n",
            "Iteration 9, loss = 0.21230277\n",
            "Iteration 10, loss = 0.20118337\n",
            "Iteration 11, loss = 0.19134091\n",
            "Iteration 12, loss = 0.18172009\n",
            "Iteration 13, loss = 0.17348384\n",
            "Iteration 14, loss = 0.16517072\n",
            "Iteration 15, loss = 0.15786252\n",
            "Iteration 16, loss = 0.15112763\n",
            "Iteration 17, loss = 0.14529310\n",
            "Iteration 18, loss = 0.13953217\n",
            "Iteration 19, loss = 0.13362064\n",
            "Iteration 20, loss = 0.12909923\n"
          ],
          "name": "stdout"
        },
        {
          "output_type": "stream",
          "text": [
            "/usr/local/lib/python3.6/dist-packages/sklearn/neural_network/multilayer_perceptron.py:564: ConvergenceWarning: Stochastic Optimizer: Maximum iterations (20) reached and the optimization hasn't converged yet.\n",
            "  % self.max_iter, ConvergenceWarning)\n"
          ],
          "name": "stderr"
        },
        {
          "output_type": "stream",
          "text": [
            "Iteration 1, loss = 0.85664118\n",
            "Iteration 2, loss = 0.37889649\n",
            "Iteration 3, loss = 0.32440270\n",
            "Iteration 4, loss = 0.29354262\n",
            "Iteration 5, loss = 0.27129910\n",
            "Iteration 6, loss = 0.25257948\n",
            "Iteration 7, loss = 0.23693658\n",
            "Iteration 8, loss = 0.22244958\n",
            "Iteration 9, loss = 0.21040981\n",
            "Iteration 10, loss = 0.19928695\n",
            "Iteration 11, loss = 0.18896135\n",
            "Iteration 12, loss = 0.17946031\n",
            "Iteration 13, loss = 0.17108346\n",
            "Iteration 14, loss = 0.16292187\n",
            "Iteration 15, loss = 0.15574813\n",
            "Iteration 16, loss = 0.14858506\n",
            "Iteration 17, loss = 0.14268522\n",
            "Iteration 18, loss = 0.13672590\n",
            "Iteration 19, loss = 0.13118335\n",
            "Iteration 20, loss = 0.12630655\n"
          ],
          "name": "stdout"
        },
        {
          "output_type": "stream",
          "text": [
            "/usr/local/lib/python3.6/dist-packages/sklearn/neural_network/multilayer_perceptron.py:564: ConvergenceWarning: Stochastic Optimizer: Maximum iterations (20) reached and the optimization hasn't converged yet.\n",
            "  % self.max_iter, ConvergenceWarning)\n"
          ],
          "name": "stderr"
        },
        {
          "output_type": "stream",
          "text": [
            "Iteration 1, loss = 0.85600945\n",
            "Iteration 2, loss = 0.36915734\n",
            "Iteration 3, loss = 0.31139113\n",
            "Iteration 4, loss = 0.27916368\n",
            "Iteration 5, loss = 0.25561454\n",
            "Iteration 6, loss = 0.23666516\n",
            "Iteration 7, loss = 0.22100881\n",
            "Iteration 8, loss = 0.20766302\n",
            "Iteration 9, loss = 0.19572565\n",
            "Iteration 10, loss = 0.18563552\n",
            "Iteration 11, loss = 0.17620228\n",
            "Iteration 12, loss = 0.16671055\n",
            "Iteration 13, loss = 0.15931780\n",
            "Iteration 14, loss = 0.15253452\n",
            "Iteration 15, loss = 0.14488332\n",
            "Iteration 16, loss = 0.13912866\n",
            "Iteration 17, loss = 0.13401032\n",
            "Iteration 18, loss = 0.12850576\n",
            "Iteration 19, loss = 0.12312665\n",
            "Iteration 20, loss = 0.11902894\n"
          ],
          "name": "stdout"
        },
        {
          "output_type": "stream",
          "text": [
            "/usr/local/lib/python3.6/dist-packages/sklearn/neural_network/multilayer_perceptron.py:564: ConvergenceWarning: Stochastic Optimizer: Maximum iterations (20) reached and the optimization hasn't converged yet.\n",
            "  % self.max_iter, ConvergenceWarning)\n"
          ],
          "name": "stderr"
        },
        {
          "output_type": "stream",
          "text": [
            "Iteration 1, loss = 0.85583821\n",
            "Iteration 2, loss = 0.37257625\n",
            "Iteration 3, loss = 0.31614510\n",
            "Iteration 4, loss = 0.28393638\n",
            "Iteration 5, loss = 0.26130211\n",
            "Iteration 6, loss = 0.24292308\n",
            "Iteration 7, loss = 0.22738659\n",
            "Iteration 8, loss = 0.21361594\n",
            "Iteration 9, loss = 0.20174359\n",
            "Iteration 10, loss = 0.19035224\n",
            "Iteration 11, loss = 0.18131102\n",
            "Iteration 12, loss = 0.17212891\n",
            "Iteration 13, loss = 0.16398143\n",
            "Iteration 14, loss = 0.15687676\n",
            "Iteration 15, loss = 0.14931548\n",
            "Iteration 16, loss = 0.14306376\n",
            "Iteration 17, loss = 0.13725668\n",
            "Iteration 18, loss = 0.13178830\n",
            "Iteration 19, loss = 0.12661217\n",
            "Iteration 20, loss = 0.12214712\n"
          ],
          "name": "stdout"
        },
        {
          "output_type": "stream",
          "text": [
            "/usr/local/lib/python3.6/dist-packages/sklearn/neural_network/multilayer_perceptron.py:564: ConvergenceWarning: Stochastic Optimizer: Maximum iterations (20) reached and the optimization hasn't converged yet.\n",
            "  % self.max_iter, ConvergenceWarning)\n"
          ],
          "name": "stderr"
        },
        {
          "output_type": "stream",
          "text": [
            "Iteration 1, loss = 0.85804922\n",
            "Iteration 2, loss = 0.37560634\n",
            "Iteration 3, loss = 0.31722131\n",
            "Iteration 4, loss = 0.28493787\n",
            "Iteration 5, loss = 0.26124792\n",
            "Iteration 6, loss = 0.24214767\n",
            "Iteration 7, loss = 0.22565476\n",
            "Iteration 8, loss = 0.21239585\n",
            "Iteration 9, loss = 0.20069676\n",
            "Iteration 10, loss = 0.18976070\n",
            "Iteration 11, loss = 0.17998045\n",
            "Iteration 12, loss = 0.17183911\n",
            "Iteration 13, loss = 0.16345103\n",
            "Iteration 14, loss = 0.15606199\n",
            "Iteration 15, loss = 0.14948893\n",
            "Iteration 16, loss = 0.14289797\n",
            "Iteration 17, loss = 0.13758433\n",
            "Iteration 18, loss = 0.13173081\n",
            "Iteration 19, loss = 0.12690175\n",
            "Iteration 20, loss = 0.12210026\n"
          ],
          "name": "stdout"
        },
        {
          "output_type": "stream",
          "text": [
            "/usr/local/lib/python3.6/dist-packages/sklearn/neural_network/multilayer_perceptron.py:564: ConvergenceWarning: Stochastic Optimizer: Maximum iterations (20) reached and the optimization hasn't converged yet.\n",
            "  % self.max_iter, ConvergenceWarning)\n"
          ],
          "name": "stderr"
        },
        {
          "output_type": "stream",
          "text": [
            "Iteration 1, loss = 0.85953346\n",
            "Iteration 2, loss = 0.37269392\n",
            "Iteration 3, loss = 0.31426381\n",
            "Iteration 4, loss = 0.28171205\n",
            "Iteration 5, loss = 0.25823962\n",
            "Iteration 6, loss = 0.23938164\n",
            "Iteration 7, loss = 0.22364820\n",
            "Iteration 8, loss = 0.21024969\n",
            "Iteration 9, loss = 0.19808693\n",
            "Iteration 10, loss = 0.18743013\n",
            "Iteration 11, loss = 0.17751405\n",
            "Iteration 12, loss = 0.16926925\n",
            "Iteration 13, loss = 0.16060223\n",
            "Iteration 14, loss = 0.15330945\n",
            "Iteration 15, loss = 0.14636665\n",
            "Iteration 16, loss = 0.14036608\n",
            "Iteration 17, loss = 0.13467374\n",
            "Iteration 18, loss = 0.12914154\n",
            "Iteration 19, loss = 0.12382441\n",
            "Iteration 20, loss = 0.11935383\n"
          ],
          "name": "stdout"
        },
        {
          "output_type": "stream",
          "text": [
            "/usr/local/lib/python3.6/dist-packages/sklearn/neural_network/multilayer_perceptron.py:564: ConvergenceWarning: Stochastic Optimizer: Maximum iterations (20) reached and the optimization hasn't converged yet.\n",
            "  % self.max_iter, ConvergenceWarning)\n"
          ],
          "name": "stderr"
        },
        {
          "output_type": "stream",
          "text": [
            "Iteration 1, loss = 0.85623274\n",
            "Iteration 2, loss = 0.37180149\n",
            "Iteration 3, loss = 0.31352967\n",
            "Iteration 4, loss = 0.28131732\n",
            "Iteration 5, loss = 0.25779223\n",
            "Iteration 6, loss = 0.23878191\n",
            "Iteration 7, loss = 0.22179117\n",
            "Iteration 8, loss = 0.20813974\n",
            "Iteration 9, loss = 0.19591490\n",
            "Iteration 10, loss = 0.18562337\n",
            "Iteration 11, loss = 0.17572850\n",
            "Iteration 12, loss = 0.16606686\n",
            "Iteration 13, loss = 0.15874645\n",
            "Iteration 14, loss = 0.15108759\n",
            "Iteration 15, loss = 0.14438557\n",
            "Iteration 16, loss = 0.13830663\n",
            "Iteration 17, loss = 0.13240496\n",
            "Iteration 18, loss = 0.12701891\n",
            "Iteration 19, loss = 0.12198863\n",
            "Iteration 20, loss = 0.11721244\n"
          ],
          "name": "stdout"
        },
        {
          "output_type": "stream",
          "text": [
            "/usr/local/lib/python3.6/dist-packages/sklearn/neural_network/multilayer_perceptron.py:564: ConvergenceWarning: Stochastic Optimizer: Maximum iterations (20) reached and the optimization hasn't converged yet.\n",
            "  % self.max_iter, ConvergenceWarning)\n"
          ],
          "name": "stderr"
        },
        {
          "output_type": "stream",
          "text": [
            "Iteration 1, loss = 0.85600945\n",
            "Iteration 2, loss = 0.36915734\n",
            "Iteration 3, loss = 0.31139113\n",
            "Iteration 4, loss = 0.27916368\n",
            "Iteration 5, loss = 0.25561454\n",
            "Iteration 6, loss = 0.23666516\n",
            "Iteration 7, loss = 0.22100881\n",
            "Iteration 8, loss = 0.20766302\n",
            "Iteration 9, loss = 0.19572565\n",
            "Iteration 10, loss = 0.18563552\n",
            "Iteration 11, loss = 0.17620228\n",
            "Iteration 12, loss = 0.16671055\n",
            "Iteration 13, loss = 0.15931780\n",
            "Iteration 14, loss = 0.15253452\n",
            "Iteration 15, loss = 0.14488332\n",
            "Iteration 16, loss = 0.13912866\n",
            "Iteration 17, loss = 0.13401032\n",
            "Iteration 18, loss = 0.12850576\n",
            "Iteration 19, loss = 0.12312665\n",
            "Iteration 20, loss = 0.11902894\n"
          ],
          "name": "stdout"
        },
        {
          "output_type": "stream",
          "text": [
            "/usr/local/lib/python3.6/dist-packages/sklearn/neural_network/multilayer_perceptron.py:564: ConvergenceWarning: Stochastic Optimizer: Maximum iterations (20) reached and the optimization hasn't converged yet.\n",
            "  % self.max_iter, ConvergenceWarning)\n"
          ],
          "name": "stderr"
        },
        {
          "output_type": "stream",
          "text": [
            "Iteration 1, loss = 0.85583821\n",
            "Iteration 2, loss = 0.37257625\n",
            "Iteration 3, loss = 0.31614510\n",
            "Iteration 4, loss = 0.28393638\n",
            "Iteration 5, loss = 0.26130211\n",
            "Iteration 6, loss = 0.24292308\n",
            "Iteration 7, loss = 0.22738659\n",
            "Iteration 8, loss = 0.21361594\n",
            "Iteration 9, loss = 0.20174359\n",
            "Iteration 10, loss = 0.19035224\n",
            "Iteration 11, loss = 0.18131102\n",
            "Iteration 12, loss = 0.17212891\n",
            "Iteration 13, loss = 0.16398143\n",
            "Iteration 14, loss = 0.15687676\n",
            "Iteration 15, loss = 0.14931548\n",
            "Iteration 16, loss = 0.14306376\n",
            "Iteration 17, loss = 0.13725668\n",
            "Iteration 18, loss = 0.13178830\n",
            "Iteration 19, loss = 0.12661217\n",
            "Iteration 20, loss = 0.12214712\n"
          ],
          "name": "stdout"
        },
        {
          "output_type": "stream",
          "text": [
            "/usr/local/lib/python3.6/dist-packages/sklearn/neural_network/multilayer_perceptron.py:564: ConvergenceWarning: Stochastic Optimizer: Maximum iterations (20) reached and the optimization hasn't converged yet.\n",
            "  % self.max_iter, ConvergenceWarning)\n"
          ],
          "name": "stderr"
        },
        {
          "output_type": "stream",
          "text": [
            "Iteration 1, loss = 0.85804922\n",
            "Iteration 2, loss = 0.37560634\n",
            "Iteration 3, loss = 0.31722131\n",
            "Iteration 4, loss = 0.28493787\n",
            "Iteration 5, loss = 0.26124792\n",
            "Iteration 6, loss = 0.24214767\n",
            "Iteration 7, loss = 0.22565476\n",
            "Iteration 8, loss = 0.21239585\n",
            "Iteration 9, loss = 0.20069676\n",
            "Iteration 10, loss = 0.18976070\n",
            "Iteration 11, loss = 0.17998045\n",
            "Iteration 12, loss = 0.17183911\n",
            "Iteration 13, loss = 0.16345103\n",
            "Iteration 14, loss = 0.15606199\n",
            "Iteration 15, loss = 0.14948893\n",
            "Iteration 16, loss = 0.14289797\n",
            "Iteration 17, loss = 0.13758433\n",
            "Iteration 18, loss = 0.13173081\n",
            "Iteration 19, loss = 0.12690175\n",
            "Iteration 20, loss = 0.12210026\n"
          ],
          "name": "stdout"
        },
        {
          "output_type": "stream",
          "text": [
            "/usr/local/lib/python3.6/dist-packages/sklearn/neural_network/multilayer_perceptron.py:564: ConvergenceWarning: Stochastic Optimizer: Maximum iterations (20) reached and the optimization hasn't converged yet.\n",
            "  % self.max_iter, ConvergenceWarning)\n"
          ],
          "name": "stderr"
        },
        {
          "output_type": "stream",
          "text": [
            "Iteration 1, loss = 0.85953346\n",
            "Iteration 2, loss = 0.37269392\n",
            "Iteration 3, loss = 0.31426381\n",
            "Iteration 4, loss = 0.28171205\n",
            "Iteration 5, loss = 0.25823962\n",
            "Iteration 6, loss = 0.23938164\n",
            "Iteration 7, loss = 0.22364820\n",
            "Iteration 8, loss = 0.21024969\n",
            "Iteration 9, loss = 0.19808693\n",
            "Iteration 10, loss = 0.18743013\n",
            "Iteration 11, loss = 0.17751405\n",
            "Iteration 12, loss = 0.16926925\n",
            "Iteration 13, loss = 0.16060223\n",
            "Iteration 14, loss = 0.15330945\n",
            "Iteration 15, loss = 0.14636665\n",
            "Iteration 16, loss = 0.14036608\n",
            "Iteration 17, loss = 0.13467374\n",
            "Iteration 18, loss = 0.12914154\n",
            "Iteration 19, loss = 0.12382441\n",
            "Iteration 20, loss = 0.11935383\n"
          ],
          "name": "stdout"
        },
        {
          "output_type": "stream",
          "text": [
            "/usr/local/lib/python3.6/dist-packages/sklearn/neural_network/multilayer_perceptron.py:564: ConvergenceWarning: Stochastic Optimizer: Maximum iterations (20) reached and the optimization hasn't converged yet.\n",
            "  % self.max_iter, ConvergenceWarning)\n"
          ],
          "name": "stderr"
        },
        {
          "output_type": "stream",
          "text": [
            "Iteration 1, loss = 0.85623274\n",
            "Iteration 2, loss = 0.37180149\n",
            "Iteration 3, loss = 0.31352967\n",
            "Iteration 4, loss = 0.28131732\n",
            "Iteration 5, loss = 0.25779223\n",
            "Iteration 6, loss = 0.23878191\n",
            "Iteration 7, loss = 0.22179117\n",
            "Iteration 8, loss = 0.20813974\n",
            "Iteration 9, loss = 0.19591490\n",
            "Iteration 10, loss = 0.18562337\n",
            "Iteration 11, loss = 0.17572850\n",
            "Iteration 12, loss = 0.16606686\n",
            "Iteration 13, loss = 0.15874645\n",
            "Iteration 14, loss = 0.15108759\n",
            "Iteration 15, loss = 0.14438557\n",
            "Iteration 16, loss = 0.13830663\n",
            "Iteration 17, loss = 0.13240496\n",
            "Iteration 18, loss = 0.12701891\n",
            "Iteration 19, loss = 0.12198863\n",
            "Iteration 20, loss = 0.11721244\n"
          ],
          "name": "stdout"
        },
        {
          "output_type": "stream",
          "text": [
            "/usr/local/lib/python3.6/dist-packages/sklearn/neural_network/multilayer_perceptron.py:564: ConvergenceWarning: Stochastic Optimizer: Maximum iterations (20) reached and the optimization hasn't converged yet.\n",
            "  % self.max_iter, ConvergenceWarning)\n"
          ],
          "name": "stderr"
        },
        {
          "output_type": "stream",
          "text": [
            "Iteration 1, loss = 0.45664150\n",
            "Iteration 2, loss = 0.17200315\n",
            "Iteration 3, loss = 0.12707589\n",
            "Iteration 4, loss = 0.09701337\n",
            "Iteration 5, loss = 0.07939285\n",
            "Iteration 6, loss = 0.06504250\n",
            "Iteration 7, loss = 0.05481636\n",
            "Iteration 8, loss = 0.04681794\n",
            "Iteration 9, loss = 0.03800223\n",
            "Iteration 10, loss = 0.03310895\n"
          ],
          "name": "stdout"
        },
        {
          "output_type": "stream",
          "text": [
            "/usr/local/lib/python3.6/dist-packages/sklearn/neural_network/multilayer_perceptron.py:564: ConvergenceWarning: Stochastic Optimizer: Maximum iterations (10) reached and the optimization hasn't converged yet.\n",
            "  % self.max_iter, ConvergenceWarning)\n"
          ],
          "name": "stderr"
        },
        {
          "output_type": "stream",
          "text": [
            "Iteration 1, loss = 0.46459676\n",
            "Iteration 2, loss = 0.17533684\n",
            "Iteration 3, loss = 0.12583599\n",
            "Iteration 4, loss = 0.09716331\n",
            "Iteration 5, loss = 0.07902610\n",
            "Iteration 6, loss = 0.06494732\n",
            "Iteration 7, loss = 0.05997884\n",
            "Iteration 8, loss = 0.04968496\n",
            "Iteration 9, loss = 0.04324155\n",
            "Iteration 10, loss = 0.03705392\n"
          ],
          "name": "stdout"
        },
        {
          "output_type": "stream",
          "text": [
            "/usr/local/lib/python3.6/dist-packages/sklearn/neural_network/multilayer_perceptron.py:564: ConvergenceWarning: Stochastic Optimizer: Maximum iterations (10) reached and the optimization hasn't converged yet.\n",
            "  % self.max_iter, ConvergenceWarning)\n"
          ],
          "name": "stderr"
        },
        {
          "output_type": "stream",
          "text": [
            "Iteration 1, loss = 0.47104393\n",
            "Iteration 2, loss = 0.17414611\n",
            "Iteration 3, loss = 0.12871097\n",
            "Iteration 4, loss = 0.09837973\n",
            "Iteration 5, loss = 0.07973663\n",
            "Iteration 6, loss = 0.06864813\n",
            "Iteration 7, loss = 0.05803192\n",
            "Iteration 8, loss = 0.05026480\n",
            "Iteration 9, loss = 0.03820694\n",
            "Iteration 10, loss = 0.03454954\n"
          ],
          "name": "stdout"
        },
        {
          "output_type": "stream",
          "text": [
            "/usr/local/lib/python3.6/dist-packages/sklearn/neural_network/multilayer_perceptron.py:564: ConvergenceWarning: Stochastic Optimizer: Maximum iterations (10) reached and the optimization hasn't converged yet.\n",
            "  % self.max_iter, ConvergenceWarning)\n"
          ],
          "name": "stderr"
        },
        {
          "output_type": "stream",
          "text": [
            "Iteration 1, loss = 0.45325771\n",
            "Iteration 2, loss = 0.17790466\n",
            "Iteration 3, loss = 0.13150690\n",
            "Iteration 4, loss = 0.10218218\n",
            "Iteration 5, loss = 0.08255161\n",
            "Iteration 6, loss = 0.06805259\n",
            "Iteration 7, loss = 0.05877189\n",
            "Iteration 8, loss = 0.04834061\n",
            "Iteration 9, loss = 0.04040361\n",
            "Iteration 10, loss = 0.03591726\n"
          ],
          "name": "stdout"
        },
        {
          "output_type": "stream",
          "text": [
            "/usr/local/lib/python3.6/dist-packages/sklearn/neural_network/multilayer_perceptron.py:564: ConvergenceWarning: Stochastic Optimizer: Maximum iterations (10) reached and the optimization hasn't converged yet.\n",
            "  % self.max_iter, ConvergenceWarning)\n"
          ],
          "name": "stderr"
        },
        {
          "output_type": "stream",
          "text": [
            "Iteration 1, loss = 0.45833874\n",
            "Iteration 2, loss = 0.17407235\n",
            "Iteration 3, loss = 0.12205108\n",
            "Iteration 4, loss = 0.09594086\n",
            "Iteration 5, loss = 0.08047563\n",
            "Iteration 6, loss = 0.06697193\n",
            "Iteration 7, loss = 0.05729780\n",
            "Iteration 8, loss = 0.04799584\n",
            "Iteration 9, loss = 0.04046456\n",
            "Iteration 10, loss = 0.03581325\n"
          ],
          "name": "stdout"
        },
        {
          "output_type": "stream",
          "text": [
            "/usr/local/lib/python3.6/dist-packages/sklearn/neural_network/multilayer_perceptron.py:564: ConvergenceWarning: Stochastic Optimizer: Maximum iterations (10) reached and the optimization hasn't converged yet.\n",
            "  % self.max_iter, ConvergenceWarning)\n"
          ],
          "name": "stderr"
        },
        {
          "output_type": "stream",
          "text": [
            "Iteration 1, loss = 0.45664150\n",
            "Iteration 2, loss = 0.17200315\n",
            "Iteration 3, loss = 0.12707589\n",
            "Iteration 4, loss = 0.09701337\n",
            "Iteration 5, loss = 0.07939285\n",
            "Iteration 6, loss = 0.06504250\n",
            "Iteration 7, loss = 0.05481636\n",
            "Iteration 8, loss = 0.04681794\n",
            "Iteration 9, loss = 0.03800223\n",
            "Iteration 10, loss = 0.03310895\n"
          ],
          "name": "stdout"
        },
        {
          "output_type": "stream",
          "text": [
            "/usr/local/lib/python3.6/dist-packages/sklearn/neural_network/multilayer_perceptron.py:564: ConvergenceWarning: Stochastic Optimizer: Maximum iterations (10) reached and the optimization hasn't converged yet.\n",
            "  % self.max_iter, ConvergenceWarning)\n"
          ],
          "name": "stderr"
        },
        {
          "output_type": "stream",
          "text": [
            "Iteration 1, loss = 0.46459676\n",
            "Iteration 2, loss = 0.17533684\n",
            "Iteration 3, loss = 0.12583599\n",
            "Iteration 4, loss = 0.09716331\n",
            "Iteration 5, loss = 0.07902610\n",
            "Iteration 6, loss = 0.06494732\n",
            "Iteration 7, loss = 0.05997884\n",
            "Iteration 8, loss = 0.04968496\n",
            "Iteration 9, loss = 0.04324155\n",
            "Iteration 10, loss = 0.03705392\n"
          ],
          "name": "stdout"
        },
        {
          "output_type": "stream",
          "text": [
            "/usr/local/lib/python3.6/dist-packages/sklearn/neural_network/multilayer_perceptron.py:564: ConvergenceWarning: Stochastic Optimizer: Maximum iterations (10) reached and the optimization hasn't converged yet.\n",
            "  % self.max_iter, ConvergenceWarning)\n"
          ],
          "name": "stderr"
        },
        {
          "output_type": "stream",
          "text": [
            "Iteration 1, loss = 0.47104393\n",
            "Iteration 2, loss = 0.17414611\n",
            "Iteration 3, loss = 0.12871097\n",
            "Iteration 4, loss = 0.09837973\n",
            "Iteration 5, loss = 0.07973663\n",
            "Iteration 6, loss = 0.06864813\n",
            "Iteration 7, loss = 0.05803192\n",
            "Iteration 8, loss = 0.05026480\n",
            "Iteration 9, loss = 0.03820694\n",
            "Iteration 10, loss = 0.03454954\n"
          ],
          "name": "stdout"
        },
        {
          "output_type": "stream",
          "text": [
            "/usr/local/lib/python3.6/dist-packages/sklearn/neural_network/multilayer_perceptron.py:564: ConvergenceWarning: Stochastic Optimizer: Maximum iterations (10) reached and the optimization hasn't converged yet.\n",
            "  % self.max_iter, ConvergenceWarning)\n"
          ],
          "name": "stderr"
        },
        {
          "output_type": "stream",
          "text": [
            "Iteration 1, loss = 0.45325771\n",
            "Iteration 2, loss = 0.17790466\n",
            "Iteration 3, loss = 0.13150690\n",
            "Iteration 4, loss = 0.10218218\n",
            "Iteration 5, loss = 0.08255161\n",
            "Iteration 6, loss = 0.06805259\n",
            "Iteration 7, loss = 0.05877189\n",
            "Iteration 8, loss = 0.04834061\n",
            "Iteration 9, loss = 0.04040361\n",
            "Iteration 10, loss = 0.03591726\n"
          ],
          "name": "stdout"
        },
        {
          "output_type": "stream",
          "text": [
            "/usr/local/lib/python3.6/dist-packages/sklearn/neural_network/multilayer_perceptron.py:564: ConvergenceWarning: Stochastic Optimizer: Maximum iterations (10) reached and the optimization hasn't converged yet.\n",
            "  % self.max_iter, ConvergenceWarning)\n"
          ],
          "name": "stderr"
        },
        {
          "output_type": "stream",
          "text": [
            "Iteration 1, loss = 0.45833874\n",
            "Iteration 2, loss = 0.17407235\n",
            "Iteration 3, loss = 0.12205108\n",
            "Iteration 4, loss = 0.09594086\n",
            "Iteration 5, loss = 0.08047563\n",
            "Iteration 6, loss = 0.06697193\n",
            "Iteration 7, loss = 0.05729780\n",
            "Iteration 8, loss = 0.04799584\n",
            "Iteration 9, loss = 0.04046456\n",
            "Iteration 10, loss = 0.03581325\n"
          ],
          "name": "stdout"
        },
        {
          "output_type": "stream",
          "text": [
            "/usr/local/lib/python3.6/dist-packages/sklearn/neural_network/multilayer_perceptron.py:564: ConvergenceWarning: Stochastic Optimizer: Maximum iterations (10) reached and the optimization hasn't converged yet.\n",
            "  % self.max_iter, ConvergenceWarning)\n"
          ],
          "name": "stderr"
        },
        {
          "output_type": "stream",
          "text": [
            "Iteration 1, loss = 0.47299463\n",
            "Iteration 2, loss = 0.17173210\n",
            "Iteration 3, loss = 0.12514472\n",
            "Iteration 4, loss = 0.09725528\n",
            "Iteration 5, loss = 0.07630904\n",
            "Iteration 6, loss = 0.06374374\n",
            "Iteration 7, loss = 0.05598341\n",
            "Iteration 8, loss = 0.04491001\n",
            "Iteration 9, loss = 0.03759072\n",
            "Iteration 10, loss = 0.03544996\n"
          ],
          "name": "stdout"
        },
        {
          "output_type": "stream",
          "text": [
            "/usr/local/lib/python3.6/dist-packages/sklearn/neural_network/multilayer_perceptron.py:564: ConvergenceWarning: Stochastic Optimizer: Maximum iterations (10) reached and the optimization hasn't converged yet.\n",
            "  % self.max_iter, ConvergenceWarning)\n"
          ],
          "name": "stderr"
        },
        {
          "output_type": "stream",
          "text": [
            "Iteration 1, loss = 0.48103785\n",
            "Iteration 2, loss = 0.17327879\n",
            "Iteration 3, loss = 0.12495775\n",
            "Iteration 4, loss = 0.09676504\n",
            "Iteration 5, loss = 0.07867533\n",
            "Iteration 6, loss = 0.06702606\n",
            "Iteration 7, loss = 0.05488432\n",
            "Iteration 8, loss = 0.04913947\n",
            "Iteration 9, loss = 0.04049438\n",
            "Iteration 10, loss = 0.03913895\n"
          ],
          "name": "stdout"
        },
        {
          "output_type": "stream",
          "text": [
            "/usr/local/lib/python3.6/dist-packages/sklearn/neural_network/multilayer_perceptron.py:564: ConvergenceWarning: Stochastic Optimizer: Maximum iterations (10) reached and the optimization hasn't converged yet.\n",
            "  % self.max_iter, ConvergenceWarning)\n"
          ],
          "name": "stderr"
        },
        {
          "output_type": "stream",
          "text": [
            "Iteration 1, loss = 0.47946076\n",
            "Iteration 2, loss = 0.17751194\n",
            "Iteration 3, loss = 0.12894439\n",
            "Iteration 4, loss = 0.10120777\n",
            "Iteration 5, loss = 0.08171302\n",
            "Iteration 6, loss = 0.06746850\n",
            "Iteration 7, loss = 0.05888908\n",
            "Iteration 8, loss = 0.04938968\n",
            "Iteration 9, loss = 0.04122957\n",
            "Iteration 10, loss = 0.03830439\n"
          ],
          "name": "stdout"
        },
        {
          "output_type": "stream",
          "text": [
            "/usr/local/lib/python3.6/dist-packages/sklearn/neural_network/multilayer_perceptron.py:564: ConvergenceWarning: Stochastic Optimizer: Maximum iterations (10) reached and the optimization hasn't converged yet.\n",
            "  % self.max_iter, ConvergenceWarning)\n"
          ],
          "name": "stderr"
        },
        {
          "output_type": "stream",
          "text": [
            "Iteration 1, loss = 0.47054972\n",
            "Iteration 2, loss = 0.17487692\n",
            "Iteration 3, loss = 0.12713733\n",
            "Iteration 4, loss = 0.09736058\n",
            "Iteration 5, loss = 0.07647979\n",
            "Iteration 6, loss = 0.06689793\n",
            "Iteration 7, loss = 0.05291618\n",
            "Iteration 8, loss = 0.04800897\n",
            "Iteration 9, loss = 0.03526044\n",
            "Iteration 10, loss = 0.03180703\n"
          ],
          "name": "stdout"
        },
        {
          "output_type": "stream",
          "text": [
            "/usr/local/lib/python3.6/dist-packages/sklearn/neural_network/multilayer_perceptron.py:564: ConvergenceWarning: Stochastic Optimizer: Maximum iterations (10) reached and the optimization hasn't converged yet.\n",
            "  % self.max_iter, ConvergenceWarning)\n"
          ],
          "name": "stderr"
        },
        {
          "output_type": "stream",
          "text": [
            "Iteration 1, loss = 0.47563735\n",
            "Iteration 2, loss = 0.16855075\n",
            "Iteration 3, loss = 0.12258277\n",
            "Iteration 4, loss = 0.09696363\n",
            "Iteration 5, loss = 0.07796516\n",
            "Iteration 6, loss = 0.06353337\n",
            "Iteration 7, loss = 0.05271652\n",
            "Iteration 8, loss = 0.04330412\n",
            "Iteration 9, loss = 0.03771114\n",
            "Iteration 10, loss = 0.03372512\n"
          ],
          "name": "stdout"
        },
        {
          "output_type": "stream",
          "text": [
            "/usr/local/lib/python3.6/dist-packages/sklearn/neural_network/multilayer_perceptron.py:564: ConvergenceWarning: Stochastic Optimizer: Maximum iterations (10) reached and the optimization hasn't converged yet.\n",
            "  % self.max_iter, ConvergenceWarning)\n"
          ],
          "name": "stderr"
        },
        {
          "output_type": "stream",
          "text": [
            "Iteration 1, loss = 0.47299463\n",
            "Iteration 2, loss = 0.17173210\n",
            "Iteration 3, loss = 0.12514472\n",
            "Iteration 4, loss = 0.09725528\n",
            "Iteration 5, loss = 0.07630904\n",
            "Iteration 6, loss = 0.06374374\n",
            "Iteration 7, loss = 0.05598341\n",
            "Iteration 8, loss = 0.04491001\n",
            "Iteration 9, loss = 0.03759072\n",
            "Iteration 10, loss = 0.03544996\n"
          ],
          "name": "stdout"
        },
        {
          "output_type": "stream",
          "text": [
            "/usr/local/lib/python3.6/dist-packages/sklearn/neural_network/multilayer_perceptron.py:564: ConvergenceWarning: Stochastic Optimizer: Maximum iterations (10) reached and the optimization hasn't converged yet.\n",
            "  % self.max_iter, ConvergenceWarning)\n"
          ],
          "name": "stderr"
        },
        {
          "output_type": "stream",
          "text": [
            "Iteration 1, loss = 0.48103785\n",
            "Iteration 2, loss = 0.17327879\n",
            "Iteration 3, loss = 0.12495775\n",
            "Iteration 4, loss = 0.09676504\n",
            "Iteration 5, loss = 0.07867533\n",
            "Iteration 6, loss = 0.06702606\n",
            "Iteration 7, loss = 0.05488432\n",
            "Iteration 8, loss = 0.04913947\n",
            "Iteration 9, loss = 0.04049438\n",
            "Iteration 10, loss = 0.03913895\n"
          ],
          "name": "stdout"
        },
        {
          "output_type": "stream",
          "text": [
            "/usr/local/lib/python3.6/dist-packages/sklearn/neural_network/multilayer_perceptron.py:564: ConvergenceWarning: Stochastic Optimizer: Maximum iterations (10) reached and the optimization hasn't converged yet.\n",
            "  % self.max_iter, ConvergenceWarning)\n"
          ],
          "name": "stderr"
        },
        {
          "output_type": "stream",
          "text": [
            "Iteration 1, loss = 0.47946076\n",
            "Iteration 2, loss = 0.17751194\n",
            "Iteration 3, loss = 0.12894439\n",
            "Iteration 4, loss = 0.10120777\n",
            "Iteration 5, loss = 0.08171302\n",
            "Iteration 6, loss = 0.06746850\n",
            "Iteration 7, loss = 0.05888908\n",
            "Iteration 8, loss = 0.04938968\n",
            "Iteration 9, loss = 0.04122957\n",
            "Iteration 10, loss = 0.03830439\n"
          ],
          "name": "stdout"
        },
        {
          "output_type": "stream",
          "text": [
            "/usr/local/lib/python3.6/dist-packages/sklearn/neural_network/multilayer_perceptron.py:564: ConvergenceWarning: Stochastic Optimizer: Maximum iterations (10) reached and the optimization hasn't converged yet.\n",
            "  % self.max_iter, ConvergenceWarning)\n"
          ],
          "name": "stderr"
        },
        {
          "output_type": "stream",
          "text": [
            "Iteration 1, loss = 0.47054972\n",
            "Iteration 2, loss = 0.17487692\n",
            "Iteration 3, loss = 0.12713733\n",
            "Iteration 4, loss = 0.09736058\n",
            "Iteration 5, loss = 0.07647979\n",
            "Iteration 6, loss = 0.06689793\n",
            "Iteration 7, loss = 0.05291618\n",
            "Iteration 8, loss = 0.04800897\n",
            "Iteration 9, loss = 0.03526044\n",
            "Iteration 10, loss = 0.03180703\n"
          ],
          "name": "stdout"
        },
        {
          "output_type": "stream",
          "text": [
            "/usr/local/lib/python3.6/dist-packages/sklearn/neural_network/multilayer_perceptron.py:564: ConvergenceWarning: Stochastic Optimizer: Maximum iterations (10) reached and the optimization hasn't converged yet.\n",
            "  % self.max_iter, ConvergenceWarning)\n"
          ],
          "name": "stderr"
        },
        {
          "output_type": "stream",
          "text": [
            "Iteration 1, loss = 0.47563735\n",
            "Iteration 2, loss = 0.16855075\n",
            "Iteration 3, loss = 0.12258277\n",
            "Iteration 4, loss = 0.09696363\n",
            "Iteration 5, loss = 0.07796516\n",
            "Iteration 6, loss = 0.06353337\n",
            "Iteration 7, loss = 0.05271652\n",
            "Iteration 8, loss = 0.04330412\n",
            "Iteration 9, loss = 0.03771114\n",
            "Iteration 10, loss = 0.03372512\n"
          ],
          "name": "stdout"
        },
        {
          "output_type": "stream",
          "text": [
            "/usr/local/lib/python3.6/dist-packages/sklearn/neural_network/multilayer_perceptron.py:564: ConvergenceWarning: Stochastic Optimizer: Maximum iterations (10) reached and the optimization hasn't converged yet.\n",
            "  % self.max_iter, ConvergenceWarning)\n"
          ],
          "name": "stderr"
        },
        {
          "output_type": "stream",
          "text": [
            "Iteration 1, loss = 0.45664150\n",
            "Iteration 2, loss = 0.17200315\n",
            "Iteration 3, loss = 0.12707589\n",
            "Iteration 4, loss = 0.09701337\n",
            "Iteration 5, loss = 0.07939285\n",
            "Iteration 6, loss = 0.06504250\n",
            "Iteration 7, loss = 0.05481636\n",
            "Iteration 8, loss = 0.04681794\n",
            "Iteration 9, loss = 0.03800223\n",
            "Iteration 10, loss = 0.03310895\n",
            "Iteration 11, loss = 0.03582229\n",
            "Iteration 12, loss = 0.02749902\n",
            "Iteration 13, loss = 0.02348063\n",
            "Iteration 14, loss = 0.02294750\n",
            "Iteration 15, loss = 0.01806199\n",
            "Iteration 16, loss = 0.01664945\n",
            "Iteration 17, loss = 0.01389576\n",
            "Iteration 18, loss = 0.00959263\n",
            "Iteration 19, loss = 0.00521849\n",
            "Iteration 20, loss = 0.00325683\n"
          ],
          "name": "stdout"
        },
        {
          "output_type": "stream",
          "text": [
            "/usr/local/lib/python3.6/dist-packages/sklearn/neural_network/multilayer_perceptron.py:564: ConvergenceWarning: Stochastic Optimizer: Maximum iterations (20) reached and the optimization hasn't converged yet.\n",
            "  % self.max_iter, ConvergenceWarning)\n"
          ],
          "name": "stderr"
        },
        {
          "output_type": "stream",
          "text": [
            "Iteration 1, loss = 0.46459676\n",
            "Iteration 2, loss = 0.17533684\n",
            "Iteration 3, loss = 0.12583599\n",
            "Iteration 4, loss = 0.09716331\n",
            "Iteration 5, loss = 0.07902610\n",
            "Iteration 6, loss = 0.06494732\n",
            "Iteration 7, loss = 0.05997884\n",
            "Iteration 8, loss = 0.04968496\n",
            "Iteration 9, loss = 0.04324155\n",
            "Iteration 10, loss = 0.03705392\n",
            "Iteration 11, loss = 0.02992481\n",
            "Iteration 12, loss = 0.02947782\n",
            "Iteration 13, loss = 0.02420569\n",
            "Iteration 14, loss = 0.01942292\n",
            "Iteration 15, loss = 0.01735784\n",
            "Iteration 16, loss = 0.01613650\n",
            "Iteration 17, loss = 0.02031022\n",
            "Iteration 18, loss = 0.01327286\n",
            "Iteration 19, loss = 0.01624753\n",
            "Iteration 20, loss = 0.01474980\n"
          ],
          "name": "stdout"
        },
        {
          "output_type": "stream",
          "text": [
            "/usr/local/lib/python3.6/dist-packages/sklearn/neural_network/multilayer_perceptron.py:564: ConvergenceWarning: Stochastic Optimizer: Maximum iterations (20) reached and the optimization hasn't converged yet.\n",
            "  % self.max_iter, ConvergenceWarning)\n"
          ],
          "name": "stderr"
        },
        {
          "output_type": "stream",
          "text": [
            "Iteration 1, loss = 0.47104393\n",
            "Iteration 2, loss = 0.17414611\n",
            "Iteration 3, loss = 0.12871097\n",
            "Iteration 4, loss = 0.09837973\n",
            "Iteration 5, loss = 0.07973663\n",
            "Iteration 6, loss = 0.06864813\n",
            "Iteration 7, loss = 0.05803192\n",
            "Iteration 8, loss = 0.05026480\n",
            "Iteration 9, loss = 0.03820694\n",
            "Iteration 10, loss = 0.03454954\n",
            "Iteration 11, loss = 0.02977315\n",
            "Iteration 12, loss = 0.03451436\n",
            "Iteration 13, loss = 0.02921533\n",
            "Iteration 14, loss = 0.02280272\n",
            "Iteration 15, loss = 0.01898329\n",
            "Iteration 16, loss = 0.01213330\n",
            "Iteration 17, loss = 0.01574136\n",
            "Iteration 18, loss = 0.01669968\n",
            "Iteration 19, loss = 0.02031216\n",
            "Training loss did not improve more than tol=0.000100 for two consecutive epochs. Stopping.\n",
            "Iteration 1, loss = 0.45325771\n",
            "Iteration 2, loss = 0.17790466\n",
            "Iteration 3, loss = 0.13150690\n",
            "Iteration 4, loss = 0.10218218\n",
            "Iteration 5, loss = 0.08255161\n",
            "Iteration 6, loss = 0.06805259\n",
            "Iteration 7, loss = 0.05877189\n",
            "Iteration 8, loss = 0.04834061\n",
            "Iteration 9, loss = 0.04040361\n",
            "Iteration 10, loss = 0.03591726\n",
            "Iteration 11, loss = 0.02711769\n",
            "Iteration 12, loss = 0.02386972\n",
            "Iteration 13, loss = 0.02362933\n",
            "Iteration 14, loss = 0.01903298\n",
            "Iteration 15, loss = 0.01868798\n",
            "Iteration 16, loss = 0.01812086\n",
            "Iteration 17, loss = 0.01547096\n",
            "Iteration 18, loss = 0.01602461\n",
            "Iteration 19, loss = 0.01454516\n",
            "Iteration 20, loss = 0.01481305\n"
          ],
          "name": "stdout"
        },
        {
          "output_type": "stream",
          "text": [
            "/usr/local/lib/python3.6/dist-packages/sklearn/neural_network/multilayer_perceptron.py:564: ConvergenceWarning: Stochastic Optimizer: Maximum iterations (20) reached and the optimization hasn't converged yet.\n",
            "  % self.max_iter, ConvergenceWarning)\n"
          ],
          "name": "stderr"
        },
        {
          "output_type": "stream",
          "text": [
            "Iteration 1, loss = 0.45833874\n",
            "Iteration 2, loss = 0.17407235\n",
            "Iteration 3, loss = 0.12205108\n",
            "Iteration 4, loss = 0.09594086\n",
            "Iteration 5, loss = 0.08047563\n",
            "Iteration 6, loss = 0.06697193\n",
            "Iteration 7, loss = 0.05729780\n",
            "Iteration 8, loss = 0.04799584\n",
            "Iteration 9, loss = 0.04046456\n",
            "Iteration 10, loss = 0.03581325\n",
            "Iteration 11, loss = 0.02905777\n",
            "Iteration 12, loss = 0.02223040\n",
            "Iteration 13, loss = 0.02082922\n",
            "Iteration 14, loss = 0.02188627\n",
            "Iteration 15, loss = 0.01736031\n",
            "Iteration 16, loss = 0.01081718\n",
            "Iteration 17, loss = 0.00771988\n",
            "Iteration 18, loss = 0.00660369\n",
            "Iteration 19, loss = 0.01198967\n",
            "Iteration 20, loss = 0.01028269\n"
          ],
          "name": "stdout"
        },
        {
          "output_type": "stream",
          "text": [
            "/usr/local/lib/python3.6/dist-packages/sklearn/neural_network/multilayer_perceptron.py:564: ConvergenceWarning: Stochastic Optimizer: Maximum iterations (20) reached and the optimization hasn't converged yet.\n",
            "  % self.max_iter, ConvergenceWarning)\n"
          ],
          "name": "stderr"
        },
        {
          "output_type": "stream",
          "text": [
            "Iteration 1, loss = 0.45664150\n",
            "Iteration 2, loss = 0.17200315\n",
            "Iteration 3, loss = 0.12707589\n",
            "Iteration 4, loss = 0.09701337\n",
            "Iteration 5, loss = 0.07939285\n",
            "Iteration 6, loss = 0.06504250\n",
            "Iteration 7, loss = 0.05481636\n",
            "Iteration 8, loss = 0.04681794\n",
            "Iteration 9, loss = 0.03800223\n",
            "Iteration 10, loss = 0.03310895\n",
            "Iteration 11, loss = 0.03582229\n",
            "Iteration 12, loss = 0.02749902\n",
            "Iteration 13, loss = 0.02348063\n",
            "Iteration 14, loss = 0.02294750\n",
            "Iteration 15, loss = 0.01806199\n",
            "Iteration 16, loss = 0.01664945\n",
            "Iteration 17, loss = 0.01389576\n",
            "Iteration 18, loss = 0.00959263\n",
            "Iteration 19, loss = 0.00521849\n",
            "Iteration 20, loss = 0.00325683\n"
          ],
          "name": "stdout"
        },
        {
          "output_type": "stream",
          "text": [
            "/usr/local/lib/python3.6/dist-packages/sklearn/neural_network/multilayer_perceptron.py:564: ConvergenceWarning: Stochastic Optimizer: Maximum iterations (20) reached and the optimization hasn't converged yet.\n",
            "  % self.max_iter, ConvergenceWarning)\n"
          ],
          "name": "stderr"
        },
        {
          "output_type": "stream",
          "text": [
            "Iteration 1, loss = 0.46459676\n",
            "Iteration 2, loss = 0.17533684\n",
            "Iteration 3, loss = 0.12583599\n",
            "Iteration 4, loss = 0.09716331\n",
            "Iteration 5, loss = 0.07902610\n",
            "Iteration 6, loss = 0.06494732\n",
            "Iteration 7, loss = 0.05997884\n",
            "Iteration 8, loss = 0.04968496\n",
            "Iteration 9, loss = 0.04324155\n",
            "Iteration 10, loss = 0.03705392\n",
            "Iteration 11, loss = 0.02992481\n",
            "Iteration 12, loss = 0.02947782\n",
            "Iteration 13, loss = 0.02420569\n",
            "Iteration 14, loss = 0.01942292\n",
            "Iteration 15, loss = 0.01735784\n",
            "Iteration 16, loss = 0.01613650\n",
            "Iteration 17, loss = 0.02031022\n",
            "Iteration 18, loss = 0.01327286\n",
            "Iteration 19, loss = 0.01624753\n",
            "Iteration 20, loss = 0.01474980\n"
          ],
          "name": "stdout"
        },
        {
          "output_type": "stream",
          "text": [
            "/usr/local/lib/python3.6/dist-packages/sklearn/neural_network/multilayer_perceptron.py:564: ConvergenceWarning: Stochastic Optimizer: Maximum iterations (20) reached and the optimization hasn't converged yet.\n",
            "  % self.max_iter, ConvergenceWarning)\n"
          ],
          "name": "stderr"
        },
        {
          "output_type": "stream",
          "text": [
            "Iteration 1, loss = 0.47104393\n",
            "Iteration 2, loss = 0.17414611\n",
            "Iteration 3, loss = 0.12871097\n",
            "Iteration 4, loss = 0.09837973\n",
            "Iteration 5, loss = 0.07973663\n",
            "Iteration 6, loss = 0.06864813\n",
            "Iteration 7, loss = 0.05803192\n",
            "Iteration 8, loss = 0.05026480\n",
            "Iteration 9, loss = 0.03820694\n",
            "Iteration 10, loss = 0.03454954\n",
            "Iteration 11, loss = 0.02977315\n",
            "Iteration 12, loss = 0.03451436\n",
            "Iteration 13, loss = 0.02921533\n",
            "Iteration 14, loss = 0.02280272\n",
            "Iteration 15, loss = 0.01898329\n",
            "Iteration 16, loss = 0.01213330\n",
            "Iteration 17, loss = 0.01574136\n",
            "Iteration 18, loss = 0.01669968\n",
            "Iteration 19, loss = 0.02031216\n",
            "Training loss did not improve more than tol=0.001000 for two consecutive epochs. Stopping.\n",
            "Iteration 1, loss = 0.45325771\n",
            "Iteration 2, loss = 0.17790466\n",
            "Iteration 3, loss = 0.13150690\n",
            "Iteration 4, loss = 0.10218218\n",
            "Iteration 5, loss = 0.08255161\n",
            "Iteration 6, loss = 0.06805259\n",
            "Iteration 7, loss = 0.05877189\n",
            "Iteration 8, loss = 0.04834061\n",
            "Iteration 9, loss = 0.04040361\n",
            "Iteration 10, loss = 0.03591726\n",
            "Iteration 11, loss = 0.02711769\n",
            "Iteration 12, loss = 0.02386972\n",
            "Iteration 13, loss = 0.02362933\n",
            "Iteration 14, loss = 0.01903298\n",
            "Iteration 15, loss = 0.01868798\n",
            "Iteration 16, loss = 0.01812086\n",
            "Iteration 17, loss = 0.01547096\n",
            "Iteration 18, loss = 0.01602461\n",
            "Iteration 19, loss = 0.01454516\n",
            "Iteration 20, loss = 0.01481305\n",
            "Training loss did not improve more than tol=0.001000 for two consecutive epochs. Stopping.\n",
            "Iteration 1, loss = 0.45833874\n",
            "Iteration 2, loss = 0.17407235\n",
            "Iteration 3, loss = 0.12205108\n",
            "Iteration 4, loss = 0.09594086\n",
            "Iteration 5, loss = 0.08047563\n",
            "Iteration 6, loss = 0.06697193\n",
            "Iteration 7, loss = 0.05729780\n",
            "Iteration 8, loss = 0.04799584\n",
            "Iteration 9, loss = 0.04046456\n",
            "Iteration 10, loss = 0.03581325\n",
            "Iteration 11, loss = 0.02905777\n",
            "Iteration 12, loss = 0.02223040\n",
            "Iteration 13, loss = 0.02082922\n",
            "Iteration 14, loss = 0.02188627\n",
            "Iteration 15, loss = 0.01736031\n",
            "Iteration 16, loss = 0.01081718\n",
            "Iteration 17, loss = 0.00771988\n",
            "Iteration 18, loss = 0.00660369\n",
            "Iteration 19, loss = 0.01198967\n",
            "Iteration 20, loss = 0.01028269\n"
          ],
          "name": "stdout"
        },
        {
          "output_type": "stream",
          "text": [
            "/usr/local/lib/python3.6/dist-packages/sklearn/neural_network/multilayer_perceptron.py:564: ConvergenceWarning: Stochastic Optimizer: Maximum iterations (20) reached and the optimization hasn't converged yet.\n",
            "  % self.max_iter, ConvergenceWarning)\n"
          ],
          "name": "stderr"
        },
        {
          "output_type": "stream",
          "text": [
            "Iteration 1, loss = 0.47299463\n",
            "Iteration 2, loss = 0.17173210\n",
            "Iteration 3, loss = 0.12514472\n",
            "Iteration 4, loss = 0.09725528\n",
            "Iteration 5, loss = 0.07630904\n",
            "Iteration 6, loss = 0.06374374\n",
            "Iteration 7, loss = 0.05598341\n",
            "Iteration 8, loss = 0.04491001\n",
            "Iteration 9, loss = 0.03759072\n",
            "Iteration 10, loss = 0.03544996\n",
            "Iteration 11, loss = 0.02683654\n",
            "Iteration 12, loss = 0.02523206\n",
            "Iteration 13, loss = 0.02306547\n",
            "Iteration 14, loss = 0.01600698\n",
            "Iteration 15, loss = 0.02011260\n",
            "Iteration 16, loss = 0.01864945\n",
            "Iteration 17, loss = 0.01815313\n",
            "Training loss did not improve more than tol=0.000100 for two consecutive epochs. Stopping.\n",
            "Iteration 1, loss = 0.48103785\n",
            "Iteration 2, loss = 0.17327879\n",
            "Iteration 3, loss = 0.12495775\n",
            "Iteration 4, loss = 0.09676504\n",
            "Iteration 5, loss = 0.07867533\n",
            "Iteration 6, loss = 0.06702606\n",
            "Iteration 7, loss = 0.05488432\n",
            "Iteration 8, loss = 0.04913947\n",
            "Iteration 9, loss = 0.04049438\n",
            "Iteration 10, loss = 0.03913895\n",
            "Iteration 11, loss = 0.02950600\n",
            "Iteration 12, loss = 0.02359367\n",
            "Iteration 13, loss = 0.01876614\n",
            "Iteration 14, loss = 0.01953726\n",
            "Iteration 15, loss = 0.02031482\n",
            "Iteration 16, loss = 0.01487171\n",
            "Iteration 17, loss = 0.01334049\n",
            "Iteration 18, loss = 0.01995876\n",
            "Iteration 19, loss = 0.01459464\n",
            "Iteration 20, loss = 0.01197459\n"
          ],
          "name": "stdout"
        },
        {
          "output_type": "stream",
          "text": [
            "/usr/local/lib/python3.6/dist-packages/sklearn/neural_network/multilayer_perceptron.py:564: ConvergenceWarning: Stochastic Optimizer: Maximum iterations (20) reached and the optimization hasn't converged yet.\n",
            "  % self.max_iter, ConvergenceWarning)\n"
          ],
          "name": "stderr"
        },
        {
          "output_type": "stream",
          "text": [
            "Iteration 1, loss = 0.47946076\n",
            "Iteration 2, loss = 0.17751194\n",
            "Iteration 3, loss = 0.12894439\n",
            "Iteration 4, loss = 0.10120777\n",
            "Iteration 5, loss = 0.08171302\n",
            "Iteration 6, loss = 0.06746850\n",
            "Iteration 7, loss = 0.05888908\n",
            "Iteration 8, loss = 0.04938968\n",
            "Iteration 9, loss = 0.04122957\n",
            "Iteration 10, loss = 0.03830439\n",
            "Iteration 11, loss = 0.02855318\n",
            "Iteration 12, loss = 0.02539962\n",
            "Iteration 13, loss = 0.02641765\n",
            "Iteration 14, loss = 0.02242446\n",
            "Iteration 15, loss = 0.02070456\n",
            "Iteration 16, loss = 0.02199812\n",
            "Iteration 17, loss = 0.01990763\n",
            "Iteration 18, loss = 0.01468230\n",
            "Iteration 19, loss = 0.01744165\n",
            "Iteration 20, loss = 0.01968582\n"
          ],
          "name": "stdout"
        },
        {
          "output_type": "stream",
          "text": [
            "/usr/local/lib/python3.6/dist-packages/sklearn/neural_network/multilayer_perceptron.py:564: ConvergenceWarning: Stochastic Optimizer: Maximum iterations (20) reached and the optimization hasn't converged yet.\n",
            "  % self.max_iter, ConvergenceWarning)\n"
          ],
          "name": "stderr"
        },
        {
          "output_type": "stream",
          "text": [
            "Iteration 1, loss = 0.47054972\n",
            "Iteration 2, loss = 0.17487692\n",
            "Iteration 3, loss = 0.12713733\n",
            "Iteration 4, loss = 0.09736058\n",
            "Iteration 5, loss = 0.07647979\n",
            "Iteration 6, loss = 0.06689793\n",
            "Iteration 7, loss = 0.05291618\n",
            "Iteration 8, loss = 0.04800897\n",
            "Iteration 9, loss = 0.03526044\n",
            "Iteration 10, loss = 0.03180703\n",
            "Iteration 11, loss = 0.03197970\n",
            "Iteration 12, loss = 0.02992049\n",
            "Iteration 13, loss = 0.02219270\n",
            "Iteration 14, loss = 0.01526416\n",
            "Iteration 15, loss = 0.01123115\n",
            "Iteration 16, loss = 0.01153366\n",
            "Iteration 17, loss = 0.01266659\n",
            "Iteration 18, loss = 0.01586625\n",
            "Training loss did not improve more than tol=0.000100 for two consecutive epochs. Stopping.\n",
            "Iteration 1, loss = 0.47563735\n",
            "Iteration 2, loss = 0.16855075\n",
            "Iteration 3, loss = 0.12258277\n",
            "Iteration 4, loss = 0.09696363\n",
            "Iteration 5, loss = 0.07796516\n",
            "Iteration 6, loss = 0.06353337\n",
            "Iteration 7, loss = 0.05271652\n",
            "Iteration 8, loss = 0.04330412\n",
            "Iteration 9, loss = 0.03771114\n",
            "Iteration 10, loss = 0.03372512\n",
            "Iteration 11, loss = 0.02668474\n",
            "Iteration 12, loss = 0.02229182\n",
            "Iteration 13, loss = 0.01902016\n",
            "Iteration 14, loss = 0.01712534\n",
            "Iteration 15, loss = 0.01540477\n",
            "Iteration 16, loss = 0.01415586\n",
            "Iteration 17, loss = 0.01660126\n",
            "Iteration 18, loss = 0.01321421\n",
            "Iteration 19, loss = 0.01626615\n",
            "Iteration 20, loss = 0.01601886\n"
          ],
          "name": "stdout"
        },
        {
          "output_type": "stream",
          "text": [
            "/usr/local/lib/python3.6/dist-packages/sklearn/neural_network/multilayer_perceptron.py:564: ConvergenceWarning: Stochastic Optimizer: Maximum iterations (20) reached and the optimization hasn't converged yet.\n",
            "  % self.max_iter, ConvergenceWarning)\n"
          ],
          "name": "stderr"
        },
        {
          "output_type": "stream",
          "text": [
            "Iteration 1, loss = 0.47299463\n",
            "Iteration 2, loss = 0.17173210\n",
            "Iteration 3, loss = 0.12514472\n",
            "Iteration 4, loss = 0.09725528\n",
            "Iteration 5, loss = 0.07630904\n",
            "Iteration 6, loss = 0.06374374\n",
            "Iteration 7, loss = 0.05598341\n",
            "Iteration 8, loss = 0.04491001\n",
            "Iteration 9, loss = 0.03759072\n",
            "Iteration 10, loss = 0.03544996\n",
            "Iteration 11, loss = 0.02683654\n",
            "Iteration 12, loss = 0.02523206\n",
            "Iteration 13, loss = 0.02306547\n",
            "Iteration 14, loss = 0.01600698\n",
            "Iteration 15, loss = 0.02011260\n",
            "Iteration 16, loss = 0.01864945\n",
            "Iteration 17, loss = 0.01815313\n",
            "Training loss did not improve more than tol=0.001000 for two consecutive epochs. Stopping.\n",
            "Iteration 1, loss = 0.48103785\n",
            "Iteration 2, loss = 0.17327879\n",
            "Iteration 3, loss = 0.12495775\n",
            "Iteration 4, loss = 0.09676504\n",
            "Iteration 5, loss = 0.07867533\n",
            "Iteration 6, loss = 0.06702606\n",
            "Iteration 7, loss = 0.05488432\n",
            "Iteration 8, loss = 0.04913947\n",
            "Iteration 9, loss = 0.04049438\n",
            "Iteration 10, loss = 0.03913895\n",
            "Iteration 11, loss = 0.02950600\n",
            "Iteration 12, loss = 0.02359367\n",
            "Iteration 13, loss = 0.01876614\n",
            "Iteration 14, loss = 0.01953726\n",
            "Iteration 15, loss = 0.02031482\n",
            "Iteration 16, loss = 0.01487171\n",
            "Iteration 17, loss = 0.01334049\n",
            "Iteration 18, loss = 0.01995876\n",
            "Iteration 19, loss = 0.01459464\n",
            "Iteration 20, loss = 0.01197459\n"
          ],
          "name": "stdout"
        },
        {
          "output_type": "stream",
          "text": [
            "/usr/local/lib/python3.6/dist-packages/sklearn/neural_network/multilayer_perceptron.py:564: ConvergenceWarning: Stochastic Optimizer: Maximum iterations (20) reached and the optimization hasn't converged yet.\n",
            "  % self.max_iter, ConvergenceWarning)\n"
          ],
          "name": "stderr"
        },
        {
          "output_type": "stream",
          "text": [
            "Iteration 1, loss = 0.47946076\n",
            "Iteration 2, loss = 0.17751194\n",
            "Iteration 3, loss = 0.12894439\n",
            "Iteration 4, loss = 0.10120777\n",
            "Iteration 5, loss = 0.08171302\n",
            "Iteration 6, loss = 0.06746850\n",
            "Iteration 7, loss = 0.05888908\n",
            "Iteration 8, loss = 0.04938968\n",
            "Iteration 9, loss = 0.04122957\n",
            "Iteration 10, loss = 0.03830439\n",
            "Iteration 11, loss = 0.02855318\n",
            "Iteration 12, loss = 0.02539962\n",
            "Iteration 13, loss = 0.02641765\n",
            "Iteration 14, loss = 0.02242446\n",
            "Iteration 15, loss = 0.02070456\n",
            "Iteration 16, loss = 0.02199812\n",
            "Iteration 17, loss = 0.01990763\n",
            "Iteration 18, loss = 0.01468230\n",
            "Iteration 19, loss = 0.01744165\n",
            "Iteration 20, loss = 0.01968582\n"
          ],
          "name": "stdout"
        },
        {
          "output_type": "stream",
          "text": [
            "/usr/local/lib/python3.6/dist-packages/sklearn/neural_network/multilayer_perceptron.py:564: ConvergenceWarning: Stochastic Optimizer: Maximum iterations (20) reached and the optimization hasn't converged yet.\n",
            "  % self.max_iter, ConvergenceWarning)\n"
          ],
          "name": "stderr"
        },
        {
          "output_type": "stream",
          "text": [
            "Iteration 1, loss = 0.47054972\n",
            "Iteration 2, loss = 0.17487692\n",
            "Iteration 3, loss = 0.12713733\n",
            "Iteration 4, loss = 0.09736058\n",
            "Iteration 5, loss = 0.07647979\n",
            "Iteration 6, loss = 0.06689793\n",
            "Iteration 7, loss = 0.05291618\n",
            "Iteration 8, loss = 0.04800897\n",
            "Iteration 9, loss = 0.03526044\n",
            "Iteration 10, loss = 0.03180703\n",
            "Iteration 11, loss = 0.03197970\n",
            "Iteration 12, loss = 0.02992049\n",
            "Iteration 13, loss = 0.02219270\n",
            "Iteration 14, loss = 0.01526416\n",
            "Iteration 15, loss = 0.01123115\n",
            "Iteration 16, loss = 0.01153366\n",
            "Iteration 17, loss = 0.01266659\n",
            "Iteration 18, loss = 0.01586625\n",
            "Training loss did not improve more than tol=0.001000 for two consecutive epochs. Stopping.\n",
            "Iteration 1, loss = 0.47563735\n",
            "Iteration 2, loss = 0.16855075\n",
            "Iteration 3, loss = 0.12258277\n",
            "Iteration 4, loss = 0.09696363\n",
            "Iteration 5, loss = 0.07796516\n",
            "Iteration 6, loss = 0.06353337\n",
            "Iteration 7, loss = 0.05271652\n",
            "Iteration 8, loss = 0.04330412\n",
            "Iteration 9, loss = 0.03771114\n",
            "Iteration 10, loss = 0.03372512\n",
            "Iteration 11, loss = 0.02668474\n",
            "Iteration 12, loss = 0.02229182\n",
            "Iteration 13, loss = 0.01902016\n",
            "Iteration 14, loss = 0.01712534\n",
            "Iteration 15, loss = 0.01540477\n",
            "Iteration 16, loss = 0.01415586\n",
            "Iteration 17, loss = 0.01660126\n",
            "Iteration 18, loss = 0.01321421\n",
            "Iteration 19, loss = 0.01626615\n",
            "Training loss did not improve more than tol=0.001000 for two consecutive epochs. Stopping.\n",
            "Iteration 1, loss = 0.97508172\n",
            "Iteration 2, loss = 0.35297211\n",
            "Iteration 3, loss = 0.29028502\n",
            "Iteration 4, loss = 0.25401278\n",
            "Iteration 5, loss = 0.22824531\n",
            "Iteration 6, loss = 0.20673474\n",
            "Iteration 7, loss = 0.18946558\n",
            "Iteration 8, loss = 0.17409220\n",
            "Iteration 9, loss = 0.16255927\n",
            "Iteration 10, loss = 0.14983724\n"
          ],
          "name": "stdout"
        },
        {
          "output_type": "stream",
          "text": [
            "/usr/local/lib/python3.6/dist-packages/sklearn/neural_network/multilayer_perceptron.py:564: ConvergenceWarning: Stochastic Optimizer: Maximum iterations (10) reached and the optimization hasn't converged yet.\n",
            "  % self.max_iter, ConvergenceWarning)\n"
          ],
          "name": "stderr"
        },
        {
          "output_type": "stream",
          "text": [
            "Iteration 1, loss = 0.97065383\n",
            "Iteration 2, loss = 0.35911892\n",
            "Iteration 3, loss = 0.29598944\n",
            "Iteration 4, loss = 0.25949815\n",
            "Iteration 5, loss = 0.23455795\n",
            "Iteration 6, loss = 0.21263685\n",
            "Iteration 7, loss = 0.19452880\n",
            "Iteration 8, loss = 0.18036246\n",
            "Iteration 9, loss = 0.16617170\n",
            "Iteration 10, loss = 0.15576118\n"
          ],
          "name": "stdout"
        },
        {
          "output_type": "stream",
          "text": [
            "/usr/local/lib/python3.6/dist-packages/sklearn/neural_network/multilayer_perceptron.py:564: ConvergenceWarning: Stochastic Optimizer: Maximum iterations (10) reached and the optimization hasn't converged yet.\n",
            "  % self.max_iter, ConvergenceWarning)\n"
          ],
          "name": "stderr"
        },
        {
          "output_type": "stream",
          "text": [
            "Iteration 1, loss = 0.97445995\n",
            "Iteration 2, loss = 0.36241954\n",
            "Iteration 3, loss = 0.29822410\n",
            "Iteration 4, loss = 0.26089966\n",
            "Iteration 5, loss = 0.23551886\n",
            "Iteration 6, loss = 0.21481219\n",
            "Iteration 7, loss = 0.19652071\n",
            "Iteration 8, loss = 0.18114666\n",
            "Iteration 9, loss = 0.16786159\n",
            "Iteration 10, loss = 0.15599246\n"
          ],
          "name": "stdout"
        },
        {
          "output_type": "stream",
          "text": [
            "/usr/local/lib/python3.6/dist-packages/sklearn/neural_network/multilayer_perceptron.py:564: ConvergenceWarning: Stochastic Optimizer: Maximum iterations (10) reached and the optimization hasn't converged yet.\n",
            "  % self.max_iter, ConvergenceWarning)\n"
          ],
          "name": "stderr"
        },
        {
          "output_type": "stream",
          "text": [
            "Iteration 1, loss = 0.97119956\n",
            "Iteration 2, loss = 0.35948801\n",
            "Iteration 3, loss = 0.29427917\n",
            "Iteration 4, loss = 0.25973231\n",
            "Iteration 5, loss = 0.23468742\n",
            "Iteration 6, loss = 0.21268407\n",
            "Iteration 7, loss = 0.19527473\n",
            "Iteration 8, loss = 0.17918233\n",
            "Iteration 9, loss = 0.16605255\n",
            "Iteration 10, loss = 0.15387660\n"
          ],
          "name": "stdout"
        },
        {
          "output_type": "stream",
          "text": [
            "/usr/local/lib/python3.6/dist-packages/sklearn/neural_network/multilayer_perceptron.py:564: ConvergenceWarning: Stochastic Optimizer: Maximum iterations (10) reached and the optimization hasn't converged yet.\n",
            "  % self.max_iter, ConvergenceWarning)\n"
          ],
          "name": "stderr"
        },
        {
          "output_type": "stream",
          "text": [
            "Iteration 1, loss = 0.97154388\n",
            "Iteration 2, loss = 0.35679250\n",
            "Iteration 3, loss = 0.29253658\n",
            "Iteration 4, loss = 0.25678419\n",
            "Iteration 5, loss = 0.23101067\n",
            "Iteration 6, loss = 0.21056633\n",
            "Iteration 7, loss = 0.19263010\n",
            "Iteration 8, loss = 0.17636259\n",
            "Iteration 9, loss = 0.16236288\n",
            "Iteration 10, loss = 0.14995187\n"
          ],
          "name": "stdout"
        },
        {
          "output_type": "stream",
          "text": [
            "/usr/local/lib/python3.6/dist-packages/sklearn/neural_network/multilayer_perceptron.py:564: ConvergenceWarning: Stochastic Optimizer: Maximum iterations (10) reached and the optimization hasn't converged yet.\n",
            "  % self.max_iter, ConvergenceWarning)\n"
          ],
          "name": "stderr"
        },
        {
          "output_type": "stream",
          "text": [
            "Iteration 1, loss = 0.97508172\n",
            "Iteration 2, loss = 0.35297211\n",
            "Iteration 3, loss = 0.29028502\n",
            "Iteration 4, loss = 0.25401278\n",
            "Iteration 5, loss = 0.22824531\n",
            "Iteration 6, loss = 0.20673474\n",
            "Iteration 7, loss = 0.18946558\n",
            "Iteration 8, loss = 0.17409220\n",
            "Iteration 9, loss = 0.16255927\n",
            "Iteration 10, loss = 0.14983724\n"
          ],
          "name": "stdout"
        },
        {
          "output_type": "stream",
          "text": [
            "/usr/local/lib/python3.6/dist-packages/sklearn/neural_network/multilayer_perceptron.py:564: ConvergenceWarning: Stochastic Optimizer: Maximum iterations (10) reached and the optimization hasn't converged yet.\n",
            "  % self.max_iter, ConvergenceWarning)\n"
          ],
          "name": "stderr"
        },
        {
          "output_type": "stream",
          "text": [
            "Iteration 1, loss = 0.97065383\n",
            "Iteration 2, loss = 0.35911892\n",
            "Iteration 3, loss = 0.29598944\n",
            "Iteration 4, loss = 0.25949815\n",
            "Iteration 5, loss = 0.23455795\n",
            "Iteration 6, loss = 0.21263685\n",
            "Iteration 7, loss = 0.19452880\n",
            "Iteration 8, loss = 0.18036246\n",
            "Iteration 9, loss = 0.16617170\n",
            "Iteration 10, loss = 0.15576118\n"
          ],
          "name": "stdout"
        },
        {
          "output_type": "stream",
          "text": [
            "/usr/local/lib/python3.6/dist-packages/sklearn/neural_network/multilayer_perceptron.py:564: ConvergenceWarning: Stochastic Optimizer: Maximum iterations (10) reached and the optimization hasn't converged yet.\n",
            "  % self.max_iter, ConvergenceWarning)\n"
          ],
          "name": "stderr"
        },
        {
          "output_type": "stream",
          "text": [
            "Iteration 1, loss = 0.97445995\n",
            "Iteration 2, loss = 0.36241954\n",
            "Iteration 3, loss = 0.29822410\n",
            "Iteration 4, loss = 0.26089966\n",
            "Iteration 5, loss = 0.23551886\n",
            "Iteration 6, loss = 0.21481219\n",
            "Iteration 7, loss = 0.19652071\n",
            "Iteration 8, loss = 0.18114666\n",
            "Iteration 9, loss = 0.16786159\n",
            "Iteration 10, loss = 0.15599246\n"
          ],
          "name": "stdout"
        },
        {
          "output_type": "stream",
          "text": [
            "/usr/local/lib/python3.6/dist-packages/sklearn/neural_network/multilayer_perceptron.py:564: ConvergenceWarning: Stochastic Optimizer: Maximum iterations (10) reached and the optimization hasn't converged yet.\n",
            "  % self.max_iter, ConvergenceWarning)\n"
          ],
          "name": "stderr"
        },
        {
          "output_type": "stream",
          "text": [
            "Iteration 1, loss = 0.97119956\n",
            "Iteration 2, loss = 0.35948801\n",
            "Iteration 3, loss = 0.29427917\n",
            "Iteration 4, loss = 0.25973231\n",
            "Iteration 5, loss = 0.23468742\n",
            "Iteration 6, loss = 0.21268407\n",
            "Iteration 7, loss = 0.19527473\n",
            "Iteration 8, loss = 0.17918233\n",
            "Iteration 9, loss = 0.16605255\n",
            "Iteration 10, loss = 0.15387660\n"
          ],
          "name": "stdout"
        },
        {
          "output_type": "stream",
          "text": [
            "/usr/local/lib/python3.6/dist-packages/sklearn/neural_network/multilayer_perceptron.py:564: ConvergenceWarning: Stochastic Optimizer: Maximum iterations (10) reached and the optimization hasn't converged yet.\n",
            "  % self.max_iter, ConvergenceWarning)\n"
          ],
          "name": "stderr"
        },
        {
          "output_type": "stream",
          "text": [
            "Iteration 1, loss = 0.97154388\n",
            "Iteration 2, loss = 0.35679250\n",
            "Iteration 3, loss = 0.29253658\n",
            "Iteration 4, loss = 0.25678419\n",
            "Iteration 5, loss = 0.23101067\n",
            "Iteration 6, loss = 0.21056633\n",
            "Iteration 7, loss = 0.19263010\n",
            "Iteration 8, loss = 0.17636259\n",
            "Iteration 9, loss = 0.16236288\n",
            "Iteration 10, loss = 0.14995187\n"
          ],
          "name": "stdout"
        },
        {
          "output_type": "stream",
          "text": [
            "/usr/local/lib/python3.6/dist-packages/sklearn/neural_network/multilayer_perceptron.py:564: ConvergenceWarning: Stochastic Optimizer: Maximum iterations (10) reached and the optimization hasn't converged yet.\n",
            "  % self.max_iter, ConvergenceWarning)\n"
          ],
          "name": "stderr"
        },
        {
          "output_type": "stream",
          "text": [
            "Iteration 1, loss = 1.01611200\n",
            "Iteration 2, loss = 0.36557715\n",
            "Iteration 3, loss = 0.30053656\n",
            "Iteration 4, loss = 0.26576867\n",
            "Iteration 5, loss = 0.24055892\n",
            "Iteration 6, loss = 0.22014984\n",
            "Iteration 7, loss = 0.20208249\n",
            "Iteration 8, loss = 0.18593039\n",
            "Iteration 9, loss = 0.17181803\n",
            "Iteration 10, loss = 0.15945712\n"
          ],
          "name": "stdout"
        },
        {
          "output_type": "stream",
          "text": [
            "/usr/local/lib/python3.6/dist-packages/sklearn/neural_network/multilayer_perceptron.py:564: ConvergenceWarning: Stochastic Optimizer: Maximum iterations (10) reached and the optimization hasn't converged yet.\n",
            "  % self.max_iter, ConvergenceWarning)\n"
          ],
          "name": "stderr"
        },
        {
          "output_type": "stream",
          "text": [
            "Iteration 1, loss = 1.01879045\n",
            "Iteration 2, loss = 0.37084971\n",
            "Iteration 3, loss = 0.30784821\n",
            "Iteration 4, loss = 0.27355382\n",
            "Iteration 5, loss = 0.24730342\n",
            "Iteration 6, loss = 0.22603186\n",
            "Iteration 7, loss = 0.20681906\n",
            "Iteration 8, loss = 0.19091647\n",
            "Iteration 9, loss = 0.17675984\n",
            "Iteration 10, loss = 0.16435514\n"
          ],
          "name": "stdout"
        },
        {
          "output_type": "stream",
          "text": [
            "/usr/local/lib/python3.6/dist-packages/sklearn/neural_network/multilayer_perceptron.py:564: ConvergenceWarning: Stochastic Optimizer: Maximum iterations (10) reached and the optimization hasn't converged yet.\n",
            "  % self.max_iter, ConvergenceWarning)\n"
          ],
          "name": "stderr"
        },
        {
          "output_type": "stream",
          "text": [
            "Iteration 1, loss = 1.02861172\n",
            "Iteration 2, loss = 0.37398560\n",
            "Iteration 3, loss = 0.30956654\n",
            "Iteration 4, loss = 0.27401312\n",
            "Iteration 5, loss = 0.24577984\n",
            "Iteration 6, loss = 0.22404575\n",
            "Iteration 7, loss = 0.20575267\n",
            "Iteration 8, loss = 0.18965459\n",
            "Iteration 9, loss = 0.17373351\n",
            "Iteration 10, loss = 0.16304400\n"
          ],
          "name": "stdout"
        },
        {
          "output_type": "stream",
          "text": [
            "/usr/local/lib/python3.6/dist-packages/sklearn/neural_network/multilayer_perceptron.py:564: ConvergenceWarning: Stochastic Optimizer: Maximum iterations (10) reached and the optimization hasn't converged yet.\n",
            "  % self.max_iter, ConvergenceWarning)\n"
          ],
          "name": "stderr"
        },
        {
          "output_type": "stream",
          "text": [
            "Iteration 1, loss = 1.02045260\n",
            "Iteration 2, loss = 0.36858804\n",
            "Iteration 3, loss = 0.30634405\n",
            "Iteration 4, loss = 0.27105741\n",
            "Iteration 5, loss = 0.24536138\n",
            "Iteration 6, loss = 0.22383965\n",
            "Iteration 7, loss = 0.20465313\n",
            "Iteration 8, loss = 0.18766724\n",
            "Iteration 9, loss = 0.17467463\n",
            "Iteration 10, loss = 0.16115630\n"
          ],
          "name": "stdout"
        },
        {
          "output_type": "stream",
          "text": [
            "/usr/local/lib/python3.6/dist-packages/sklearn/neural_network/multilayer_perceptron.py:564: ConvergenceWarning: Stochastic Optimizer: Maximum iterations (10) reached and the optimization hasn't converged yet.\n",
            "  % self.max_iter, ConvergenceWarning)\n"
          ],
          "name": "stderr"
        },
        {
          "output_type": "stream",
          "text": [
            "Iteration 1, loss = 1.01399659\n",
            "Iteration 2, loss = 0.36695593\n",
            "Iteration 3, loss = 0.30141071\n",
            "Iteration 4, loss = 0.26637052\n",
            "Iteration 5, loss = 0.23990089\n",
            "Iteration 6, loss = 0.21830887\n",
            "Iteration 7, loss = 0.20024144\n",
            "Iteration 8, loss = 0.18441944\n",
            "Iteration 9, loss = 0.17087424\n",
            "Iteration 10, loss = 0.15897569\n"
          ],
          "name": "stdout"
        },
        {
          "output_type": "stream",
          "text": [
            "/usr/local/lib/python3.6/dist-packages/sklearn/neural_network/multilayer_perceptron.py:564: ConvergenceWarning: Stochastic Optimizer: Maximum iterations (10) reached and the optimization hasn't converged yet.\n",
            "  % self.max_iter, ConvergenceWarning)\n"
          ],
          "name": "stderr"
        },
        {
          "output_type": "stream",
          "text": [
            "Iteration 1, loss = 1.01611200\n",
            "Iteration 2, loss = 0.36557715\n",
            "Iteration 3, loss = 0.30053656\n",
            "Iteration 4, loss = 0.26576867\n",
            "Iteration 5, loss = 0.24055892\n",
            "Iteration 6, loss = 0.22014984\n",
            "Iteration 7, loss = 0.20208249\n",
            "Iteration 8, loss = 0.18593039\n",
            "Iteration 9, loss = 0.17181803\n",
            "Iteration 10, loss = 0.15945712\n"
          ],
          "name": "stdout"
        },
        {
          "output_type": "stream",
          "text": [
            "/usr/local/lib/python3.6/dist-packages/sklearn/neural_network/multilayer_perceptron.py:564: ConvergenceWarning: Stochastic Optimizer: Maximum iterations (10) reached and the optimization hasn't converged yet.\n",
            "  % self.max_iter, ConvergenceWarning)\n"
          ],
          "name": "stderr"
        },
        {
          "output_type": "stream",
          "text": [
            "Iteration 1, loss = 1.01879045\n",
            "Iteration 2, loss = 0.37084971\n",
            "Iteration 3, loss = 0.30784821\n",
            "Iteration 4, loss = 0.27355382\n",
            "Iteration 5, loss = 0.24730342\n",
            "Iteration 6, loss = 0.22603186\n",
            "Iteration 7, loss = 0.20681906\n",
            "Iteration 8, loss = 0.19091647\n",
            "Iteration 9, loss = 0.17675984\n",
            "Iteration 10, loss = 0.16435514\n"
          ],
          "name": "stdout"
        },
        {
          "output_type": "stream",
          "text": [
            "/usr/local/lib/python3.6/dist-packages/sklearn/neural_network/multilayer_perceptron.py:564: ConvergenceWarning: Stochastic Optimizer: Maximum iterations (10) reached and the optimization hasn't converged yet.\n",
            "  % self.max_iter, ConvergenceWarning)\n"
          ],
          "name": "stderr"
        },
        {
          "output_type": "stream",
          "text": [
            "Iteration 1, loss = 1.02861172\n",
            "Iteration 2, loss = 0.37398560\n",
            "Iteration 3, loss = 0.30956654\n",
            "Iteration 4, loss = 0.27401312\n",
            "Iteration 5, loss = 0.24577984\n",
            "Iteration 6, loss = 0.22404575\n",
            "Iteration 7, loss = 0.20575267\n",
            "Iteration 8, loss = 0.18965459\n",
            "Iteration 9, loss = 0.17373351\n",
            "Iteration 10, loss = 0.16304400\n"
          ],
          "name": "stdout"
        },
        {
          "output_type": "stream",
          "text": [
            "/usr/local/lib/python3.6/dist-packages/sklearn/neural_network/multilayer_perceptron.py:564: ConvergenceWarning: Stochastic Optimizer: Maximum iterations (10) reached and the optimization hasn't converged yet.\n",
            "  % self.max_iter, ConvergenceWarning)\n"
          ],
          "name": "stderr"
        },
        {
          "output_type": "stream",
          "text": [
            "Iteration 1, loss = 1.02045260\n",
            "Iteration 2, loss = 0.36858804\n",
            "Iteration 3, loss = 0.30634405\n",
            "Iteration 4, loss = 0.27105741\n",
            "Iteration 5, loss = 0.24536138\n",
            "Iteration 6, loss = 0.22383965\n",
            "Iteration 7, loss = 0.20465313\n",
            "Iteration 8, loss = 0.18766724\n",
            "Iteration 9, loss = 0.17467463\n",
            "Iteration 10, loss = 0.16115630\n"
          ],
          "name": "stdout"
        },
        {
          "output_type": "stream",
          "text": [
            "/usr/local/lib/python3.6/dist-packages/sklearn/neural_network/multilayer_perceptron.py:564: ConvergenceWarning: Stochastic Optimizer: Maximum iterations (10) reached and the optimization hasn't converged yet.\n",
            "  % self.max_iter, ConvergenceWarning)\n"
          ],
          "name": "stderr"
        },
        {
          "output_type": "stream",
          "text": [
            "Iteration 1, loss = 1.01399659\n",
            "Iteration 2, loss = 0.36695593\n",
            "Iteration 3, loss = 0.30141071\n",
            "Iteration 4, loss = 0.26637052\n",
            "Iteration 5, loss = 0.23990089\n",
            "Iteration 6, loss = 0.21830887\n",
            "Iteration 7, loss = 0.20024144\n",
            "Iteration 8, loss = 0.18441944\n",
            "Iteration 9, loss = 0.17087424\n",
            "Iteration 10, loss = 0.15897569\n"
          ],
          "name": "stdout"
        },
        {
          "output_type": "stream",
          "text": [
            "/usr/local/lib/python3.6/dist-packages/sklearn/neural_network/multilayer_perceptron.py:564: ConvergenceWarning: Stochastic Optimizer: Maximum iterations (10) reached and the optimization hasn't converged yet.\n",
            "  % self.max_iter, ConvergenceWarning)\n"
          ],
          "name": "stderr"
        },
        {
          "output_type": "stream",
          "text": [
            "Iteration 1, loss = 0.97508172\n",
            "Iteration 2, loss = 0.35297211\n",
            "Iteration 3, loss = 0.29028502\n",
            "Iteration 4, loss = 0.25401278\n",
            "Iteration 5, loss = 0.22824531\n",
            "Iteration 6, loss = 0.20673474\n",
            "Iteration 7, loss = 0.18946558\n",
            "Iteration 8, loss = 0.17409220\n",
            "Iteration 9, loss = 0.16255927\n",
            "Iteration 10, loss = 0.14983724\n",
            "Iteration 11, loss = 0.14011530\n",
            "Iteration 12, loss = 0.13051882\n",
            "Iteration 13, loss = 0.12219828\n",
            "Iteration 14, loss = 0.11448578\n",
            "Iteration 15, loss = 0.10793127\n",
            "Iteration 16, loss = 0.10111506\n",
            "Iteration 17, loss = 0.09599528\n",
            "Iteration 18, loss = 0.09105061\n",
            "Iteration 19, loss = 0.08538039\n",
            "Iteration 20, loss = 0.08209742\n"
          ],
          "name": "stdout"
        },
        {
          "output_type": "stream",
          "text": [
            "/usr/local/lib/python3.6/dist-packages/sklearn/neural_network/multilayer_perceptron.py:564: ConvergenceWarning: Stochastic Optimizer: Maximum iterations (20) reached and the optimization hasn't converged yet.\n",
            "  % self.max_iter, ConvergenceWarning)\n"
          ],
          "name": "stderr"
        },
        {
          "output_type": "stream",
          "text": [
            "Iteration 1, loss = 0.97065383\n",
            "Iteration 2, loss = 0.35911892\n",
            "Iteration 3, loss = 0.29598944\n",
            "Iteration 4, loss = 0.25949815\n",
            "Iteration 5, loss = 0.23455795\n",
            "Iteration 6, loss = 0.21263685\n",
            "Iteration 7, loss = 0.19452880\n",
            "Iteration 8, loss = 0.18036246\n",
            "Iteration 9, loss = 0.16617170\n",
            "Iteration 10, loss = 0.15576118\n",
            "Iteration 11, loss = 0.14472654\n",
            "Iteration 12, loss = 0.13542845\n",
            "Iteration 13, loss = 0.12653393\n",
            "Iteration 14, loss = 0.11896108\n",
            "Iteration 15, loss = 0.11230870\n",
            "Iteration 16, loss = 0.10517968\n",
            "Iteration 17, loss = 0.10017316\n",
            "Iteration 18, loss = 0.09436255\n",
            "Iteration 19, loss = 0.08926725\n",
            "Iteration 20, loss = 0.08463573\n"
          ],
          "name": "stdout"
        },
        {
          "output_type": "stream",
          "text": [
            "/usr/local/lib/python3.6/dist-packages/sklearn/neural_network/multilayer_perceptron.py:564: ConvergenceWarning: Stochastic Optimizer: Maximum iterations (20) reached and the optimization hasn't converged yet.\n",
            "  % self.max_iter, ConvergenceWarning)\n"
          ],
          "name": "stderr"
        },
        {
          "output_type": "stream",
          "text": [
            "Iteration 1, loss = 0.97445995\n",
            "Iteration 2, loss = 0.36241954\n",
            "Iteration 3, loss = 0.29822410\n",
            "Iteration 4, loss = 0.26089966\n",
            "Iteration 5, loss = 0.23551886\n",
            "Iteration 6, loss = 0.21481219\n",
            "Iteration 7, loss = 0.19652071\n",
            "Iteration 8, loss = 0.18114666\n",
            "Iteration 9, loss = 0.16786159\n",
            "Iteration 10, loss = 0.15599246\n",
            "Iteration 11, loss = 0.14609196\n",
            "Iteration 12, loss = 0.13720494\n",
            "Iteration 13, loss = 0.12815865\n",
            "Iteration 14, loss = 0.11975611\n",
            "Iteration 15, loss = 0.11345548\n",
            "Iteration 16, loss = 0.10678671\n",
            "Iteration 17, loss = 0.10136185\n",
            "Iteration 18, loss = 0.09585218\n",
            "Iteration 19, loss = 0.09058581\n",
            "Iteration 20, loss = 0.08610487\n"
          ],
          "name": "stdout"
        },
        {
          "output_type": "stream",
          "text": [
            "/usr/local/lib/python3.6/dist-packages/sklearn/neural_network/multilayer_perceptron.py:564: ConvergenceWarning: Stochastic Optimizer: Maximum iterations (20) reached and the optimization hasn't converged yet.\n",
            "  % self.max_iter, ConvergenceWarning)\n"
          ],
          "name": "stderr"
        },
        {
          "output_type": "stream",
          "text": [
            "Iteration 1, loss = 0.97119956\n",
            "Iteration 2, loss = 0.35948801\n",
            "Iteration 3, loss = 0.29427917\n",
            "Iteration 4, loss = 0.25973231\n",
            "Iteration 5, loss = 0.23468742\n",
            "Iteration 6, loss = 0.21268407\n",
            "Iteration 7, loss = 0.19527473\n",
            "Iteration 8, loss = 0.17918233\n",
            "Iteration 9, loss = 0.16605255\n",
            "Iteration 10, loss = 0.15387660\n",
            "Iteration 11, loss = 0.14395425\n",
            "Iteration 12, loss = 0.13394252\n",
            "Iteration 13, loss = 0.12573314\n",
            "Iteration 14, loss = 0.11871962\n",
            "Iteration 15, loss = 0.11099525\n",
            "Iteration 16, loss = 0.10454553\n",
            "Iteration 17, loss = 0.09882047\n",
            "Iteration 18, loss = 0.09308723\n",
            "Iteration 19, loss = 0.08905674\n",
            "Iteration 20, loss = 0.08419445\n"
          ],
          "name": "stdout"
        },
        {
          "output_type": "stream",
          "text": [
            "/usr/local/lib/python3.6/dist-packages/sklearn/neural_network/multilayer_perceptron.py:564: ConvergenceWarning: Stochastic Optimizer: Maximum iterations (20) reached and the optimization hasn't converged yet.\n",
            "  % self.max_iter, ConvergenceWarning)\n"
          ],
          "name": "stderr"
        },
        {
          "output_type": "stream",
          "text": [
            "Iteration 1, loss = 0.97154388\n",
            "Iteration 2, loss = 0.35679250\n",
            "Iteration 3, loss = 0.29253658\n",
            "Iteration 4, loss = 0.25678419\n",
            "Iteration 5, loss = 0.23101067\n",
            "Iteration 6, loss = 0.21056633\n",
            "Iteration 7, loss = 0.19263010\n",
            "Iteration 8, loss = 0.17636259\n",
            "Iteration 9, loss = 0.16236288\n",
            "Iteration 10, loss = 0.14995187\n",
            "Iteration 11, loss = 0.14009871\n",
            "Iteration 12, loss = 0.13056855\n",
            "Iteration 13, loss = 0.12260649\n",
            "Iteration 14, loss = 0.11338284\n",
            "Iteration 15, loss = 0.10731269\n",
            "Iteration 16, loss = 0.10138744\n",
            "Iteration 17, loss = 0.09575129\n",
            "Iteration 18, loss = 0.09003359\n",
            "Iteration 19, loss = 0.08556759\n",
            "Iteration 20, loss = 0.07991115\n"
          ],
          "name": "stdout"
        },
        {
          "output_type": "stream",
          "text": [
            "/usr/local/lib/python3.6/dist-packages/sklearn/neural_network/multilayer_perceptron.py:564: ConvergenceWarning: Stochastic Optimizer: Maximum iterations (20) reached and the optimization hasn't converged yet.\n",
            "  % self.max_iter, ConvergenceWarning)\n"
          ],
          "name": "stderr"
        },
        {
          "output_type": "stream",
          "text": [
            "Iteration 1, loss = 0.97508172\n",
            "Iteration 2, loss = 0.35297211\n",
            "Iteration 3, loss = 0.29028502\n",
            "Iteration 4, loss = 0.25401278\n",
            "Iteration 5, loss = 0.22824531\n",
            "Iteration 6, loss = 0.20673474\n",
            "Iteration 7, loss = 0.18946558\n",
            "Iteration 8, loss = 0.17409220\n",
            "Iteration 9, loss = 0.16255927\n",
            "Iteration 10, loss = 0.14983724\n",
            "Iteration 11, loss = 0.14011530\n",
            "Iteration 12, loss = 0.13051882\n",
            "Iteration 13, loss = 0.12219828\n",
            "Iteration 14, loss = 0.11448578\n",
            "Iteration 15, loss = 0.10793127\n",
            "Iteration 16, loss = 0.10111506\n",
            "Iteration 17, loss = 0.09599528\n",
            "Iteration 18, loss = 0.09105061\n",
            "Iteration 19, loss = 0.08538039\n",
            "Iteration 20, loss = 0.08209742\n"
          ],
          "name": "stdout"
        },
        {
          "output_type": "stream",
          "text": [
            "/usr/local/lib/python3.6/dist-packages/sklearn/neural_network/multilayer_perceptron.py:564: ConvergenceWarning: Stochastic Optimizer: Maximum iterations (20) reached and the optimization hasn't converged yet.\n",
            "  % self.max_iter, ConvergenceWarning)\n"
          ],
          "name": "stderr"
        },
        {
          "output_type": "stream",
          "text": [
            "Iteration 1, loss = 0.97065383\n",
            "Iteration 2, loss = 0.35911892\n",
            "Iteration 3, loss = 0.29598944\n",
            "Iteration 4, loss = 0.25949815\n",
            "Iteration 5, loss = 0.23455795\n",
            "Iteration 6, loss = 0.21263685\n",
            "Iteration 7, loss = 0.19452880\n",
            "Iteration 8, loss = 0.18036246\n",
            "Iteration 9, loss = 0.16617170\n",
            "Iteration 10, loss = 0.15576118\n",
            "Iteration 11, loss = 0.14472654\n",
            "Iteration 12, loss = 0.13542845\n",
            "Iteration 13, loss = 0.12653393\n",
            "Iteration 14, loss = 0.11896108\n",
            "Iteration 15, loss = 0.11230870\n",
            "Iteration 16, loss = 0.10517968\n",
            "Iteration 17, loss = 0.10017316\n",
            "Iteration 18, loss = 0.09436255\n",
            "Iteration 19, loss = 0.08926725\n",
            "Iteration 20, loss = 0.08463573\n"
          ],
          "name": "stdout"
        },
        {
          "output_type": "stream",
          "text": [
            "/usr/local/lib/python3.6/dist-packages/sklearn/neural_network/multilayer_perceptron.py:564: ConvergenceWarning: Stochastic Optimizer: Maximum iterations (20) reached and the optimization hasn't converged yet.\n",
            "  % self.max_iter, ConvergenceWarning)\n"
          ],
          "name": "stderr"
        },
        {
          "output_type": "stream",
          "text": [
            "Iteration 1, loss = 0.97445995\n",
            "Iteration 2, loss = 0.36241954\n",
            "Iteration 3, loss = 0.29822410\n",
            "Iteration 4, loss = 0.26089966\n",
            "Iteration 5, loss = 0.23551886\n",
            "Iteration 6, loss = 0.21481219\n",
            "Iteration 7, loss = 0.19652071\n",
            "Iteration 8, loss = 0.18114666\n",
            "Iteration 9, loss = 0.16786159\n",
            "Iteration 10, loss = 0.15599246\n",
            "Iteration 11, loss = 0.14609196\n",
            "Iteration 12, loss = 0.13720494\n",
            "Iteration 13, loss = 0.12815865\n",
            "Iteration 14, loss = 0.11975611\n",
            "Iteration 15, loss = 0.11345548\n",
            "Iteration 16, loss = 0.10678671\n",
            "Iteration 17, loss = 0.10136185\n",
            "Iteration 18, loss = 0.09585218\n",
            "Iteration 19, loss = 0.09058581\n",
            "Iteration 20, loss = 0.08610487\n"
          ],
          "name": "stdout"
        },
        {
          "output_type": "stream",
          "text": [
            "/usr/local/lib/python3.6/dist-packages/sklearn/neural_network/multilayer_perceptron.py:564: ConvergenceWarning: Stochastic Optimizer: Maximum iterations (20) reached and the optimization hasn't converged yet.\n",
            "  % self.max_iter, ConvergenceWarning)\n"
          ],
          "name": "stderr"
        },
        {
          "output_type": "stream",
          "text": [
            "Iteration 1, loss = 0.97119956\n",
            "Iteration 2, loss = 0.35948801\n",
            "Iteration 3, loss = 0.29427917\n",
            "Iteration 4, loss = 0.25973231\n",
            "Iteration 5, loss = 0.23468742\n",
            "Iteration 6, loss = 0.21268407\n",
            "Iteration 7, loss = 0.19527473\n",
            "Iteration 8, loss = 0.17918233\n",
            "Iteration 9, loss = 0.16605255\n",
            "Iteration 10, loss = 0.15387660\n",
            "Iteration 11, loss = 0.14395425\n",
            "Iteration 12, loss = 0.13394252\n",
            "Iteration 13, loss = 0.12573314\n",
            "Iteration 14, loss = 0.11871962\n",
            "Iteration 15, loss = 0.11099525\n",
            "Iteration 16, loss = 0.10454553\n",
            "Iteration 17, loss = 0.09882047\n",
            "Iteration 18, loss = 0.09308723\n",
            "Iteration 19, loss = 0.08905674\n",
            "Iteration 20, loss = 0.08419445\n"
          ],
          "name": "stdout"
        },
        {
          "output_type": "stream",
          "text": [
            "/usr/local/lib/python3.6/dist-packages/sklearn/neural_network/multilayer_perceptron.py:564: ConvergenceWarning: Stochastic Optimizer: Maximum iterations (20) reached and the optimization hasn't converged yet.\n",
            "  % self.max_iter, ConvergenceWarning)\n"
          ],
          "name": "stderr"
        },
        {
          "output_type": "stream",
          "text": [
            "Iteration 1, loss = 0.97154388\n",
            "Iteration 2, loss = 0.35679250\n",
            "Iteration 3, loss = 0.29253658\n",
            "Iteration 4, loss = 0.25678419\n",
            "Iteration 5, loss = 0.23101067\n",
            "Iteration 6, loss = 0.21056633\n",
            "Iteration 7, loss = 0.19263010\n",
            "Iteration 8, loss = 0.17636259\n",
            "Iteration 9, loss = 0.16236288\n",
            "Iteration 10, loss = 0.14995187\n",
            "Iteration 11, loss = 0.14009871\n",
            "Iteration 12, loss = 0.13056855\n",
            "Iteration 13, loss = 0.12260649\n",
            "Iteration 14, loss = 0.11338284\n",
            "Iteration 15, loss = 0.10731269\n",
            "Iteration 16, loss = 0.10138744\n",
            "Iteration 17, loss = 0.09575129\n",
            "Iteration 18, loss = 0.09003359\n",
            "Iteration 19, loss = 0.08556759\n",
            "Iteration 20, loss = 0.07991115\n"
          ],
          "name": "stdout"
        },
        {
          "output_type": "stream",
          "text": [
            "/usr/local/lib/python3.6/dist-packages/sklearn/neural_network/multilayer_perceptron.py:564: ConvergenceWarning: Stochastic Optimizer: Maximum iterations (20) reached and the optimization hasn't converged yet.\n",
            "  % self.max_iter, ConvergenceWarning)\n"
          ],
          "name": "stderr"
        },
        {
          "output_type": "stream",
          "text": [
            "Iteration 1, loss = 1.01611200\n",
            "Iteration 2, loss = 0.36557715\n",
            "Iteration 3, loss = 0.30053656\n",
            "Iteration 4, loss = 0.26576867\n",
            "Iteration 5, loss = 0.24055892\n",
            "Iteration 6, loss = 0.22014984\n",
            "Iteration 7, loss = 0.20208249\n",
            "Iteration 8, loss = 0.18593039\n",
            "Iteration 9, loss = 0.17181803\n",
            "Iteration 10, loss = 0.15945712\n",
            "Iteration 11, loss = 0.14870648\n",
            "Iteration 12, loss = 0.13842185\n",
            "Iteration 13, loss = 0.12951880\n",
            "Iteration 14, loss = 0.12169796\n",
            "Iteration 15, loss = 0.11357715\n",
            "Iteration 16, loss = 0.10782430\n",
            "Iteration 17, loss = 0.10172117\n",
            "Iteration 18, loss = 0.09591917\n",
            "Iteration 19, loss = 0.09046611\n",
            "Iteration 20, loss = 0.08518340\n"
          ],
          "name": "stdout"
        },
        {
          "output_type": "stream",
          "text": [
            "/usr/local/lib/python3.6/dist-packages/sklearn/neural_network/multilayer_perceptron.py:564: ConvergenceWarning: Stochastic Optimizer: Maximum iterations (20) reached and the optimization hasn't converged yet.\n",
            "  % self.max_iter, ConvergenceWarning)\n"
          ],
          "name": "stderr"
        },
        {
          "output_type": "stream",
          "text": [
            "Iteration 1, loss = 1.01879045\n",
            "Iteration 2, loss = 0.37084971\n",
            "Iteration 3, loss = 0.30784821\n",
            "Iteration 4, loss = 0.27355382\n",
            "Iteration 5, loss = 0.24730342\n",
            "Iteration 6, loss = 0.22603186\n",
            "Iteration 7, loss = 0.20681906\n",
            "Iteration 8, loss = 0.19091647\n",
            "Iteration 9, loss = 0.17675984\n",
            "Iteration 10, loss = 0.16435514\n",
            "Iteration 11, loss = 0.15296398\n",
            "Iteration 12, loss = 0.14390323\n",
            "Iteration 13, loss = 0.13378568\n",
            "Iteration 14, loss = 0.12565456\n",
            "Iteration 15, loss = 0.11803360\n",
            "Iteration 16, loss = 0.11136400\n",
            "Iteration 17, loss = 0.10575965\n",
            "Iteration 18, loss = 0.09815050\n",
            "Iteration 19, loss = 0.09408306\n",
            "Iteration 20, loss = 0.08805157\n"
          ],
          "name": "stdout"
        },
        {
          "output_type": "stream",
          "text": [
            "/usr/local/lib/python3.6/dist-packages/sklearn/neural_network/multilayer_perceptron.py:564: ConvergenceWarning: Stochastic Optimizer: Maximum iterations (20) reached and the optimization hasn't converged yet.\n",
            "  % self.max_iter, ConvergenceWarning)\n"
          ],
          "name": "stderr"
        },
        {
          "output_type": "stream",
          "text": [
            "Iteration 1, loss = 1.02861172\n",
            "Iteration 2, loss = 0.37398560\n",
            "Iteration 3, loss = 0.30956654\n",
            "Iteration 4, loss = 0.27401312\n",
            "Iteration 5, loss = 0.24577984\n",
            "Iteration 6, loss = 0.22404575\n",
            "Iteration 7, loss = 0.20575267\n",
            "Iteration 8, loss = 0.18965459\n",
            "Iteration 9, loss = 0.17373351\n",
            "Iteration 10, loss = 0.16304400\n",
            "Iteration 11, loss = 0.15210572\n",
            "Iteration 12, loss = 0.14196096\n",
            "Iteration 13, loss = 0.13351877\n",
            "Iteration 14, loss = 0.12399627\n",
            "Iteration 15, loss = 0.11697067\n",
            "Iteration 16, loss = 0.10970066\n",
            "Iteration 17, loss = 0.10519246\n",
            "Iteration 18, loss = 0.09826397\n",
            "Iteration 19, loss = 0.09272496\n",
            "Iteration 20, loss = 0.08855126\n"
          ],
          "name": "stdout"
        },
        {
          "output_type": "stream",
          "text": [
            "/usr/local/lib/python3.6/dist-packages/sklearn/neural_network/multilayer_perceptron.py:564: ConvergenceWarning: Stochastic Optimizer: Maximum iterations (20) reached and the optimization hasn't converged yet.\n",
            "  % self.max_iter, ConvergenceWarning)\n"
          ],
          "name": "stderr"
        },
        {
          "output_type": "stream",
          "text": [
            "Iteration 1, loss = 1.02045260\n",
            "Iteration 2, loss = 0.36858804\n",
            "Iteration 3, loss = 0.30634405\n",
            "Iteration 4, loss = 0.27105741\n",
            "Iteration 5, loss = 0.24536138\n",
            "Iteration 6, loss = 0.22383965\n",
            "Iteration 7, loss = 0.20465313\n",
            "Iteration 8, loss = 0.18766724\n",
            "Iteration 9, loss = 0.17467463\n",
            "Iteration 10, loss = 0.16115630\n",
            "Iteration 11, loss = 0.15025952\n",
            "Iteration 12, loss = 0.13964586\n",
            "Iteration 13, loss = 0.13094852\n",
            "Iteration 14, loss = 0.12215775\n",
            "Iteration 15, loss = 0.11523009\n",
            "Iteration 16, loss = 0.10766320\n",
            "Iteration 17, loss = 0.10253146\n",
            "Iteration 18, loss = 0.09655412\n",
            "Iteration 19, loss = 0.09199304\n",
            "Iteration 20, loss = 0.08689011\n"
          ],
          "name": "stdout"
        },
        {
          "output_type": "stream",
          "text": [
            "/usr/local/lib/python3.6/dist-packages/sklearn/neural_network/multilayer_perceptron.py:564: ConvergenceWarning: Stochastic Optimizer: Maximum iterations (20) reached and the optimization hasn't converged yet.\n",
            "  % self.max_iter, ConvergenceWarning)\n"
          ],
          "name": "stderr"
        },
        {
          "output_type": "stream",
          "text": [
            "Iteration 1, loss = 1.01399659\n",
            "Iteration 2, loss = 0.36695593\n",
            "Iteration 3, loss = 0.30141071\n",
            "Iteration 4, loss = 0.26637052\n",
            "Iteration 5, loss = 0.23990089\n",
            "Iteration 6, loss = 0.21830887\n",
            "Iteration 7, loss = 0.20024144\n",
            "Iteration 8, loss = 0.18441944\n",
            "Iteration 9, loss = 0.17087424\n",
            "Iteration 10, loss = 0.15897569\n",
            "Iteration 11, loss = 0.14806933\n",
            "Iteration 12, loss = 0.13792347\n",
            "Iteration 13, loss = 0.12807349\n",
            "Iteration 14, loss = 0.12035582\n",
            "Iteration 15, loss = 0.11298863\n",
            "Iteration 16, loss = 0.10583800\n",
            "Iteration 17, loss = 0.09962478\n",
            "Iteration 18, loss = 0.09392636\n",
            "Iteration 19, loss = 0.08819873\n",
            "Iteration 20, loss = 0.08327532\n"
          ],
          "name": "stdout"
        },
        {
          "output_type": "stream",
          "text": [
            "/usr/local/lib/python3.6/dist-packages/sklearn/neural_network/multilayer_perceptron.py:564: ConvergenceWarning: Stochastic Optimizer: Maximum iterations (20) reached and the optimization hasn't converged yet.\n",
            "  % self.max_iter, ConvergenceWarning)\n"
          ],
          "name": "stderr"
        },
        {
          "output_type": "stream",
          "text": [
            "Iteration 1, loss = 1.01611200\n",
            "Iteration 2, loss = 0.36557715\n",
            "Iteration 3, loss = 0.30053656\n",
            "Iteration 4, loss = 0.26576867\n",
            "Iteration 5, loss = 0.24055892\n",
            "Iteration 6, loss = 0.22014984\n",
            "Iteration 7, loss = 0.20208249\n",
            "Iteration 8, loss = 0.18593039\n",
            "Iteration 9, loss = 0.17181803\n",
            "Iteration 10, loss = 0.15945712\n",
            "Iteration 11, loss = 0.14870648\n",
            "Iteration 12, loss = 0.13842185\n",
            "Iteration 13, loss = 0.12951880\n",
            "Iteration 14, loss = 0.12169796\n",
            "Iteration 15, loss = 0.11357715\n",
            "Iteration 16, loss = 0.10782430\n",
            "Iteration 17, loss = 0.10172117\n",
            "Iteration 18, loss = 0.09591917\n",
            "Iteration 19, loss = 0.09046611\n",
            "Iteration 20, loss = 0.08518340\n"
          ],
          "name": "stdout"
        },
        {
          "output_type": "stream",
          "text": [
            "/usr/local/lib/python3.6/dist-packages/sklearn/neural_network/multilayer_perceptron.py:564: ConvergenceWarning: Stochastic Optimizer: Maximum iterations (20) reached and the optimization hasn't converged yet.\n",
            "  % self.max_iter, ConvergenceWarning)\n"
          ],
          "name": "stderr"
        },
        {
          "output_type": "stream",
          "text": [
            "Iteration 1, loss = 1.01879045\n",
            "Iteration 2, loss = 0.37084971\n",
            "Iteration 3, loss = 0.30784821\n",
            "Iteration 4, loss = 0.27355382\n",
            "Iteration 5, loss = 0.24730342\n",
            "Iteration 6, loss = 0.22603186\n",
            "Iteration 7, loss = 0.20681906\n",
            "Iteration 8, loss = 0.19091647\n",
            "Iteration 9, loss = 0.17675984\n",
            "Iteration 10, loss = 0.16435514\n",
            "Iteration 11, loss = 0.15296398\n",
            "Iteration 12, loss = 0.14390323\n",
            "Iteration 13, loss = 0.13378568\n",
            "Iteration 14, loss = 0.12565456\n",
            "Iteration 15, loss = 0.11803360\n",
            "Iteration 16, loss = 0.11136400\n",
            "Iteration 17, loss = 0.10575965\n",
            "Iteration 18, loss = 0.09815050\n",
            "Iteration 19, loss = 0.09408306\n",
            "Iteration 20, loss = 0.08805157\n"
          ],
          "name": "stdout"
        },
        {
          "output_type": "stream",
          "text": [
            "/usr/local/lib/python3.6/dist-packages/sklearn/neural_network/multilayer_perceptron.py:564: ConvergenceWarning: Stochastic Optimizer: Maximum iterations (20) reached and the optimization hasn't converged yet.\n",
            "  % self.max_iter, ConvergenceWarning)\n"
          ],
          "name": "stderr"
        },
        {
          "output_type": "stream",
          "text": [
            "Iteration 1, loss = 1.02861172\n",
            "Iteration 2, loss = 0.37398560\n",
            "Iteration 3, loss = 0.30956654\n",
            "Iteration 4, loss = 0.27401312\n",
            "Iteration 5, loss = 0.24577984\n",
            "Iteration 6, loss = 0.22404575\n",
            "Iteration 7, loss = 0.20575267\n",
            "Iteration 8, loss = 0.18965459\n",
            "Iteration 9, loss = 0.17373351\n",
            "Iteration 10, loss = 0.16304400\n",
            "Iteration 11, loss = 0.15210572\n",
            "Iteration 12, loss = 0.14196096\n",
            "Iteration 13, loss = 0.13351877\n",
            "Iteration 14, loss = 0.12399627\n",
            "Iteration 15, loss = 0.11697067\n",
            "Iteration 16, loss = 0.10970066\n",
            "Iteration 17, loss = 0.10519246\n",
            "Iteration 18, loss = 0.09826397\n",
            "Iteration 19, loss = 0.09272496\n",
            "Iteration 20, loss = 0.08855126\n"
          ],
          "name": "stdout"
        },
        {
          "output_type": "stream",
          "text": [
            "/usr/local/lib/python3.6/dist-packages/sklearn/neural_network/multilayer_perceptron.py:564: ConvergenceWarning: Stochastic Optimizer: Maximum iterations (20) reached and the optimization hasn't converged yet.\n",
            "  % self.max_iter, ConvergenceWarning)\n"
          ],
          "name": "stderr"
        },
        {
          "output_type": "stream",
          "text": [
            "Iteration 1, loss = 1.02045260\n",
            "Iteration 2, loss = 0.36858804\n",
            "Iteration 3, loss = 0.30634405\n",
            "Iteration 4, loss = 0.27105741\n",
            "Iteration 5, loss = 0.24536138\n",
            "Iteration 6, loss = 0.22383965\n",
            "Iteration 7, loss = 0.20465313\n",
            "Iteration 8, loss = 0.18766724\n",
            "Iteration 9, loss = 0.17467463\n",
            "Iteration 10, loss = 0.16115630\n",
            "Iteration 11, loss = 0.15025952\n",
            "Iteration 12, loss = 0.13964586\n",
            "Iteration 13, loss = 0.13094852\n",
            "Iteration 14, loss = 0.12215775\n",
            "Iteration 15, loss = 0.11523009\n",
            "Iteration 16, loss = 0.10766320\n",
            "Iteration 17, loss = 0.10253146\n",
            "Iteration 18, loss = 0.09655412\n",
            "Iteration 19, loss = 0.09199304\n",
            "Iteration 20, loss = 0.08689011\n"
          ],
          "name": "stdout"
        },
        {
          "output_type": "stream",
          "text": [
            "/usr/local/lib/python3.6/dist-packages/sklearn/neural_network/multilayer_perceptron.py:564: ConvergenceWarning: Stochastic Optimizer: Maximum iterations (20) reached and the optimization hasn't converged yet.\n",
            "  % self.max_iter, ConvergenceWarning)\n"
          ],
          "name": "stderr"
        },
        {
          "output_type": "stream",
          "text": [
            "Iteration 1, loss = 1.01399659\n",
            "Iteration 2, loss = 0.36695593\n",
            "Iteration 3, loss = 0.30141071\n",
            "Iteration 4, loss = 0.26637052\n",
            "Iteration 5, loss = 0.23990089\n",
            "Iteration 6, loss = 0.21830887\n",
            "Iteration 7, loss = 0.20024144\n",
            "Iteration 8, loss = 0.18441944\n",
            "Iteration 9, loss = 0.17087424\n",
            "Iteration 10, loss = 0.15897569\n",
            "Iteration 11, loss = 0.14806933\n",
            "Iteration 12, loss = 0.13792347\n",
            "Iteration 13, loss = 0.12807349\n",
            "Iteration 14, loss = 0.12035582\n",
            "Iteration 15, loss = 0.11298863\n",
            "Iteration 16, loss = 0.10583800\n",
            "Iteration 17, loss = 0.09962478\n",
            "Iteration 18, loss = 0.09392636\n",
            "Iteration 19, loss = 0.08819873\n",
            "Iteration 20, loss = 0.08327532\n"
          ],
          "name": "stdout"
        },
        {
          "output_type": "stream",
          "text": [
            "/usr/local/lib/python3.6/dist-packages/sklearn/neural_network/multilayer_perceptron.py:564: ConvergenceWarning: Stochastic Optimizer: Maximum iterations (20) reached and the optimization hasn't converged yet.\n",
            "  % self.max_iter, ConvergenceWarning)\n"
          ],
          "name": "stderr"
        },
        {
          "output_type": "stream",
          "text": [
            "Iteration 1, loss = 0.42489874\n",
            "Iteration 2, loss = 0.19158176\n",
            "Iteration 3, loss = 0.13389729\n",
            "Iteration 4, loss = 0.10026654\n",
            "Iteration 5, loss = 0.07862848\n",
            "Iteration 6, loss = 0.06341762\n",
            "Iteration 7, loss = 0.05189173\n",
            "Iteration 8, loss = 0.04426355\n",
            "Iteration 9, loss = 0.03644101\n",
            "Iteration 10, loss = 0.02964865\n"
          ],
          "name": "stdout"
        },
        {
          "output_type": "stream",
          "text": [
            "/usr/local/lib/python3.6/dist-packages/sklearn/neural_network/multilayer_perceptron.py:564: ConvergenceWarning: Stochastic Optimizer: Maximum iterations (10) reached and the optimization hasn't converged yet.\n",
            "  % self.max_iter, ConvergenceWarning)\n"
          ],
          "name": "stderr"
        },
        {
          "output_type": "stream",
          "text": [
            "Iteration 1, loss = 0.42649748\n",
            "Iteration 2, loss = 0.19621913\n",
            "Iteration 3, loss = 0.13741589\n",
            "Iteration 4, loss = 0.10622174\n",
            "Iteration 5, loss = 0.08301688\n",
            "Iteration 6, loss = 0.06798917\n",
            "Iteration 7, loss = 0.05667368\n",
            "Iteration 8, loss = 0.04692433\n",
            "Iteration 9, loss = 0.03855904\n",
            "Iteration 10, loss = 0.03310381\n"
          ],
          "name": "stdout"
        },
        {
          "output_type": "stream",
          "text": [
            "/usr/local/lib/python3.6/dist-packages/sklearn/neural_network/multilayer_perceptron.py:564: ConvergenceWarning: Stochastic Optimizer: Maximum iterations (10) reached and the optimization hasn't converged yet.\n",
            "  % self.max_iter, ConvergenceWarning)\n"
          ],
          "name": "stderr"
        },
        {
          "output_type": "stream",
          "text": [
            "Iteration 1, loss = 0.42777975\n",
            "Iteration 2, loss = 0.19764905\n",
            "Iteration 3, loss = 0.13871502\n",
            "Iteration 4, loss = 0.10552021\n",
            "Iteration 5, loss = 0.08358804\n",
            "Iteration 6, loss = 0.06872248\n",
            "Iteration 7, loss = 0.05547670\n",
            "Iteration 8, loss = 0.04772791\n",
            "Iteration 9, loss = 0.03931609\n",
            "Iteration 10, loss = 0.03188829\n"
          ],
          "name": "stdout"
        },
        {
          "output_type": "stream",
          "text": [
            "/usr/local/lib/python3.6/dist-packages/sklearn/neural_network/multilayer_perceptron.py:564: ConvergenceWarning: Stochastic Optimizer: Maximum iterations (10) reached and the optimization hasn't converged yet.\n",
            "  % self.max_iter, ConvergenceWarning)\n"
          ],
          "name": "stderr"
        },
        {
          "output_type": "stream",
          "text": [
            "Iteration 1, loss = 0.42890424\n",
            "Iteration 2, loss = 0.19274400\n",
            "Iteration 3, loss = 0.13535250\n",
            "Iteration 4, loss = 0.10330491\n",
            "Iteration 5, loss = 0.08058964\n",
            "Iteration 6, loss = 0.06440222\n",
            "Iteration 7, loss = 0.05294528\n",
            "Iteration 8, loss = 0.04398362\n",
            "Iteration 9, loss = 0.03637382\n",
            "Iteration 10, loss = 0.02973347\n"
          ],
          "name": "stdout"
        },
        {
          "output_type": "stream",
          "text": [
            "/usr/local/lib/python3.6/dist-packages/sklearn/neural_network/multilayer_perceptron.py:564: ConvergenceWarning: Stochastic Optimizer: Maximum iterations (10) reached and the optimization hasn't converged yet.\n",
            "  % self.max_iter, ConvergenceWarning)\n"
          ],
          "name": "stderr"
        },
        {
          "output_type": "stream",
          "text": [
            "Iteration 1, loss = 0.42458449\n",
            "Iteration 2, loss = 0.19097303\n",
            "Iteration 3, loss = 0.13488374\n",
            "Iteration 4, loss = 0.10032355\n",
            "Iteration 5, loss = 0.08040338\n",
            "Iteration 6, loss = 0.06402214\n",
            "Iteration 7, loss = 0.05317304\n",
            "Iteration 8, loss = 0.04395483\n",
            "Iteration 9, loss = 0.03638089\n",
            "Iteration 10, loss = 0.03029969\n"
          ],
          "name": "stdout"
        },
        {
          "output_type": "stream",
          "text": [
            "/usr/local/lib/python3.6/dist-packages/sklearn/neural_network/multilayer_perceptron.py:564: ConvergenceWarning: Stochastic Optimizer: Maximum iterations (10) reached and the optimization hasn't converged yet.\n",
            "  % self.max_iter, ConvergenceWarning)\n"
          ],
          "name": "stderr"
        },
        {
          "output_type": "stream",
          "text": [
            "Iteration 1, loss = 0.42489874\n",
            "Iteration 2, loss = 0.19158176\n",
            "Iteration 3, loss = 0.13389729\n",
            "Iteration 4, loss = 0.10026654\n",
            "Iteration 5, loss = 0.07862848\n",
            "Iteration 6, loss = 0.06341762\n",
            "Iteration 7, loss = 0.05189173\n",
            "Iteration 8, loss = 0.04426355\n",
            "Iteration 9, loss = 0.03644101\n",
            "Iteration 10, loss = 0.02964865\n"
          ],
          "name": "stdout"
        },
        {
          "output_type": "stream",
          "text": [
            "/usr/local/lib/python3.6/dist-packages/sklearn/neural_network/multilayer_perceptron.py:564: ConvergenceWarning: Stochastic Optimizer: Maximum iterations (10) reached and the optimization hasn't converged yet.\n",
            "  % self.max_iter, ConvergenceWarning)\n"
          ],
          "name": "stderr"
        },
        {
          "output_type": "stream",
          "text": [
            "Iteration 1, loss = 0.42649748\n",
            "Iteration 2, loss = 0.19621913\n",
            "Iteration 3, loss = 0.13741589\n",
            "Iteration 4, loss = 0.10622174\n",
            "Iteration 5, loss = 0.08301688\n",
            "Iteration 6, loss = 0.06798917\n",
            "Iteration 7, loss = 0.05667368\n",
            "Iteration 8, loss = 0.04692433\n",
            "Iteration 9, loss = 0.03855904\n",
            "Iteration 10, loss = 0.03310381\n"
          ],
          "name": "stdout"
        },
        {
          "output_type": "stream",
          "text": [
            "/usr/local/lib/python3.6/dist-packages/sklearn/neural_network/multilayer_perceptron.py:564: ConvergenceWarning: Stochastic Optimizer: Maximum iterations (10) reached and the optimization hasn't converged yet.\n",
            "  % self.max_iter, ConvergenceWarning)\n"
          ],
          "name": "stderr"
        },
        {
          "output_type": "stream",
          "text": [
            "Iteration 1, loss = 0.42777975\n",
            "Iteration 2, loss = 0.19764905\n",
            "Iteration 3, loss = 0.13871502\n",
            "Iteration 4, loss = 0.10552021\n",
            "Iteration 5, loss = 0.08358804\n",
            "Iteration 6, loss = 0.06872248\n",
            "Iteration 7, loss = 0.05547670\n",
            "Iteration 8, loss = 0.04772791\n",
            "Iteration 9, loss = 0.03931609\n",
            "Iteration 10, loss = 0.03188829\n"
          ],
          "name": "stdout"
        },
        {
          "output_type": "stream",
          "text": [
            "/usr/local/lib/python3.6/dist-packages/sklearn/neural_network/multilayer_perceptron.py:564: ConvergenceWarning: Stochastic Optimizer: Maximum iterations (10) reached and the optimization hasn't converged yet.\n",
            "  % self.max_iter, ConvergenceWarning)\n"
          ],
          "name": "stderr"
        },
        {
          "output_type": "stream",
          "text": [
            "Iteration 1, loss = 0.42890424\n",
            "Iteration 2, loss = 0.19274400\n",
            "Iteration 3, loss = 0.13535250\n",
            "Iteration 4, loss = 0.10330491\n",
            "Iteration 5, loss = 0.08058964\n",
            "Iteration 6, loss = 0.06440222\n",
            "Iteration 7, loss = 0.05294528\n",
            "Iteration 8, loss = 0.04398362\n",
            "Iteration 9, loss = 0.03637382\n",
            "Iteration 10, loss = 0.02973347\n"
          ],
          "name": "stdout"
        },
        {
          "output_type": "stream",
          "text": [
            "/usr/local/lib/python3.6/dist-packages/sklearn/neural_network/multilayer_perceptron.py:564: ConvergenceWarning: Stochastic Optimizer: Maximum iterations (10) reached and the optimization hasn't converged yet.\n",
            "  % self.max_iter, ConvergenceWarning)\n"
          ],
          "name": "stderr"
        },
        {
          "output_type": "stream",
          "text": [
            "Iteration 1, loss = 0.42458449\n",
            "Iteration 2, loss = 0.19097303\n",
            "Iteration 3, loss = 0.13488374\n",
            "Iteration 4, loss = 0.10032355\n",
            "Iteration 5, loss = 0.08040338\n",
            "Iteration 6, loss = 0.06402214\n",
            "Iteration 7, loss = 0.05317304\n",
            "Iteration 8, loss = 0.04395483\n",
            "Iteration 9, loss = 0.03638089\n",
            "Iteration 10, loss = 0.03029969\n"
          ],
          "name": "stdout"
        },
        {
          "output_type": "stream",
          "text": [
            "/usr/local/lib/python3.6/dist-packages/sklearn/neural_network/multilayer_perceptron.py:564: ConvergenceWarning: Stochastic Optimizer: Maximum iterations (10) reached and the optimization hasn't converged yet.\n",
            "  % self.max_iter, ConvergenceWarning)\n"
          ],
          "name": "stderr"
        },
        {
          "output_type": "stream",
          "text": [
            "Iteration 1, loss = 0.41373396\n",
            "Iteration 2, loss = 0.18079188\n",
            "Iteration 3, loss = 0.12911929\n",
            "Iteration 4, loss = 0.09942857\n",
            "Iteration 5, loss = 0.07761340\n",
            "Iteration 6, loss = 0.06360308\n",
            "Iteration 7, loss = 0.05372567\n",
            "Iteration 8, loss = 0.04344496\n",
            "Iteration 9, loss = 0.03654847\n",
            "Iteration 10, loss = 0.03082575\n"
          ],
          "name": "stdout"
        },
        {
          "output_type": "stream",
          "text": [
            "/usr/local/lib/python3.6/dist-packages/sklearn/neural_network/multilayer_perceptron.py:564: ConvergenceWarning: Stochastic Optimizer: Maximum iterations (10) reached and the optimization hasn't converged yet.\n",
            "  % self.max_iter, ConvergenceWarning)\n"
          ],
          "name": "stderr"
        },
        {
          "output_type": "stream",
          "text": [
            "Iteration 1, loss = 0.41923875\n",
            "Iteration 2, loss = 0.19076394\n",
            "Iteration 3, loss = 0.13377351\n",
            "Iteration 4, loss = 0.10284032\n",
            "Iteration 5, loss = 0.08301187\n",
            "Iteration 6, loss = 0.06756312\n",
            "Iteration 7, loss = 0.05574855\n",
            "Iteration 8, loss = 0.04607166\n",
            "Iteration 9, loss = 0.03682554\n",
            "Iteration 10, loss = 0.03122918\n"
          ],
          "name": "stdout"
        },
        {
          "output_type": "stream",
          "text": [
            "/usr/local/lib/python3.6/dist-packages/sklearn/neural_network/multilayer_perceptron.py:564: ConvergenceWarning: Stochastic Optimizer: Maximum iterations (10) reached and the optimization hasn't converged yet.\n",
            "  % self.max_iter, ConvergenceWarning)\n"
          ],
          "name": "stderr"
        },
        {
          "output_type": "stream",
          "text": [
            "Iteration 1, loss = 0.42109282\n",
            "Iteration 2, loss = 0.18716844\n",
            "Iteration 3, loss = 0.13325850\n",
            "Iteration 4, loss = 0.10191067\n",
            "Iteration 5, loss = 0.08172114\n",
            "Iteration 6, loss = 0.06642481\n",
            "Iteration 7, loss = 0.05506787\n",
            "Iteration 8, loss = 0.04492070\n",
            "Iteration 9, loss = 0.03713696\n",
            "Iteration 10, loss = 0.03165067\n"
          ],
          "name": "stdout"
        },
        {
          "output_type": "stream",
          "text": [
            "/usr/local/lib/python3.6/dist-packages/sklearn/neural_network/multilayer_perceptron.py:564: ConvergenceWarning: Stochastic Optimizer: Maximum iterations (10) reached and the optimization hasn't converged yet.\n",
            "  % self.max_iter, ConvergenceWarning)\n"
          ],
          "name": "stderr"
        },
        {
          "output_type": "stream",
          "text": [
            "Iteration 1, loss = 0.41875719\n",
            "Iteration 2, loss = 0.18461012\n",
            "Iteration 3, loss = 0.13160908\n",
            "Iteration 4, loss = 0.10134069\n",
            "Iteration 5, loss = 0.08077172\n",
            "Iteration 6, loss = 0.06611925\n",
            "Iteration 7, loss = 0.05561822\n",
            "Iteration 8, loss = 0.04450541\n",
            "Iteration 9, loss = 0.03747444\n",
            "Iteration 10, loss = 0.03123654\n"
          ],
          "name": "stdout"
        },
        {
          "output_type": "stream",
          "text": [
            "/usr/local/lib/python3.6/dist-packages/sklearn/neural_network/multilayer_perceptron.py:564: ConvergenceWarning: Stochastic Optimizer: Maximum iterations (10) reached and the optimization hasn't converged yet.\n",
            "  % self.max_iter, ConvergenceWarning)\n"
          ],
          "name": "stderr"
        },
        {
          "output_type": "stream",
          "text": [
            "Iteration 1, loss = 0.41348653\n",
            "Iteration 2, loss = 0.18367964\n",
            "Iteration 3, loss = 0.13004661\n",
            "Iteration 4, loss = 0.10019440\n",
            "Iteration 5, loss = 0.08072781\n",
            "Iteration 6, loss = 0.06592316\n",
            "Iteration 7, loss = 0.05328274\n",
            "Iteration 8, loss = 0.04508676\n",
            "Iteration 9, loss = 0.03843333\n",
            "Iteration 10, loss = 0.03179313\n"
          ],
          "name": "stdout"
        },
        {
          "output_type": "stream",
          "text": [
            "/usr/local/lib/python3.6/dist-packages/sklearn/neural_network/multilayer_perceptron.py:564: ConvergenceWarning: Stochastic Optimizer: Maximum iterations (10) reached and the optimization hasn't converged yet.\n",
            "  % self.max_iter, ConvergenceWarning)\n"
          ],
          "name": "stderr"
        },
        {
          "output_type": "stream",
          "text": [
            "Iteration 1, loss = 0.41373396\n",
            "Iteration 2, loss = 0.18079188\n",
            "Iteration 3, loss = 0.12911929\n",
            "Iteration 4, loss = 0.09942857\n",
            "Iteration 5, loss = 0.07761340\n",
            "Iteration 6, loss = 0.06360308\n",
            "Iteration 7, loss = 0.05372567\n",
            "Iteration 8, loss = 0.04344496\n",
            "Iteration 9, loss = 0.03654847\n",
            "Iteration 10, loss = 0.03082575\n"
          ],
          "name": "stdout"
        },
        {
          "output_type": "stream",
          "text": [
            "/usr/local/lib/python3.6/dist-packages/sklearn/neural_network/multilayer_perceptron.py:564: ConvergenceWarning: Stochastic Optimizer: Maximum iterations (10) reached and the optimization hasn't converged yet.\n",
            "  % self.max_iter, ConvergenceWarning)\n"
          ],
          "name": "stderr"
        },
        {
          "output_type": "stream",
          "text": [
            "Iteration 1, loss = 0.41923875\n",
            "Iteration 2, loss = 0.19076394\n",
            "Iteration 3, loss = 0.13377351\n",
            "Iteration 4, loss = 0.10284032\n",
            "Iteration 5, loss = 0.08301187\n",
            "Iteration 6, loss = 0.06756312\n",
            "Iteration 7, loss = 0.05574855\n",
            "Iteration 8, loss = 0.04607166\n",
            "Iteration 9, loss = 0.03682554\n",
            "Iteration 10, loss = 0.03122918\n"
          ],
          "name": "stdout"
        },
        {
          "output_type": "stream",
          "text": [
            "/usr/local/lib/python3.6/dist-packages/sklearn/neural_network/multilayer_perceptron.py:564: ConvergenceWarning: Stochastic Optimizer: Maximum iterations (10) reached and the optimization hasn't converged yet.\n",
            "  % self.max_iter, ConvergenceWarning)\n"
          ],
          "name": "stderr"
        },
        {
          "output_type": "stream",
          "text": [
            "Iteration 1, loss = 0.42109282\n",
            "Iteration 2, loss = 0.18716844\n",
            "Iteration 3, loss = 0.13325850\n",
            "Iteration 4, loss = 0.10191067\n",
            "Iteration 5, loss = 0.08172114\n",
            "Iteration 6, loss = 0.06642481\n",
            "Iteration 7, loss = 0.05506787\n",
            "Iteration 8, loss = 0.04492070\n",
            "Iteration 9, loss = 0.03713696\n",
            "Iteration 10, loss = 0.03165067\n"
          ],
          "name": "stdout"
        },
        {
          "output_type": "stream",
          "text": [
            "/usr/local/lib/python3.6/dist-packages/sklearn/neural_network/multilayer_perceptron.py:564: ConvergenceWarning: Stochastic Optimizer: Maximum iterations (10) reached and the optimization hasn't converged yet.\n",
            "  % self.max_iter, ConvergenceWarning)\n"
          ],
          "name": "stderr"
        },
        {
          "output_type": "stream",
          "text": [
            "Iteration 1, loss = 0.41875719\n",
            "Iteration 2, loss = 0.18461012\n",
            "Iteration 3, loss = 0.13160908\n",
            "Iteration 4, loss = 0.10134069\n",
            "Iteration 5, loss = 0.08077172\n",
            "Iteration 6, loss = 0.06611925\n",
            "Iteration 7, loss = 0.05561822\n",
            "Iteration 8, loss = 0.04450541\n",
            "Iteration 9, loss = 0.03747444\n",
            "Iteration 10, loss = 0.03123654\n"
          ],
          "name": "stdout"
        },
        {
          "output_type": "stream",
          "text": [
            "/usr/local/lib/python3.6/dist-packages/sklearn/neural_network/multilayer_perceptron.py:564: ConvergenceWarning: Stochastic Optimizer: Maximum iterations (10) reached and the optimization hasn't converged yet.\n",
            "  % self.max_iter, ConvergenceWarning)\n"
          ],
          "name": "stderr"
        },
        {
          "output_type": "stream",
          "text": [
            "Iteration 1, loss = 0.41348653\n",
            "Iteration 2, loss = 0.18367964\n",
            "Iteration 3, loss = 0.13004661\n",
            "Iteration 4, loss = 0.10019440\n",
            "Iteration 5, loss = 0.08072781\n",
            "Iteration 6, loss = 0.06592316\n",
            "Iteration 7, loss = 0.05328274\n",
            "Iteration 8, loss = 0.04508676\n",
            "Iteration 9, loss = 0.03843333\n",
            "Iteration 10, loss = 0.03179313\n"
          ],
          "name": "stdout"
        },
        {
          "output_type": "stream",
          "text": [
            "/usr/local/lib/python3.6/dist-packages/sklearn/neural_network/multilayer_perceptron.py:564: ConvergenceWarning: Stochastic Optimizer: Maximum iterations (10) reached and the optimization hasn't converged yet.\n",
            "  % self.max_iter, ConvergenceWarning)\n"
          ],
          "name": "stderr"
        },
        {
          "output_type": "stream",
          "text": [
            "Iteration 1, loss = 0.42489874\n",
            "Iteration 2, loss = 0.19158176\n",
            "Iteration 3, loss = 0.13389729\n",
            "Iteration 4, loss = 0.10026654\n",
            "Iteration 5, loss = 0.07862848\n",
            "Iteration 6, loss = 0.06341762\n",
            "Iteration 7, loss = 0.05189173\n",
            "Iteration 8, loss = 0.04426355\n",
            "Iteration 9, loss = 0.03644101\n",
            "Iteration 10, loss = 0.02964865\n",
            "Iteration 11, loss = 0.02483235\n",
            "Iteration 12, loss = 0.02204318\n",
            "Iteration 13, loss = 0.01827860\n",
            "Iteration 14, loss = 0.01575461\n",
            "Iteration 15, loss = 0.01336938\n",
            "Iteration 16, loss = 0.01159454\n",
            "Iteration 17, loss = 0.01014919\n",
            "Iteration 18, loss = 0.00908126\n",
            "Iteration 19, loss = 0.00810358\n",
            "Iteration 20, loss = 0.00723087\n"
          ],
          "name": "stdout"
        },
        {
          "output_type": "stream",
          "text": [
            "/usr/local/lib/python3.6/dist-packages/sklearn/neural_network/multilayer_perceptron.py:564: ConvergenceWarning: Stochastic Optimizer: Maximum iterations (20) reached and the optimization hasn't converged yet.\n",
            "  % self.max_iter, ConvergenceWarning)\n"
          ],
          "name": "stderr"
        },
        {
          "output_type": "stream",
          "text": [
            "Iteration 1, loss = 0.42649748\n",
            "Iteration 2, loss = 0.19621913\n",
            "Iteration 3, loss = 0.13741589\n",
            "Iteration 4, loss = 0.10622174\n",
            "Iteration 5, loss = 0.08301688\n",
            "Iteration 6, loss = 0.06798917\n",
            "Iteration 7, loss = 0.05667368\n",
            "Iteration 8, loss = 0.04692433\n",
            "Iteration 9, loss = 0.03855904\n",
            "Iteration 10, loss = 0.03310381\n",
            "Iteration 11, loss = 0.02718471\n",
            "Iteration 12, loss = 0.02317611\n",
            "Iteration 13, loss = 0.01949145\n",
            "Iteration 14, loss = 0.01612593\n",
            "Iteration 15, loss = 0.01359602\n",
            "Iteration 16, loss = 0.01166187\n",
            "Iteration 17, loss = 0.01023519\n",
            "Iteration 18, loss = 0.00929878\n",
            "Iteration 19, loss = 0.00853520\n",
            "Iteration 20, loss = 0.00742533\n"
          ],
          "name": "stdout"
        },
        {
          "output_type": "stream",
          "text": [
            "/usr/local/lib/python3.6/dist-packages/sklearn/neural_network/multilayer_perceptron.py:564: ConvergenceWarning: Stochastic Optimizer: Maximum iterations (20) reached and the optimization hasn't converged yet.\n",
            "  % self.max_iter, ConvergenceWarning)\n"
          ],
          "name": "stderr"
        },
        {
          "output_type": "stream",
          "text": [
            "Iteration 1, loss = 0.42777975\n",
            "Iteration 2, loss = 0.19764905\n",
            "Iteration 3, loss = 0.13871502\n",
            "Iteration 4, loss = 0.10552021\n",
            "Iteration 5, loss = 0.08358804\n",
            "Iteration 6, loss = 0.06872248\n",
            "Iteration 7, loss = 0.05547670\n",
            "Iteration 8, loss = 0.04772791\n",
            "Iteration 9, loss = 0.03931609\n",
            "Iteration 10, loss = 0.03188829\n",
            "Iteration 11, loss = 0.02718932\n",
            "Iteration 12, loss = 0.02256705\n",
            "Iteration 13, loss = 0.01987960\n",
            "Iteration 14, loss = 0.01719371\n",
            "Iteration 15, loss = 0.01455152\n",
            "Iteration 16, loss = 0.01216361\n",
            "Iteration 17, loss = 0.01071914\n",
            "Iteration 18, loss = 0.00895312\n",
            "Iteration 19, loss = 0.00820443\n",
            "Iteration 20, loss = 0.00734017\n"
          ],
          "name": "stdout"
        },
        {
          "output_type": "stream",
          "text": [
            "/usr/local/lib/python3.6/dist-packages/sklearn/neural_network/multilayer_perceptron.py:564: ConvergenceWarning: Stochastic Optimizer: Maximum iterations (20) reached and the optimization hasn't converged yet.\n",
            "  % self.max_iter, ConvergenceWarning)\n"
          ],
          "name": "stderr"
        },
        {
          "output_type": "stream",
          "text": [
            "Iteration 1, loss = 0.42890424\n",
            "Iteration 2, loss = 0.19274400\n",
            "Iteration 3, loss = 0.13535250\n",
            "Iteration 4, loss = 0.10330491\n",
            "Iteration 5, loss = 0.08058964\n",
            "Iteration 6, loss = 0.06440222\n",
            "Iteration 7, loss = 0.05294528\n",
            "Iteration 8, loss = 0.04398362\n",
            "Iteration 9, loss = 0.03637382\n",
            "Iteration 10, loss = 0.02973347\n",
            "Iteration 11, loss = 0.02432684\n",
            "Iteration 12, loss = 0.02016678\n",
            "Iteration 13, loss = 0.01716544\n",
            "Iteration 14, loss = 0.01472095\n",
            "Iteration 15, loss = 0.01258682\n",
            "Iteration 16, loss = 0.01104665\n",
            "Iteration 17, loss = 0.01020304\n",
            "Iteration 18, loss = 0.00828493\n",
            "Iteration 19, loss = 0.00755267\n",
            "Iteration 20, loss = 0.00698740\n"
          ],
          "name": "stdout"
        },
        {
          "output_type": "stream",
          "text": [
            "/usr/local/lib/python3.6/dist-packages/sklearn/neural_network/multilayer_perceptron.py:564: ConvergenceWarning: Stochastic Optimizer: Maximum iterations (20) reached and the optimization hasn't converged yet.\n",
            "  % self.max_iter, ConvergenceWarning)\n"
          ],
          "name": "stderr"
        },
        {
          "output_type": "stream",
          "text": [
            "Iteration 1, loss = 0.42458449\n",
            "Iteration 2, loss = 0.19097303\n",
            "Iteration 3, loss = 0.13488374\n",
            "Iteration 4, loss = 0.10032355\n",
            "Iteration 5, loss = 0.08040338\n",
            "Iteration 6, loss = 0.06402214\n",
            "Iteration 7, loss = 0.05317304\n",
            "Iteration 8, loss = 0.04395483\n",
            "Iteration 9, loss = 0.03638089\n",
            "Iteration 10, loss = 0.03029969\n",
            "Iteration 11, loss = 0.02589096\n",
            "Iteration 12, loss = 0.02107831\n",
            "Iteration 13, loss = 0.01856574\n",
            "Iteration 14, loss = 0.01519868\n",
            "Iteration 15, loss = 0.01313181\n",
            "Iteration 16, loss = 0.01099073\n",
            "Iteration 17, loss = 0.00980223\n",
            "Iteration 18, loss = 0.00919267\n",
            "Iteration 19, loss = 0.00802538\n",
            "Iteration 20, loss = 0.00718319\n"
          ],
          "name": "stdout"
        },
        {
          "output_type": "stream",
          "text": [
            "/usr/local/lib/python3.6/dist-packages/sklearn/neural_network/multilayer_perceptron.py:564: ConvergenceWarning: Stochastic Optimizer: Maximum iterations (20) reached and the optimization hasn't converged yet.\n",
            "  % self.max_iter, ConvergenceWarning)\n"
          ],
          "name": "stderr"
        },
        {
          "output_type": "stream",
          "text": [
            "Iteration 1, loss = 0.42489874\n",
            "Iteration 2, loss = 0.19158176\n",
            "Iteration 3, loss = 0.13389729\n",
            "Iteration 4, loss = 0.10026654\n",
            "Iteration 5, loss = 0.07862848\n",
            "Iteration 6, loss = 0.06341762\n",
            "Iteration 7, loss = 0.05189173\n",
            "Iteration 8, loss = 0.04426355\n",
            "Iteration 9, loss = 0.03644101\n",
            "Iteration 10, loss = 0.02964865\n",
            "Iteration 11, loss = 0.02483235\n",
            "Iteration 12, loss = 0.02204318\n",
            "Iteration 13, loss = 0.01827860\n",
            "Iteration 14, loss = 0.01575461\n",
            "Iteration 15, loss = 0.01336938\n",
            "Iteration 16, loss = 0.01159454\n",
            "Iteration 17, loss = 0.01014919\n",
            "Iteration 18, loss = 0.00908126\n",
            "Iteration 19, loss = 0.00810358\n",
            "Iteration 20, loss = 0.00723087\n"
          ],
          "name": "stdout"
        },
        {
          "output_type": "stream",
          "text": [
            "/usr/local/lib/python3.6/dist-packages/sklearn/neural_network/multilayer_perceptron.py:564: ConvergenceWarning: Stochastic Optimizer: Maximum iterations (20) reached and the optimization hasn't converged yet.\n",
            "  % self.max_iter, ConvergenceWarning)\n"
          ],
          "name": "stderr"
        },
        {
          "output_type": "stream",
          "text": [
            "Iteration 1, loss = 0.42649748\n",
            "Iteration 2, loss = 0.19621913\n",
            "Iteration 3, loss = 0.13741589\n",
            "Iteration 4, loss = 0.10622174\n",
            "Iteration 5, loss = 0.08301688\n",
            "Iteration 6, loss = 0.06798917\n",
            "Iteration 7, loss = 0.05667368\n",
            "Iteration 8, loss = 0.04692433\n",
            "Iteration 9, loss = 0.03855904\n",
            "Iteration 10, loss = 0.03310381\n",
            "Iteration 11, loss = 0.02718471\n",
            "Iteration 12, loss = 0.02317611\n",
            "Iteration 13, loss = 0.01949145\n",
            "Iteration 14, loss = 0.01612593\n",
            "Iteration 15, loss = 0.01359602\n",
            "Iteration 16, loss = 0.01166187\n",
            "Iteration 17, loss = 0.01023519\n",
            "Iteration 18, loss = 0.00929878\n",
            "Iteration 19, loss = 0.00853520\n",
            "Iteration 20, loss = 0.00742533\n"
          ],
          "name": "stdout"
        },
        {
          "output_type": "stream",
          "text": [
            "/usr/local/lib/python3.6/dist-packages/sklearn/neural_network/multilayer_perceptron.py:564: ConvergenceWarning: Stochastic Optimizer: Maximum iterations (20) reached and the optimization hasn't converged yet.\n",
            "  % self.max_iter, ConvergenceWarning)\n"
          ],
          "name": "stderr"
        },
        {
          "output_type": "stream",
          "text": [
            "Iteration 1, loss = 0.42777975\n",
            "Iteration 2, loss = 0.19764905\n",
            "Iteration 3, loss = 0.13871502\n",
            "Iteration 4, loss = 0.10552021\n",
            "Iteration 5, loss = 0.08358804\n",
            "Iteration 6, loss = 0.06872248\n",
            "Iteration 7, loss = 0.05547670\n",
            "Iteration 8, loss = 0.04772791\n",
            "Iteration 9, loss = 0.03931609\n",
            "Iteration 10, loss = 0.03188829\n",
            "Iteration 11, loss = 0.02718932\n",
            "Iteration 12, loss = 0.02256705\n",
            "Iteration 13, loss = 0.01987960\n",
            "Iteration 14, loss = 0.01719371\n",
            "Iteration 15, loss = 0.01455152\n",
            "Iteration 16, loss = 0.01216361\n",
            "Iteration 17, loss = 0.01071914\n",
            "Iteration 18, loss = 0.00895312\n",
            "Iteration 19, loss = 0.00820443\n",
            "Iteration 20, loss = 0.00734017\n"
          ],
          "name": "stdout"
        },
        {
          "output_type": "stream",
          "text": [
            "/usr/local/lib/python3.6/dist-packages/sklearn/neural_network/multilayer_perceptron.py:564: ConvergenceWarning: Stochastic Optimizer: Maximum iterations (20) reached and the optimization hasn't converged yet.\n",
            "  % self.max_iter, ConvergenceWarning)\n"
          ],
          "name": "stderr"
        },
        {
          "output_type": "stream",
          "text": [
            "Iteration 1, loss = 0.42890424\n",
            "Iteration 2, loss = 0.19274400\n",
            "Iteration 3, loss = 0.13535250\n",
            "Iteration 4, loss = 0.10330491\n",
            "Iteration 5, loss = 0.08058964\n",
            "Iteration 6, loss = 0.06440222\n",
            "Iteration 7, loss = 0.05294528\n",
            "Iteration 8, loss = 0.04398362\n",
            "Iteration 9, loss = 0.03637382\n",
            "Iteration 10, loss = 0.02973347\n",
            "Iteration 11, loss = 0.02432684\n",
            "Iteration 12, loss = 0.02016678\n",
            "Iteration 13, loss = 0.01716544\n",
            "Iteration 14, loss = 0.01472095\n",
            "Iteration 15, loss = 0.01258682\n",
            "Iteration 16, loss = 0.01104665\n",
            "Iteration 17, loss = 0.01020304\n",
            "Iteration 18, loss = 0.00828493\n",
            "Iteration 19, loss = 0.00755267\n",
            "Iteration 20, loss = 0.00698740\n"
          ],
          "name": "stdout"
        },
        {
          "output_type": "stream",
          "text": [
            "/usr/local/lib/python3.6/dist-packages/sklearn/neural_network/multilayer_perceptron.py:564: ConvergenceWarning: Stochastic Optimizer: Maximum iterations (20) reached and the optimization hasn't converged yet.\n",
            "  % self.max_iter, ConvergenceWarning)\n"
          ],
          "name": "stderr"
        },
        {
          "output_type": "stream",
          "text": [
            "Iteration 1, loss = 0.42458449\n",
            "Iteration 2, loss = 0.19097303\n",
            "Iteration 3, loss = 0.13488374\n",
            "Iteration 4, loss = 0.10032355\n",
            "Iteration 5, loss = 0.08040338\n",
            "Iteration 6, loss = 0.06402214\n",
            "Iteration 7, loss = 0.05317304\n",
            "Iteration 8, loss = 0.04395483\n",
            "Iteration 9, loss = 0.03638089\n",
            "Iteration 10, loss = 0.03029969\n",
            "Iteration 11, loss = 0.02589096\n",
            "Iteration 12, loss = 0.02107831\n",
            "Iteration 13, loss = 0.01856574\n",
            "Iteration 14, loss = 0.01519868\n",
            "Iteration 15, loss = 0.01313181\n",
            "Iteration 16, loss = 0.01099073\n",
            "Iteration 17, loss = 0.00980223\n",
            "Iteration 18, loss = 0.00919267\n",
            "Iteration 19, loss = 0.00802538\n",
            "Iteration 20, loss = 0.00718319\n"
          ],
          "name": "stdout"
        },
        {
          "output_type": "stream",
          "text": [
            "/usr/local/lib/python3.6/dist-packages/sklearn/neural_network/multilayer_perceptron.py:564: ConvergenceWarning: Stochastic Optimizer: Maximum iterations (20) reached and the optimization hasn't converged yet.\n",
            "  % self.max_iter, ConvergenceWarning)\n"
          ],
          "name": "stderr"
        },
        {
          "output_type": "stream",
          "text": [
            "Iteration 1, loss = 0.41373396\n",
            "Iteration 2, loss = 0.18079188\n",
            "Iteration 3, loss = 0.12911929\n",
            "Iteration 4, loss = 0.09942857\n",
            "Iteration 5, loss = 0.07761340\n",
            "Iteration 6, loss = 0.06360308\n",
            "Iteration 7, loss = 0.05372567\n",
            "Iteration 8, loss = 0.04344496\n",
            "Iteration 9, loss = 0.03654847\n",
            "Iteration 10, loss = 0.03082575\n",
            "Iteration 11, loss = 0.02616694\n",
            "Iteration 12, loss = 0.02147727\n",
            "Iteration 13, loss = 0.01828821\n",
            "Iteration 14, loss = 0.01599196\n",
            "Iteration 15, loss = 0.01327739\n",
            "Iteration 16, loss = 0.01119873\n",
            "Iteration 17, loss = 0.01012676\n",
            "Iteration 18, loss = 0.00955518\n",
            "Iteration 19, loss = 0.00809728\n",
            "Iteration 20, loss = 0.00737181\n"
          ],
          "name": "stdout"
        },
        {
          "output_type": "stream",
          "text": [
            "/usr/local/lib/python3.6/dist-packages/sklearn/neural_network/multilayer_perceptron.py:564: ConvergenceWarning: Stochastic Optimizer: Maximum iterations (20) reached and the optimization hasn't converged yet.\n",
            "  % self.max_iter, ConvergenceWarning)\n"
          ],
          "name": "stderr"
        },
        {
          "output_type": "stream",
          "text": [
            "Iteration 1, loss = 0.41923875\n",
            "Iteration 2, loss = 0.19076394\n",
            "Iteration 3, loss = 0.13377351\n",
            "Iteration 4, loss = 0.10284032\n",
            "Iteration 5, loss = 0.08301187\n",
            "Iteration 6, loss = 0.06756312\n",
            "Iteration 7, loss = 0.05574855\n",
            "Iteration 8, loss = 0.04607166\n",
            "Iteration 9, loss = 0.03682554\n",
            "Iteration 10, loss = 0.03122918\n",
            "Iteration 11, loss = 0.02583866\n",
            "Iteration 12, loss = 0.02318449\n",
            "Iteration 13, loss = 0.01861733\n",
            "Iteration 14, loss = 0.01637764\n",
            "Iteration 15, loss = 0.01377843\n",
            "Iteration 16, loss = 0.01224383\n",
            "Iteration 17, loss = 0.01043114\n",
            "Iteration 18, loss = 0.00888399\n",
            "Iteration 19, loss = 0.00798186\n",
            "Iteration 20, loss = 0.00738855\n"
          ],
          "name": "stdout"
        },
        {
          "output_type": "stream",
          "text": [
            "/usr/local/lib/python3.6/dist-packages/sklearn/neural_network/multilayer_perceptron.py:564: ConvergenceWarning: Stochastic Optimizer: Maximum iterations (20) reached and the optimization hasn't converged yet.\n",
            "  % self.max_iter, ConvergenceWarning)\n"
          ],
          "name": "stderr"
        },
        {
          "output_type": "stream",
          "text": [
            "Iteration 1, loss = 0.42109282\n",
            "Iteration 2, loss = 0.18716844\n",
            "Iteration 3, loss = 0.13325850\n",
            "Iteration 4, loss = 0.10191067\n",
            "Iteration 5, loss = 0.08172114\n",
            "Iteration 6, loss = 0.06642481\n",
            "Iteration 7, loss = 0.05506787\n",
            "Iteration 8, loss = 0.04492070\n",
            "Iteration 9, loss = 0.03713696\n",
            "Iteration 10, loss = 0.03165067\n",
            "Iteration 11, loss = 0.02606576\n",
            "Iteration 12, loss = 0.02158049\n",
            "Iteration 13, loss = 0.01835494\n",
            "Iteration 14, loss = 0.01634832\n",
            "Iteration 15, loss = 0.01346215\n",
            "Iteration 16, loss = 0.01163074\n",
            "Iteration 17, loss = 0.01014373\n",
            "Iteration 18, loss = 0.00893732\n",
            "Iteration 19, loss = 0.00828978\n",
            "Iteration 20, loss = 0.00731391\n"
          ],
          "name": "stdout"
        },
        {
          "output_type": "stream",
          "text": [
            "/usr/local/lib/python3.6/dist-packages/sklearn/neural_network/multilayer_perceptron.py:564: ConvergenceWarning: Stochastic Optimizer: Maximum iterations (20) reached and the optimization hasn't converged yet.\n",
            "  % self.max_iter, ConvergenceWarning)\n"
          ],
          "name": "stderr"
        },
        {
          "output_type": "stream",
          "text": [
            "Iteration 1, loss = 0.41875719\n",
            "Iteration 2, loss = 0.18461012\n",
            "Iteration 3, loss = 0.13160908\n",
            "Iteration 4, loss = 0.10134069\n",
            "Iteration 5, loss = 0.08077172\n",
            "Iteration 6, loss = 0.06611925\n",
            "Iteration 7, loss = 0.05561822\n",
            "Iteration 8, loss = 0.04450541\n",
            "Iteration 9, loss = 0.03747444\n",
            "Iteration 10, loss = 0.03123654\n",
            "Iteration 11, loss = 0.02576474\n",
            "Iteration 12, loss = 0.02167986\n",
            "Iteration 13, loss = 0.01805192\n",
            "Iteration 14, loss = 0.01617048\n",
            "Iteration 15, loss = 0.01350725\n",
            "Iteration 16, loss = 0.01162235\n",
            "Iteration 17, loss = 0.01028436\n",
            "Iteration 18, loss = 0.00919285\n",
            "Iteration 19, loss = 0.00807010\n",
            "Iteration 20, loss = 0.00731441\n"
          ],
          "name": "stdout"
        },
        {
          "output_type": "stream",
          "text": [
            "/usr/local/lib/python3.6/dist-packages/sklearn/neural_network/multilayer_perceptron.py:564: ConvergenceWarning: Stochastic Optimizer: Maximum iterations (20) reached and the optimization hasn't converged yet.\n",
            "  % self.max_iter, ConvergenceWarning)\n"
          ],
          "name": "stderr"
        },
        {
          "output_type": "stream",
          "text": [
            "Iteration 1, loss = 0.41348653\n",
            "Iteration 2, loss = 0.18367964\n",
            "Iteration 3, loss = 0.13004661\n",
            "Iteration 4, loss = 0.10019440\n",
            "Iteration 5, loss = 0.08072781\n",
            "Iteration 6, loss = 0.06592316\n",
            "Iteration 7, loss = 0.05328274\n",
            "Iteration 8, loss = 0.04508676\n",
            "Iteration 9, loss = 0.03843333\n",
            "Iteration 10, loss = 0.03179313\n",
            "Iteration 11, loss = 0.02691168\n",
            "Iteration 12, loss = 0.02294319\n",
            "Iteration 13, loss = 0.01945178\n",
            "Iteration 14, loss = 0.01635099\n",
            "Iteration 15, loss = 0.01435046\n",
            "Iteration 16, loss = 0.01258413\n",
            "Iteration 17, loss = 0.01070674\n",
            "Iteration 18, loss = 0.00985421\n",
            "Iteration 19, loss = 0.00837276\n",
            "Iteration 20, loss = 0.00747192\n"
          ],
          "name": "stdout"
        },
        {
          "output_type": "stream",
          "text": [
            "/usr/local/lib/python3.6/dist-packages/sklearn/neural_network/multilayer_perceptron.py:564: ConvergenceWarning: Stochastic Optimizer: Maximum iterations (20) reached and the optimization hasn't converged yet.\n",
            "  % self.max_iter, ConvergenceWarning)\n"
          ],
          "name": "stderr"
        },
        {
          "output_type": "stream",
          "text": [
            "Iteration 1, loss = 0.41373396\n",
            "Iteration 2, loss = 0.18079188\n",
            "Iteration 3, loss = 0.12911929\n",
            "Iteration 4, loss = 0.09942857\n",
            "Iteration 5, loss = 0.07761340\n",
            "Iteration 6, loss = 0.06360308\n",
            "Iteration 7, loss = 0.05372567\n",
            "Iteration 8, loss = 0.04344496\n",
            "Iteration 9, loss = 0.03654847\n",
            "Iteration 10, loss = 0.03082575\n",
            "Iteration 11, loss = 0.02616694\n",
            "Iteration 12, loss = 0.02147727\n",
            "Iteration 13, loss = 0.01828821\n",
            "Iteration 14, loss = 0.01599196\n",
            "Iteration 15, loss = 0.01327739\n",
            "Iteration 16, loss = 0.01119873\n",
            "Iteration 17, loss = 0.01012676\n",
            "Iteration 18, loss = 0.00955518\n",
            "Iteration 19, loss = 0.00809728\n",
            "Iteration 20, loss = 0.00737181\n"
          ],
          "name": "stdout"
        },
        {
          "output_type": "stream",
          "text": [
            "/usr/local/lib/python3.6/dist-packages/sklearn/neural_network/multilayer_perceptron.py:564: ConvergenceWarning: Stochastic Optimizer: Maximum iterations (20) reached and the optimization hasn't converged yet.\n",
            "  % self.max_iter, ConvergenceWarning)\n"
          ],
          "name": "stderr"
        },
        {
          "output_type": "stream",
          "text": [
            "Iteration 1, loss = 0.41923875\n",
            "Iteration 2, loss = 0.19076394\n",
            "Iteration 3, loss = 0.13377351\n",
            "Iteration 4, loss = 0.10284032\n",
            "Iteration 5, loss = 0.08301187\n",
            "Iteration 6, loss = 0.06756312\n",
            "Iteration 7, loss = 0.05574855\n",
            "Iteration 8, loss = 0.04607166\n",
            "Iteration 9, loss = 0.03682554\n",
            "Iteration 10, loss = 0.03122918\n",
            "Iteration 11, loss = 0.02583866\n",
            "Iteration 12, loss = 0.02318449\n",
            "Iteration 13, loss = 0.01861733\n",
            "Iteration 14, loss = 0.01637764\n",
            "Iteration 15, loss = 0.01377843\n",
            "Iteration 16, loss = 0.01224383\n",
            "Iteration 17, loss = 0.01043114\n",
            "Iteration 18, loss = 0.00888399\n",
            "Iteration 19, loss = 0.00798186\n",
            "Iteration 20, loss = 0.00738855\n"
          ],
          "name": "stdout"
        },
        {
          "output_type": "stream",
          "text": [
            "/usr/local/lib/python3.6/dist-packages/sklearn/neural_network/multilayer_perceptron.py:564: ConvergenceWarning: Stochastic Optimizer: Maximum iterations (20) reached and the optimization hasn't converged yet.\n",
            "  % self.max_iter, ConvergenceWarning)\n"
          ],
          "name": "stderr"
        },
        {
          "output_type": "stream",
          "text": [
            "Iteration 1, loss = 0.42109282\n",
            "Iteration 2, loss = 0.18716844\n",
            "Iteration 3, loss = 0.13325850\n",
            "Iteration 4, loss = 0.10191067\n",
            "Iteration 5, loss = 0.08172114\n",
            "Iteration 6, loss = 0.06642481\n",
            "Iteration 7, loss = 0.05506787\n",
            "Iteration 8, loss = 0.04492070\n",
            "Iteration 9, loss = 0.03713696\n",
            "Iteration 10, loss = 0.03165067\n",
            "Iteration 11, loss = 0.02606576\n",
            "Iteration 12, loss = 0.02158049\n",
            "Iteration 13, loss = 0.01835494\n",
            "Iteration 14, loss = 0.01634832\n",
            "Iteration 15, loss = 0.01346215\n",
            "Iteration 16, loss = 0.01163074\n",
            "Iteration 17, loss = 0.01014373\n",
            "Iteration 18, loss = 0.00893732\n",
            "Iteration 19, loss = 0.00828978\n",
            "Iteration 20, loss = 0.00731391\n"
          ],
          "name": "stdout"
        },
        {
          "output_type": "stream",
          "text": [
            "/usr/local/lib/python3.6/dist-packages/sklearn/neural_network/multilayer_perceptron.py:564: ConvergenceWarning: Stochastic Optimizer: Maximum iterations (20) reached and the optimization hasn't converged yet.\n",
            "  % self.max_iter, ConvergenceWarning)\n"
          ],
          "name": "stderr"
        },
        {
          "output_type": "stream",
          "text": [
            "Iteration 1, loss = 0.41875719\n",
            "Iteration 2, loss = 0.18461012\n",
            "Iteration 3, loss = 0.13160908\n",
            "Iteration 4, loss = 0.10134069\n",
            "Iteration 5, loss = 0.08077172\n",
            "Iteration 6, loss = 0.06611925\n",
            "Iteration 7, loss = 0.05561822\n",
            "Iteration 8, loss = 0.04450541\n",
            "Iteration 9, loss = 0.03747444\n",
            "Iteration 10, loss = 0.03123654\n",
            "Iteration 11, loss = 0.02576474\n",
            "Iteration 12, loss = 0.02167986\n",
            "Iteration 13, loss = 0.01805192\n",
            "Iteration 14, loss = 0.01617048\n",
            "Iteration 15, loss = 0.01350725\n",
            "Iteration 16, loss = 0.01162235\n",
            "Iteration 17, loss = 0.01028436\n",
            "Iteration 18, loss = 0.00919285\n",
            "Iteration 19, loss = 0.00807010\n",
            "Iteration 20, loss = 0.00731441\n"
          ],
          "name": "stdout"
        },
        {
          "output_type": "stream",
          "text": [
            "/usr/local/lib/python3.6/dist-packages/sklearn/neural_network/multilayer_perceptron.py:564: ConvergenceWarning: Stochastic Optimizer: Maximum iterations (20) reached and the optimization hasn't converged yet.\n",
            "  % self.max_iter, ConvergenceWarning)\n"
          ],
          "name": "stderr"
        },
        {
          "output_type": "stream",
          "text": [
            "Iteration 1, loss = 0.41348653\n",
            "Iteration 2, loss = 0.18367964\n",
            "Iteration 3, loss = 0.13004661\n",
            "Iteration 4, loss = 0.10019440\n",
            "Iteration 5, loss = 0.08072781\n",
            "Iteration 6, loss = 0.06592316\n",
            "Iteration 7, loss = 0.05328274\n",
            "Iteration 8, loss = 0.04508676\n",
            "Iteration 9, loss = 0.03843333\n",
            "Iteration 10, loss = 0.03179313\n",
            "Iteration 11, loss = 0.02691168\n",
            "Iteration 12, loss = 0.02294319\n",
            "Iteration 13, loss = 0.01945178\n",
            "Iteration 14, loss = 0.01635099\n",
            "Iteration 15, loss = 0.01435046\n",
            "Iteration 16, loss = 0.01258413\n",
            "Iteration 17, loss = 0.01070674\n",
            "Iteration 18, loss = 0.00985421\n",
            "Iteration 19, loss = 0.00837276\n",
            "Iteration 20, loss = 0.00747192\n"
          ],
          "name": "stdout"
        },
        {
          "output_type": "stream",
          "text": [
            "/usr/local/lib/python3.6/dist-packages/sklearn/neural_network/multilayer_perceptron.py:564: ConvergenceWarning: Stochastic Optimizer: Maximum iterations (20) reached and the optimization hasn't converged yet.\n",
            "  % self.max_iter, ConvergenceWarning)\n"
          ],
          "name": "stderr"
        },
        {
          "output_type": "stream",
          "text": [
            "Iteration 1, loss = 0.85875086\n",
            "Iteration 2, loss = 0.37762425\n",
            "Iteration 3, loss = 0.32270128\n",
            "Iteration 4, loss = 0.29294163\n",
            "Iteration 5, loss = 0.27069883\n",
            "Iteration 6, loss = 0.25274155\n",
            "Iteration 7, loss = 0.23705437\n",
            "Iteration 8, loss = 0.22330008\n",
            "Iteration 9, loss = 0.21092926\n",
            "Iteration 10, loss = 0.19922698\n"
          ],
          "name": "stdout"
        },
        {
          "output_type": "stream",
          "text": [
            "/usr/local/lib/python3.6/dist-packages/sklearn/neural_network/multilayer_perceptron.py:564: ConvergenceWarning: Stochastic Optimizer: Maximum iterations (10) reached and the optimization hasn't converged yet.\n",
            "  % self.max_iter, ConvergenceWarning)\n"
          ],
          "name": "stderr"
        },
        {
          "output_type": "stream",
          "text": [
            "Iteration 1, loss = 0.86018640\n",
            "Iteration 2, loss = 0.38104385\n",
            "Iteration 3, loss = 0.32704868\n",
            "Iteration 4, loss = 0.29698035\n",
            "Iteration 5, loss = 0.27510084\n",
            "Iteration 6, loss = 0.25819267\n",
            "Iteration 7, loss = 0.24225489\n",
            "Iteration 8, loss = 0.22878503\n",
            "Iteration 9, loss = 0.21609272\n",
            "Iteration 10, loss = 0.20560527\n"
          ],
          "name": "stdout"
        },
        {
          "output_type": "stream",
          "text": [
            "/usr/local/lib/python3.6/dist-packages/sklearn/neural_network/multilayer_perceptron.py:564: ConvergenceWarning: Stochastic Optimizer: Maximum iterations (10) reached and the optimization hasn't converged yet.\n",
            "  % self.max_iter, ConvergenceWarning)\n"
          ],
          "name": "stderr"
        },
        {
          "output_type": "stream",
          "text": [
            "Iteration 1, loss = 0.85881953\n",
            "Iteration 2, loss = 0.38277112\n",
            "Iteration 3, loss = 0.32938137\n",
            "Iteration 4, loss = 0.29851730\n",
            "Iteration 5, loss = 0.27589783\n",
            "Iteration 6, loss = 0.25728064\n",
            "Iteration 7, loss = 0.24192276\n",
            "Iteration 8, loss = 0.22759271\n",
            "Iteration 9, loss = 0.21514204\n",
            "Iteration 10, loss = 0.20343271\n"
          ],
          "name": "stdout"
        },
        {
          "output_type": "stream",
          "text": [
            "/usr/local/lib/python3.6/dist-packages/sklearn/neural_network/multilayer_perceptron.py:564: ConvergenceWarning: Stochastic Optimizer: Maximum iterations (10) reached and the optimization hasn't converged yet.\n",
            "  % self.max_iter, ConvergenceWarning)\n"
          ],
          "name": "stderr"
        },
        {
          "output_type": "stream",
          "text": [
            "Iteration 1, loss = 0.86079731\n",
            "Iteration 2, loss = 0.38062844\n",
            "Iteration 3, loss = 0.32594968\n",
            "Iteration 4, loss = 0.29518105\n",
            "Iteration 5, loss = 0.27288833\n",
            "Iteration 6, loss = 0.25532806\n",
            "Iteration 7, loss = 0.23972669\n",
            "Iteration 8, loss = 0.22596634\n",
            "Iteration 9, loss = 0.21293633\n",
            "Iteration 10, loss = 0.20182414\n"
          ],
          "name": "stdout"
        },
        {
          "output_type": "stream",
          "text": [
            "/usr/local/lib/python3.6/dist-packages/sklearn/neural_network/multilayer_perceptron.py:564: ConvergenceWarning: Stochastic Optimizer: Maximum iterations (10) reached and the optimization hasn't converged yet.\n",
            "  % self.max_iter, ConvergenceWarning)\n"
          ],
          "name": "stderr"
        },
        {
          "output_type": "stream",
          "text": [
            "Iteration 1, loss = 0.85711356\n",
            "Iteration 2, loss = 0.37940840\n",
            "Iteration 3, loss = 0.32493708\n",
            "Iteration 4, loss = 0.29409274\n",
            "Iteration 5, loss = 0.27184790\n",
            "Iteration 6, loss = 0.25313306\n",
            "Iteration 7, loss = 0.23752092\n",
            "Iteration 8, loss = 0.22304288\n",
            "Iteration 9, loss = 0.21102601\n",
            "Iteration 10, loss = 0.19990562\n"
          ],
          "name": "stdout"
        },
        {
          "output_type": "stream",
          "text": [
            "/usr/local/lib/python3.6/dist-packages/sklearn/neural_network/multilayer_perceptron.py:564: ConvergenceWarning: Stochastic Optimizer: Maximum iterations (10) reached and the optimization hasn't converged yet.\n",
            "  % self.max_iter, ConvergenceWarning)\n"
          ],
          "name": "stderr"
        },
        {
          "output_type": "stream",
          "text": [
            "Iteration 1, loss = 0.85875086\n",
            "Iteration 2, loss = 0.37762425\n",
            "Iteration 3, loss = 0.32270128\n",
            "Iteration 4, loss = 0.29294163\n",
            "Iteration 5, loss = 0.27069883\n",
            "Iteration 6, loss = 0.25274155\n",
            "Iteration 7, loss = 0.23705437\n",
            "Iteration 8, loss = 0.22330008\n",
            "Iteration 9, loss = 0.21092926\n",
            "Iteration 10, loss = 0.19922698\n"
          ],
          "name": "stdout"
        },
        {
          "output_type": "stream",
          "text": [
            "/usr/local/lib/python3.6/dist-packages/sklearn/neural_network/multilayer_perceptron.py:564: ConvergenceWarning: Stochastic Optimizer: Maximum iterations (10) reached and the optimization hasn't converged yet.\n",
            "  % self.max_iter, ConvergenceWarning)\n"
          ],
          "name": "stderr"
        },
        {
          "output_type": "stream",
          "text": [
            "Iteration 1, loss = 0.86018640\n",
            "Iteration 2, loss = 0.38104385\n",
            "Iteration 3, loss = 0.32704868\n",
            "Iteration 4, loss = 0.29698035\n",
            "Iteration 5, loss = 0.27510084\n",
            "Iteration 6, loss = 0.25819267\n",
            "Iteration 7, loss = 0.24225489\n",
            "Iteration 8, loss = 0.22878503\n",
            "Iteration 9, loss = 0.21609272\n",
            "Iteration 10, loss = 0.20560527\n"
          ],
          "name": "stdout"
        },
        {
          "output_type": "stream",
          "text": [
            "/usr/local/lib/python3.6/dist-packages/sklearn/neural_network/multilayer_perceptron.py:564: ConvergenceWarning: Stochastic Optimizer: Maximum iterations (10) reached and the optimization hasn't converged yet.\n",
            "  % self.max_iter, ConvergenceWarning)\n"
          ],
          "name": "stderr"
        },
        {
          "output_type": "stream",
          "text": [
            "Iteration 1, loss = 0.85881953\n",
            "Iteration 2, loss = 0.38277112\n",
            "Iteration 3, loss = 0.32938137\n",
            "Iteration 4, loss = 0.29851730\n",
            "Iteration 5, loss = 0.27589783\n",
            "Iteration 6, loss = 0.25728064\n",
            "Iteration 7, loss = 0.24192276\n",
            "Iteration 8, loss = 0.22759271\n",
            "Iteration 9, loss = 0.21514204\n",
            "Iteration 10, loss = 0.20343271\n"
          ],
          "name": "stdout"
        },
        {
          "output_type": "stream",
          "text": [
            "/usr/local/lib/python3.6/dist-packages/sklearn/neural_network/multilayer_perceptron.py:564: ConvergenceWarning: Stochastic Optimizer: Maximum iterations (10) reached and the optimization hasn't converged yet.\n",
            "  % self.max_iter, ConvergenceWarning)\n"
          ],
          "name": "stderr"
        },
        {
          "output_type": "stream",
          "text": [
            "Iteration 1, loss = 0.86079731\n",
            "Iteration 2, loss = 0.38062844\n",
            "Iteration 3, loss = 0.32594968\n",
            "Iteration 4, loss = 0.29518105\n",
            "Iteration 5, loss = 0.27288833\n",
            "Iteration 6, loss = 0.25532806\n",
            "Iteration 7, loss = 0.23972669\n",
            "Iteration 8, loss = 0.22596634\n",
            "Iteration 9, loss = 0.21293633\n",
            "Iteration 10, loss = 0.20182414\n"
          ],
          "name": "stdout"
        },
        {
          "output_type": "stream",
          "text": [
            "/usr/local/lib/python3.6/dist-packages/sklearn/neural_network/multilayer_perceptron.py:564: ConvergenceWarning: Stochastic Optimizer: Maximum iterations (10) reached and the optimization hasn't converged yet.\n",
            "  % self.max_iter, ConvergenceWarning)\n"
          ],
          "name": "stderr"
        },
        {
          "output_type": "stream",
          "text": [
            "Iteration 1, loss = 0.85711356\n",
            "Iteration 2, loss = 0.37940840\n",
            "Iteration 3, loss = 0.32493708\n",
            "Iteration 4, loss = 0.29409274\n",
            "Iteration 5, loss = 0.27184790\n",
            "Iteration 6, loss = 0.25313306\n",
            "Iteration 7, loss = 0.23752092\n",
            "Iteration 8, loss = 0.22304288\n",
            "Iteration 9, loss = 0.21102601\n",
            "Iteration 10, loss = 0.19990562\n"
          ],
          "name": "stdout"
        },
        {
          "output_type": "stream",
          "text": [
            "/usr/local/lib/python3.6/dist-packages/sklearn/neural_network/multilayer_perceptron.py:564: ConvergenceWarning: Stochastic Optimizer: Maximum iterations (10) reached and the optimization hasn't converged yet.\n",
            "  % self.max_iter, ConvergenceWarning)\n"
          ],
          "name": "stderr"
        },
        {
          "output_type": "stream",
          "text": [
            "Iteration 1, loss = 0.85648830\n",
            "Iteration 2, loss = 0.36967331\n",
            "Iteration 3, loss = 0.31192230\n",
            "Iteration 4, loss = 0.27971738\n",
            "Iteration 5, loss = 0.25619247\n",
            "Iteration 6, loss = 0.23725050\n",
            "Iteration 7, loss = 0.22159030\n",
            "Iteration 8, loss = 0.20827437\n",
            "Iteration 9, loss = 0.19632347\n",
            "Iteration 10, loss = 0.18625047\n"
          ],
          "name": "stdout"
        },
        {
          "output_type": "stream",
          "text": [
            "/usr/local/lib/python3.6/dist-packages/sklearn/neural_network/multilayer_perceptron.py:564: ConvergenceWarning: Stochastic Optimizer: Maximum iterations (10) reached and the optimization hasn't converged yet.\n",
            "  % self.max_iter, ConvergenceWarning)\n"
          ],
          "name": "stderr"
        },
        {
          "output_type": "stream",
          "text": [
            "Iteration 1, loss = 0.85631573\n",
            "Iteration 2, loss = 0.37308959\n",
            "Iteration 3, loss = 0.31668864\n",
            "Iteration 4, loss = 0.28448852\n",
            "Iteration 5, loss = 0.26187641\n",
            "Iteration 6, loss = 0.24350665\n",
            "Iteration 7, loss = 0.22800461\n",
            "Iteration 8, loss = 0.21424364\n",
            "Iteration 9, loss = 0.20239463\n",
            "Iteration 10, loss = 0.19102931\n"
          ],
          "name": "stdout"
        },
        {
          "output_type": "stream",
          "text": [
            "/usr/local/lib/python3.6/dist-packages/sklearn/neural_network/multilayer_perceptron.py:564: ConvergenceWarning: Stochastic Optimizer: Maximum iterations (10) reached and the optimization hasn't converged yet.\n",
            "  % self.max_iter, ConvergenceWarning)\n"
          ],
          "name": "stderr"
        },
        {
          "output_type": "stream",
          "text": [
            "Iteration 1, loss = 0.85852741\n",
            "Iteration 2, loss = 0.37612002\n",
            "Iteration 3, loss = 0.31775339\n",
            "Iteration 4, loss = 0.28548879\n",
            "Iteration 5, loss = 0.26181045\n",
            "Iteration 6, loss = 0.24275561\n",
            "Iteration 7, loss = 0.22627518\n",
            "Iteration 8, loss = 0.21304107\n",
            "Iteration 9, loss = 0.20135927\n",
            "Iteration 10, loss = 0.19045396\n"
          ],
          "name": "stdout"
        },
        {
          "output_type": "stream",
          "text": [
            "/usr/local/lib/python3.6/dist-packages/sklearn/neural_network/multilayer_perceptron.py:564: ConvergenceWarning: Stochastic Optimizer: Maximum iterations (10) reached and the optimization hasn't converged yet.\n",
            "  % self.max_iter, ConvergenceWarning)\n"
          ],
          "name": "stderr"
        },
        {
          "output_type": "stream",
          "text": [
            "Iteration 1, loss = 0.86001279\n",
            "Iteration 2, loss = 0.37319898\n",
            "Iteration 3, loss = 0.31481629\n",
            "Iteration 4, loss = 0.28229705\n",
            "Iteration 5, loss = 0.25883588\n",
            "Iteration 6, loss = 0.24001918\n",
            "Iteration 7, loss = 0.22433073\n",
            "Iteration 8, loss = 0.21097349\n",
            "Iteration 9, loss = 0.19883114\n",
            "Iteration 10, loss = 0.18819302\n"
          ],
          "name": "stdout"
        },
        {
          "output_type": "stream",
          "text": [
            "/usr/local/lib/python3.6/dist-packages/sklearn/neural_network/multilayer_perceptron.py:564: ConvergenceWarning: Stochastic Optimizer: Maximum iterations (10) reached and the optimization hasn't converged yet.\n",
            "  % self.max_iter, ConvergenceWarning)\n"
          ],
          "name": "stderr"
        },
        {
          "output_type": "stream",
          "text": [
            "Iteration 1, loss = 0.85671116\n",
            "Iteration 2, loss = 0.37231681\n",
            "Iteration 3, loss = 0.31406842\n",
            "Iteration 4, loss = 0.28186521\n",
            "Iteration 5, loss = 0.25836701\n",
            "Iteration 6, loss = 0.23936227\n",
            "Iteration 7, loss = 0.22237830\n",
            "Iteration 8, loss = 0.20873382\n",
            "Iteration 9, loss = 0.19652688\n",
            "Iteration 10, loss = 0.18626093\n"
          ],
          "name": "stdout"
        },
        {
          "output_type": "stream",
          "text": [
            "/usr/local/lib/python3.6/dist-packages/sklearn/neural_network/multilayer_perceptron.py:564: ConvergenceWarning: Stochastic Optimizer: Maximum iterations (10) reached and the optimization hasn't converged yet.\n",
            "  % self.max_iter, ConvergenceWarning)\n"
          ],
          "name": "stderr"
        },
        {
          "output_type": "stream",
          "text": [
            "Iteration 1, loss = 0.85648830\n",
            "Iteration 2, loss = 0.36967331\n",
            "Iteration 3, loss = 0.31192230\n",
            "Iteration 4, loss = 0.27971738\n",
            "Iteration 5, loss = 0.25619247\n",
            "Iteration 6, loss = 0.23725050\n",
            "Iteration 7, loss = 0.22159030\n",
            "Iteration 8, loss = 0.20827437\n",
            "Iteration 9, loss = 0.19632347\n",
            "Iteration 10, loss = 0.18625047\n"
          ],
          "name": "stdout"
        },
        {
          "output_type": "stream",
          "text": [
            "/usr/local/lib/python3.6/dist-packages/sklearn/neural_network/multilayer_perceptron.py:564: ConvergenceWarning: Stochastic Optimizer: Maximum iterations (10) reached and the optimization hasn't converged yet.\n",
            "  % self.max_iter, ConvergenceWarning)\n"
          ],
          "name": "stderr"
        },
        {
          "output_type": "stream",
          "text": [
            "Iteration 1, loss = 0.85631573\n",
            "Iteration 2, loss = 0.37308959\n",
            "Iteration 3, loss = 0.31668864\n",
            "Iteration 4, loss = 0.28448852\n",
            "Iteration 5, loss = 0.26187641\n",
            "Iteration 6, loss = 0.24350665\n",
            "Iteration 7, loss = 0.22800461\n",
            "Iteration 8, loss = 0.21424364\n",
            "Iteration 9, loss = 0.20239463\n",
            "Iteration 10, loss = 0.19102931\n"
          ],
          "name": "stdout"
        },
        {
          "output_type": "stream",
          "text": [
            "/usr/local/lib/python3.6/dist-packages/sklearn/neural_network/multilayer_perceptron.py:564: ConvergenceWarning: Stochastic Optimizer: Maximum iterations (10) reached and the optimization hasn't converged yet.\n",
            "  % self.max_iter, ConvergenceWarning)\n"
          ],
          "name": "stderr"
        },
        {
          "output_type": "stream",
          "text": [
            "Iteration 1, loss = 0.85852741\n",
            "Iteration 2, loss = 0.37612002\n",
            "Iteration 3, loss = 0.31775339\n",
            "Iteration 4, loss = 0.28548879\n",
            "Iteration 5, loss = 0.26181045\n",
            "Iteration 6, loss = 0.24275561\n",
            "Iteration 7, loss = 0.22627518\n",
            "Iteration 8, loss = 0.21304107\n",
            "Iteration 9, loss = 0.20135927\n",
            "Iteration 10, loss = 0.19045396\n"
          ],
          "name": "stdout"
        },
        {
          "output_type": "stream",
          "text": [
            "/usr/local/lib/python3.6/dist-packages/sklearn/neural_network/multilayer_perceptron.py:564: ConvergenceWarning: Stochastic Optimizer: Maximum iterations (10) reached and the optimization hasn't converged yet.\n",
            "  % self.max_iter, ConvergenceWarning)\n"
          ],
          "name": "stderr"
        },
        {
          "output_type": "stream",
          "text": [
            "Iteration 1, loss = 0.86001279\n",
            "Iteration 2, loss = 0.37319898\n",
            "Iteration 3, loss = 0.31481629\n",
            "Iteration 4, loss = 0.28229705\n",
            "Iteration 5, loss = 0.25883588\n",
            "Iteration 6, loss = 0.24001918\n",
            "Iteration 7, loss = 0.22433073\n",
            "Iteration 8, loss = 0.21097349\n",
            "Iteration 9, loss = 0.19883114\n",
            "Iteration 10, loss = 0.18819302\n"
          ],
          "name": "stdout"
        },
        {
          "output_type": "stream",
          "text": [
            "/usr/local/lib/python3.6/dist-packages/sklearn/neural_network/multilayer_perceptron.py:564: ConvergenceWarning: Stochastic Optimizer: Maximum iterations (10) reached and the optimization hasn't converged yet.\n",
            "  % self.max_iter, ConvergenceWarning)\n"
          ],
          "name": "stderr"
        },
        {
          "output_type": "stream",
          "text": [
            "Iteration 1, loss = 0.85671116\n",
            "Iteration 2, loss = 0.37231681\n",
            "Iteration 3, loss = 0.31406842\n",
            "Iteration 4, loss = 0.28186521\n",
            "Iteration 5, loss = 0.25836701\n",
            "Iteration 6, loss = 0.23936227\n",
            "Iteration 7, loss = 0.22237830\n",
            "Iteration 8, loss = 0.20873382\n",
            "Iteration 9, loss = 0.19652688\n",
            "Iteration 10, loss = 0.18626093\n"
          ],
          "name": "stdout"
        },
        {
          "output_type": "stream",
          "text": [
            "/usr/local/lib/python3.6/dist-packages/sklearn/neural_network/multilayer_perceptron.py:564: ConvergenceWarning: Stochastic Optimizer: Maximum iterations (10) reached and the optimization hasn't converged yet.\n",
            "  % self.max_iter, ConvergenceWarning)\n"
          ],
          "name": "stderr"
        },
        {
          "output_type": "stream",
          "text": [
            "Iteration 1, loss = 0.85875086\n",
            "Iteration 2, loss = 0.37762425\n",
            "Iteration 3, loss = 0.32270128\n",
            "Iteration 4, loss = 0.29294163\n",
            "Iteration 5, loss = 0.27069883\n",
            "Iteration 6, loss = 0.25274155\n",
            "Iteration 7, loss = 0.23705437\n",
            "Iteration 8, loss = 0.22330008\n",
            "Iteration 9, loss = 0.21092926\n",
            "Iteration 10, loss = 0.19922698\n",
            "Iteration 11, loss = 0.18909430\n",
            "Iteration 12, loss = 0.18007003\n",
            "Iteration 13, loss = 0.17163121\n",
            "Iteration 14, loss = 0.16408748\n",
            "Iteration 15, loss = 0.15635840\n",
            "Iteration 16, loss = 0.14973557\n",
            "Iteration 17, loss = 0.14364813\n",
            "Iteration 18, loss = 0.13827773\n",
            "Iteration 19, loss = 0.13311305\n",
            "Iteration 20, loss = 0.12778301\n"
          ],
          "name": "stdout"
        },
        {
          "output_type": "stream",
          "text": [
            "/usr/local/lib/python3.6/dist-packages/sklearn/neural_network/multilayer_perceptron.py:564: ConvergenceWarning: Stochastic Optimizer: Maximum iterations (20) reached and the optimization hasn't converged yet.\n",
            "  % self.max_iter, ConvergenceWarning)\n"
          ],
          "name": "stderr"
        },
        {
          "output_type": "stream",
          "text": [
            "Iteration 1, loss = 0.86018640\n",
            "Iteration 2, loss = 0.38104385\n",
            "Iteration 3, loss = 0.32704868\n",
            "Iteration 4, loss = 0.29698035\n",
            "Iteration 5, loss = 0.27510084\n",
            "Iteration 6, loss = 0.25819267\n",
            "Iteration 7, loss = 0.24225489\n",
            "Iteration 8, loss = 0.22878503\n",
            "Iteration 9, loss = 0.21609272\n",
            "Iteration 10, loss = 0.20560527\n",
            "Iteration 11, loss = 0.19543898\n",
            "Iteration 12, loss = 0.18616534\n",
            "Iteration 13, loss = 0.17781340\n",
            "Iteration 14, loss = 0.16972400\n",
            "Iteration 15, loss = 0.16243468\n",
            "Iteration 16, loss = 0.15547401\n",
            "Iteration 17, loss = 0.14929474\n",
            "Iteration 18, loss = 0.14326009\n",
            "Iteration 19, loss = 0.13811420\n",
            "Iteration 20, loss = 0.13238282\n"
          ],
          "name": "stdout"
        },
        {
          "output_type": "stream",
          "text": [
            "/usr/local/lib/python3.6/dist-packages/sklearn/neural_network/multilayer_perceptron.py:564: ConvergenceWarning: Stochastic Optimizer: Maximum iterations (20) reached and the optimization hasn't converged yet.\n",
            "  % self.max_iter, ConvergenceWarning)\n"
          ],
          "name": "stderr"
        },
        {
          "output_type": "stream",
          "text": [
            "Iteration 1, loss = 0.85881953\n",
            "Iteration 2, loss = 0.38277112\n",
            "Iteration 3, loss = 0.32938137\n",
            "Iteration 4, loss = 0.29851730\n",
            "Iteration 5, loss = 0.27589783\n",
            "Iteration 6, loss = 0.25728064\n",
            "Iteration 7, loss = 0.24192276\n",
            "Iteration 8, loss = 0.22759271\n",
            "Iteration 9, loss = 0.21514204\n",
            "Iteration 10, loss = 0.20343271\n",
            "Iteration 11, loss = 0.19297884\n",
            "Iteration 12, loss = 0.18365856\n",
            "Iteration 13, loss = 0.17550015\n",
            "Iteration 14, loss = 0.16733674\n",
            "Iteration 15, loss = 0.16005063\n",
            "Iteration 16, loss = 0.15362951\n",
            "Iteration 17, loss = 0.14757403\n",
            "Iteration 18, loss = 0.14140365\n",
            "Iteration 19, loss = 0.13654661\n",
            "Iteration 20, loss = 0.13059168\n"
          ],
          "name": "stdout"
        },
        {
          "output_type": "stream",
          "text": [
            "/usr/local/lib/python3.6/dist-packages/sklearn/neural_network/multilayer_perceptron.py:564: ConvergenceWarning: Stochastic Optimizer: Maximum iterations (20) reached and the optimization hasn't converged yet.\n",
            "  % self.max_iter, ConvergenceWarning)\n"
          ],
          "name": "stderr"
        },
        {
          "output_type": "stream",
          "text": [
            "Iteration 1, loss = 0.86079731\n",
            "Iteration 2, loss = 0.38062844\n",
            "Iteration 3, loss = 0.32594968\n",
            "Iteration 4, loss = 0.29518105\n",
            "Iteration 5, loss = 0.27288833\n",
            "Iteration 6, loss = 0.25532806\n",
            "Iteration 7, loss = 0.23972669\n",
            "Iteration 8, loss = 0.22596634\n",
            "Iteration 9, loss = 0.21293633\n",
            "Iteration 10, loss = 0.20182414\n",
            "Iteration 11, loss = 0.19200339\n",
            "Iteration 12, loss = 0.18239529\n",
            "Iteration 13, loss = 0.17414686\n",
            "Iteration 14, loss = 0.16586358\n",
            "Iteration 15, loss = 0.15855805\n",
            "Iteration 16, loss = 0.15184065\n",
            "Iteration 17, loss = 0.14602218\n",
            "Iteration 18, loss = 0.14027706\n",
            "Iteration 19, loss = 0.13435467\n",
            "Iteration 20, loss = 0.12983055\n"
          ],
          "name": "stdout"
        },
        {
          "output_type": "stream",
          "text": [
            "/usr/local/lib/python3.6/dist-packages/sklearn/neural_network/multilayer_perceptron.py:564: ConvergenceWarning: Stochastic Optimizer: Maximum iterations (20) reached and the optimization hasn't converged yet.\n",
            "  % self.max_iter, ConvergenceWarning)\n"
          ],
          "name": "stderr"
        },
        {
          "output_type": "stream",
          "text": [
            "Iteration 1, loss = 0.85711356\n",
            "Iteration 2, loss = 0.37940840\n",
            "Iteration 3, loss = 0.32493708\n",
            "Iteration 4, loss = 0.29409274\n",
            "Iteration 5, loss = 0.27184790\n",
            "Iteration 6, loss = 0.25313306\n",
            "Iteration 7, loss = 0.23752092\n",
            "Iteration 8, loss = 0.22304288\n",
            "Iteration 9, loss = 0.21102601\n",
            "Iteration 10, loss = 0.19990562\n",
            "Iteration 11, loss = 0.18960611\n",
            "Iteration 12, loss = 0.18010635\n",
            "Iteration 13, loss = 0.17172537\n",
            "Iteration 14, loss = 0.16359118\n",
            "Iteration 15, loss = 0.15643301\n",
            "Iteration 16, loss = 0.14928070\n",
            "Iteration 17, loss = 0.14341588\n",
            "Iteration 18, loss = 0.13746963\n",
            "Iteration 19, loss = 0.13191234\n",
            "Iteration 20, loss = 0.12706443\n"
          ],
          "name": "stdout"
        },
        {
          "output_type": "stream",
          "text": [
            "/usr/local/lib/python3.6/dist-packages/sklearn/neural_network/multilayer_perceptron.py:564: ConvergenceWarning: Stochastic Optimizer: Maximum iterations (20) reached and the optimization hasn't converged yet.\n",
            "  % self.max_iter, ConvergenceWarning)\n"
          ],
          "name": "stderr"
        },
        {
          "output_type": "stream",
          "text": [
            "Iteration 1, loss = 0.85875086\n",
            "Iteration 2, loss = 0.37762425\n",
            "Iteration 3, loss = 0.32270128\n",
            "Iteration 4, loss = 0.29294163\n",
            "Iteration 5, loss = 0.27069883\n",
            "Iteration 6, loss = 0.25274155\n",
            "Iteration 7, loss = 0.23705437\n",
            "Iteration 8, loss = 0.22330008\n",
            "Iteration 9, loss = 0.21092926\n",
            "Iteration 10, loss = 0.19922698\n",
            "Iteration 11, loss = 0.18909430\n",
            "Iteration 12, loss = 0.18007003\n",
            "Iteration 13, loss = 0.17163121\n",
            "Iteration 14, loss = 0.16408748\n",
            "Iteration 15, loss = 0.15635840\n",
            "Iteration 16, loss = 0.14973557\n",
            "Iteration 17, loss = 0.14364813\n",
            "Iteration 18, loss = 0.13827773\n",
            "Iteration 19, loss = 0.13311305\n",
            "Iteration 20, loss = 0.12778301\n"
          ],
          "name": "stdout"
        },
        {
          "output_type": "stream",
          "text": [
            "/usr/local/lib/python3.6/dist-packages/sklearn/neural_network/multilayer_perceptron.py:564: ConvergenceWarning: Stochastic Optimizer: Maximum iterations (20) reached and the optimization hasn't converged yet.\n",
            "  % self.max_iter, ConvergenceWarning)\n"
          ],
          "name": "stderr"
        },
        {
          "output_type": "stream",
          "text": [
            "Iteration 1, loss = 0.86018640\n",
            "Iteration 2, loss = 0.38104385\n",
            "Iteration 3, loss = 0.32704868\n",
            "Iteration 4, loss = 0.29698035\n",
            "Iteration 5, loss = 0.27510084\n",
            "Iteration 6, loss = 0.25819267\n",
            "Iteration 7, loss = 0.24225489\n",
            "Iteration 8, loss = 0.22878503\n",
            "Iteration 9, loss = 0.21609272\n",
            "Iteration 10, loss = 0.20560527\n",
            "Iteration 11, loss = 0.19543898\n",
            "Iteration 12, loss = 0.18616534\n",
            "Iteration 13, loss = 0.17781340\n",
            "Iteration 14, loss = 0.16972400\n",
            "Iteration 15, loss = 0.16243468\n",
            "Iteration 16, loss = 0.15547401\n",
            "Iteration 17, loss = 0.14929474\n",
            "Iteration 18, loss = 0.14326009\n",
            "Iteration 19, loss = 0.13811420\n",
            "Iteration 20, loss = 0.13238282\n"
          ],
          "name": "stdout"
        },
        {
          "output_type": "stream",
          "text": [
            "/usr/local/lib/python3.6/dist-packages/sklearn/neural_network/multilayer_perceptron.py:564: ConvergenceWarning: Stochastic Optimizer: Maximum iterations (20) reached and the optimization hasn't converged yet.\n",
            "  % self.max_iter, ConvergenceWarning)\n"
          ],
          "name": "stderr"
        },
        {
          "output_type": "stream",
          "text": [
            "Iteration 1, loss = 0.85881953\n",
            "Iteration 2, loss = 0.38277112\n",
            "Iteration 3, loss = 0.32938137\n",
            "Iteration 4, loss = 0.29851730\n",
            "Iteration 5, loss = 0.27589783\n",
            "Iteration 6, loss = 0.25728064\n",
            "Iteration 7, loss = 0.24192276\n",
            "Iteration 8, loss = 0.22759271\n",
            "Iteration 9, loss = 0.21514204\n",
            "Iteration 10, loss = 0.20343271\n",
            "Iteration 11, loss = 0.19297884\n",
            "Iteration 12, loss = 0.18365856\n",
            "Iteration 13, loss = 0.17550015\n",
            "Iteration 14, loss = 0.16733674\n",
            "Iteration 15, loss = 0.16005063\n",
            "Iteration 16, loss = 0.15362951\n",
            "Iteration 17, loss = 0.14757403\n",
            "Iteration 18, loss = 0.14140365\n",
            "Iteration 19, loss = 0.13654661\n",
            "Iteration 20, loss = 0.13059168\n"
          ],
          "name": "stdout"
        },
        {
          "output_type": "stream",
          "text": [
            "/usr/local/lib/python3.6/dist-packages/sklearn/neural_network/multilayer_perceptron.py:564: ConvergenceWarning: Stochastic Optimizer: Maximum iterations (20) reached and the optimization hasn't converged yet.\n",
            "  % self.max_iter, ConvergenceWarning)\n"
          ],
          "name": "stderr"
        },
        {
          "output_type": "stream",
          "text": [
            "Iteration 1, loss = 0.86079731\n",
            "Iteration 2, loss = 0.38062844\n",
            "Iteration 3, loss = 0.32594968\n",
            "Iteration 4, loss = 0.29518105\n",
            "Iteration 5, loss = 0.27288833\n",
            "Iteration 6, loss = 0.25532806\n",
            "Iteration 7, loss = 0.23972669\n",
            "Iteration 8, loss = 0.22596634\n",
            "Iteration 9, loss = 0.21293633\n",
            "Iteration 10, loss = 0.20182414\n",
            "Iteration 11, loss = 0.19200339\n",
            "Iteration 12, loss = 0.18239529\n",
            "Iteration 13, loss = 0.17414686\n",
            "Iteration 14, loss = 0.16586358\n",
            "Iteration 15, loss = 0.15855805\n",
            "Iteration 16, loss = 0.15184065\n",
            "Iteration 17, loss = 0.14602218\n",
            "Iteration 18, loss = 0.14027706\n",
            "Iteration 19, loss = 0.13435467\n",
            "Iteration 20, loss = 0.12983055\n"
          ],
          "name": "stdout"
        },
        {
          "output_type": "stream",
          "text": [
            "/usr/local/lib/python3.6/dist-packages/sklearn/neural_network/multilayer_perceptron.py:564: ConvergenceWarning: Stochastic Optimizer: Maximum iterations (20) reached and the optimization hasn't converged yet.\n",
            "  % self.max_iter, ConvergenceWarning)\n"
          ],
          "name": "stderr"
        },
        {
          "output_type": "stream",
          "text": [
            "Iteration 1, loss = 0.85711356\n",
            "Iteration 2, loss = 0.37940840\n",
            "Iteration 3, loss = 0.32493708\n",
            "Iteration 4, loss = 0.29409274\n",
            "Iteration 5, loss = 0.27184790\n",
            "Iteration 6, loss = 0.25313306\n",
            "Iteration 7, loss = 0.23752092\n",
            "Iteration 8, loss = 0.22304288\n",
            "Iteration 9, loss = 0.21102601\n",
            "Iteration 10, loss = 0.19990562\n",
            "Iteration 11, loss = 0.18960611\n",
            "Iteration 12, loss = 0.18010635\n",
            "Iteration 13, loss = 0.17172537\n",
            "Iteration 14, loss = 0.16359118\n",
            "Iteration 15, loss = 0.15643301\n",
            "Iteration 16, loss = 0.14928070\n",
            "Iteration 17, loss = 0.14341588\n",
            "Iteration 18, loss = 0.13746963\n",
            "Iteration 19, loss = 0.13191234\n",
            "Iteration 20, loss = 0.12706443\n"
          ],
          "name": "stdout"
        },
        {
          "output_type": "stream",
          "text": [
            "/usr/local/lib/python3.6/dist-packages/sklearn/neural_network/multilayer_perceptron.py:564: ConvergenceWarning: Stochastic Optimizer: Maximum iterations (20) reached and the optimization hasn't converged yet.\n",
            "  % self.max_iter, ConvergenceWarning)\n"
          ],
          "name": "stderr"
        },
        {
          "output_type": "stream",
          "text": [
            "Iteration 1, loss = 0.85648830\n",
            "Iteration 2, loss = 0.36967331\n",
            "Iteration 3, loss = 0.31192230\n",
            "Iteration 4, loss = 0.27971738\n",
            "Iteration 5, loss = 0.25619247\n",
            "Iteration 6, loss = 0.23725050\n",
            "Iteration 7, loss = 0.22159030\n",
            "Iteration 8, loss = 0.20827437\n",
            "Iteration 9, loss = 0.19632347\n",
            "Iteration 10, loss = 0.18625047\n",
            "Iteration 11, loss = 0.17684146\n",
            "Iteration 12, loss = 0.16736662\n",
            "Iteration 13, loss = 0.15997666\n",
            "Iteration 14, loss = 0.15319662\n",
            "Iteration 15, loss = 0.14554946\n",
            "Iteration 16, loss = 0.13979745\n",
            "Iteration 17, loss = 0.13469439\n",
            "Iteration 18, loss = 0.12919141\n",
            "Iteration 19, loss = 0.12381787\n",
            "Iteration 20, loss = 0.11973619\n"
          ],
          "name": "stdout"
        },
        {
          "output_type": "stream",
          "text": [
            "/usr/local/lib/python3.6/dist-packages/sklearn/neural_network/multilayer_perceptron.py:564: ConvergenceWarning: Stochastic Optimizer: Maximum iterations (20) reached and the optimization hasn't converged yet.\n",
            "  % self.max_iter, ConvergenceWarning)\n"
          ],
          "name": "stderr"
        },
        {
          "output_type": "stream",
          "text": [
            "Iteration 1, loss = 0.85631573\n",
            "Iteration 2, loss = 0.37308959\n",
            "Iteration 3, loss = 0.31668864\n",
            "Iteration 4, loss = 0.28448852\n",
            "Iteration 5, loss = 0.26187641\n",
            "Iteration 6, loss = 0.24350665\n",
            "Iteration 7, loss = 0.22800461\n",
            "Iteration 8, loss = 0.21424364\n",
            "Iteration 9, loss = 0.20239463\n",
            "Iteration 10, loss = 0.19102931\n",
            "Iteration 11, loss = 0.18200280\n",
            "Iteration 12, loss = 0.17285426\n",
            "Iteration 13, loss = 0.16473260\n",
            "Iteration 14, loss = 0.15764172\n",
            "Iteration 15, loss = 0.15008375\n",
            "Iteration 16, loss = 0.14384259\n",
            "Iteration 17, loss = 0.13804481\n",
            "Iteration 18, loss = 0.13257767\n",
            "Iteration 19, loss = 0.12742371\n",
            "Iteration 20, loss = 0.12295800\n"
          ],
          "name": "stdout"
        },
        {
          "output_type": "stream",
          "text": [
            "/usr/local/lib/python3.6/dist-packages/sklearn/neural_network/multilayer_perceptron.py:564: ConvergenceWarning: Stochastic Optimizer: Maximum iterations (20) reached and the optimization hasn't converged yet.\n",
            "  % self.max_iter, ConvergenceWarning)\n"
          ],
          "name": "stderr"
        },
        {
          "output_type": "stream",
          "text": [
            "Iteration 1, loss = 0.85852741\n",
            "Iteration 2, loss = 0.37612002\n",
            "Iteration 3, loss = 0.31775339\n",
            "Iteration 4, loss = 0.28548879\n",
            "Iteration 5, loss = 0.26181045\n",
            "Iteration 6, loss = 0.24275561\n",
            "Iteration 7, loss = 0.22627518\n",
            "Iteration 8, loss = 0.21304107\n",
            "Iteration 9, loss = 0.20135927\n",
            "Iteration 10, loss = 0.19045396\n",
            "Iteration 11, loss = 0.18066270\n",
            "Iteration 12, loss = 0.17254328\n",
            "Iteration 13, loss = 0.16417190\n",
            "Iteration 14, loss = 0.15681227\n",
            "Iteration 15, loss = 0.15026158\n",
            "Iteration 16, loss = 0.14368069\n",
            "Iteration 17, loss = 0.13838797\n",
            "Iteration 18, loss = 0.13252829\n",
            "Iteration 19, loss = 0.12772383\n",
            "Iteration 20, loss = 0.12293733\n"
          ],
          "name": "stdout"
        },
        {
          "output_type": "stream",
          "text": [
            "/usr/local/lib/python3.6/dist-packages/sklearn/neural_network/multilayer_perceptron.py:564: ConvergenceWarning: Stochastic Optimizer: Maximum iterations (20) reached and the optimization hasn't converged yet.\n",
            "  % self.max_iter, ConvergenceWarning)\n"
          ],
          "name": "stderr"
        },
        {
          "output_type": "stream",
          "text": [
            "Iteration 1, loss = 0.86001279\n",
            "Iteration 2, loss = 0.37319898\n",
            "Iteration 3, loss = 0.31481629\n",
            "Iteration 4, loss = 0.28229705\n",
            "Iteration 5, loss = 0.25883588\n",
            "Iteration 6, loss = 0.24001918\n",
            "Iteration 7, loss = 0.22433073\n",
            "Iteration 8, loss = 0.21097349\n",
            "Iteration 9, loss = 0.19883114\n",
            "Iteration 10, loss = 0.18819302\n",
            "Iteration 11, loss = 0.17826274\n",
            "Iteration 12, loss = 0.17001043\n",
            "Iteration 13, loss = 0.16133955\n",
            "Iteration 14, loss = 0.15405491\n",
            "Iteration 15, loss = 0.14712340\n",
            "Iteration 16, loss = 0.14113863\n",
            "Iteration 17, loss = 0.13545426\n",
            "Iteration 18, loss = 0.12994021\n",
            "Iteration 19, loss = 0.12462651\n",
            "Iteration 20, loss = 0.12018872\n"
          ],
          "name": "stdout"
        },
        {
          "output_type": "stream",
          "text": [
            "/usr/local/lib/python3.6/dist-packages/sklearn/neural_network/multilayer_perceptron.py:564: ConvergenceWarning: Stochastic Optimizer: Maximum iterations (20) reached and the optimization hasn't converged yet.\n",
            "  % self.max_iter, ConvergenceWarning)\n"
          ],
          "name": "stderr"
        },
        {
          "output_type": "stream",
          "text": [
            "Iteration 1, loss = 0.85671116\n",
            "Iteration 2, loss = 0.37231681\n",
            "Iteration 3, loss = 0.31406842\n",
            "Iteration 4, loss = 0.28186521\n",
            "Iteration 5, loss = 0.25836701\n",
            "Iteration 6, loss = 0.23936227\n",
            "Iteration 7, loss = 0.22237830\n",
            "Iteration 8, loss = 0.20873382\n",
            "Iteration 9, loss = 0.19652688\n",
            "Iteration 10, loss = 0.18626093\n",
            "Iteration 11, loss = 0.17637021\n",
            "Iteration 12, loss = 0.16672524\n",
            "Iteration 13, loss = 0.15943695\n",
            "Iteration 14, loss = 0.15177562\n",
            "Iteration 15, loss = 0.14507768\n",
            "Iteration 16, loss = 0.13901544\n",
            "Iteration 17, loss = 0.13313997\n",
            "Iteration 18, loss = 0.12775895\n",
            "Iteration 19, loss = 0.12275566\n",
            "Iteration 20, loss = 0.11797326\n"
          ],
          "name": "stdout"
        },
        {
          "output_type": "stream",
          "text": [
            "/usr/local/lib/python3.6/dist-packages/sklearn/neural_network/multilayer_perceptron.py:564: ConvergenceWarning: Stochastic Optimizer: Maximum iterations (20) reached and the optimization hasn't converged yet.\n",
            "  % self.max_iter, ConvergenceWarning)\n"
          ],
          "name": "stderr"
        },
        {
          "output_type": "stream",
          "text": [
            "Iteration 1, loss = 0.85648830\n",
            "Iteration 2, loss = 0.36967331\n",
            "Iteration 3, loss = 0.31192230\n",
            "Iteration 4, loss = 0.27971738\n",
            "Iteration 5, loss = 0.25619247\n",
            "Iteration 6, loss = 0.23725050\n",
            "Iteration 7, loss = 0.22159030\n",
            "Iteration 8, loss = 0.20827437\n",
            "Iteration 9, loss = 0.19632347\n",
            "Iteration 10, loss = 0.18625047\n",
            "Iteration 11, loss = 0.17684146\n",
            "Iteration 12, loss = 0.16736662\n",
            "Iteration 13, loss = 0.15997666\n",
            "Iteration 14, loss = 0.15319662\n",
            "Iteration 15, loss = 0.14554946\n",
            "Iteration 16, loss = 0.13979745\n",
            "Iteration 17, loss = 0.13469439\n",
            "Iteration 18, loss = 0.12919141\n",
            "Iteration 19, loss = 0.12381787\n",
            "Iteration 20, loss = 0.11973619\n"
          ],
          "name": "stdout"
        },
        {
          "output_type": "stream",
          "text": [
            "/usr/local/lib/python3.6/dist-packages/sklearn/neural_network/multilayer_perceptron.py:564: ConvergenceWarning: Stochastic Optimizer: Maximum iterations (20) reached and the optimization hasn't converged yet.\n",
            "  % self.max_iter, ConvergenceWarning)\n"
          ],
          "name": "stderr"
        },
        {
          "output_type": "stream",
          "text": [
            "Iteration 1, loss = 0.85631573\n",
            "Iteration 2, loss = 0.37308959\n",
            "Iteration 3, loss = 0.31668864\n",
            "Iteration 4, loss = 0.28448852\n",
            "Iteration 5, loss = 0.26187641\n",
            "Iteration 6, loss = 0.24350665\n",
            "Iteration 7, loss = 0.22800461\n",
            "Iteration 8, loss = 0.21424364\n",
            "Iteration 9, loss = 0.20239463\n",
            "Iteration 10, loss = 0.19102931\n",
            "Iteration 11, loss = 0.18200280\n",
            "Iteration 12, loss = 0.17285426\n",
            "Iteration 13, loss = 0.16473260\n",
            "Iteration 14, loss = 0.15764172\n",
            "Iteration 15, loss = 0.15008375\n",
            "Iteration 16, loss = 0.14384259\n",
            "Iteration 17, loss = 0.13804481\n",
            "Iteration 18, loss = 0.13257767\n",
            "Iteration 19, loss = 0.12742371\n",
            "Iteration 20, loss = 0.12295800\n"
          ],
          "name": "stdout"
        },
        {
          "output_type": "stream",
          "text": [
            "/usr/local/lib/python3.6/dist-packages/sklearn/neural_network/multilayer_perceptron.py:564: ConvergenceWarning: Stochastic Optimizer: Maximum iterations (20) reached and the optimization hasn't converged yet.\n",
            "  % self.max_iter, ConvergenceWarning)\n"
          ],
          "name": "stderr"
        },
        {
          "output_type": "stream",
          "text": [
            "Iteration 1, loss = 0.85852741\n",
            "Iteration 2, loss = 0.37612002\n",
            "Iteration 3, loss = 0.31775339\n",
            "Iteration 4, loss = 0.28548879\n",
            "Iteration 5, loss = 0.26181045\n",
            "Iteration 6, loss = 0.24275561\n",
            "Iteration 7, loss = 0.22627518\n",
            "Iteration 8, loss = 0.21304107\n",
            "Iteration 9, loss = 0.20135927\n",
            "Iteration 10, loss = 0.19045396\n",
            "Iteration 11, loss = 0.18066270\n",
            "Iteration 12, loss = 0.17254328\n",
            "Iteration 13, loss = 0.16417190\n",
            "Iteration 14, loss = 0.15681227\n",
            "Iteration 15, loss = 0.15026158\n",
            "Iteration 16, loss = 0.14368069\n",
            "Iteration 17, loss = 0.13838797\n",
            "Iteration 18, loss = 0.13252829\n",
            "Iteration 19, loss = 0.12772383\n",
            "Iteration 20, loss = 0.12293733\n"
          ],
          "name": "stdout"
        },
        {
          "output_type": "stream",
          "text": [
            "/usr/local/lib/python3.6/dist-packages/sklearn/neural_network/multilayer_perceptron.py:564: ConvergenceWarning: Stochastic Optimizer: Maximum iterations (20) reached and the optimization hasn't converged yet.\n",
            "  % self.max_iter, ConvergenceWarning)\n"
          ],
          "name": "stderr"
        },
        {
          "output_type": "stream",
          "text": [
            "Iteration 1, loss = 0.86001279\n",
            "Iteration 2, loss = 0.37319898\n",
            "Iteration 3, loss = 0.31481629\n",
            "Iteration 4, loss = 0.28229705\n",
            "Iteration 5, loss = 0.25883588\n",
            "Iteration 6, loss = 0.24001918\n",
            "Iteration 7, loss = 0.22433073\n",
            "Iteration 8, loss = 0.21097349\n",
            "Iteration 9, loss = 0.19883114\n",
            "Iteration 10, loss = 0.18819302\n",
            "Iteration 11, loss = 0.17826274\n",
            "Iteration 12, loss = 0.17001043\n",
            "Iteration 13, loss = 0.16133955\n",
            "Iteration 14, loss = 0.15405491\n",
            "Iteration 15, loss = 0.14712340\n",
            "Iteration 16, loss = 0.14113863\n",
            "Iteration 17, loss = 0.13545426\n",
            "Iteration 18, loss = 0.12994021\n",
            "Iteration 19, loss = 0.12462651\n",
            "Iteration 20, loss = 0.12018872\n"
          ],
          "name": "stdout"
        },
        {
          "output_type": "stream",
          "text": [
            "/usr/local/lib/python3.6/dist-packages/sklearn/neural_network/multilayer_perceptron.py:564: ConvergenceWarning: Stochastic Optimizer: Maximum iterations (20) reached and the optimization hasn't converged yet.\n",
            "  % self.max_iter, ConvergenceWarning)\n"
          ],
          "name": "stderr"
        },
        {
          "output_type": "stream",
          "text": [
            "Iteration 1, loss = 0.85671116\n",
            "Iteration 2, loss = 0.37231681\n",
            "Iteration 3, loss = 0.31406842\n",
            "Iteration 4, loss = 0.28186521\n",
            "Iteration 5, loss = 0.25836701\n",
            "Iteration 6, loss = 0.23936227\n",
            "Iteration 7, loss = 0.22237830\n",
            "Iteration 8, loss = 0.20873382\n",
            "Iteration 9, loss = 0.19652688\n",
            "Iteration 10, loss = 0.18626093\n",
            "Iteration 11, loss = 0.17637021\n",
            "Iteration 12, loss = 0.16672524\n",
            "Iteration 13, loss = 0.15943695\n",
            "Iteration 14, loss = 0.15177562\n",
            "Iteration 15, loss = 0.14507768\n",
            "Iteration 16, loss = 0.13901544\n",
            "Iteration 17, loss = 0.13313997\n",
            "Iteration 18, loss = 0.12775895\n",
            "Iteration 19, loss = 0.12275566\n",
            "Iteration 20, loss = 0.11797326\n"
          ],
          "name": "stdout"
        },
        {
          "output_type": "stream",
          "text": [
            "/usr/local/lib/python3.6/dist-packages/sklearn/neural_network/multilayer_perceptron.py:564: ConvergenceWarning: Stochastic Optimizer: Maximum iterations (20) reached and the optimization hasn't converged yet.\n",
            "  % self.max_iter, ConvergenceWarning)\n"
          ],
          "name": "stderr"
        },
        {
          "output_type": "stream",
          "text": [
            "Iteration 1, loss = 0.45762204\n",
            "Iteration 2, loss = 0.17222435\n",
            "Iteration 3, loss = 0.12825452\n",
            "Iteration 4, loss = 0.09929499\n",
            "Iteration 5, loss = 0.07929605\n",
            "Iteration 6, loss = 0.06934379\n",
            "Iteration 7, loss = 0.05885469\n",
            "Iteration 8, loss = 0.05408759\n",
            "Iteration 9, loss = 0.04155945\n",
            "Iteration 10, loss = 0.03420951\n"
          ],
          "name": "stdout"
        },
        {
          "output_type": "stream",
          "text": [
            "/usr/local/lib/python3.6/dist-packages/sklearn/neural_network/multilayer_perceptron.py:564: ConvergenceWarning: Stochastic Optimizer: Maximum iterations (10) reached and the optimization hasn't converged yet.\n",
            "  % self.max_iter, ConvergenceWarning)\n"
          ],
          "name": "stderr"
        },
        {
          "output_type": "stream",
          "text": [
            "Iteration 1, loss = 0.46432535\n",
            "Iteration 2, loss = 0.17423357\n",
            "Iteration 3, loss = 0.12474162\n",
            "Iteration 4, loss = 0.09678249\n",
            "Iteration 5, loss = 0.07860315\n",
            "Iteration 6, loss = 0.06518220\n",
            "Iteration 7, loss = 0.05910945\n",
            "Iteration 8, loss = 0.04749148\n",
            "Iteration 9, loss = 0.04094949\n",
            "Iteration 10, loss = 0.03401297\n"
          ],
          "name": "stdout"
        },
        {
          "output_type": "stream",
          "text": [
            "/usr/local/lib/python3.6/dist-packages/sklearn/neural_network/multilayer_perceptron.py:564: ConvergenceWarning: Stochastic Optimizer: Maximum iterations (10) reached and the optimization hasn't converged yet.\n",
            "  % self.max_iter, ConvergenceWarning)\n"
          ],
          "name": "stderr"
        },
        {
          "output_type": "stream",
          "text": [
            "Iteration 1, loss = 0.47160909\n",
            "Iteration 2, loss = 0.17466470\n",
            "Iteration 3, loss = 0.12917943\n",
            "Iteration 4, loss = 0.10151760\n",
            "Iteration 5, loss = 0.08271000\n",
            "Iteration 6, loss = 0.06851839\n",
            "Iteration 7, loss = 0.05701636\n",
            "Iteration 8, loss = 0.05181145\n",
            "Iteration 9, loss = 0.04315286\n",
            "Iteration 10, loss = 0.03892681\n"
          ],
          "name": "stdout"
        },
        {
          "output_type": "stream",
          "text": [
            "/usr/local/lib/python3.6/dist-packages/sklearn/neural_network/multilayer_perceptron.py:564: ConvergenceWarning: Stochastic Optimizer: Maximum iterations (10) reached and the optimization hasn't converged yet.\n",
            "  % self.max_iter, ConvergenceWarning)\n"
          ],
          "name": "stderr"
        },
        {
          "output_type": "stream",
          "text": [
            "Iteration 1, loss = 0.45425666\n",
            "Iteration 2, loss = 0.17740177\n",
            "Iteration 3, loss = 0.13034943\n",
            "Iteration 4, loss = 0.10199242\n",
            "Iteration 5, loss = 0.08345815\n",
            "Iteration 6, loss = 0.06875943\n",
            "Iteration 7, loss = 0.05548508\n",
            "Iteration 8, loss = 0.04920921\n",
            "Iteration 9, loss = 0.04115921\n",
            "Iteration 10, loss = 0.03446232\n"
          ],
          "name": "stdout"
        },
        {
          "output_type": "stream",
          "text": [
            "/usr/local/lib/python3.6/dist-packages/sklearn/neural_network/multilayer_perceptron.py:564: ConvergenceWarning: Stochastic Optimizer: Maximum iterations (10) reached and the optimization hasn't converged yet.\n",
            "  % self.max_iter, ConvergenceWarning)\n"
          ],
          "name": "stderr"
        },
        {
          "output_type": "stream",
          "text": [
            "Iteration 1, loss = 0.45874444\n",
            "Iteration 2, loss = 0.17525861\n",
            "Iteration 3, loss = 0.12445872\n",
            "Iteration 4, loss = 0.09909774\n",
            "Iteration 5, loss = 0.08282882\n",
            "Iteration 6, loss = 0.06663058\n",
            "Iteration 7, loss = 0.05786447\n",
            "Iteration 8, loss = 0.04735162\n",
            "Iteration 9, loss = 0.04045183\n",
            "Iteration 10, loss = 0.03578261\n"
          ],
          "name": "stdout"
        },
        {
          "output_type": "stream",
          "text": [
            "/usr/local/lib/python3.6/dist-packages/sklearn/neural_network/multilayer_perceptron.py:564: ConvergenceWarning: Stochastic Optimizer: Maximum iterations (10) reached and the optimization hasn't converged yet.\n",
            "  % self.max_iter, ConvergenceWarning)\n"
          ],
          "name": "stderr"
        },
        {
          "output_type": "stream",
          "text": [
            "Iteration 1, loss = 0.45762204\n",
            "Iteration 2, loss = 0.17222435\n",
            "Iteration 3, loss = 0.12825452\n",
            "Iteration 4, loss = 0.09929499\n",
            "Iteration 5, loss = 0.07929605\n",
            "Iteration 6, loss = 0.06934379\n",
            "Iteration 7, loss = 0.05885469\n",
            "Iteration 8, loss = 0.05408759\n",
            "Iteration 9, loss = 0.04155945\n",
            "Iteration 10, loss = 0.03420951\n"
          ],
          "name": "stdout"
        },
        {
          "output_type": "stream",
          "text": [
            "/usr/local/lib/python3.6/dist-packages/sklearn/neural_network/multilayer_perceptron.py:564: ConvergenceWarning: Stochastic Optimizer: Maximum iterations (10) reached and the optimization hasn't converged yet.\n",
            "  % self.max_iter, ConvergenceWarning)\n"
          ],
          "name": "stderr"
        },
        {
          "output_type": "stream",
          "text": [
            "Iteration 1, loss = 0.46432535\n",
            "Iteration 2, loss = 0.17423357\n",
            "Iteration 3, loss = 0.12474162\n",
            "Iteration 4, loss = 0.09678249\n",
            "Iteration 5, loss = 0.07860315\n",
            "Iteration 6, loss = 0.06518220\n",
            "Iteration 7, loss = 0.05910945\n",
            "Iteration 8, loss = 0.04749148\n",
            "Iteration 9, loss = 0.04094949\n",
            "Iteration 10, loss = 0.03401297\n"
          ],
          "name": "stdout"
        },
        {
          "output_type": "stream",
          "text": [
            "/usr/local/lib/python3.6/dist-packages/sklearn/neural_network/multilayer_perceptron.py:564: ConvergenceWarning: Stochastic Optimizer: Maximum iterations (10) reached and the optimization hasn't converged yet.\n",
            "  % self.max_iter, ConvergenceWarning)\n"
          ],
          "name": "stderr"
        },
        {
          "output_type": "stream",
          "text": [
            "Iteration 1, loss = 0.47160909\n",
            "Iteration 2, loss = 0.17466470\n",
            "Iteration 3, loss = 0.12917943\n",
            "Iteration 4, loss = 0.10151760\n",
            "Iteration 5, loss = 0.08271000\n",
            "Iteration 6, loss = 0.06851839\n",
            "Iteration 7, loss = 0.05701636\n",
            "Iteration 8, loss = 0.05181145\n",
            "Iteration 9, loss = 0.04315286\n",
            "Iteration 10, loss = 0.03892681\n"
          ],
          "name": "stdout"
        },
        {
          "output_type": "stream",
          "text": [
            "/usr/local/lib/python3.6/dist-packages/sklearn/neural_network/multilayer_perceptron.py:564: ConvergenceWarning: Stochastic Optimizer: Maximum iterations (10) reached and the optimization hasn't converged yet.\n",
            "  % self.max_iter, ConvergenceWarning)\n"
          ],
          "name": "stderr"
        },
        {
          "output_type": "stream",
          "text": [
            "Iteration 1, loss = 0.45425666\n",
            "Iteration 2, loss = 0.17740177\n",
            "Iteration 3, loss = 0.13034943\n",
            "Iteration 4, loss = 0.10199242\n",
            "Iteration 5, loss = 0.08345815\n",
            "Iteration 6, loss = 0.06875943\n",
            "Iteration 7, loss = 0.05548508\n",
            "Iteration 8, loss = 0.04920921\n",
            "Iteration 9, loss = 0.04115921\n",
            "Iteration 10, loss = 0.03446232\n"
          ],
          "name": "stdout"
        },
        {
          "output_type": "stream",
          "text": [
            "/usr/local/lib/python3.6/dist-packages/sklearn/neural_network/multilayer_perceptron.py:564: ConvergenceWarning: Stochastic Optimizer: Maximum iterations (10) reached and the optimization hasn't converged yet.\n",
            "  % self.max_iter, ConvergenceWarning)\n"
          ],
          "name": "stderr"
        },
        {
          "output_type": "stream",
          "text": [
            "Iteration 1, loss = 0.45874444\n",
            "Iteration 2, loss = 0.17525861\n",
            "Iteration 3, loss = 0.12445872\n",
            "Iteration 4, loss = 0.09909774\n",
            "Iteration 5, loss = 0.08282882\n",
            "Iteration 6, loss = 0.06663058\n",
            "Iteration 7, loss = 0.05786447\n",
            "Iteration 8, loss = 0.04735162\n",
            "Iteration 9, loss = 0.04045183\n",
            "Iteration 10, loss = 0.03578261\n"
          ],
          "name": "stdout"
        },
        {
          "output_type": "stream",
          "text": [
            "/usr/local/lib/python3.6/dist-packages/sklearn/neural_network/multilayer_perceptron.py:564: ConvergenceWarning: Stochastic Optimizer: Maximum iterations (10) reached and the optimization hasn't converged yet.\n",
            "  % self.max_iter, ConvergenceWarning)\n"
          ],
          "name": "stderr"
        },
        {
          "output_type": "stream",
          "text": [
            "Iteration 1, loss = 0.47328761\n",
            "Iteration 2, loss = 0.17195481\n",
            "Iteration 3, loss = 0.12501237\n",
            "Iteration 4, loss = 0.09751403\n",
            "Iteration 5, loss = 0.07966081\n",
            "Iteration 6, loss = 0.06389386\n",
            "Iteration 7, loss = 0.05668050\n",
            "Iteration 8, loss = 0.04632362\n",
            "Iteration 9, loss = 0.04138737\n",
            "Iteration 10, loss = 0.03495183\n"
          ],
          "name": "stdout"
        },
        {
          "output_type": "stream",
          "text": [
            "/usr/local/lib/python3.6/dist-packages/sklearn/neural_network/multilayer_perceptron.py:564: ConvergenceWarning: Stochastic Optimizer: Maximum iterations (10) reached and the optimization hasn't converged yet.\n",
            "  % self.max_iter, ConvergenceWarning)\n"
          ],
          "name": "stderr"
        },
        {
          "output_type": "stream",
          "text": [
            "Iteration 1, loss = 0.48138870\n",
            "Iteration 2, loss = 0.17384540\n",
            "Iteration 3, loss = 0.12653372\n",
            "Iteration 4, loss = 0.09797314\n",
            "Iteration 5, loss = 0.08000797\n",
            "Iteration 6, loss = 0.06839240\n",
            "Iteration 7, loss = 0.05589736\n",
            "Iteration 8, loss = 0.04835676\n",
            "Iteration 9, loss = 0.04428564\n",
            "Iteration 10, loss = 0.04263835\n"
          ],
          "name": "stdout"
        },
        {
          "output_type": "stream",
          "text": [
            "/usr/local/lib/python3.6/dist-packages/sklearn/neural_network/multilayer_perceptron.py:564: ConvergenceWarning: Stochastic Optimizer: Maximum iterations (10) reached and the optimization hasn't converged yet.\n",
            "  % self.max_iter, ConvergenceWarning)\n"
          ],
          "name": "stderr"
        },
        {
          "output_type": "stream",
          "text": [
            "Iteration 1, loss = 0.48031973\n",
            "Iteration 2, loss = 0.17792321\n",
            "Iteration 3, loss = 0.12987945\n",
            "Iteration 4, loss = 0.10433562\n",
            "Iteration 5, loss = 0.08400298\n",
            "Iteration 6, loss = 0.07068328\n",
            "Iteration 7, loss = 0.05934975\n",
            "Iteration 8, loss = 0.04967649\n",
            "Iteration 9, loss = 0.04109447\n",
            "Iteration 10, loss = 0.03705978\n"
          ],
          "name": "stdout"
        },
        {
          "output_type": "stream",
          "text": [
            "/usr/local/lib/python3.6/dist-packages/sklearn/neural_network/multilayer_perceptron.py:564: ConvergenceWarning: Stochastic Optimizer: Maximum iterations (10) reached and the optimization hasn't converged yet.\n",
            "  % self.max_iter, ConvergenceWarning)\n"
          ],
          "name": "stderr"
        },
        {
          "output_type": "stream",
          "text": [
            "Iteration 1, loss = 0.47109620\n",
            "Iteration 2, loss = 0.17704752\n",
            "Iteration 3, loss = 0.12858222\n",
            "Iteration 4, loss = 0.09930834\n",
            "Iteration 5, loss = 0.08030380\n",
            "Iteration 6, loss = 0.06546157\n",
            "Iteration 7, loss = 0.05445709\n",
            "Iteration 8, loss = 0.04459439\n",
            "Iteration 9, loss = 0.04252029\n",
            "Iteration 10, loss = 0.03368992\n"
          ],
          "name": "stdout"
        },
        {
          "output_type": "stream",
          "text": [
            "/usr/local/lib/python3.6/dist-packages/sklearn/neural_network/multilayer_perceptron.py:564: ConvergenceWarning: Stochastic Optimizer: Maximum iterations (10) reached and the optimization hasn't converged yet.\n",
            "  % self.max_iter, ConvergenceWarning)\n"
          ],
          "name": "stderr"
        },
        {
          "output_type": "stream",
          "text": [
            "Iteration 1, loss = 0.47692523\n",
            "Iteration 2, loss = 0.16870359\n",
            "Iteration 3, loss = 0.12241350\n",
            "Iteration 4, loss = 0.09746607\n",
            "Iteration 5, loss = 0.07869967\n",
            "Iteration 6, loss = 0.06527793\n",
            "Iteration 7, loss = 0.05547440\n",
            "Iteration 8, loss = 0.04463049\n",
            "Iteration 9, loss = 0.03773178\n",
            "Iteration 10, loss = 0.03464695\n"
          ],
          "name": "stdout"
        },
        {
          "output_type": "stream",
          "text": [
            "/usr/local/lib/python3.6/dist-packages/sklearn/neural_network/multilayer_perceptron.py:564: ConvergenceWarning: Stochastic Optimizer: Maximum iterations (10) reached and the optimization hasn't converged yet.\n",
            "  % self.max_iter, ConvergenceWarning)\n"
          ],
          "name": "stderr"
        },
        {
          "output_type": "stream",
          "text": [
            "Iteration 1, loss = 0.47328761\n",
            "Iteration 2, loss = 0.17195481\n",
            "Iteration 3, loss = 0.12501237\n",
            "Iteration 4, loss = 0.09751403\n",
            "Iteration 5, loss = 0.07966081\n",
            "Iteration 6, loss = 0.06389386\n",
            "Iteration 7, loss = 0.05668050\n",
            "Iteration 8, loss = 0.04632362\n",
            "Iteration 9, loss = 0.04138737\n",
            "Iteration 10, loss = 0.03495183\n"
          ],
          "name": "stdout"
        },
        {
          "output_type": "stream",
          "text": [
            "/usr/local/lib/python3.6/dist-packages/sklearn/neural_network/multilayer_perceptron.py:564: ConvergenceWarning: Stochastic Optimizer: Maximum iterations (10) reached and the optimization hasn't converged yet.\n",
            "  % self.max_iter, ConvergenceWarning)\n"
          ],
          "name": "stderr"
        },
        {
          "output_type": "stream",
          "text": [
            "Iteration 1, loss = 0.48138870\n",
            "Iteration 2, loss = 0.17384540\n",
            "Iteration 3, loss = 0.12653372\n",
            "Iteration 4, loss = 0.09797314\n",
            "Iteration 5, loss = 0.08000797\n",
            "Iteration 6, loss = 0.06839240\n",
            "Iteration 7, loss = 0.05589736\n",
            "Iteration 8, loss = 0.04835676\n",
            "Iteration 9, loss = 0.04428564\n",
            "Iteration 10, loss = 0.04263835\n"
          ],
          "name": "stdout"
        },
        {
          "output_type": "stream",
          "text": [
            "/usr/local/lib/python3.6/dist-packages/sklearn/neural_network/multilayer_perceptron.py:564: ConvergenceWarning: Stochastic Optimizer: Maximum iterations (10) reached and the optimization hasn't converged yet.\n",
            "  % self.max_iter, ConvergenceWarning)\n"
          ],
          "name": "stderr"
        },
        {
          "output_type": "stream",
          "text": [
            "Iteration 1, loss = 0.48031973\n",
            "Iteration 2, loss = 0.17792321\n",
            "Iteration 3, loss = 0.12987945\n",
            "Iteration 4, loss = 0.10433562\n",
            "Iteration 5, loss = 0.08400298\n",
            "Iteration 6, loss = 0.07068328\n",
            "Iteration 7, loss = 0.05934975\n",
            "Iteration 8, loss = 0.04967649\n",
            "Iteration 9, loss = 0.04109447\n",
            "Iteration 10, loss = 0.03705978\n"
          ],
          "name": "stdout"
        },
        {
          "output_type": "stream",
          "text": [
            "/usr/local/lib/python3.6/dist-packages/sklearn/neural_network/multilayer_perceptron.py:564: ConvergenceWarning: Stochastic Optimizer: Maximum iterations (10) reached and the optimization hasn't converged yet.\n",
            "  % self.max_iter, ConvergenceWarning)\n"
          ],
          "name": "stderr"
        },
        {
          "output_type": "stream",
          "text": [
            "Iteration 1, loss = 0.47109620\n",
            "Iteration 2, loss = 0.17704752\n",
            "Iteration 3, loss = 0.12858222\n",
            "Iteration 4, loss = 0.09930834\n",
            "Iteration 5, loss = 0.08030380\n",
            "Iteration 6, loss = 0.06546157\n",
            "Iteration 7, loss = 0.05445709\n",
            "Iteration 8, loss = 0.04459439\n",
            "Iteration 9, loss = 0.04252029\n",
            "Iteration 10, loss = 0.03368992\n"
          ],
          "name": "stdout"
        },
        {
          "output_type": "stream",
          "text": [
            "/usr/local/lib/python3.6/dist-packages/sklearn/neural_network/multilayer_perceptron.py:564: ConvergenceWarning: Stochastic Optimizer: Maximum iterations (10) reached and the optimization hasn't converged yet.\n",
            "  % self.max_iter, ConvergenceWarning)\n"
          ],
          "name": "stderr"
        },
        {
          "output_type": "stream",
          "text": [
            "Iteration 1, loss = 0.47692523\n",
            "Iteration 2, loss = 0.16870359\n",
            "Iteration 3, loss = 0.12241350\n",
            "Iteration 4, loss = 0.09746607\n",
            "Iteration 5, loss = 0.07869967\n",
            "Iteration 6, loss = 0.06527793\n",
            "Iteration 7, loss = 0.05547440\n",
            "Iteration 8, loss = 0.04463049\n",
            "Iteration 9, loss = 0.03773178\n",
            "Iteration 10, loss = 0.03464695\n"
          ],
          "name": "stdout"
        },
        {
          "output_type": "stream",
          "text": [
            "/usr/local/lib/python3.6/dist-packages/sklearn/neural_network/multilayer_perceptron.py:564: ConvergenceWarning: Stochastic Optimizer: Maximum iterations (10) reached and the optimization hasn't converged yet.\n",
            "  % self.max_iter, ConvergenceWarning)\n"
          ],
          "name": "stderr"
        },
        {
          "output_type": "stream",
          "text": [
            "Iteration 1, loss = 0.45762204\n",
            "Iteration 2, loss = 0.17222435\n",
            "Iteration 3, loss = 0.12825452\n",
            "Iteration 4, loss = 0.09929499\n",
            "Iteration 5, loss = 0.07929605\n",
            "Iteration 6, loss = 0.06934379\n",
            "Iteration 7, loss = 0.05885469\n",
            "Iteration 8, loss = 0.05408759\n",
            "Iteration 9, loss = 0.04155945\n",
            "Iteration 10, loss = 0.03420951\n",
            "Iteration 11, loss = 0.03575945\n",
            "Iteration 12, loss = 0.03230967\n",
            "Iteration 13, loss = 0.02477706\n",
            "Iteration 14, loss = 0.02153677\n",
            "Iteration 15, loss = 0.01762667\n",
            "Iteration 16, loss = 0.01926341\n",
            "Iteration 17, loss = 0.01723241\n",
            "Iteration 18, loss = 0.01474060\n",
            "Iteration 19, loss = 0.01316620\n",
            "Iteration 20, loss = 0.01531474\n"
          ],
          "name": "stdout"
        },
        {
          "output_type": "stream",
          "text": [
            "/usr/local/lib/python3.6/dist-packages/sklearn/neural_network/multilayer_perceptron.py:564: ConvergenceWarning: Stochastic Optimizer: Maximum iterations (20) reached and the optimization hasn't converged yet.\n",
            "  % self.max_iter, ConvergenceWarning)\n"
          ],
          "name": "stderr"
        },
        {
          "output_type": "stream",
          "text": [
            "Iteration 1, loss = 0.46432535\n",
            "Iteration 2, loss = 0.17423357\n",
            "Iteration 3, loss = 0.12474162\n",
            "Iteration 4, loss = 0.09678249\n",
            "Iteration 5, loss = 0.07860315\n",
            "Iteration 6, loss = 0.06518220\n",
            "Iteration 7, loss = 0.05910945\n",
            "Iteration 8, loss = 0.04749148\n",
            "Iteration 9, loss = 0.04094949\n",
            "Iteration 10, loss = 0.03401297\n",
            "Iteration 11, loss = 0.03376748\n",
            "Iteration 12, loss = 0.03265529\n",
            "Iteration 13, loss = 0.02509503\n",
            "Iteration 14, loss = 0.02190939\n",
            "Iteration 15, loss = 0.01761788\n",
            "Iteration 16, loss = 0.01492017\n",
            "Iteration 17, loss = 0.01331360\n",
            "Iteration 18, loss = 0.00938360\n",
            "Iteration 19, loss = 0.00909239\n",
            "Iteration 20, loss = 0.01028606\n"
          ],
          "name": "stdout"
        },
        {
          "output_type": "stream",
          "text": [
            "/usr/local/lib/python3.6/dist-packages/sklearn/neural_network/multilayer_perceptron.py:564: ConvergenceWarning: Stochastic Optimizer: Maximum iterations (20) reached and the optimization hasn't converged yet.\n",
            "  % self.max_iter, ConvergenceWarning)\n"
          ],
          "name": "stderr"
        },
        {
          "output_type": "stream",
          "text": [
            "Iteration 1, loss = 0.47160909\n",
            "Iteration 2, loss = 0.17466470\n",
            "Iteration 3, loss = 0.12917943\n",
            "Iteration 4, loss = 0.10151760\n",
            "Iteration 5, loss = 0.08271000\n",
            "Iteration 6, loss = 0.06851839\n",
            "Iteration 7, loss = 0.05701636\n",
            "Iteration 8, loss = 0.05181145\n",
            "Iteration 9, loss = 0.04315286\n",
            "Iteration 10, loss = 0.03892681\n",
            "Iteration 11, loss = 0.03846541\n",
            "Iteration 12, loss = 0.03292127\n",
            "Iteration 13, loss = 0.02735187\n",
            "Iteration 14, loss = 0.02357102\n",
            "Iteration 15, loss = 0.01991931\n",
            "Iteration 16, loss = 0.01452942\n",
            "Iteration 17, loss = 0.01373426\n",
            "Iteration 18, loss = 0.01291978\n",
            "Iteration 19, loss = 0.01231260\n",
            "Iteration 20, loss = 0.00790028\n"
          ],
          "name": "stdout"
        },
        {
          "output_type": "stream",
          "text": [
            "/usr/local/lib/python3.6/dist-packages/sklearn/neural_network/multilayer_perceptron.py:564: ConvergenceWarning: Stochastic Optimizer: Maximum iterations (20) reached and the optimization hasn't converged yet.\n",
            "  % self.max_iter, ConvergenceWarning)\n"
          ],
          "name": "stderr"
        },
        {
          "output_type": "stream",
          "text": [
            "Iteration 1, loss = 0.45425666\n",
            "Iteration 2, loss = 0.17740177\n",
            "Iteration 3, loss = 0.13034943\n",
            "Iteration 4, loss = 0.10199242\n",
            "Iteration 5, loss = 0.08345815\n",
            "Iteration 6, loss = 0.06875943\n",
            "Iteration 7, loss = 0.05548508\n",
            "Iteration 8, loss = 0.04920921\n",
            "Iteration 9, loss = 0.04115921\n",
            "Iteration 10, loss = 0.03446232\n",
            "Iteration 11, loss = 0.03054117\n",
            "Iteration 12, loss = 0.02796232\n",
            "Iteration 13, loss = 0.02598769\n",
            "Iteration 14, loss = 0.01940804\n",
            "Iteration 15, loss = 0.01416169\n",
            "Iteration 16, loss = 0.01218671\n",
            "Iteration 17, loss = 0.01171427\n",
            "Iteration 18, loss = 0.01079961\n",
            "Iteration 19, loss = 0.00917065\n",
            "Iteration 20, loss = 0.01010112\n"
          ],
          "name": "stdout"
        },
        {
          "output_type": "stream",
          "text": [
            "/usr/local/lib/python3.6/dist-packages/sklearn/neural_network/multilayer_perceptron.py:564: ConvergenceWarning: Stochastic Optimizer: Maximum iterations (20) reached and the optimization hasn't converged yet.\n",
            "  % self.max_iter, ConvergenceWarning)\n"
          ],
          "name": "stderr"
        },
        {
          "output_type": "stream",
          "text": [
            "Iteration 1, loss = 0.45874444\n",
            "Iteration 2, loss = 0.17525861\n",
            "Iteration 3, loss = 0.12445872\n",
            "Iteration 4, loss = 0.09909774\n",
            "Iteration 5, loss = 0.08282882\n",
            "Iteration 6, loss = 0.06663058\n",
            "Iteration 7, loss = 0.05786447\n",
            "Iteration 8, loss = 0.04735162\n",
            "Iteration 9, loss = 0.04045183\n",
            "Iteration 10, loss = 0.03578261\n",
            "Iteration 11, loss = 0.03162170\n",
            "Iteration 12, loss = 0.02565100\n",
            "Iteration 13, loss = 0.02406610\n",
            "Iteration 14, loss = 0.02168705\n",
            "Iteration 15, loss = 0.01841640\n",
            "Iteration 16, loss = 0.01625306\n",
            "Iteration 17, loss = 0.01229093\n",
            "Iteration 18, loss = 0.01643951\n",
            "Iteration 19, loss = 0.01627460\n",
            "Iteration 20, loss = 0.01984317\n",
            "Training loss did not improve more than tol=0.000100 for two consecutive epochs. Stopping.\n",
            "Iteration 1, loss = 0.45762204\n",
            "Iteration 2, loss = 0.17222435\n",
            "Iteration 3, loss = 0.12825452\n",
            "Iteration 4, loss = 0.09929499\n",
            "Iteration 5, loss = 0.07929605\n",
            "Iteration 6, loss = 0.06934379\n",
            "Iteration 7, loss = 0.05885469\n",
            "Iteration 8, loss = 0.05408759\n",
            "Iteration 9, loss = 0.04155945\n",
            "Iteration 10, loss = 0.03420951\n",
            "Iteration 11, loss = 0.03575945\n",
            "Iteration 12, loss = 0.03230967\n",
            "Iteration 13, loss = 0.02477706\n",
            "Iteration 14, loss = 0.02153677\n",
            "Iteration 15, loss = 0.01762667\n",
            "Iteration 16, loss = 0.01926341\n",
            "Iteration 17, loss = 0.01723241\n",
            "Iteration 18, loss = 0.01474060\n",
            "Iteration 19, loss = 0.01316620\n",
            "Iteration 20, loss = 0.01531474\n"
          ],
          "name": "stdout"
        },
        {
          "output_type": "stream",
          "text": [
            "/usr/local/lib/python3.6/dist-packages/sklearn/neural_network/multilayer_perceptron.py:564: ConvergenceWarning: Stochastic Optimizer: Maximum iterations (20) reached and the optimization hasn't converged yet.\n",
            "  % self.max_iter, ConvergenceWarning)\n"
          ],
          "name": "stderr"
        },
        {
          "output_type": "stream",
          "text": [
            "Iteration 1, loss = 0.46432535\n",
            "Iteration 2, loss = 0.17423357\n",
            "Iteration 3, loss = 0.12474162\n",
            "Iteration 4, loss = 0.09678249\n",
            "Iteration 5, loss = 0.07860315\n",
            "Iteration 6, loss = 0.06518220\n",
            "Iteration 7, loss = 0.05910945\n",
            "Iteration 8, loss = 0.04749148\n",
            "Iteration 9, loss = 0.04094949\n",
            "Iteration 10, loss = 0.03401297\n",
            "Iteration 11, loss = 0.03376748\n",
            "Iteration 12, loss = 0.03265529\n",
            "Iteration 13, loss = 0.02509503\n",
            "Iteration 14, loss = 0.02190939\n",
            "Iteration 15, loss = 0.01761788\n",
            "Iteration 16, loss = 0.01492017\n",
            "Iteration 17, loss = 0.01331360\n",
            "Iteration 18, loss = 0.00938360\n",
            "Iteration 19, loss = 0.00909239\n",
            "Iteration 20, loss = 0.01028606\n"
          ],
          "name": "stdout"
        },
        {
          "output_type": "stream",
          "text": [
            "/usr/local/lib/python3.6/dist-packages/sklearn/neural_network/multilayer_perceptron.py:564: ConvergenceWarning: Stochastic Optimizer: Maximum iterations (20) reached and the optimization hasn't converged yet.\n",
            "  % self.max_iter, ConvergenceWarning)\n"
          ],
          "name": "stderr"
        },
        {
          "output_type": "stream",
          "text": [
            "Iteration 1, loss = 0.47160909\n",
            "Iteration 2, loss = 0.17466470\n",
            "Iteration 3, loss = 0.12917943\n",
            "Iteration 4, loss = 0.10151760\n",
            "Iteration 5, loss = 0.08271000\n",
            "Iteration 6, loss = 0.06851839\n",
            "Iteration 7, loss = 0.05701636\n",
            "Iteration 8, loss = 0.05181145\n",
            "Iteration 9, loss = 0.04315286\n",
            "Iteration 10, loss = 0.03892681\n",
            "Iteration 11, loss = 0.03846541\n",
            "Iteration 12, loss = 0.03292127\n",
            "Iteration 13, loss = 0.02735187\n",
            "Iteration 14, loss = 0.02357102\n",
            "Iteration 15, loss = 0.01991931\n",
            "Iteration 16, loss = 0.01452942\n",
            "Iteration 17, loss = 0.01373426\n",
            "Iteration 18, loss = 0.01291978\n",
            "Iteration 19, loss = 0.01231260\n",
            "Training loss did not improve more than tol=0.001000 for two consecutive epochs. Stopping.\n",
            "Iteration 1, loss = 0.45425666\n",
            "Iteration 2, loss = 0.17740177\n",
            "Iteration 3, loss = 0.13034943\n",
            "Iteration 4, loss = 0.10199242\n",
            "Iteration 5, loss = 0.08345815\n",
            "Iteration 6, loss = 0.06875943\n",
            "Iteration 7, loss = 0.05548508\n",
            "Iteration 8, loss = 0.04920921\n",
            "Iteration 9, loss = 0.04115921\n",
            "Iteration 10, loss = 0.03446232\n",
            "Iteration 11, loss = 0.03054117\n",
            "Iteration 12, loss = 0.02796232\n",
            "Iteration 13, loss = 0.02598769\n",
            "Iteration 14, loss = 0.01940804\n",
            "Iteration 15, loss = 0.01416169\n",
            "Iteration 16, loss = 0.01218671\n",
            "Iteration 17, loss = 0.01171427\n",
            "Iteration 18, loss = 0.01079961\n",
            "Iteration 19, loss = 0.00917065\n",
            "Iteration 20, loss = 0.01010112\n"
          ],
          "name": "stdout"
        },
        {
          "output_type": "stream",
          "text": [
            "/usr/local/lib/python3.6/dist-packages/sklearn/neural_network/multilayer_perceptron.py:564: ConvergenceWarning: Stochastic Optimizer: Maximum iterations (20) reached and the optimization hasn't converged yet.\n",
            "  % self.max_iter, ConvergenceWarning)\n"
          ],
          "name": "stderr"
        },
        {
          "output_type": "stream",
          "text": [
            "Iteration 1, loss = 0.45874444\n",
            "Iteration 2, loss = 0.17525861\n",
            "Iteration 3, loss = 0.12445872\n",
            "Iteration 4, loss = 0.09909774\n",
            "Iteration 5, loss = 0.08282882\n",
            "Iteration 6, loss = 0.06663058\n",
            "Iteration 7, loss = 0.05786447\n",
            "Iteration 8, loss = 0.04735162\n",
            "Iteration 9, loss = 0.04045183\n",
            "Iteration 10, loss = 0.03578261\n",
            "Iteration 11, loss = 0.03162170\n",
            "Iteration 12, loss = 0.02565100\n",
            "Iteration 13, loss = 0.02406610\n",
            "Iteration 14, loss = 0.02168705\n",
            "Iteration 15, loss = 0.01841640\n",
            "Iteration 16, loss = 0.01625306\n",
            "Iteration 17, loss = 0.01229093\n",
            "Iteration 18, loss = 0.01643951\n",
            "Iteration 19, loss = 0.01627460\n",
            "Iteration 20, loss = 0.01984317\n",
            "Training loss did not improve more than tol=0.001000 for two consecutive epochs. Stopping.\n",
            "Iteration 1, loss = 0.47328761\n",
            "Iteration 2, loss = 0.17195481\n",
            "Iteration 3, loss = 0.12501237\n",
            "Iteration 4, loss = 0.09751403\n",
            "Iteration 5, loss = 0.07966081\n",
            "Iteration 6, loss = 0.06389386\n",
            "Iteration 7, loss = 0.05668050\n",
            "Iteration 8, loss = 0.04632362\n",
            "Iteration 9, loss = 0.04138737\n",
            "Iteration 10, loss = 0.03495183\n",
            "Iteration 11, loss = 0.02934471\n",
            "Iteration 12, loss = 0.02983131\n",
            "Iteration 13, loss = 0.02421644\n",
            "Iteration 14, loss = 0.01786735\n",
            "Iteration 15, loss = 0.01452011\n",
            "Iteration 16, loss = 0.01845827\n",
            "Iteration 17, loss = 0.02325206\n",
            "Iteration 18, loss = 0.01415490\n",
            "Iteration 19, loss = 0.01475079\n",
            "Iteration 20, loss = 0.01243317\n"
          ],
          "name": "stdout"
        },
        {
          "output_type": "stream",
          "text": [
            "/usr/local/lib/python3.6/dist-packages/sklearn/neural_network/multilayer_perceptron.py:564: ConvergenceWarning: Stochastic Optimizer: Maximum iterations (20) reached and the optimization hasn't converged yet.\n",
            "  % self.max_iter, ConvergenceWarning)\n"
          ],
          "name": "stderr"
        },
        {
          "output_type": "stream",
          "text": [
            "Iteration 1, loss = 0.48138870\n",
            "Iteration 2, loss = 0.17384540\n",
            "Iteration 3, loss = 0.12653372\n",
            "Iteration 4, loss = 0.09797314\n",
            "Iteration 5, loss = 0.08000797\n",
            "Iteration 6, loss = 0.06839240\n",
            "Iteration 7, loss = 0.05589736\n",
            "Iteration 8, loss = 0.04835676\n",
            "Iteration 9, loss = 0.04428564\n",
            "Iteration 10, loss = 0.04263835\n",
            "Iteration 11, loss = 0.03202346\n",
            "Iteration 12, loss = 0.02903192\n",
            "Iteration 13, loss = 0.02250762\n",
            "Iteration 14, loss = 0.02055190\n",
            "Iteration 15, loss = 0.01800182\n",
            "Iteration 16, loss = 0.01726146\n",
            "Iteration 17, loss = 0.02020449\n",
            "Iteration 18, loss = 0.02736912\n",
            "Iteration 19, loss = 0.01645118\n",
            "Iteration 20, loss = 0.01906387\n"
          ],
          "name": "stdout"
        },
        {
          "output_type": "stream",
          "text": [
            "/usr/local/lib/python3.6/dist-packages/sklearn/neural_network/multilayer_perceptron.py:564: ConvergenceWarning: Stochastic Optimizer: Maximum iterations (20) reached and the optimization hasn't converged yet.\n",
            "  % self.max_iter, ConvergenceWarning)\n"
          ],
          "name": "stderr"
        },
        {
          "output_type": "stream",
          "text": [
            "Iteration 1, loss = 0.48031973\n",
            "Iteration 2, loss = 0.17792321\n",
            "Iteration 3, loss = 0.12987945\n",
            "Iteration 4, loss = 0.10433562\n",
            "Iteration 5, loss = 0.08400298\n",
            "Iteration 6, loss = 0.07068328\n",
            "Iteration 7, loss = 0.05934975\n",
            "Iteration 8, loss = 0.04967649\n",
            "Iteration 9, loss = 0.04109447\n",
            "Iteration 10, loss = 0.03705978\n",
            "Iteration 11, loss = 0.02997059\n",
            "Iteration 12, loss = 0.02987708\n",
            "Iteration 13, loss = 0.02439257\n",
            "Iteration 14, loss = 0.02026098\n",
            "Iteration 15, loss = 0.01973842\n",
            "Iteration 16, loss = 0.02029504\n",
            "Iteration 17, loss = 0.01778038\n",
            "Iteration 18, loss = 0.01674209\n",
            "Iteration 19, loss = 0.02177293\n",
            "Iteration 20, loss = 0.01489719\n"
          ],
          "name": "stdout"
        },
        {
          "output_type": "stream",
          "text": [
            "/usr/local/lib/python3.6/dist-packages/sklearn/neural_network/multilayer_perceptron.py:564: ConvergenceWarning: Stochastic Optimizer: Maximum iterations (20) reached and the optimization hasn't converged yet.\n",
            "  % self.max_iter, ConvergenceWarning)\n"
          ],
          "name": "stderr"
        },
        {
          "output_type": "stream",
          "text": [
            "Iteration 1, loss = 0.47109620\n",
            "Iteration 2, loss = 0.17704752\n",
            "Iteration 3, loss = 0.12858222\n",
            "Iteration 4, loss = 0.09930834\n",
            "Iteration 5, loss = 0.08030380\n",
            "Iteration 6, loss = 0.06546157\n",
            "Iteration 7, loss = 0.05445709\n",
            "Iteration 8, loss = 0.04459439\n",
            "Iteration 9, loss = 0.04252029\n",
            "Iteration 10, loss = 0.03368992\n",
            "Iteration 11, loss = 0.03297852\n",
            "Iteration 12, loss = 0.02451864\n",
            "Iteration 13, loss = 0.01896963\n",
            "Iteration 14, loss = 0.01849339\n",
            "Iteration 15, loss = 0.01512075\n",
            "Iteration 16, loss = 0.01652670\n",
            "Iteration 17, loss = 0.01692085\n",
            "Iteration 18, loss = 0.01758582\n",
            "Training loss did not improve more than tol=0.000100 for two consecutive epochs. Stopping.\n",
            "Iteration 1, loss = 0.47692523\n",
            "Iteration 2, loss = 0.16870359\n",
            "Iteration 3, loss = 0.12241350\n",
            "Iteration 4, loss = 0.09746607\n",
            "Iteration 5, loss = 0.07869967\n",
            "Iteration 6, loss = 0.06527793\n",
            "Iteration 7, loss = 0.05547440\n",
            "Iteration 8, loss = 0.04463049\n",
            "Iteration 9, loss = 0.03773178\n",
            "Iteration 10, loss = 0.03464695\n",
            "Iteration 11, loss = 0.03006733\n",
            "Iteration 12, loss = 0.02163720\n",
            "Iteration 13, loss = 0.02299958\n",
            "Iteration 14, loss = 0.01921228\n",
            "Iteration 15, loss = 0.01531259\n",
            "Iteration 16, loss = 0.01741917\n",
            "Iteration 17, loss = 0.01531698\n",
            "Iteration 18, loss = 0.01080252\n",
            "Iteration 19, loss = 0.00951817\n",
            "Iteration 20, loss = 0.00718032\n"
          ],
          "name": "stdout"
        },
        {
          "output_type": "stream",
          "text": [
            "/usr/local/lib/python3.6/dist-packages/sklearn/neural_network/multilayer_perceptron.py:564: ConvergenceWarning: Stochastic Optimizer: Maximum iterations (20) reached and the optimization hasn't converged yet.\n",
            "  % self.max_iter, ConvergenceWarning)\n"
          ],
          "name": "stderr"
        },
        {
          "output_type": "stream",
          "text": [
            "Iteration 1, loss = 0.47328761\n",
            "Iteration 2, loss = 0.17195481\n",
            "Iteration 3, loss = 0.12501237\n",
            "Iteration 4, loss = 0.09751403\n",
            "Iteration 5, loss = 0.07966081\n",
            "Iteration 6, loss = 0.06389386\n",
            "Iteration 7, loss = 0.05668050\n",
            "Iteration 8, loss = 0.04632362\n",
            "Iteration 9, loss = 0.04138737\n",
            "Iteration 10, loss = 0.03495183\n",
            "Iteration 11, loss = 0.02934471\n",
            "Iteration 12, loss = 0.02983131\n",
            "Iteration 13, loss = 0.02421644\n",
            "Iteration 14, loss = 0.01786735\n",
            "Iteration 15, loss = 0.01452011\n",
            "Iteration 16, loss = 0.01845827\n",
            "Iteration 17, loss = 0.02325206\n",
            "Iteration 18, loss = 0.01415490\n",
            "Training loss did not improve more than tol=0.001000 for two consecutive epochs. Stopping.\n",
            "Iteration 1, loss = 0.48138870\n",
            "Iteration 2, loss = 0.17384540\n",
            "Iteration 3, loss = 0.12653372\n",
            "Iteration 4, loss = 0.09797314\n",
            "Iteration 5, loss = 0.08000797\n",
            "Iteration 6, loss = 0.06839240\n",
            "Iteration 7, loss = 0.05589736\n",
            "Iteration 8, loss = 0.04835676\n",
            "Iteration 9, loss = 0.04428564\n",
            "Iteration 10, loss = 0.04263835\n",
            "Iteration 11, loss = 0.03202346\n",
            "Iteration 12, loss = 0.02903192\n",
            "Iteration 13, loss = 0.02250762\n",
            "Iteration 14, loss = 0.02055190\n",
            "Iteration 15, loss = 0.01800182\n",
            "Iteration 16, loss = 0.01726146\n",
            "Iteration 17, loss = 0.02020449\n",
            "Iteration 18, loss = 0.02736912\n",
            "Training loss did not improve more than tol=0.001000 for two consecutive epochs. Stopping.\n",
            "Iteration 1, loss = 0.48031973\n",
            "Iteration 2, loss = 0.17792321\n",
            "Iteration 3, loss = 0.12987945\n",
            "Iteration 4, loss = 0.10433562\n",
            "Iteration 5, loss = 0.08400298\n",
            "Iteration 6, loss = 0.07068328\n",
            "Iteration 7, loss = 0.05934975\n",
            "Iteration 8, loss = 0.04967649\n",
            "Iteration 9, loss = 0.04109447\n",
            "Iteration 10, loss = 0.03705978\n",
            "Iteration 11, loss = 0.02997059\n",
            "Iteration 12, loss = 0.02987708\n",
            "Iteration 13, loss = 0.02439257\n",
            "Iteration 14, loss = 0.02026098\n",
            "Iteration 15, loss = 0.01973842\n",
            "Iteration 16, loss = 0.02029504\n",
            "Iteration 17, loss = 0.01778038\n",
            "Iteration 18, loss = 0.01674209\n",
            "Iteration 19, loss = 0.02177293\n",
            "Iteration 20, loss = 0.01489719\n"
          ],
          "name": "stdout"
        },
        {
          "output_type": "stream",
          "text": [
            "/usr/local/lib/python3.6/dist-packages/sklearn/neural_network/multilayer_perceptron.py:564: ConvergenceWarning: Stochastic Optimizer: Maximum iterations (20) reached and the optimization hasn't converged yet.\n",
            "  % self.max_iter, ConvergenceWarning)\n"
          ],
          "name": "stderr"
        },
        {
          "output_type": "stream",
          "text": [
            "Iteration 1, loss = 0.47109620\n",
            "Iteration 2, loss = 0.17704752\n",
            "Iteration 3, loss = 0.12858222\n",
            "Iteration 4, loss = 0.09930834\n",
            "Iteration 5, loss = 0.08030380\n",
            "Iteration 6, loss = 0.06546157\n",
            "Iteration 7, loss = 0.05445709\n",
            "Iteration 8, loss = 0.04459439\n",
            "Iteration 9, loss = 0.04252029\n",
            "Iteration 10, loss = 0.03368992\n",
            "Iteration 11, loss = 0.03297852\n",
            "Iteration 12, loss = 0.02451864\n",
            "Iteration 13, loss = 0.01896963\n",
            "Iteration 14, loss = 0.01849339\n",
            "Iteration 15, loss = 0.01512075\n",
            "Iteration 16, loss = 0.01652670\n",
            "Iteration 17, loss = 0.01692085\n",
            "Iteration 18, loss = 0.01758582\n",
            "Training loss did not improve more than tol=0.001000 for two consecutive epochs. Stopping.\n",
            "Iteration 1, loss = 0.47692523\n",
            "Iteration 2, loss = 0.16870359\n",
            "Iteration 3, loss = 0.12241350\n",
            "Iteration 4, loss = 0.09746607\n",
            "Iteration 5, loss = 0.07869967\n",
            "Iteration 6, loss = 0.06527793\n",
            "Iteration 7, loss = 0.05547440\n",
            "Iteration 8, loss = 0.04463049\n",
            "Iteration 9, loss = 0.03773178\n",
            "Iteration 10, loss = 0.03464695\n",
            "Iteration 11, loss = 0.03006733\n",
            "Iteration 12, loss = 0.02163720\n",
            "Iteration 13, loss = 0.02299958\n",
            "Iteration 14, loss = 0.01921228\n",
            "Iteration 15, loss = 0.01531259\n",
            "Iteration 16, loss = 0.01741917\n",
            "Iteration 17, loss = 0.01531698\n",
            "Iteration 18, loss = 0.01080252\n",
            "Iteration 19, loss = 0.00951817\n",
            "Iteration 20, loss = 0.00718032\n"
          ],
          "name": "stdout"
        },
        {
          "output_type": "stream",
          "text": [
            "/usr/local/lib/python3.6/dist-packages/sklearn/neural_network/multilayer_perceptron.py:564: ConvergenceWarning: Stochastic Optimizer: Maximum iterations (20) reached and the optimization hasn't converged yet.\n",
            "  % self.max_iter, ConvergenceWarning)\n"
          ],
          "name": "stderr"
        },
        {
          "output_type": "stream",
          "text": [
            "Iteration 1, loss = 0.97547888\n",
            "Iteration 2, loss = 0.35339487\n",
            "Iteration 3, loss = 0.29062915\n",
            "Iteration 4, loss = 0.25432225\n",
            "Iteration 5, loss = 0.22852531\n",
            "Iteration 6, loss = 0.20710758\n",
            "Iteration 7, loss = 0.18986360\n",
            "Iteration 8, loss = 0.17450054\n",
            "Iteration 9, loss = 0.16304811\n",
            "Iteration 10, loss = 0.15032802\n"
          ],
          "name": "stdout"
        },
        {
          "output_type": "stream",
          "text": [
            "/usr/local/lib/python3.6/dist-packages/sklearn/neural_network/multilayer_perceptron.py:564: ConvergenceWarning: Stochastic Optimizer: Maximum iterations (10) reached and the optimization hasn't converged yet.\n",
            "  % self.max_iter, ConvergenceWarning)\n"
          ],
          "name": "stderr"
        },
        {
          "output_type": "stream",
          "text": [
            "Iteration 1, loss = 0.97106146\n",
            "Iteration 2, loss = 0.35959668\n",
            "Iteration 3, loss = 0.29646361\n",
            "Iteration 4, loss = 0.25996473\n",
            "Iteration 5, loss = 0.23495415\n",
            "Iteration 6, loss = 0.21303425\n",
            "Iteration 7, loss = 0.19493252\n",
            "Iteration 8, loss = 0.18078625\n",
            "Iteration 9, loss = 0.16673840\n",
            "Iteration 10, loss = 0.15644246\n"
          ],
          "name": "stdout"
        },
        {
          "output_type": "stream",
          "text": [
            "/usr/local/lib/python3.6/dist-packages/sklearn/neural_network/multilayer_perceptron.py:564: ConvergenceWarning: Stochastic Optimizer: Maximum iterations (10) reached and the optimization hasn't converged yet.\n",
            "  % self.max_iter, ConvergenceWarning)\n"
          ],
          "name": "stderr"
        },
        {
          "output_type": "stream",
          "text": [
            "Iteration 1, loss = 0.97486762\n",
            "Iteration 2, loss = 0.36283945\n",
            "Iteration 3, loss = 0.29865818\n",
            "Iteration 4, loss = 0.26129324\n",
            "Iteration 5, loss = 0.23593332\n",
            "Iteration 6, loss = 0.21531162\n",
            "Iteration 7, loss = 0.19704713\n",
            "Iteration 8, loss = 0.18163467\n",
            "Iteration 9, loss = 0.16830169\n",
            "Iteration 10, loss = 0.15643699\n"
          ],
          "name": "stdout"
        },
        {
          "output_type": "stream",
          "text": [
            "/usr/local/lib/python3.6/dist-packages/sklearn/neural_network/multilayer_perceptron.py:564: ConvergenceWarning: Stochastic Optimizer: Maximum iterations (10) reached and the optimization hasn't converged yet.\n",
            "  % self.max_iter, ConvergenceWarning)\n"
          ],
          "name": "stderr"
        },
        {
          "output_type": "stream",
          "text": [
            "Iteration 1, loss = 0.97163393\n",
            "Iteration 2, loss = 0.35996535\n",
            "Iteration 3, loss = 0.29472556\n",
            "Iteration 4, loss = 0.26019237\n",
            "Iteration 5, loss = 0.23527231\n",
            "Iteration 6, loss = 0.21331361\n",
            "Iteration 7, loss = 0.19596686\n",
            "Iteration 8, loss = 0.17987161\n",
            "Iteration 9, loss = 0.16668010\n",
            "Iteration 10, loss = 0.15451553\n"
          ],
          "name": "stdout"
        },
        {
          "output_type": "stream",
          "text": [
            "/usr/local/lib/python3.6/dist-packages/sklearn/neural_network/multilayer_perceptron.py:564: ConvergenceWarning: Stochastic Optimizer: Maximum iterations (10) reached and the optimization hasn't converged yet.\n",
            "  % self.max_iter, ConvergenceWarning)\n"
          ],
          "name": "stderr"
        },
        {
          "output_type": "stream",
          "text": [
            "Iteration 1, loss = 0.97197748\n",
            "Iteration 2, loss = 0.35723137\n",
            "Iteration 3, loss = 0.29288628\n",
            "Iteration 4, loss = 0.25710221\n",
            "Iteration 5, loss = 0.23138670\n",
            "Iteration 6, loss = 0.21094550\n",
            "Iteration 7, loss = 0.19313178\n",
            "Iteration 8, loss = 0.17691510\n",
            "Iteration 9, loss = 0.16295951\n",
            "Iteration 10, loss = 0.15068964\n"
          ],
          "name": "stdout"
        },
        {
          "output_type": "stream",
          "text": [
            "/usr/local/lib/python3.6/dist-packages/sklearn/neural_network/multilayer_perceptron.py:564: ConvergenceWarning: Stochastic Optimizer: Maximum iterations (10) reached and the optimization hasn't converged yet.\n",
            "  % self.max_iter, ConvergenceWarning)\n"
          ],
          "name": "stderr"
        },
        {
          "output_type": "stream",
          "text": [
            "Iteration 1, loss = 0.97547888\n",
            "Iteration 2, loss = 0.35339487\n",
            "Iteration 3, loss = 0.29062915\n",
            "Iteration 4, loss = 0.25432225\n",
            "Iteration 5, loss = 0.22852531\n",
            "Iteration 6, loss = 0.20710758\n",
            "Iteration 7, loss = 0.18986360\n",
            "Iteration 8, loss = 0.17450054\n",
            "Iteration 9, loss = 0.16304811\n",
            "Iteration 10, loss = 0.15032802\n"
          ],
          "name": "stdout"
        },
        {
          "output_type": "stream",
          "text": [
            "/usr/local/lib/python3.6/dist-packages/sklearn/neural_network/multilayer_perceptron.py:564: ConvergenceWarning: Stochastic Optimizer: Maximum iterations (10) reached and the optimization hasn't converged yet.\n",
            "  % self.max_iter, ConvergenceWarning)\n"
          ],
          "name": "stderr"
        },
        {
          "output_type": "stream",
          "text": [
            "Iteration 1, loss = 0.97106146\n",
            "Iteration 2, loss = 0.35959668\n",
            "Iteration 3, loss = 0.29646361\n",
            "Iteration 4, loss = 0.25996473\n",
            "Iteration 5, loss = 0.23495415\n",
            "Iteration 6, loss = 0.21303425\n",
            "Iteration 7, loss = 0.19493252\n",
            "Iteration 8, loss = 0.18078625\n",
            "Iteration 9, loss = 0.16673840\n",
            "Iteration 10, loss = 0.15644246\n"
          ],
          "name": "stdout"
        },
        {
          "output_type": "stream",
          "text": [
            "/usr/local/lib/python3.6/dist-packages/sklearn/neural_network/multilayer_perceptron.py:564: ConvergenceWarning: Stochastic Optimizer: Maximum iterations (10) reached and the optimization hasn't converged yet.\n",
            "  % self.max_iter, ConvergenceWarning)\n"
          ],
          "name": "stderr"
        },
        {
          "output_type": "stream",
          "text": [
            "Iteration 1, loss = 0.97486762\n",
            "Iteration 2, loss = 0.36283945\n",
            "Iteration 3, loss = 0.29865818\n",
            "Iteration 4, loss = 0.26129324\n",
            "Iteration 5, loss = 0.23593332\n",
            "Iteration 6, loss = 0.21531162\n",
            "Iteration 7, loss = 0.19704713\n",
            "Iteration 8, loss = 0.18163467\n",
            "Iteration 9, loss = 0.16830169\n",
            "Iteration 10, loss = 0.15643699\n"
          ],
          "name": "stdout"
        },
        {
          "output_type": "stream",
          "text": [
            "/usr/local/lib/python3.6/dist-packages/sklearn/neural_network/multilayer_perceptron.py:564: ConvergenceWarning: Stochastic Optimizer: Maximum iterations (10) reached and the optimization hasn't converged yet.\n",
            "  % self.max_iter, ConvergenceWarning)\n"
          ],
          "name": "stderr"
        },
        {
          "output_type": "stream",
          "text": [
            "Iteration 1, loss = 0.97163393\n",
            "Iteration 2, loss = 0.35996535\n",
            "Iteration 3, loss = 0.29472556\n",
            "Iteration 4, loss = 0.26019237\n",
            "Iteration 5, loss = 0.23527231\n",
            "Iteration 6, loss = 0.21331361\n",
            "Iteration 7, loss = 0.19596686\n",
            "Iteration 8, loss = 0.17987161\n",
            "Iteration 9, loss = 0.16668010\n",
            "Iteration 10, loss = 0.15451553\n"
          ],
          "name": "stdout"
        },
        {
          "output_type": "stream",
          "text": [
            "/usr/local/lib/python3.6/dist-packages/sklearn/neural_network/multilayer_perceptron.py:564: ConvergenceWarning: Stochastic Optimizer: Maximum iterations (10) reached and the optimization hasn't converged yet.\n",
            "  % self.max_iter, ConvergenceWarning)\n"
          ],
          "name": "stderr"
        },
        {
          "output_type": "stream",
          "text": [
            "Iteration 1, loss = 0.97197748\n",
            "Iteration 2, loss = 0.35723137\n",
            "Iteration 3, loss = 0.29288628\n",
            "Iteration 4, loss = 0.25710221\n",
            "Iteration 5, loss = 0.23138670\n",
            "Iteration 6, loss = 0.21094550\n",
            "Iteration 7, loss = 0.19313178\n",
            "Iteration 8, loss = 0.17691510\n",
            "Iteration 9, loss = 0.16295951\n",
            "Iteration 10, loss = 0.15068964\n"
          ],
          "name": "stdout"
        },
        {
          "output_type": "stream",
          "text": [
            "/usr/local/lib/python3.6/dist-packages/sklearn/neural_network/multilayer_perceptron.py:564: ConvergenceWarning: Stochastic Optimizer: Maximum iterations (10) reached and the optimization hasn't converged yet.\n",
            "  % self.max_iter, ConvergenceWarning)\n"
          ],
          "name": "stderr"
        },
        {
          "output_type": "stream",
          "text": [
            "Iteration 1, loss = 1.01648127\n",
            "Iteration 2, loss = 0.36606918\n",
            "Iteration 3, loss = 0.30107052\n",
            "Iteration 4, loss = 0.26621642\n",
            "Iteration 5, loss = 0.24103385\n",
            "Iteration 6, loss = 0.22063381\n",
            "Iteration 7, loss = 0.20259201\n",
            "Iteration 8, loss = 0.18635267\n",
            "Iteration 9, loss = 0.17223432\n",
            "Iteration 10, loss = 0.15989805\n"
          ],
          "name": "stdout"
        },
        {
          "output_type": "stream",
          "text": [
            "/usr/local/lib/python3.6/dist-packages/sklearn/neural_network/multilayer_perceptron.py:564: ConvergenceWarning: Stochastic Optimizer: Maximum iterations (10) reached and the optimization hasn't converged yet.\n",
            "  % self.max_iter, ConvergenceWarning)\n"
          ],
          "name": "stderr"
        },
        {
          "output_type": "stream",
          "text": [
            "Iteration 1, loss = 1.01920263\n",
            "Iteration 2, loss = 0.37133593\n",
            "Iteration 3, loss = 0.30840475\n",
            "Iteration 4, loss = 0.27412938\n",
            "Iteration 5, loss = 0.24789018\n",
            "Iteration 6, loss = 0.22654479\n",
            "Iteration 7, loss = 0.20727221\n",
            "Iteration 8, loss = 0.19136868\n",
            "Iteration 9, loss = 0.17728164\n",
            "Iteration 10, loss = 0.16478605\n"
          ],
          "name": "stdout"
        },
        {
          "output_type": "stream",
          "text": [
            "/usr/local/lib/python3.6/dist-packages/sklearn/neural_network/multilayer_perceptron.py:564: ConvergenceWarning: Stochastic Optimizer: Maximum iterations (10) reached and the optimization hasn't converged yet.\n",
            "  % self.max_iter, ConvergenceWarning)\n"
          ],
          "name": "stderr"
        },
        {
          "output_type": "stream",
          "text": [
            "Iteration 1, loss = 1.02901801\n",
            "Iteration 2, loss = 0.37440015\n",
            "Iteration 3, loss = 0.30996553\n",
            "Iteration 4, loss = 0.27442817\n",
            "Iteration 5, loss = 0.24626577\n",
            "Iteration 6, loss = 0.22446260\n",
            "Iteration 7, loss = 0.20610479\n",
            "Iteration 8, loss = 0.18988271\n",
            "Iteration 9, loss = 0.17405468\n",
            "Iteration 10, loss = 0.16337203\n"
          ],
          "name": "stdout"
        },
        {
          "output_type": "stream",
          "text": [
            "/usr/local/lib/python3.6/dist-packages/sklearn/neural_network/multilayer_perceptron.py:564: ConvergenceWarning: Stochastic Optimizer: Maximum iterations (10) reached and the optimization hasn't converged yet.\n",
            "  % self.max_iter, ConvergenceWarning)\n"
          ],
          "name": "stderr"
        },
        {
          "output_type": "stream",
          "text": [
            "Iteration 1, loss = 1.02086045\n",
            "Iteration 2, loss = 0.36901373\n",
            "Iteration 3, loss = 0.30676320\n",
            "Iteration 4, loss = 0.27148831\n",
            "Iteration 5, loss = 0.24591780\n",
            "Iteration 6, loss = 0.22445747\n",
            "Iteration 7, loss = 0.20526984\n",
            "Iteration 8, loss = 0.18832991\n",
            "Iteration 9, loss = 0.17542869\n",
            "Iteration 10, loss = 0.16190586\n"
          ],
          "name": "stdout"
        },
        {
          "output_type": "stream",
          "text": [
            "/usr/local/lib/python3.6/dist-packages/sklearn/neural_network/multilayer_perceptron.py:564: ConvergenceWarning: Stochastic Optimizer: Maximum iterations (10) reached and the optimization hasn't converged yet.\n",
            "  % self.max_iter, ConvergenceWarning)\n"
          ],
          "name": "stderr"
        },
        {
          "output_type": "stream",
          "text": [
            "Iteration 1, loss = 1.01440519\n",
            "Iteration 2, loss = 0.36737539\n",
            "Iteration 3, loss = 0.30181349\n",
            "Iteration 4, loss = 0.26677629\n",
            "Iteration 5, loss = 0.24035551\n",
            "Iteration 6, loss = 0.21887567\n",
            "Iteration 7, loss = 0.20087544\n",
            "Iteration 8, loss = 0.18505545\n",
            "Iteration 9, loss = 0.17152074\n",
            "Iteration 10, loss = 0.15968017\n"
          ],
          "name": "stdout"
        },
        {
          "output_type": "stream",
          "text": [
            "/usr/local/lib/python3.6/dist-packages/sklearn/neural_network/multilayer_perceptron.py:564: ConvergenceWarning: Stochastic Optimizer: Maximum iterations (10) reached and the optimization hasn't converged yet.\n",
            "  % self.max_iter, ConvergenceWarning)\n"
          ],
          "name": "stderr"
        },
        {
          "output_type": "stream",
          "text": [
            "Iteration 1, loss = 1.01648127\n",
            "Iteration 2, loss = 0.36606918\n",
            "Iteration 3, loss = 0.30107052\n",
            "Iteration 4, loss = 0.26621642\n",
            "Iteration 5, loss = 0.24103385\n",
            "Iteration 6, loss = 0.22063381\n",
            "Iteration 7, loss = 0.20259201\n",
            "Iteration 8, loss = 0.18635267\n",
            "Iteration 9, loss = 0.17223432\n",
            "Iteration 10, loss = 0.15989805\n"
          ],
          "name": "stdout"
        },
        {
          "output_type": "stream",
          "text": [
            "/usr/local/lib/python3.6/dist-packages/sklearn/neural_network/multilayer_perceptron.py:564: ConvergenceWarning: Stochastic Optimizer: Maximum iterations (10) reached and the optimization hasn't converged yet.\n",
            "  % self.max_iter, ConvergenceWarning)\n"
          ],
          "name": "stderr"
        },
        {
          "output_type": "stream",
          "text": [
            "Iteration 1, loss = 1.01920263\n",
            "Iteration 2, loss = 0.37133593\n",
            "Iteration 3, loss = 0.30840475\n",
            "Iteration 4, loss = 0.27412938\n",
            "Iteration 5, loss = 0.24789018\n",
            "Iteration 6, loss = 0.22654479\n",
            "Iteration 7, loss = 0.20727221\n",
            "Iteration 8, loss = 0.19136868\n",
            "Iteration 9, loss = 0.17728164\n",
            "Iteration 10, loss = 0.16478605\n"
          ],
          "name": "stdout"
        },
        {
          "output_type": "stream",
          "text": [
            "/usr/local/lib/python3.6/dist-packages/sklearn/neural_network/multilayer_perceptron.py:564: ConvergenceWarning: Stochastic Optimizer: Maximum iterations (10) reached and the optimization hasn't converged yet.\n",
            "  % self.max_iter, ConvergenceWarning)\n"
          ],
          "name": "stderr"
        },
        {
          "output_type": "stream",
          "text": [
            "Iteration 1, loss = 1.02901801\n",
            "Iteration 2, loss = 0.37440015\n",
            "Iteration 3, loss = 0.30996553\n",
            "Iteration 4, loss = 0.27442817\n",
            "Iteration 5, loss = 0.24626577\n",
            "Iteration 6, loss = 0.22446260\n",
            "Iteration 7, loss = 0.20610479\n",
            "Iteration 8, loss = 0.18988271\n",
            "Iteration 9, loss = 0.17405468\n",
            "Iteration 10, loss = 0.16337203\n"
          ],
          "name": "stdout"
        },
        {
          "output_type": "stream",
          "text": [
            "/usr/local/lib/python3.6/dist-packages/sklearn/neural_network/multilayer_perceptron.py:564: ConvergenceWarning: Stochastic Optimizer: Maximum iterations (10) reached and the optimization hasn't converged yet.\n",
            "  % self.max_iter, ConvergenceWarning)\n"
          ],
          "name": "stderr"
        },
        {
          "output_type": "stream",
          "text": [
            "Iteration 1, loss = 1.02086045\n",
            "Iteration 2, loss = 0.36901373\n",
            "Iteration 3, loss = 0.30676320\n",
            "Iteration 4, loss = 0.27148831\n",
            "Iteration 5, loss = 0.24591780\n",
            "Iteration 6, loss = 0.22445747\n",
            "Iteration 7, loss = 0.20526984\n",
            "Iteration 8, loss = 0.18832991\n",
            "Iteration 9, loss = 0.17542869\n",
            "Iteration 10, loss = 0.16190586\n"
          ],
          "name": "stdout"
        },
        {
          "output_type": "stream",
          "text": [
            "/usr/local/lib/python3.6/dist-packages/sklearn/neural_network/multilayer_perceptron.py:564: ConvergenceWarning: Stochastic Optimizer: Maximum iterations (10) reached and the optimization hasn't converged yet.\n",
            "  % self.max_iter, ConvergenceWarning)\n"
          ],
          "name": "stderr"
        },
        {
          "output_type": "stream",
          "text": [
            "Iteration 1, loss = 1.01440519\n",
            "Iteration 2, loss = 0.36737539\n",
            "Iteration 3, loss = 0.30181349\n",
            "Iteration 4, loss = 0.26677629\n",
            "Iteration 5, loss = 0.24035551\n",
            "Iteration 6, loss = 0.21887567\n",
            "Iteration 7, loss = 0.20087544\n",
            "Iteration 8, loss = 0.18505545\n",
            "Iteration 9, loss = 0.17152074\n",
            "Iteration 10, loss = 0.15968017\n"
          ],
          "name": "stdout"
        },
        {
          "output_type": "stream",
          "text": [
            "/usr/local/lib/python3.6/dist-packages/sklearn/neural_network/multilayer_perceptron.py:564: ConvergenceWarning: Stochastic Optimizer: Maximum iterations (10) reached and the optimization hasn't converged yet.\n",
            "  % self.max_iter, ConvergenceWarning)\n"
          ],
          "name": "stderr"
        },
        {
          "output_type": "stream",
          "text": [
            "Iteration 1, loss = 0.97547888\n",
            "Iteration 2, loss = 0.35339487\n",
            "Iteration 3, loss = 0.29062915\n",
            "Iteration 4, loss = 0.25432225\n",
            "Iteration 5, loss = 0.22852531\n",
            "Iteration 6, loss = 0.20710758\n",
            "Iteration 7, loss = 0.18986360\n",
            "Iteration 8, loss = 0.17450054\n",
            "Iteration 9, loss = 0.16304811\n",
            "Iteration 10, loss = 0.15032802\n",
            "Iteration 11, loss = 0.14058594\n",
            "Iteration 12, loss = 0.13105944\n",
            "Iteration 13, loss = 0.12272598\n",
            "Iteration 14, loss = 0.11497525\n",
            "Iteration 15, loss = 0.10841040\n",
            "Iteration 16, loss = 0.10156523\n",
            "Iteration 17, loss = 0.09644324\n",
            "Iteration 18, loss = 0.09166811\n",
            "Iteration 19, loss = 0.08587448\n",
            "Iteration 20, loss = 0.08265780\n"
          ],
          "name": "stdout"
        },
        {
          "output_type": "stream",
          "text": [
            "/usr/local/lib/python3.6/dist-packages/sklearn/neural_network/multilayer_perceptron.py:564: ConvergenceWarning: Stochastic Optimizer: Maximum iterations (20) reached and the optimization hasn't converged yet.\n",
            "  % self.max_iter, ConvergenceWarning)\n"
          ],
          "name": "stderr"
        },
        {
          "output_type": "stream",
          "text": [
            "Iteration 1, loss = 0.97106146\n",
            "Iteration 2, loss = 0.35959668\n",
            "Iteration 3, loss = 0.29646361\n",
            "Iteration 4, loss = 0.25996473\n",
            "Iteration 5, loss = 0.23495415\n",
            "Iteration 6, loss = 0.21303425\n",
            "Iteration 7, loss = 0.19493252\n",
            "Iteration 8, loss = 0.18078625\n",
            "Iteration 9, loss = 0.16673840\n",
            "Iteration 10, loss = 0.15644246\n",
            "Iteration 11, loss = 0.14532755\n",
            "Iteration 12, loss = 0.13607402\n",
            "Iteration 13, loss = 0.12710823\n",
            "Iteration 14, loss = 0.11963852\n",
            "Iteration 15, loss = 0.11298029\n",
            "Iteration 16, loss = 0.10590103\n",
            "Iteration 17, loss = 0.10090779\n",
            "Iteration 18, loss = 0.09504706\n",
            "Iteration 19, loss = 0.08996380\n",
            "Iteration 20, loss = 0.08538131\n"
          ],
          "name": "stdout"
        },
        {
          "output_type": "stream",
          "text": [
            "/usr/local/lib/python3.6/dist-packages/sklearn/neural_network/multilayer_perceptron.py:564: ConvergenceWarning: Stochastic Optimizer: Maximum iterations (20) reached and the optimization hasn't converged yet.\n",
            "  % self.max_iter, ConvergenceWarning)\n"
          ],
          "name": "stderr"
        },
        {
          "output_type": "stream",
          "text": [
            "Iteration 1, loss = 0.97486762\n",
            "Iteration 2, loss = 0.36283945\n",
            "Iteration 3, loss = 0.29865818\n",
            "Iteration 4, loss = 0.26129324\n",
            "Iteration 5, loss = 0.23593332\n",
            "Iteration 6, loss = 0.21531162\n",
            "Iteration 7, loss = 0.19704713\n",
            "Iteration 8, loss = 0.18163467\n",
            "Iteration 9, loss = 0.16830169\n",
            "Iteration 10, loss = 0.15643699\n",
            "Iteration 11, loss = 0.14660506\n",
            "Iteration 12, loss = 0.13763217\n",
            "Iteration 13, loss = 0.12867830\n",
            "Iteration 14, loss = 0.12021865\n",
            "Iteration 15, loss = 0.11399942\n",
            "Iteration 16, loss = 0.10723627\n",
            "Iteration 17, loss = 0.10182155\n",
            "Iteration 18, loss = 0.09626800\n",
            "Iteration 19, loss = 0.09112787\n",
            "Iteration 20, loss = 0.08662267\n"
          ],
          "name": "stdout"
        },
        {
          "output_type": "stream",
          "text": [
            "/usr/local/lib/python3.6/dist-packages/sklearn/neural_network/multilayer_perceptron.py:564: ConvergenceWarning: Stochastic Optimizer: Maximum iterations (20) reached and the optimization hasn't converged yet.\n",
            "  % self.max_iter, ConvergenceWarning)\n"
          ],
          "name": "stderr"
        },
        {
          "output_type": "stream",
          "text": [
            "Iteration 1, loss = 0.97163393\n",
            "Iteration 2, loss = 0.35996535\n",
            "Iteration 3, loss = 0.29472556\n",
            "Iteration 4, loss = 0.26019237\n",
            "Iteration 5, loss = 0.23527231\n",
            "Iteration 6, loss = 0.21331361\n",
            "Iteration 7, loss = 0.19596686\n",
            "Iteration 8, loss = 0.17987161\n",
            "Iteration 9, loss = 0.16668010\n",
            "Iteration 10, loss = 0.15451553\n",
            "Iteration 11, loss = 0.14451037\n",
            "Iteration 12, loss = 0.13451560\n",
            "Iteration 13, loss = 0.12632784\n",
            "Iteration 14, loss = 0.11927091\n",
            "Iteration 15, loss = 0.11164841\n",
            "Iteration 16, loss = 0.10519211\n",
            "Iteration 17, loss = 0.09944471\n",
            "Iteration 18, loss = 0.09362981\n",
            "Iteration 19, loss = 0.08968573\n",
            "Iteration 20, loss = 0.08475702\n"
          ],
          "name": "stdout"
        },
        {
          "output_type": "stream",
          "text": [
            "/usr/local/lib/python3.6/dist-packages/sklearn/neural_network/multilayer_perceptron.py:564: ConvergenceWarning: Stochastic Optimizer: Maximum iterations (20) reached and the optimization hasn't converged yet.\n",
            "  % self.max_iter, ConvergenceWarning)\n"
          ],
          "name": "stderr"
        },
        {
          "output_type": "stream",
          "text": [
            "Iteration 1, loss = 0.97197748\n",
            "Iteration 2, loss = 0.35723137\n",
            "Iteration 3, loss = 0.29288628\n",
            "Iteration 4, loss = 0.25710221\n",
            "Iteration 5, loss = 0.23138670\n",
            "Iteration 6, loss = 0.21094550\n",
            "Iteration 7, loss = 0.19313178\n",
            "Iteration 8, loss = 0.17691510\n",
            "Iteration 9, loss = 0.16295951\n",
            "Iteration 10, loss = 0.15068964\n",
            "Iteration 11, loss = 0.14078268\n",
            "Iteration 12, loss = 0.13125692\n",
            "Iteration 13, loss = 0.12337203\n",
            "Iteration 14, loss = 0.11406591\n",
            "Iteration 15, loss = 0.10803244\n",
            "Iteration 16, loss = 0.10212540\n",
            "Iteration 17, loss = 0.09649856\n",
            "Iteration 18, loss = 0.09076208\n",
            "Iteration 19, loss = 0.08635575\n",
            "Iteration 20, loss = 0.08074187\n"
          ],
          "name": "stdout"
        },
        {
          "output_type": "stream",
          "text": [
            "/usr/local/lib/python3.6/dist-packages/sklearn/neural_network/multilayer_perceptron.py:564: ConvergenceWarning: Stochastic Optimizer: Maximum iterations (20) reached and the optimization hasn't converged yet.\n",
            "  % self.max_iter, ConvergenceWarning)\n"
          ],
          "name": "stderr"
        },
        {
          "output_type": "stream",
          "text": [
            "Iteration 1, loss = 0.97547888\n",
            "Iteration 2, loss = 0.35339487\n",
            "Iteration 3, loss = 0.29062915\n",
            "Iteration 4, loss = 0.25432225\n",
            "Iteration 5, loss = 0.22852531\n",
            "Iteration 6, loss = 0.20710758\n",
            "Iteration 7, loss = 0.18986360\n",
            "Iteration 8, loss = 0.17450054\n",
            "Iteration 9, loss = 0.16304811\n",
            "Iteration 10, loss = 0.15032802\n",
            "Iteration 11, loss = 0.14058594\n",
            "Iteration 12, loss = 0.13105944\n",
            "Iteration 13, loss = 0.12272598\n",
            "Iteration 14, loss = 0.11497525\n",
            "Iteration 15, loss = 0.10841040\n",
            "Iteration 16, loss = 0.10156523\n",
            "Iteration 17, loss = 0.09644324\n",
            "Iteration 18, loss = 0.09166811\n",
            "Iteration 19, loss = 0.08587448\n",
            "Iteration 20, loss = 0.08265780\n"
          ],
          "name": "stdout"
        },
        {
          "output_type": "stream",
          "text": [
            "/usr/local/lib/python3.6/dist-packages/sklearn/neural_network/multilayer_perceptron.py:564: ConvergenceWarning: Stochastic Optimizer: Maximum iterations (20) reached and the optimization hasn't converged yet.\n",
            "  % self.max_iter, ConvergenceWarning)\n"
          ],
          "name": "stderr"
        },
        {
          "output_type": "stream",
          "text": [
            "Iteration 1, loss = 0.97106146\n",
            "Iteration 2, loss = 0.35959668\n",
            "Iteration 3, loss = 0.29646361\n",
            "Iteration 4, loss = 0.25996473\n",
            "Iteration 5, loss = 0.23495415\n",
            "Iteration 6, loss = 0.21303425\n",
            "Iteration 7, loss = 0.19493252\n",
            "Iteration 8, loss = 0.18078625\n",
            "Iteration 9, loss = 0.16673840\n",
            "Iteration 10, loss = 0.15644246\n",
            "Iteration 11, loss = 0.14532755\n",
            "Iteration 12, loss = 0.13607402\n",
            "Iteration 13, loss = 0.12710823\n",
            "Iteration 14, loss = 0.11963852\n",
            "Iteration 15, loss = 0.11298029\n",
            "Iteration 16, loss = 0.10590103\n",
            "Iteration 17, loss = 0.10090779\n",
            "Iteration 18, loss = 0.09504706\n",
            "Iteration 19, loss = 0.08996380\n",
            "Iteration 20, loss = 0.08538131\n"
          ],
          "name": "stdout"
        },
        {
          "output_type": "stream",
          "text": [
            "/usr/local/lib/python3.6/dist-packages/sklearn/neural_network/multilayer_perceptron.py:564: ConvergenceWarning: Stochastic Optimizer: Maximum iterations (20) reached and the optimization hasn't converged yet.\n",
            "  % self.max_iter, ConvergenceWarning)\n"
          ],
          "name": "stderr"
        },
        {
          "output_type": "stream",
          "text": [
            "Iteration 1, loss = 0.97486762\n",
            "Iteration 2, loss = 0.36283945\n",
            "Iteration 3, loss = 0.29865818\n",
            "Iteration 4, loss = 0.26129324\n",
            "Iteration 5, loss = 0.23593332\n",
            "Iteration 6, loss = 0.21531162\n",
            "Iteration 7, loss = 0.19704713\n",
            "Iteration 8, loss = 0.18163467\n",
            "Iteration 9, loss = 0.16830169\n",
            "Iteration 10, loss = 0.15643699\n",
            "Iteration 11, loss = 0.14660506\n",
            "Iteration 12, loss = 0.13763217\n",
            "Iteration 13, loss = 0.12867830\n",
            "Iteration 14, loss = 0.12021865\n",
            "Iteration 15, loss = 0.11399942\n",
            "Iteration 16, loss = 0.10723627\n",
            "Iteration 17, loss = 0.10182155\n",
            "Iteration 18, loss = 0.09626800\n",
            "Iteration 19, loss = 0.09112787\n",
            "Iteration 20, loss = 0.08662267\n"
          ],
          "name": "stdout"
        },
        {
          "output_type": "stream",
          "text": [
            "/usr/local/lib/python3.6/dist-packages/sklearn/neural_network/multilayer_perceptron.py:564: ConvergenceWarning: Stochastic Optimizer: Maximum iterations (20) reached and the optimization hasn't converged yet.\n",
            "  % self.max_iter, ConvergenceWarning)\n"
          ],
          "name": "stderr"
        },
        {
          "output_type": "stream",
          "text": [
            "Iteration 1, loss = 0.97163393\n",
            "Iteration 2, loss = 0.35996535\n",
            "Iteration 3, loss = 0.29472556\n",
            "Iteration 4, loss = 0.26019237\n",
            "Iteration 5, loss = 0.23527231\n",
            "Iteration 6, loss = 0.21331361\n",
            "Iteration 7, loss = 0.19596686\n",
            "Iteration 8, loss = 0.17987161\n",
            "Iteration 9, loss = 0.16668010\n",
            "Iteration 10, loss = 0.15451553\n",
            "Iteration 11, loss = 0.14451037\n",
            "Iteration 12, loss = 0.13451560\n",
            "Iteration 13, loss = 0.12632784\n",
            "Iteration 14, loss = 0.11927091\n",
            "Iteration 15, loss = 0.11164841\n",
            "Iteration 16, loss = 0.10519211\n",
            "Iteration 17, loss = 0.09944471\n",
            "Iteration 18, loss = 0.09362981\n",
            "Iteration 19, loss = 0.08968573\n",
            "Iteration 20, loss = 0.08475702\n"
          ],
          "name": "stdout"
        },
        {
          "output_type": "stream",
          "text": [
            "/usr/local/lib/python3.6/dist-packages/sklearn/neural_network/multilayer_perceptron.py:564: ConvergenceWarning: Stochastic Optimizer: Maximum iterations (20) reached and the optimization hasn't converged yet.\n",
            "  % self.max_iter, ConvergenceWarning)\n"
          ],
          "name": "stderr"
        },
        {
          "output_type": "stream",
          "text": [
            "Iteration 1, loss = 0.97197748\n",
            "Iteration 2, loss = 0.35723137\n",
            "Iteration 3, loss = 0.29288628\n",
            "Iteration 4, loss = 0.25710221\n",
            "Iteration 5, loss = 0.23138670\n",
            "Iteration 6, loss = 0.21094550\n",
            "Iteration 7, loss = 0.19313178\n",
            "Iteration 8, loss = 0.17691510\n",
            "Iteration 9, loss = 0.16295951\n",
            "Iteration 10, loss = 0.15068964\n",
            "Iteration 11, loss = 0.14078268\n",
            "Iteration 12, loss = 0.13125692\n",
            "Iteration 13, loss = 0.12337203\n",
            "Iteration 14, loss = 0.11406591\n",
            "Iteration 15, loss = 0.10803244\n",
            "Iteration 16, loss = 0.10212540\n",
            "Iteration 17, loss = 0.09649856\n",
            "Iteration 18, loss = 0.09076208\n",
            "Iteration 19, loss = 0.08635575\n",
            "Iteration 20, loss = 0.08074187\n"
          ],
          "name": "stdout"
        },
        {
          "output_type": "stream",
          "text": [
            "/usr/local/lib/python3.6/dist-packages/sklearn/neural_network/multilayer_perceptron.py:564: ConvergenceWarning: Stochastic Optimizer: Maximum iterations (20) reached and the optimization hasn't converged yet.\n",
            "  % self.max_iter, ConvergenceWarning)\n"
          ],
          "name": "stderr"
        },
        {
          "output_type": "stream",
          "text": [
            "Iteration 1, loss = 1.01648127\n",
            "Iteration 2, loss = 0.36606918\n",
            "Iteration 3, loss = 0.30107052\n",
            "Iteration 4, loss = 0.26621642\n",
            "Iteration 5, loss = 0.24103385\n",
            "Iteration 6, loss = 0.22063381\n",
            "Iteration 7, loss = 0.20259201\n",
            "Iteration 8, loss = 0.18635267\n",
            "Iteration 9, loss = 0.17223432\n",
            "Iteration 10, loss = 0.15989805\n",
            "Iteration 11, loss = 0.14904125\n",
            "Iteration 12, loss = 0.13878866\n",
            "Iteration 13, loss = 0.12995819\n",
            "Iteration 14, loss = 0.12220135\n",
            "Iteration 15, loss = 0.11404421\n",
            "Iteration 16, loss = 0.10848238\n",
            "Iteration 17, loss = 0.10221800\n",
            "Iteration 18, loss = 0.09661640\n",
            "Iteration 19, loss = 0.09115535\n",
            "Iteration 20, loss = 0.08594809\n"
          ],
          "name": "stdout"
        },
        {
          "output_type": "stream",
          "text": [
            "/usr/local/lib/python3.6/dist-packages/sklearn/neural_network/multilayer_perceptron.py:564: ConvergenceWarning: Stochastic Optimizer: Maximum iterations (20) reached and the optimization hasn't converged yet.\n",
            "  % self.max_iter, ConvergenceWarning)\n"
          ],
          "name": "stderr"
        },
        {
          "output_type": "stream",
          "text": [
            "Iteration 1, loss = 1.01920263\n",
            "Iteration 2, loss = 0.37133593\n",
            "Iteration 3, loss = 0.30840475\n",
            "Iteration 4, loss = 0.27412938\n",
            "Iteration 5, loss = 0.24789018\n",
            "Iteration 6, loss = 0.22654479\n",
            "Iteration 7, loss = 0.20727221\n",
            "Iteration 8, loss = 0.19136868\n",
            "Iteration 9, loss = 0.17728164\n",
            "Iteration 10, loss = 0.16478605\n",
            "Iteration 11, loss = 0.15349347\n",
            "Iteration 12, loss = 0.14431816\n",
            "Iteration 13, loss = 0.13434916\n",
            "Iteration 14, loss = 0.12624015\n",
            "Iteration 15, loss = 0.11865142\n",
            "Iteration 16, loss = 0.11198957\n",
            "Iteration 17, loss = 0.10637447\n",
            "Iteration 18, loss = 0.09878892\n",
            "Iteration 19, loss = 0.09464337\n",
            "Iteration 20, loss = 0.08864190\n"
          ],
          "name": "stdout"
        },
        {
          "output_type": "stream",
          "text": [
            "/usr/local/lib/python3.6/dist-packages/sklearn/neural_network/multilayer_perceptron.py:564: ConvergenceWarning: Stochastic Optimizer: Maximum iterations (20) reached and the optimization hasn't converged yet.\n",
            "  % self.max_iter, ConvergenceWarning)\n"
          ],
          "name": "stderr"
        },
        {
          "output_type": "stream",
          "text": [
            "Iteration 1, loss = 1.02901801\n",
            "Iteration 2, loss = 0.37440015\n",
            "Iteration 3, loss = 0.30996553\n",
            "Iteration 4, loss = 0.27442817\n",
            "Iteration 5, loss = 0.24626577\n",
            "Iteration 6, loss = 0.22446260\n",
            "Iteration 7, loss = 0.20610479\n",
            "Iteration 8, loss = 0.18988271\n",
            "Iteration 9, loss = 0.17405468\n",
            "Iteration 10, loss = 0.16337203\n",
            "Iteration 11, loss = 0.15253828\n",
            "Iteration 12, loss = 0.14231390\n",
            "Iteration 13, loss = 0.13408103\n",
            "Iteration 14, loss = 0.12453488\n",
            "Iteration 15, loss = 0.11748888\n",
            "Iteration 16, loss = 0.11021821\n",
            "Iteration 17, loss = 0.10565914\n",
            "Iteration 18, loss = 0.09869574\n",
            "Iteration 19, loss = 0.09318462\n",
            "Iteration 20, loss = 0.08915838\n"
          ],
          "name": "stdout"
        },
        {
          "output_type": "stream",
          "text": [
            "/usr/local/lib/python3.6/dist-packages/sklearn/neural_network/multilayer_perceptron.py:564: ConvergenceWarning: Stochastic Optimizer: Maximum iterations (20) reached and the optimization hasn't converged yet.\n",
            "  % self.max_iter, ConvergenceWarning)\n"
          ],
          "name": "stderr"
        },
        {
          "output_type": "stream",
          "text": [
            "Iteration 1, loss = 1.02086045\n",
            "Iteration 2, loss = 0.36901373\n",
            "Iteration 3, loss = 0.30676320\n",
            "Iteration 4, loss = 0.27148831\n",
            "Iteration 5, loss = 0.24591780\n",
            "Iteration 6, loss = 0.22445747\n",
            "Iteration 7, loss = 0.20526984\n",
            "Iteration 8, loss = 0.18832991\n",
            "Iteration 9, loss = 0.17542869\n",
            "Iteration 10, loss = 0.16190586\n",
            "Iteration 11, loss = 0.15102440\n",
            "Iteration 12, loss = 0.14049742\n",
            "Iteration 13, loss = 0.13172075\n",
            "Iteration 14, loss = 0.12295519\n",
            "Iteration 15, loss = 0.11600717\n",
            "Iteration 16, loss = 0.10844005\n",
            "Iteration 17, loss = 0.10338897\n",
            "Iteration 18, loss = 0.09739382\n",
            "Iteration 19, loss = 0.09289322\n",
            "Iteration 20, loss = 0.08769606\n"
          ],
          "name": "stdout"
        },
        {
          "output_type": "stream",
          "text": [
            "/usr/local/lib/python3.6/dist-packages/sklearn/neural_network/multilayer_perceptron.py:564: ConvergenceWarning: Stochastic Optimizer: Maximum iterations (20) reached and the optimization hasn't converged yet.\n",
            "  % self.max_iter, ConvergenceWarning)\n"
          ],
          "name": "stderr"
        },
        {
          "output_type": "stream",
          "text": [
            "Iteration 1, loss = 1.01440519\n",
            "Iteration 2, loss = 0.36737539\n",
            "Iteration 3, loss = 0.30181349\n",
            "Iteration 4, loss = 0.26677629\n",
            "Iteration 5, loss = 0.24035551\n",
            "Iteration 6, loss = 0.21887567\n",
            "Iteration 7, loss = 0.20087544\n",
            "Iteration 8, loss = 0.18505545\n",
            "Iteration 9, loss = 0.17152074\n",
            "Iteration 10, loss = 0.15968017\n",
            "Iteration 11, loss = 0.14878801\n",
            "Iteration 12, loss = 0.13866373\n",
            "Iteration 13, loss = 0.12883476\n",
            "Iteration 14, loss = 0.12110524\n",
            "Iteration 15, loss = 0.11369680\n",
            "Iteration 16, loss = 0.10650396\n",
            "Iteration 17, loss = 0.10039213\n",
            "Iteration 18, loss = 0.09469063\n",
            "Iteration 19, loss = 0.08891943\n",
            "Iteration 20, loss = 0.08396924\n"
          ],
          "name": "stdout"
        },
        {
          "output_type": "stream",
          "text": [
            "/usr/local/lib/python3.6/dist-packages/sklearn/neural_network/multilayer_perceptron.py:564: ConvergenceWarning: Stochastic Optimizer: Maximum iterations (20) reached and the optimization hasn't converged yet.\n",
            "  % self.max_iter, ConvergenceWarning)\n"
          ],
          "name": "stderr"
        },
        {
          "output_type": "stream",
          "text": [
            "Iteration 1, loss = 1.01648127\n",
            "Iteration 2, loss = 0.36606918\n",
            "Iteration 3, loss = 0.30107052\n",
            "Iteration 4, loss = 0.26621642\n",
            "Iteration 5, loss = 0.24103385\n",
            "Iteration 6, loss = 0.22063381\n",
            "Iteration 7, loss = 0.20259201\n",
            "Iteration 8, loss = 0.18635267\n",
            "Iteration 9, loss = 0.17223432\n",
            "Iteration 10, loss = 0.15989805\n",
            "Iteration 11, loss = 0.14904125\n",
            "Iteration 12, loss = 0.13878866\n",
            "Iteration 13, loss = 0.12995819\n",
            "Iteration 14, loss = 0.12220135\n",
            "Iteration 15, loss = 0.11404421\n",
            "Iteration 16, loss = 0.10848238\n",
            "Iteration 17, loss = 0.10221800\n",
            "Iteration 18, loss = 0.09661640\n",
            "Iteration 19, loss = 0.09115535\n",
            "Iteration 20, loss = 0.08594809\n"
          ],
          "name": "stdout"
        },
        {
          "output_type": "stream",
          "text": [
            "/usr/local/lib/python3.6/dist-packages/sklearn/neural_network/multilayer_perceptron.py:564: ConvergenceWarning: Stochastic Optimizer: Maximum iterations (20) reached and the optimization hasn't converged yet.\n",
            "  % self.max_iter, ConvergenceWarning)\n"
          ],
          "name": "stderr"
        },
        {
          "output_type": "stream",
          "text": [
            "Iteration 1, loss = 1.01920263\n",
            "Iteration 2, loss = 0.37133593\n",
            "Iteration 3, loss = 0.30840475\n",
            "Iteration 4, loss = 0.27412938\n",
            "Iteration 5, loss = 0.24789018\n",
            "Iteration 6, loss = 0.22654479\n",
            "Iteration 7, loss = 0.20727221\n",
            "Iteration 8, loss = 0.19136868\n",
            "Iteration 9, loss = 0.17728164\n",
            "Iteration 10, loss = 0.16478605\n",
            "Iteration 11, loss = 0.15349347\n",
            "Iteration 12, loss = 0.14431816\n",
            "Iteration 13, loss = 0.13434916\n",
            "Iteration 14, loss = 0.12624015\n",
            "Iteration 15, loss = 0.11865142\n",
            "Iteration 16, loss = 0.11198957\n",
            "Iteration 17, loss = 0.10637447\n",
            "Iteration 18, loss = 0.09878892\n",
            "Iteration 19, loss = 0.09464337\n",
            "Iteration 20, loss = 0.08864190\n"
          ],
          "name": "stdout"
        },
        {
          "output_type": "stream",
          "text": [
            "/usr/local/lib/python3.6/dist-packages/sklearn/neural_network/multilayer_perceptron.py:564: ConvergenceWarning: Stochastic Optimizer: Maximum iterations (20) reached and the optimization hasn't converged yet.\n",
            "  % self.max_iter, ConvergenceWarning)\n"
          ],
          "name": "stderr"
        },
        {
          "output_type": "stream",
          "text": [
            "Iteration 1, loss = 1.02901801\n",
            "Iteration 2, loss = 0.37440015\n",
            "Iteration 3, loss = 0.30996553\n",
            "Iteration 4, loss = 0.27442817\n",
            "Iteration 5, loss = 0.24626577\n",
            "Iteration 6, loss = 0.22446260\n",
            "Iteration 7, loss = 0.20610479\n",
            "Iteration 8, loss = 0.18988271\n",
            "Iteration 9, loss = 0.17405468\n",
            "Iteration 10, loss = 0.16337203\n",
            "Iteration 11, loss = 0.15253828\n",
            "Iteration 12, loss = 0.14231390\n",
            "Iteration 13, loss = 0.13408103\n",
            "Iteration 14, loss = 0.12453488\n",
            "Iteration 15, loss = 0.11748888\n",
            "Iteration 16, loss = 0.11021821\n",
            "Iteration 17, loss = 0.10565914\n",
            "Iteration 18, loss = 0.09869574\n",
            "Iteration 19, loss = 0.09318462\n",
            "Iteration 20, loss = 0.08915838\n"
          ],
          "name": "stdout"
        },
        {
          "output_type": "stream",
          "text": [
            "/usr/local/lib/python3.6/dist-packages/sklearn/neural_network/multilayer_perceptron.py:564: ConvergenceWarning: Stochastic Optimizer: Maximum iterations (20) reached and the optimization hasn't converged yet.\n",
            "  % self.max_iter, ConvergenceWarning)\n"
          ],
          "name": "stderr"
        },
        {
          "output_type": "stream",
          "text": [
            "Iteration 1, loss = 1.02086045\n",
            "Iteration 2, loss = 0.36901373\n",
            "Iteration 3, loss = 0.30676320\n",
            "Iteration 4, loss = 0.27148831\n",
            "Iteration 5, loss = 0.24591780\n",
            "Iteration 6, loss = 0.22445747\n",
            "Iteration 7, loss = 0.20526984\n",
            "Iteration 8, loss = 0.18832991\n",
            "Iteration 9, loss = 0.17542869\n",
            "Iteration 10, loss = 0.16190586\n",
            "Iteration 11, loss = 0.15102440\n",
            "Iteration 12, loss = 0.14049742\n",
            "Iteration 13, loss = 0.13172075\n",
            "Iteration 14, loss = 0.12295519\n",
            "Iteration 15, loss = 0.11600717\n",
            "Iteration 16, loss = 0.10844005\n",
            "Iteration 17, loss = 0.10338897\n",
            "Iteration 18, loss = 0.09739382\n",
            "Iteration 19, loss = 0.09289322\n",
            "Iteration 20, loss = 0.08769606\n"
          ],
          "name": "stdout"
        },
        {
          "output_type": "stream",
          "text": [
            "/usr/local/lib/python3.6/dist-packages/sklearn/neural_network/multilayer_perceptron.py:564: ConvergenceWarning: Stochastic Optimizer: Maximum iterations (20) reached and the optimization hasn't converged yet.\n",
            "  % self.max_iter, ConvergenceWarning)\n"
          ],
          "name": "stderr"
        },
        {
          "output_type": "stream",
          "text": [
            "Iteration 1, loss = 1.01440519\n",
            "Iteration 2, loss = 0.36737539\n",
            "Iteration 3, loss = 0.30181349\n",
            "Iteration 4, loss = 0.26677629\n",
            "Iteration 5, loss = 0.24035551\n",
            "Iteration 6, loss = 0.21887567\n",
            "Iteration 7, loss = 0.20087544\n",
            "Iteration 8, loss = 0.18505545\n",
            "Iteration 9, loss = 0.17152074\n",
            "Iteration 10, loss = 0.15968017\n",
            "Iteration 11, loss = 0.14878801\n",
            "Iteration 12, loss = 0.13866373\n",
            "Iteration 13, loss = 0.12883476\n",
            "Iteration 14, loss = 0.12110524\n",
            "Iteration 15, loss = 0.11369680\n",
            "Iteration 16, loss = 0.10650396\n",
            "Iteration 17, loss = 0.10039213\n",
            "Iteration 18, loss = 0.09469063\n",
            "Iteration 19, loss = 0.08891943\n",
            "Iteration 20, loss = 0.08396924\n"
          ],
          "name": "stdout"
        },
        {
          "output_type": "stream",
          "text": [
            "/usr/local/lib/python3.6/dist-packages/sklearn/neural_network/multilayer_perceptron.py:564: ConvergenceWarning: Stochastic Optimizer: Maximum iterations (20) reached and the optimization hasn't converged yet.\n",
            "  % self.max_iter, ConvergenceWarning)\n"
          ],
          "name": "stderr"
        },
        {
          "output_type": "stream",
          "text": [
            "Iteration 1, loss = 0.38943097\n",
            "Iteration 2, loss = 0.17110348\n",
            "Iteration 3, loss = 0.11762922\n",
            "Iteration 4, loss = 0.08947207\n",
            "Iteration 5, loss = 0.07102477\n",
            "Iteration 6, loss = 0.05796269\n",
            "Iteration 7, loss = 0.04694239\n",
            "Iteration 8, loss = 0.03856201\n",
            "Iteration 9, loss = 0.03314652\n",
            "Iteration 10, loss = 0.02658473\n",
            "Iteration 11, loss = 0.02231000\n",
            "Iteration 12, loss = 0.01843697\n",
            "Iteration 13, loss = 0.01513720\n",
            "Iteration 14, loss = 0.01266225\n",
            "Iteration 15, loss = 0.01146336\n",
            "Iteration 16, loss = 0.00944454\n",
            "Iteration 17, loss = 0.00821844\n",
            "Iteration 18, loss = 0.00665617\n",
            "Iteration 19, loss = 0.00580455\n",
            "Iteration 20, loss = 0.00515822\n",
            "Best parameters set found on development set:\n",
            "\n",
            "{'alpha': 0.0001, 'hidden_layer_sizes': 100, 'learning_rate_init': 0.1, 'max_iter': 20, 'random_state': 42, 'solver': 'sgd', 'tol': 0.0001, 'verbose': 10}\n",
            "\n",
            "Grid scores on development set:\n",
            "\n",
            "0.970 (+/-0.005) for {'alpha': 0.0001, 'hidden_layer_sizes': 100, 'learning_rate_init': 0.1, 'max_iter': 10, 'random_state': 42, 'solver': 'sgd', 'tol': 0.0001, 'verbose': 10}\n",
            "0.970 (+/-0.005) for {'alpha': 0.0001, 'hidden_layer_sizes': 100, 'learning_rate_init': 0.1, 'max_iter': 10, 'random_state': 42, 'solver': 'sgd', 'tol': 0.001, 'verbose': 10}\n",
            "0.969 (+/-0.005) for {'alpha': 0.0001, 'hidden_layer_sizes': 100, 'learning_rate_init': 0.1, 'max_iter': 10, 'random_state': 52, 'solver': 'sgd', 'tol': 0.0001, 'verbose': 10}\n",
            "0.969 (+/-0.005) for {'alpha': 0.0001, 'hidden_layer_sizes': 100, 'learning_rate_init': 0.1, 'max_iter': 10, 'random_state': 52, 'solver': 'sgd', 'tol': 0.001, 'verbose': 10}\n",
            "0.972 (+/-0.005) for {'alpha': 0.0001, 'hidden_layer_sizes': 100, 'learning_rate_init': 0.1, 'max_iter': 20, 'random_state': 42, 'solver': 'sgd', 'tol': 0.0001, 'verbose': 10}\n",
            "0.972 (+/-0.005) for {'alpha': 0.0001, 'hidden_layer_sizes': 100, 'learning_rate_init': 0.1, 'max_iter': 20, 'random_state': 42, 'solver': 'sgd', 'tol': 0.001, 'verbose': 10}\n",
            "0.972 (+/-0.004) for {'alpha': 0.0001, 'hidden_layer_sizes': 100, 'learning_rate_init': 0.1, 'max_iter': 20, 'random_state': 52, 'solver': 'sgd', 'tol': 0.0001, 'verbose': 10}\n",
            "0.972 (+/-0.004) for {'alpha': 0.0001, 'hidden_layer_sizes': 100, 'learning_rate_init': 0.1, 'max_iter': 20, 'random_state': 52, 'solver': 'sgd', 'tol': 0.001, 'verbose': 10}\n",
            "0.937 (+/-0.007) for {'alpha': 0.0001, 'hidden_layer_sizes': 100, 'learning_rate_init': 0.01, 'max_iter': 10, 'random_state': 42, 'solver': 'sgd', 'tol': 0.0001, 'verbose': 10}\n",
            "0.937 (+/-0.007) for {'alpha': 0.0001, 'hidden_layer_sizes': 100, 'learning_rate_init': 0.01, 'max_iter': 10, 'random_state': 42, 'solver': 'sgd', 'tol': 0.001, 'verbose': 10}\n",
            "0.940 (+/-0.007) for {'alpha': 0.0001, 'hidden_layer_sizes': 100, 'learning_rate_init': 0.01, 'max_iter': 10, 'random_state': 52, 'solver': 'sgd', 'tol': 0.0001, 'verbose': 10}\n",
            "0.940 (+/-0.007) for {'alpha': 0.0001, 'hidden_layer_sizes': 100, 'learning_rate_init': 0.01, 'max_iter': 10, 'random_state': 52, 'solver': 'sgd', 'tol': 0.001, 'verbose': 10}\n",
            "0.952 (+/-0.007) for {'alpha': 0.0001, 'hidden_layer_sizes': 100, 'learning_rate_init': 0.01, 'max_iter': 20, 'random_state': 42, 'solver': 'sgd', 'tol': 0.0001, 'verbose': 10}\n",
            "0.952 (+/-0.007) for {'alpha': 0.0001, 'hidden_layer_sizes': 100, 'learning_rate_init': 0.01, 'max_iter': 20, 'random_state': 42, 'solver': 'sgd', 'tol': 0.001, 'verbose': 10}\n",
            "0.955 (+/-0.008) for {'alpha': 0.0001, 'hidden_layer_sizes': 100, 'learning_rate_init': 0.01, 'max_iter': 20, 'random_state': 52, 'solver': 'sgd', 'tol': 0.0001, 'verbose': 10}\n",
            "0.955 (+/-0.008) for {'alpha': 0.0001, 'hidden_layer_sizes': 100, 'learning_rate_init': 0.01, 'max_iter': 20, 'random_state': 52, 'solver': 'sgd', 'tol': 0.001, 'verbose': 10}\n",
            "0.964 (+/-0.006) for {'alpha': 0.0001, 'hidden_layer_sizes': (50, 50), 'learning_rate_init': 0.1, 'max_iter': 10, 'random_state': 42, 'solver': 'sgd', 'tol': 0.0001, 'verbose': 10}\n",
            "0.964 (+/-0.006) for {'alpha': 0.0001, 'hidden_layer_sizes': (50, 50), 'learning_rate_init': 0.1, 'max_iter': 10, 'random_state': 42, 'solver': 'sgd', 'tol': 0.001, 'verbose': 10}\n",
            "0.964 (+/-0.005) for {'alpha': 0.0001, 'hidden_layer_sizes': (50, 50), 'learning_rate_init': 0.1, 'max_iter': 10, 'random_state': 52, 'solver': 'sgd', 'tol': 0.0001, 'verbose': 10}\n",
            "0.964 (+/-0.005) for {'alpha': 0.0001, 'hidden_layer_sizes': (50, 50), 'learning_rate_init': 0.1, 'max_iter': 10, 'random_state': 52, 'solver': 'sgd', 'tol': 0.001, 'verbose': 10}\n",
            "0.965 (+/-0.010) for {'alpha': 0.0001, 'hidden_layer_sizes': (50, 50), 'learning_rate_init': 0.1, 'max_iter': 20, 'random_state': 42, 'solver': 'sgd', 'tol': 0.0001, 'verbose': 10}\n",
            "0.965 (+/-0.010) for {'alpha': 0.0001, 'hidden_layer_sizes': (50, 50), 'learning_rate_init': 0.1, 'max_iter': 20, 'random_state': 42, 'solver': 'sgd', 'tol': 0.001, 'verbose': 10}\n",
            "0.966 (+/-0.006) for {'alpha': 0.0001, 'hidden_layer_sizes': (50, 50), 'learning_rate_init': 0.1, 'max_iter': 20, 'random_state': 52, 'solver': 'sgd', 'tol': 0.0001, 'verbose': 10}\n",
            "0.965 (+/-0.009) for {'alpha': 0.0001, 'hidden_layer_sizes': (50, 50), 'learning_rate_init': 0.1, 'max_iter': 20, 'random_state': 52, 'solver': 'sgd', 'tol': 0.001, 'verbose': 10}\n",
            "0.946 (+/-0.007) for {'alpha': 0.0001, 'hidden_layer_sizes': (50, 50), 'learning_rate_init': 0.01, 'max_iter': 10, 'random_state': 42, 'solver': 'sgd', 'tol': 0.0001, 'verbose': 10}\n",
            "0.946 (+/-0.007) for {'alpha': 0.0001, 'hidden_layer_sizes': (50, 50), 'learning_rate_init': 0.01, 'max_iter': 10, 'random_state': 42, 'solver': 'sgd', 'tol': 0.001, 'verbose': 10}\n",
            "0.944 (+/-0.005) for {'alpha': 0.0001, 'hidden_layer_sizes': (50, 50), 'learning_rate_init': 0.01, 'max_iter': 10, 'random_state': 52, 'solver': 'sgd', 'tol': 0.0001, 'verbose': 10}\n",
            "0.944 (+/-0.005) for {'alpha': 0.0001, 'hidden_layer_sizes': (50, 50), 'learning_rate_init': 0.01, 'max_iter': 10, 'random_state': 52, 'solver': 'sgd', 'tol': 0.001, 'verbose': 10}\n",
            "0.958 (+/-0.009) for {'alpha': 0.0001, 'hidden_layer_sizes': (50, 50), 'learning_rate_init': 0.01, 'max_iter': 20, 'random_state': 42, 'solver': 'sgd', 'tol': 0.0001, 'verbose': 10}\n",
            "0.958 (+/-0.009) for {'alpha': 0.0001, 'hidden_layer_sizes': (50, 50), 'learning_rate_init': 0.01, 'max_iter': 20, 'random_state': 42, 'solver': 'sgd', 'tol': 0.001, 'verbose': 10}\n",
            "0.959 (+/-0.007) for {'alpha': 0.0001, 'hidden_layer_sizes': (50, 50), 'learning_rate_init': 0.01, 'max_iter': 20, 'random_state': 52, 'solver': 'sgd', 'tol': 0.0001, 'verbose': 10}\n",
            "0.959 (+/-0.007) for {'alpha': 0.0001, 'hidden_layer_sizes': (50, 50), 'learning_rate_init': 0.01, 'max_iter': 20, 'random_state': 52, 'solver': 'sgd', 'tol': 0.001, 'verbose': 10}\n",
            "0.969 (+/-0.004) for {'alpha': 0.001, 'hidden_layer_sizes': 100, 'learning_rate_init': 0.1, 'max_iter': 10, 'random_state': 42, 'solver': 'sgd', 'tol': 0.0001, 'verbose': 10}\n",
            "0.969 (+/-0.004) for {'alpha': 0.001, 'hidden_layer_sizes': 100, 'learning_rate_init': 0.1, 'max_iter': 10, 'random_state': 42, 'solver': 'sgd', 'tol': 0.001, 'verbose': 10}\n",
            "0.969 (+/-0.006) for {'alpha': 0.001, 'hidden_layer_sizes': 100, 'learning_rate_init': 0.1, 'max_iter': 10, 'random_state': 52, 'solver': 'sgd', 'tol': 0.0001, 'verbose': 10}\n",
            "0.969 (+/-0.006) for {'alpha': 0.001, 'hidden_layer_sizes': 100, 'learning_rate_init': 0.1, 'max_iter': 10, 'random_state': 52, 'solver': 'sgd', 'tol': 0.001, 'verbose': 10}\n",
            "0.972 (+/-0.006) for {'alpha': 0.001, 'hidden_layer_sizes': 100, 'learning_rate_init': 0.1, 'max_iter': 20, 'random_state': 42, 'solver': 'sgd', 'tol': 0.0001, 'verbose': 10}\n",
            "0.972 (+/-0.006) for {'alpha': 0.001, 'hidden_layer_sizes': 100, 'learning_rate_init': 0.1, 'max_iter': 20, 'random_state': 42, 'solver': 'sgd', 'tol': 0.001, 'verbose': 10}\n",
            "0.972 (+/-0.004) for {'alpha': 0.001, 'hidden_layer_sizes': 100, 'learning_rate_init': 0.1, 'max_iter': 20, 'random_state': 52, 'solver': 'sgd', 'tol': 0.0001, 'verbose': 10}\n",
            "0.972 (+/-0.004) for {'alpha': 0.001, 'hidden_layer_sizes': 100, 'learning_rate_init': 0.1, 'max_iter': 20, 'random_state': 52, 'solver': 'sgd', 'tol': 0.001, 'verbose': 10}\n",
            "0.937 (+/-0.007) for {'alpha': 0.001, 'hidden_layer_sizes': 100, 'learning_rate_init': 0.01, 'max_iter': 10, 'random_state': 42, 'solver': 'sgd', 'tol': 0.0001, 'verbose': 10}\n",
            "0.937 (+/-0.007) for {'alpha': 0.001, 'hidden_layer_sizes': 100, 'learning_rate_init': 0.01, 'max_iter': 10, 'random_state': 42, 'solver': 'sgd', 'tol': 0.001, 'verbose': 10}\n",
            "0.940 (+/-0.008) for {'alpha': 0.001, 'hidden_layer_sizes': 100, 'learning_rate_init': 0.01, 'max_iter': 10, 'random_state': 52, 'solver': 'sgd', 'tol': 0.0001, 'verbose': 10}\n",
            "0.940 (+/-0.008) for {'alpha': 0.001, 'hidden_layer_sizes': 100, 'learning_rate_init': 0.01, 'max_iter': 10, 'random_state': 52, 'solver': 'sgd', 'tol': 0.001, 'verbose': 10}\n",
            "0.952 (+/-0.007) for {'alpha': 0.001, 'hidden_layer_sizes': 100, 'learning_rate_init': 0.01, 'max_iter': 20, 'random_state': 42, 'solver': 'sgd', 'tol': 0.0001, 'verbose': 10}\n",
            "0.952 (+/-0.007) for {'alpha': 0.001, 'hidden_layer_sizes': 100, 'learning_rate_init': 0.01, 'max_iter': 20, 'random_state': 42, 'solver': 'sgd', 'tol': 0.001, 'verbose': 10}\n",
            "0.955 (+/-0.008) for {'alpha': 0.001, 'hidden_layer_sizes': 100, 'learning_rate_init': 0.01, 'max_iter': 20, 'random_state': 52, 'solver': 'sgd', 'tol': 0.0001, 'verbose': 10}\n",
            "0.955 (+/-0.008) for {'alpha': 0.001, 'hidden_layer_sizes': 100, 'learning_rate_init': 0.01, 'max_iter': 20, 'random_state': 52, 'solver': 'sgd', 'tol': 0.001, 'verbose': 10}\n",
            "0.962 (+/-0.004) for {'alpha': 0.001, 'hidden_layer_sizes': (50, 50), 'learning_rate_init': 0.1, 'max_iter': 10, 'random_state': 42, 'solver': 'sgd', 'tol': 0.0001, 'verbose': 10}\n",
            "0.962 (+/-0.004) for {'alpha': 0.001, 'hidden_layer_sizes': (50, 50), 'learning_rate_init': 0.1, 'max_iter': 10, 'random_state': 42, 'solver': 'sgd', 'tol': 0.001, 'verbose': 10}\n",
            "0.965 (+/-0.005) for {'alpha': 0.001, 'hidden_layer_sizes': (50, 50), 'learning_rate_init': 0.1, 'max_iter': 10, 'random_state': 52, 'solver': 'sgd', 'tol': 0.0001, 'verbose': 10}\n",
            "0.965 (+/-0.005) for {'alpha': 0.001, 'hidden_layer_sizes': (50, 50), 'learning_rate_init': 0.1, 'max_iter': 10, 'random_state': 52, 'solver': 'sgd', 'tol': 0.001, 'verbose': 10}\n",
            "0.965 (+/-0.010) for {'alpha': 0.001, 'hidden_layer_sizes': (50, 50), 'learning_rate_init': 0.1, 'max_iter': 20, 'random_state': 42, 'solver': 'sgd', 'tol': 0.0001, 'verbose': 10}\n",
            "0.965 (+/-0.010) for {'alpha': 0.001, 'hidden_layer_sizes': (50, 50), 'learning_rate_init': 0.1, 'max_iter': 20, 'random_state': 42, 'solver': 'sgd', 'tol': 0.001, 'verbose': 10}\n",
            "0.967 (+/-0.007) for {'alpha': 0.001, 'hidden_layer_sizes': (50, 50), 'learning_rate_init': 0.1, 'max_iter': 20, 'random_state': 52, 'solver': 'sgd', 'tol': 0.0001, 'verbose': 10}\n",
            "0.967 (+/-0.007) for {'alpha': 0.001, 'hidden_layer_sizes': (50, 50), 'learning_rate_init': 0.1, 'max_iter': 20, 'random_state': 52, 'solver': 'sgd', 'tol': 0.001, 'verbose': 10}\n",
            "0.946 (+/-0.006) for {'alpha': 0.001, 'hidden_layer_sizes': (50, 50), 'learning_rate_init': 0.01, 'max_iter': 10, 'random_state': 42, 'solver': 'sgd', 'tol': 0.0001, 'verbose': 10}\n",
            "0.946 (+/-0.006) for {'alpha': 0.001, 'hidden_layer_sizes': (50, 50), 'learning_rate_init': 0.01, 'max_iter': 10, 'random_state': 42, 'solver': 'sgd', 'tol': 0.001, 'verbose': 10}\n",
            "0.944 (+/-0.006) for {'alpha': 0.001, 'hidden_layer_sizes': (50, 50), 'learning_rate_init': 0.01, 'max_iter': 10, 'random_state': 52, 'solver': 'sgd', 'tol': 0.0001, 'verbose': 10}\n",
            "0.944 (+/-0.006) for {'alpha': 0.001, 'hidden_layer_sizes': (50, 50), 'learning_rate_init': 0.01, 'max_iter': 10, 'random_state': 52, 'solver': 'sgd', 'tol': 0.001, 'verbose': 10}\n",
            "0.958 (+/-0.009) for {'alpha': 0.001, 'hidden_layer_sizes': (50, 50), 'learning_rate_init': 0.01, 'max_iter': 20, 'random_state': 42, 'solver': 'sgd', 'tol': 0.0001, 'verbose': 10}\n",
            "0.958 (+/-0.009) for {'alpha': 0.001, 'hidden_layer_sizes': (50, 50), 'learning_rate_init': 0.01, 'max_iter': 20, 'random_state': 42, 'solver': 'sgd', 'tol': 0.001, 'verbose': 10}\n",
            "0.959 (+/-0.007) for {'alpha': 0.001, 'hidden_layer_sizes': (50, 50), 'learning_rate_init': 0.01, 'max_iter': 20, 'random_state': 52, 'solver': 'sgd', 'tol': 0.0001, 'verbose': 10}\n",
            "0.959 (+/-0.007) for {'alpha': 0.001, 'hidden_layer_sizes': (50, 50), 'learning_rate_init': 0.01, 'max_iter': 20, 'random_state': 52, 'solver': 'sgd', 'tol': 0.001, 'verbose': 10}\n",
            "\n",
            "Detailed classification report:\n",
            "\n",
            "The model is trained on the full development set.\n",
            "The scores are computed on the full evaluation set.\n",
            "\n",
            "             precision    recall  f1-score   support\n",
            "\n",
            "          0       0.99      0.98      0.98       813\n",
            "          1       0.98      0.99      0.99       961\n",
            "          2       0.97      0.98      0.98       860\n",
            "          3       0.97      0.96      0.97       863\n",
            "          4       0.99      0.97      0.98       827\n",
            "          5       0.97      0.97      0.97       756\n",
            "          6       0.97      0.99      0.98       841\n",
            "          7       0.98      0.97      0.98       899\n",
            "          8       0.95      0.96      0.96       768\n",
            "          9       0.97      0.96      0.97       812\n",
            "\n",
            "avg / total       0.97      0.97      0.97      8400\n",
            "\n",
            "Detailed confusion matrix:\n",
            "[[794   0   3   1   1   2   6   0   5   1]\n",
            " [  0 952   1   3   0   0   2   1   2   0]\n",
            " [  2   2 842   4   0   0   0   2   8   0]\n",
            " [  0   1   7 829   0   8   1   3  11   3]\n",
            " [  1   3   1   0 806   1   6   1   2   6]\n",
            " [  1   1   2   9   0 733   5   0   4   1]\n",
            " [  0   0   0   0   1   5 833   0   2   0]\n",
            " [  0   4   8   2   2   1   0 873   1   8]\n",
            " [  2   6   1   4   0   4   8   0 738   5]\n",
            " [  5   1   2   3   7   3   1   7   2 781]]\n",
            "Accuracy Score: \n",
            "\n",
            "0.9739285714285715\n",
            "\n"
          ],
          "name": "stdout"
        },
        {
          "output_type": "stream",
          "text": [
            "/usr/local/lib/python3.6/dist-packages/sklearn/neural_network/multilayer_perceptron.py:564: ConvergenceWarning: Stochastic Optimizer: Maximum iterations (20) reached and the optimization hasn't converged yet.\n",
            "  % self.max_iter, ConvergenceWarning)\n"
          ],
          "name": "stderr"
        }
      ]
    },
    {
      "metadata": {
        "id": "jVTog8VkqjPu",
        "colab_type": "code",
        "colab": {}
      },
      "cell_type": "code",
      "source": [
        "from sklearn import preprocessing\n",
        "lb = preprocessing.LabelBinarizer()\n",
        "y_true = lb.fit_transform(y_true)\n",
        "y_pred = lb.fit_transform(y_pred)"
      ],
      "execution_count": 0,
      "outputs": []
    },
    {
      "metadata": {
        "id": "JOcCO-K5QZfP",
        "colab_type": "code",
        "colab": {}
      },
      "cell_type": "code",
      "source": [
        "class_label = lb.classes_.tolist()"
      ],
      "execution_count": 0,
      "outputs": []
    },
    {
      "metadata": {
        "id": "RIJwSo_mCSXq",
        "colab_type": "code",
        "colab": {}
      },
      "cell_type": "code",
      "source": [
        "#The ROC curve for each class\n",
        "from sklearn.metrics import roc_curve, auc\n",
        "import numpy as np\n",
        "import matplotlib.pyplot as plt\n",
        "fpr = dict()\n",
        "tpr = dict()\n",
        "roc_auc = dict()\n",
        "class_size = len(class_label)\n",
        "for i in range(class_size):\n",
        "    fpr[i], tpr[i], _ = roc_curve(y_true[:,i], y_pred[:,i])\n",
        "    roc_auc[i] = auc(fpr[i], tpr[i])\n",
        "    \n",
        "fpr[\"micro\"], tpr[\"micro\"], _ = roc_curve(y_true.ravel(), y_pred.ravel())\n",
        "roc_auc[\"micro\"] = auc(fpr[\"micro\"], tpr[\"micro\"])\n"
      ],
      "execution_count": 0,
      "outputs": []
    },
    {
      "metadata": {
        "id": "jjpedm-FQVYx",
        "colab_type": "code",
        "colab": {}
      },
      "cell_type": "code",
      "source": [
        "from scipy import interp\n",
        "all_fpr = np.unique(np.concatenate([fpr[i] for i in range(class_size)]))\n",
        "mean_tpr = np.zeros_like(all_fpr)\n",
        "for i in range(class_size):\n",
        "    mean_tpr += interp(all_fpr, fpr[i], tpr[i])\n",
        "    \n",
        "    \n",
        "mean_tpr /= class_size\n",
        "fpr[\"macro\"] = all_fpr\n",
        "tpr[\"macro\"] = mean_tpr\n",
        "roc_auc[\"macro\"] = auc(fpr[\"macro\"], tpr[\"macro\"])"
      ],
      "execution_count": 0,
      "outputs": []
    },
    {
      "metadata": {
        "id": "hyTWvfWZQcFw",
        "colab_type": "code",
        "colab": {
          "base_uri": "https://localhost:8080/",
          "height": 892
        },
        "outputId": "3f835747-ce4b-4a14-b0da-b6092ce5d9b9"
      },
      "cell_type": "code",
      "source": [
        "from itertools import cycle\n",
        "lw=3\n",
        "plt.figure(figsize=(15,15))\n",
        "plt.plot(fpr[\"micro\"], tpr[\"micro\"],\n",
        "         label='micro-average ROC curve (area = {0:0.2f})'\n",
        "               ''.format(roc_auc[\"micro\"]),\n",
        "         color='deeppink', linestyle=':', linewidth=4)\n",
        "\n",
        "plt.plot(fpr[\"macro\"], tpr[\"macro\"],\n",
        "         label='macro-average ROC curve (area = {0:0.2f})'\n",
        "               ''.format(roc_auc[\"macro\"]),\n",
        "         color='navy', linestyle=':', linewidth=4)\n",
        "\n",
        "colors = cycle(['aqua', 'darkorange', 'cornflowerblue'])\n",
        "for i, color in zip(range(class_size), colors):\n",
        "    plt.plot(fpr[i], tpr[i], color=color, lw=lw,\n",
        "             label='ROC curve of class {0} (area = {1:0.2f})'\n",
        "             ''.format(i, roc_auc[i]))\n",
        "\n",
        "plt.plot([0, 1], [0, 1], 'k--', lw=lw)\n",
        "plt.xlim([0.0, 1.0])\n",
        "plt.ylim([0.0, 1.05])\n",
        "plt.xlabel('False Positive Rate')\n",
        "plt.ylabel('True Positive Rate')\n",
        "plt.title('Some extension of Receiver operating characteristic to multi-class')\n",
        "plt.legend(loc=\"lower right\")\n",
        "plt.show()"
      ],
      "execution_count": 156,
      "outputs": [
        {
          "output_type": "display_data",
          "data": {
            "image/png": "[encoded data removed]",
            "text/plain": [
              "<matplotlib.figure.Figure at 0x7f1e7e4b39e8>"
            ]
          },
          "metadata": {
            "tags": []
          }
        }
      ]
    },
    {
      "metadata": {
        "id": "sB7PyvzEQeL3",
        "colab_type": "code",
        "colab": {}
      },
      "cell_type": "code",
      "source": [
        ""
      ],
      "execution_count": 0,
      "outputs": []
    }
  ]
}